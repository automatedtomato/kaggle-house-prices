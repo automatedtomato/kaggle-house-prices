{
 "cells": [
  {
   "cell_type": "markdown",
   "id": "584dee3d",
   "metadata": {},
   "source": [
    "# 9999 提出用データ作成"
   ]
  },
  {
   "cell_type": "code",
   "execution_count": 1,
   "id": "df9c2ccc",
   "metadata": {},
   "outputs": [],
   "source": [
    "import numpy as np\n",
    "import pandas as pd\n",
    "import os\n",
    "\n",
    "from constants import *\n",
    "\n",
    "%load_ext autoreload\n",
    "%autoreload 2"
   ]
  },
  {
   "cell_type": "code",
   "execution_count": 2,
   "id": "f879285e",
   "metadata": {},
   "outputs": [
    {
     "name": "stdout",
     "output_type": "stream",
     "text": [
      "<class 'pandas.core.frame.DataFrame'>\n",
      "Index: 1459 entries, 1461 to 2919\n",
      "Data columns (total 71 columns):\n",
      " #   Column            Non-Null Count  Dtype  \n",
      "---  ------            --------------  -----  \n",
      " 0   log_price         0 non-null      float64\n",
      " 1   log_total_sf      1459 non-null   float64\n",
      " 2   has_2nd           1459 non-null   int64  \n",
      " 3   has_bsmt          1459 non-null   int64  \n",
      " 4   has_garage        1459 non-null   int64  \n",
      " 5   has_pool          1459 non-null   int64  \n",
      " 6   has_central_air   1459 non-null   int64  \n",
      " 7   has_fireplace     1459 non-null   int64  \n",
      " 8   house_age         1459 non-null   int64  \n",
      " 9   remod_age         1459 non-null   int64  \n",
      " 10  total_porch_sf    1459 non-null   int64  \n",
      " 11  OverallQual       1459 non-null   int64  \n",
      " 12  OverallCond       1459 non-null   int64  \n",
      " 13  GarageCars        1459 non-null   float64\n",
      " 14  LotFrontage       1459 non-null   float64\n",
      " 15  year_price        1459 non-null   float64\n",
      " 16  neighbor_weight   1459 non-null   float64\n",
      " 17  MSSubClass_150    1459 non-null   int64  \n",
      " 18  MSSubClass_160    1459 non-null   int64  \n",
      " 19  MSSubClass_180    1459 non-null   int64  \n",
      " 20  MSSubClass_190    1459 non-null   int64  \n",
      " 21  MSSubClass_20     1459 non-null   int64  \n",
      " 22  MSSubClass_30     1459 non-null   int64  \n",
      " 23  MSSubClass_40     1459 non-null   int64  \n",
      " 24  MSSubClass_45     1459 non-null   int64  \n",
      " 25  MSSubClass_50     1459 non-null   int64  \n",
      " 26  MSSubClass_60     1459 non-null   int64  \n",
      " 27  MSSubClass_70     1459 non-null   int64  \n",
      " 28  MSSubClass_75     1459 non-null   int64  \n",
      " 29  MSSubClass_80     1459 non-null   int64  \n",
      " 30  MSSubClass_85     1459 non-null   int64  \n",
      " 31  MSSubClass_90     1459 non-null   int64  \n",
      " 32  MSZoning_FV       1459 non-null   int64  \n",
      " 33  MSZoning_RH       1459 non-null   int64  \n",
      " 34  MSZoning_RL       1459 non-null   int64  \n",
      " 35  MSZoning_RM       1459 non-null   int64  \n",
      " 36  ExterQual_Fa      1459 non-null   int64  \n",
      " 37  ExterQual_Gd      1459 non-null   int64  \n",
      " 38  ExterQual_TA      1459 non-null   int64  \n",
      " 39  ExterCond_Fa      1459 non-null   int64  \n",
      " 40  ExterCond_Gd      1459 non-null   int64  \n",
      " 41  ExterCond_Po      1459 non-null   int64  \n",
      " 42  ExterCond_TA      1459 non-null   int64  \n",
      " 43  BsmtQual_Fa       1459 non-null   int64  \n",
      " 44  BsmtQual_Gd       1459 non-null   int64  \n",
      " 45  BsmtQual_TA       1459 non-null   int64  \n",
      " 46  BsmtCond_Gd       1459 non-null   int64  \n",
      " 47  BsmtCond_Po       1459 non-null   int64  \n",
      " 48  BsmtCond_TA       1459 non-null   int64  \n",
      " 49  KitchenQual_Fa    1459 non-null   int64  \n",
      " 50  KitchenQual_Gd    1459 non-null   int64  \n",
      " 51  KitchenQual_TA    1459 non-null   int64  \n",
      " 52  Utilities_NoSeWa  1459 non-null   int64  \n",
      " 53  Utilities_None    1459 non-null   int64  \n",
      " 54  PoolQC_Fa         1459 non-null   int64  \n",
      " 55  PoolQC_Gd         1459 non-null   int64  \n",
      " 56  Functional_Maj2   1459 non-null   int64  \n",
      " 57  Functional_Min1   1459 non-null   int64  \n",
      " 58  Functional_Min2   1459 non-null   int64  \n",
      " 59  Functional_Mod    1459 non-null   int64  \n",
      " 60  Functional_None   1459 non-null   int64  \n",
      " 61  Functional_Sev    1459 non-null   int64  \n",
      " 62  Functional_Typ    1459 non-null   int64  \n",
      " 63  GarageQual_Fa     1459 non-null   int64  \n",
      " 64  GarageQual_Gd     1459 non-null   int64  \n",
      " 65  GarageQual_Po     1459 non-null   int64  \n",
      " 66  GarageQual_TA     1459 non-null   int64  \n",
      " 67  GarageCond_Fa     1459 non-null   int64  \n",
      " 68  GarageCond_Gd     1459 non-null   int64  \n",
      " 69  GarageCond_Po     1459 non-null   int64  \n",
      " 70  GarageCond_TA     1459 non-null   int64  \n",
      "dtypes: float64(6), int64(65)\n",
      "memory usage: 820.7 KB\n"
     ]
    }
   ],
   "source": [
    "test = pd.read_csv(os.path.join(PROCESSED_PATH, 'test.csv'), index_col=0)\n",
    "test.info()"
   ]
  },
  {
   "cell_type": "code",
   "execution_count": 5,
   "id": "ee67c39d",
   "metadata": {},
   "outputs": [],
   "source": [
    "import joblib\n",
    "\n",
    "xgb = joblib.load(os.path.join(MODEL_PATH, '0301_xgb_regr.joblib'))\n",
    "\n",
    "test.drop('log_price', axis=1, inplace=True)\n",
    "\n",
    "preds = xgb.predict(test)\n",
    "test['SalePrice'] = np.exp(preds)"
   ]
  },
  {
   "cell_type": "code",
   "execution_count": 6,
   "id": "8f2f711d",
   "metadata": {},
   "outputs": [],
   "source": [
    "\n",
    "sub = test[['SalePrice']]\n",
    "sub.to_csv(os.path.join(DATA_PATH, 'submission.csv'), index=True)"
   ]
  },
  {
   "cell_type": "code",
   "execution_count": null,
   "id": "8edd0de3",
   "metadata": {},
   "outputs": [],
   "source": []
  }
 ],
 "metadata": {
  "kernelspec": {
   "display_name": ".venv",
   "language": "python",
   "name": "python3"
  },
  "language_info": {
   "codemirror_mode": {
    "name": "ipython",
    "version": 3
   },
   "file_extension": ".py",
   "mimetype": "text/x-python",
   "name": "python",
   "nbconvert_exporter": "python",
   "pygments_lexer": "ipython3",
   "version": "3.13.1"
  }
 },
 "nbformat": 4,
 "nbformat_minor": 5
}
