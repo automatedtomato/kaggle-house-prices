{
 "cells": [
  {
   "cell_type": "code",
   "execution_count": 1,
   "id": "ba1eaddb",
   "metadata": {},
   "outputs": [],
   "source": [
    "import numpy as np\n",
    "import pandas as pd\n",
    "import matplotlib.pyplot as plt\n",
    "import seaborn as sns\n",
    "import os\n",
    "\n",
    "from constants import *\n",
    "\n",
    "plt.style.use('ggplot')\n",
    "sns.set_palette('Set2')"
   ]
  },
  {
   "cell_type": "code",
   "execution_count": null,
   "id": "6c1beed2",
   "metadata": {},
   "outputs": [],
   "source": [
    "train = pd.read_csv(os.path.join(RAW_PATH, 'train.csv'), index_col=0)\n",
    "test = pd.read_csv(os.path.join(RAW_PATH, 'test.csv'), index_col=0)\n",
    "data = pd.concat([train, test], axis=0)"
   ]
  },
  {
   "cell_type": "code",
   "execution_count": null,
   "id": "6ce7a872",
   "metadata": {},
   "outputs": [],
   "source": [
    "data['SalePrice_log'] = np.log(data['SalePrice'])"
   ]
  },
  {
   "cell_type": "code",
   "execution_count": null,
   "id": "1fb4673b",
   "metadata": {},
   "outputs": [],
   "source": []
  }
 ],
 "metadata": {
  "kernelspec": {
   "display_name": ".venv",
   "language": "python",
   "name": "python3"
  },
  "language_info": {
   "codemirror_mode": {
    "name": "ipython",
    "version": 3
   },
   "file_extension": ".py",
   "mimetype": "text/x-python",
   "name": "python",
   "nbconvert_exporter": "python",
   "pygments_lexer": "ipython3",
   "version": "3.12.3"
  }
 },
 "nbformat": 4,
 "nbformat_minor": 5
}
