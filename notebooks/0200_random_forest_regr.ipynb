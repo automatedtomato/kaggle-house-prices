{
 "cells": [
  {
   "cell_type": "markdown",
   "id": "617d8f2b",
   "metadata": {},
   "source": [
    "# 0200 ランダムフォレスト回帰\n",
    "- ノンパラメトリックな手法（対象のデータ分布を仮定しない）\n",
    "- カテゴリカルデータにも強い\n",
    "- 多変数が複雑に関連し合っている場合、単純な線形モデルよりも決定木モデルのほうが精度が高い場合がある。\n",
    "- 特に、変数同士の非線形な関係を捉えやすく、交互作用の検出力高\n",
    "\n",
    "ただし、\n",
    "- モデルの複雑性が増す\n",
    "- ハイパーパラメータがブラックボックス化しやすい"
   ]
  },
  {
   "cell_type": "code",
   "execution_count": 25,
   "id": "9c710c1b",
   "metadata": {},
   "outputs": [
    {
     "name": "stdout",
     "output_type": "stream",
     "text": [
      "The autoreload extension is already loaded. To reload it, use:\n",
      "  %reload_ext autoreload\n"
     ]
    }
   ],
   "source": [
    "import pandas as pd\n",
    "import numpy as np\n",
    "import matplotlib.pyplot as plt\n",
    "import seaborn as sns\n",
    "import os\n",
    "\n",
    "from constants import *\n",
    "\n",
    "plt.style.use('ggplot')\n",
    "sns.set_palette('flare')\n",
    "\n",
    "%load_ext autoreload\n",
    "%autoreload 2"
   ]
  },
  {
   "cell_type": "markdown",
   "id": "0973202d",
   "metadata": {},
   "source": [
    "## 0. データ取得"
   ]
  },
  {
   "cell_type": "code",
   "execution_count": 26,
   "id": "111f2d35",
   "metadata": {},
   "outputs": [
    {
     "data": {
      "text/html": [
       "<div>\n",
       "<style scoped>\n",
       "    .dataframe tbody tr th:only-of-type {\n",
       "        vertical-align: middle;\n",
       "    }\n",
       "\n",
       "    .dataframe tbody tr th {\n",
       "        vertical-align: top;\n",
       "    }\n",
       "\n",
       "    .dataframe thead th {\n",
       "        text-align: right;\n",
       "    }\n",
       "</style>\n",
       "<table border=\"1\" class=\"dataframe\">\n",
       "  <thead>\n",
       "    <tr style=\"text-align: right;\">\n",
       "      <th></th>\n",
       "      <th>MSSubClass</th>\n",
       "      <th>MSZoning</th>\n",
       "      <th>LotFrontage</th>\n",
       "      <th>LotArea</th>\n",
       "      <th>Street</th>\n",
       "      <th>Alley</th>\n",
       "      <th>LotShape</th>\n",
       "      <th>LandContour</th>\n",
       "      <th>Utilities</th>\n",
       "      <th>LotConfig</th>\n",
       "      <th>...</th>\n",
       "      <th>PoolArea</th>\n",
       "      <th>PoolQC</th>\n",
       "      <th>Fence</th>\n",
       "      <th>MiscFeature</th>\n",
       "      <th>MiscVal</th>\n",
       "      <th>MoSold</th>\n",
       "      <th>YrSold</th>\n",
       "      <th>SaleType</th>\n",
       "      <th>SaleCondition</th>\n",
       "      <th>SalePrice</th>\n",
       "    </tr>\n",
       "    <tr>\n",
       "      <th>Id</th>\n",
       "      <th></th>\n",
       "      <th></th>\n",
       "      <th></th>\n",
       "      <th></th>\n",
       "      <th></th>\n",
       "      <th></th>\n",
       "      <th></th>\n",
       "      <th></th>\n",
       "      <th></th>\n",
       "      <th></th>\n",
       "      <th></th>\n",
       "      <th></th>\n",
       "      <th></th>\n",
       "      <th></th>\n",
       "      <th></th>\n",
       "      <th></th>\n",
       "      <th></th>\n",
       "      <th></th>\n",
       "      <th></th>\n",
       "      <th></th>\n",
       "      <th></th>\n",
       "    </tr>\n",
       "  </thead>\n",
       "  <tbody>\n",
       "    <tr>\n",
       "      <th>1</th>\n",
       "      <td>60</td>\n",
       "      <td>RL</td>\n",
       "      <td>65.0</td>\n",
       "      <td>8450</td>\n",
       "      <td>Pave</td>\n",
       "      <td>NaN</td>\n",
       "      <td>Reg</td>\n",
       "      <td>Lvl</td>\n",
       "      <td>AllPub</td>\n",
       "      <td>Inside</td>\n",
       "      <td>...</td>\n",
       "      <td>0</td>\n",
       "      <td>NaN</td>\n",
       "      <td>NaN</td>\n",
       "      <td>NaN</td>\n",
       "      <td>0</td>\n",
       "      <td>2</td>\n",
       "      <td>2008</td>\n",
       "      <td>WD</td>\n",
       "      <td>Normal</td>\n",
       "      <td>208500</td>\n",
       "    </tr>\n",
       "    <tr>\n",
       "      <th>2</th>\n",
       "      <td>20</td>\n",
       "      <td>RL</td>\n",
       "      <td>80.0</td>\n",
       "      <td>9600</td>\n",
       "      <td>Pave</td>\n",
       "      <td>NaN</td>\n",
       "      <td>Reg</td>\n",
       "      <td>Lvl</td>\n",
       "      <td>AllPub</td>\n",
       "      <td>FR2</td>\n",
       "      <td>...</td>\n",
       "      <td>0</td>\n",
       "      <td>NaN</td>\n",
       "      <td>NaN</td>\n",
       "      <td>NaN</td>\n",
       "      <td>0</td>\n",
       "      <td>5</td>\n",
       "      <td>2007</td>\n",
       "      <td>WD</td>\n",
       "      <td>Normal</td>\n",
       "      <td>181500</td>\n",
       "    </tr>\n",
       "    <tr>\n",
       "      <th>3</th>\n",
       "      <td>60</td>\n",
       "      <td>RL</td>\n",
       "      <td>68.0</td>\n",
       "      <td>11250</td>\n",
       "      <td>Pave</td>\n",
       "      <td>NaN</td>\n",
       "      <td>IR1</td>\n",
       "      <td>Lvl</td>\n",
       "      <td>AllPub</td>\n",
       "      <td>Inside</td>\n",
       "      <td>...</td>\n",
       "      <td>0</td>\n",
       "      <td>NaN</td>\n",
       "      <td>NaN</td>\n",
       "      <td>NaN</td>\n",
       "      <td>0</td>\n",
       "      <td>9</td>\n",
       "      <td>2008</td>\n",
       "      <td>WD</td>\n",
       "      <td>Normal</td>\n",
       "      <td>223500</td>\n",
       "    </tr>\n",
       "    <tr>\n",
       "      <th>4</th>\n",
       "      <td>70</td>\n",
       "      <td>RL</td>\n",
       "      <td>60.0</td>\n",
       "      <td>9550</td>\n",
       "      <td>Pave</td>\n",
       "      <td>NaN</td>\n",
       "      <td>IR1</td>\n",
       "      <td>Lvl</td>\n",
       "      <td>AllPub</td>\n",
       "      <td>Corner</td>\n",
       "      <td>...</td>\n",
       "      <td>0</td>\n",
       "      <td>NaN</td>\n",
       "      <td>NaN</td>\n",
       "      <td>NaN</td>\n",
       "      <td>0</td>\n",
       "      <td>2</td>\n",
       "      <td>2006</td>\n",
       "      <td>WD</td>\n",
       "      <td>Abnorml</td>\n",
       "      <td>140000</td>\n",
       "    </tr>\n",
       "    <tr>\n",
       "      <th>5</th>\n",
       "      <td>60</td>\n",
       "      <td>RL</td>\n",
       "      <td>84.0</td>\n",
       "      <td>14260</td>\n",
       "      <td>Pave</td>\n",
       "      <td>NaN</td>\n",
       "      <td>IR1</td>\n",
       "      <td>Lvl</td>\n",
       "      <td>AllPub</td>\n",
       "      <td>FR2</td>\n",
       "      <td>...</td>\n",
       "      <td>0</td>\n",
       "      <td>NaN</td>\n",
       "      <td>NaN</td>\n",
       "      <td>NaN</td>\n",
       "      <td>0</td>\n",
       "      <td>12</td>\n",
       "      <td>2008</td>\n",
       "      <td>WD</td>\n",
       "      <td>Normal</td>\n",
       "      <td>250000</td>\n",
       "    </tr>\n",
       "  </tbody>\n",
       "</table>\n",
       "<p>5 rows × 80 columns</p>\n",
       "</div>"
      ],
      "text/plain": [
       "    MSSubClass MSZoning  LotFrontage  LotArea Street Alley LotShape  \\\n",
       "Id                                                                    \n",
       "1           60       RL         65.0     8450   Pave   NaN      Reg   \n",
       "2           20       RL         80.0     9600   Pave   NaN      Reg   \n",
       "3           60       RL         68.0    11250   Pave   NaN      IR1   \n",
       "4           70       RL         60.0     9550   Pave   NaN      IR1   \n",
       "5           60       RL         84.0    14260   Pave   NaN      IR1   \n",
       "\n",
       "   LandContour Utilities LotConfig  ... PoolArea PoolQC Fence MiscFeature  \\\n",
       "Id                                  ...                                     \n",
       "1          Lvl    AllPub    Inside  ...        0    NaN   NaN         NaN   \n",
       "2          Lvl    AllPub       FR2  ...        0    NaN   NaN         NaN   \n",
       "3          Lvl    AllPub    Inside  ...        0    NaN   NaN         NaN   \n",
       "4          Lvl    AllPub    Corner  ...        0    NaN   NaN         NaN   \n",
       "5          Lvl    AllPub       FR2  ...        0    NaN   NaN         NaN   \n",
       "\n",
       "   MiscVal MoSold  YrSold  SaleType  SaleCondition  SalePrice  \n",
       "Id                                                             \n",
       "1        0      2    2008        WD         Normal     208500  \n",
       "2        0      5    2007        WD         Normal     181500  \n",
       "3        0      9    2008        WD         Normal     223500  \n",
       "4        0      2    2006        WD        Abnorml     140000  \n",
       "5        0     12    2008        WD         Normal     250000  \n",
       "\n",
       "[5 rows x 80 columns]"
      ]
     },
     "execution_count": 26,
     "metadata": {},
     "output_type": "execute_result"
    }
   ],
   "source": [
    "raw_data = pd.read_csv(os.path.join(RAW_PATH, 'train.csv'), index_col=0)\n",
    "raw_data.head()"
   ]
  },
  {
   "cell_type": "markdown",
   "id": "01a366bd",
   "metadata": {},
   "source": [
    "### RFR用にデータを整形\n",
    "順序・名義尺度はダミー変数化するため、基本的な特徴量のみ作成。\n",
    "#### 元のデータセットから残すカラムを指定"
   ]
  },
  {
   "cell_type": "code",
   "execution_count": 27,
   "id": "a66d327c",
   "metadata": {},
   "outputs": [
    {
     "name": "stdout",
     "output_type": "stream",
     "text": [
      "<class 'pandas.core.frame.DataFrame'>\n",
      "Index: 1460 entries, 1 to 1460\n",
      "Data columns (total 13 columns):\n",
      " #   Column           Non-Null Count  Dtype  \n",
      "---  ------           --------------  -----  \n",
      " 0   MSSubClass       1460 non-null   object \n",
      " 1   log_price        1460 non-null   float64\n",
      " 2   total_sf         1460 non-null   int64  \n",
      " 3   log_total_sf     1460 non-null   float64\n",
      " 4   has_2nd          1460 non-null   int64  \n",
      " 5   has_bsmt         1460 non-null   int64  \n",
      " 6   has_garage       1460 non-null   int64  \n",
      " 7   has_pool         1460 non-null   int64  \n",
      " 8   has_central_air  1460 non-null   int64  \n",
      " 9   has_fireplace    1460 non-null   int64  \n",
      " 10  house_age        1460 non-null   int64  \n",
      " 11  remod_age        1460 non-null   int64  \n",
      " 12  total_porch_sf   1460 non-null   int64  \n",
      "dtypes: float64(2), int64(10), object(1)\n",
      "memory usage: 159.7+ KB\n"
     ]
    }
   ],
   "source": [
    "all_data = pd.DataFrame()\n",
    "\n",
    "raw_data['log_price'] = np.log(raw_data['SalePrice'])\n",
    "\n",
    "all_data['MSSubClass'] = raw_data['MSSubClass'].astype(str)\n",
    "\n",
    "all_data['log_price'] = raw_data['log_price']\n",
    "\n",
    "all_data['total_sf'] = raw_data['1stFlrSF'] + raw_data['2ndFlrSF'].fillna(0) + raw_data['TotalBsmtSF'].fillna(0)\n",
    "\n",
    "all_data['log_total_sf'] = np.log(all_data['total_sf'])\n",
    "\n",
    "# フラグも作成\n",
    "all_data['has_2nd'] = (raw_data['2ndFlrSF'] > 0).astype(int)\n",
    "\n",
    "all_data['has_bsmt'] = (raw_data['TotalBsmtSF'] > 0).astype(int)\n",
    "\n",
    "all_data['has_garage'] = (raw_data['GarageArea'] > 0).astype(int)\n",
    "\n",
    "all_data['has_pool'] = (raw_data['PoolArea'] > 0).astype(int)\n",
    "\n",
    "all_data['has_central_air'] = (raw_data['CentralAir'] == 'Y').astype(int)\n",
    "\n",
    "all_data['has_fireplace'] = (raw_data['Fireplaces'] > 0).astype(int)\n",
    "\n",
    "all_data['house_age'] = raw_data['YrSold'] - raw_data['YearBuilt']\n",
    "\n",
    "all_data['remod_age'] = raw_data['YrSold'] - raw_data['YearRemodAdd']\n",
    "\n",
    "all_data['total_porch_sf'] = raw_data['OpenPorchSF'] + raw_data['EnclosedPorch'].fillna(0) + raw_data['3SsnPorch'].fillna(0) + raw_data['ScreenPorch'].fillna(0)\n",
    "\n",
    "all_data.info()"
   ]
  },
  {
   "cell_type": "code",
   "execution_count": 28,
   "id": "24927bc0",
   "metadata": {},
   "outputs": [],
   "source": [
    "\n",
    "from sklearn.preprocessing import StandardScaler\n",
    "\n",
    "std_scaler = StandardScaler()\n",
    "\n",
    "neighbor_log_price = raw_data.groupby('Neighborhood')['log_price'].mean().sort_values(ascending=False)\n",
    "neighbor_log_price_stdsclaled = std_scaler.fit_transform(neighbor_log_price.values.reshape(-1, 1))\n",
    "neighbor_log_price_dict = dict(zip(neighbor_log_price.index, neighbor_log_price_stdsclaled))\n",
    "all_data['neighbor_weight'] = raw_data['Neighborhood'].map(neighbor_log_price_dict).astype(float)"
   ]
  },
  {
   "cell_type": "code",
   "execution_count": 29,
   "id": "b02d39d3",
   "metadata": {},
   "outputs": [
    {
     "name": "stdout",
     "output_type": "stream",
     "text": [
      "<class 'pandas.core.frame.DataFrame'>\n",
      "Index: 1460 entries, 1 to 1460\n",
      "Data columns (total 14 columns):\n",
      " #   Column           Non-Null Count  Dtype  \n",
      "---  ------           --------------  -----  \n",
      " 0   MSSubClass       1460 non-null   object \n",
      " 1   log_price        1460 non-null   float64\n",
      " 2   log_total_sf     1460 non-null   float64\n",
      " 3   has_2nd          1460 non-null   int64  \n",
      " 4   has_bsmt         1460 non-null   int64  \n",
      " 5   has_garage       1460 non-null   int64  \n",
      " 6   has_pool         1460 non-null   int64  \n",
      " 7   has_central_air  1460 non-null   int64  \n",
      " 8   has_fireplace    1460 non-null   int64  \n",
      " 9   house_age        1460 non-null   int64  \n",
      " 10  remod_age        1460 non-null   int64  \n",
      " 11  total_porch_sf   1460 non-null   int64  \n",
      " 12  neighbor_weight  1460 non-null   float64\n",
      " 13  year_price       1460 non-null   float64\n",
      "dtypes: float64(4), int64(9), object(1)\n",
      "memory usage: 171.1+ KB\n"
     ]
    }
   ],
   "source": [
    "year_price = raw_data.groupby('YearBuilt')['SalePrice'].mean()\n",
    "year_price = year_price.rolling(window=5, center=True).mean()\n",
    "year_price = year_price.interpolate(method='linear')\n",
    "year_price = year_price.fillna(raw_data.groupby('YearBuilt')['SalePrice'].mean())\n",
    "all_data['year_price'] = raw_data['YearBuilt'].map(year_price)\n",
    "\n",
    "all_data.drop(['total_sf'], axis=1, inplace=True)\n",
    "\n",
    "all_data.info()"
   ]
  },
  {
   "cell_type": "markdown",
   "id": "5489fecc",
   "metadata": {},
   "source": [
    "#### 生のデータから直接使うもの、one-hotエンコーディングするもの"
   ]
  },
  {
   "cell_type": "code",
   "execution_count": 30,
   "id": "b376f1b6",
   "metadata": {},
   "outputs": [],
   "source": [
    "\n",
    "cols = [\n",
    "'MSZoning', 'OverallQual', 'OverallCond',\n",
    "'ExterQual', 'ExterCond', 'BsmtQual', 'BsmtCond',\n",
    "'KitchenQual', 'Utilities', 'PoolQC', 'Functional', \n",
    "'GarageCars', 'GarageQual','GarageCond', 'LotFrontage'\n",
    "]\n",
    "\n",
    "all_data[cols] = raw_data[cols]"
   ]
  },
  {
   "cell_type": "code",
   "execution_count": 31,
   "id": "b3c0eb78",
   "metadata": {},
   "outputs": [
    {
     "name": "stdout",
     "output_type": "stream",
     "text": [
      "<class 'pandas.core.frame.DataFrame'>\n",
      "Index: 1460 entries, 1 to 1460\n",
      "Data columns (total 29 columns):\n",
      " #   Column           Non-Null Count  Dtype  \n",
      "---  ------           --------------  -----  \n",
      " 0   MSSubClass       1460 non-null   object \n",
      " 1   log_price        1460 non-null   float64\n",
      " 2   log_total_sf     1460 non-null   float64\n",
      " 3   has_2nd          1460 non-null   int64  \n",
      " 4   has_bsmt         1460 non-null   int64  \n",
      " 5   has_garage       1460 non-null   int64  \n",
      " 6   has_pool         1460 non-null   int64  \n",
      " 7   has_central_air  1460 non-null   int64  \n",
      " 8   has_fireplace    1460 non-null   int64  \n",
      " 9   house_age        1460 non-null   int64  \n",
      " 10  remod_age        1460 non-null   int64  \n",
      " 11  total_porch_sf   1460 non-null   int64  \n",
      " 12  neighbor_weight  1460 non-null   float64\n",
      " 13  year_price       1460 non-null   float64\n",
      " 14  MSZoning         1460 non-null   object \n",
      " 15  OverallQual      1460 non-null   int64  \n",
      " 16  OverallCond      1460 non-null   int64  \n",
      " 17  ExterQual        1460 non-null   object \n",
      " 18  ExterCond        1460 non-null   object \n",
      " 19  BsmtQual         1423 non-null   object \n",
      " 20  BsmtCond         1423 non-null   object \n",
      " 21  KitchenQual      1460 non-null   object \n",
      " 22  Utilities        1460 non-null   object \n",
      " 23  PoolQC           7 non-null      object \n",
      " 24  Functional       1460 non-null   object \n",
      " 25  GarageCars       1460 non-null   int64  \n",
      " 26  GarageQual       1379 non-null   object \n",
      " 27  GarageCond       1379 non-null   object \n",
      " 28  LotFrontage      1460 non-null   float64\n",
      "dtypes: float64(5), int64(12), object(12)\n",
      "memory usage: 342.2+ KB\n"
     ]
    },
    {
     "name": "stderr",
     "output_type": "stream",
     "text": [
      "/var/folders/rk/9smfwdqx2cvdqr4qd3693stc0000gn/T/ipykernel_91592/1937394668.py:2: FutureWarning:\n",
      "\n",
      "A value is trying to be set on a copy of a DataFrame or Series through chained assignment using an inplace method.\n",
      "The behavior will change in pandas 3.0. This inplace method will never work because the intermediate object on which we are setting values always behaves as a copy.\n",
      "\n",
      "For example, when doing 'df[col].method(value, inplace=True)', try using 'df.method({col: value}, inplace=True)' or df[col] = df[col].method(value) instead, to perform the operation inplace on the original object.\n",
      "\n",
      "\n",
      "\n",
      "/var/folders/rk/9smfwdqx2cvdqr4qd3693stc0000gn/T/ipykernel_91592/1937394668.py:3: FutureWarning:\n",
      "\n",
      "A value is trying to be set on a copy of a DataFrame or Series through chained assignment using an inplace method.\n",
      "The behavior will change in pandas 3.0. This inplace method will never work because the intermediate object on which we are setting values always behaves as a copy.\n",
      "\n",
      "For example, when doing 'df[col].method(value, inplace=True)', try using 'df.method({col: value}, inplace=True)' or df[col] = df[col].method(value) instead, to perform the operation inplace on the original object.\n",
      "\n",
      "\n",
      "\n",
      "/var/folders/rk/9smfwdqx2cvdqr4qd3693stc0000gn/T/ipykernel_91592/1937394668.py:4: FutureWarning:\n",
      "\n",
      "A value is trying to be set on a copy of a DataFrame or Series through chained assignment using an inplace method.\n",
      "The behavior will change in pandas 3.0. This inplace method will never work because the intermediate object on which we are setting values always behaves as a copy.\n",
      "\n",
      "For example, when doing 'df[col].method(value, inplace=True)', try using 'df.method({col: value}, inplace=True)' or df[col] = df[col].method(value) instead, to perform the operation inplace on the original object.\n",
      "\n",
      "\n",
      "\n",
      "/var/folders/rk/9smfwdqx2cvdqr4qd3693stc0000gn/T/ipykernel_91592/1937394668.py:5: FutureWarning:\n",
      "\n",
      "A value is trying to be set on a copy of a DataFrame or Series through chained assignment using an inplace method.\n",
      "The behavior will change in pandas 3.0. This inplace method will never work because the intermediate object on which we are setting values always behaves as a copy.\n",
      "\n",
      "For example, when doing 'df[col].method(value, inplace=True)', try using 'df.method({col: value}, inplace=True)' or df[col] = df[col].method(value) instead, to perform the operation inplace on the original object.\n",
      "\n",
      "\n",
      "\n",
      "/var/folders/rk/9smfwdqx2cvdqr4qd3693stc0000gn/T/ipykernel_91592/1937394668.py:6: FutureWarning:\n",
      "\n",
      "A value is trying to be set on a copy of a DataFrame or Series through chained assignment using an inplace method.\n",
      "The behavior will change in pandas 3.0. This inplace method will never work because the intermediate object on which we are setting values always behaves as a copy.\n",
      "\n",
      "For example, when doing 'df[col].method(value, inplace=True)', try using 'df.method({col: value}, inplace=True)' or df[col] = df[col].method(value) instead, to perform the operation inplace on the original object.\n",
      "\n",
      "\n",
      "\n"
     ]
    }
   ],
   "source": [
    "# 欠損値処理\n",
    "all_data['LotFrontage'].fillna(0.0, inplace=True)\n",
    "all_data['Utilities'].fillna('None', inplace=True)\n",
    "all_data['KitchenQual'].fillna('TA', inplace=True)\n",
    "all_data['Functional'].fillna('None', inplace=True)\n",
    "all_data['GarageCars'].fillna(0, inplace=True)\n",
    "all_data.info()"
   ]
  },
  {
   "cell_type": "code",
   "execution_count": 32,
   "id": "e6f2ef3b",
   "metadata": {},
   "outputs": [
    {
     "name": "stdout",
     "output_type": "stream",
     "text": [
      "<class 'pandas.core.frame.DataFrame'>\n",
      "Index: 1460 entries, 1 to 1460\n",
      "Data columns (total 68 columns):\n",
      " #   Column            Non-Null Count  Dtype  \n",
      "---  ------            --------------  -----  \n",
      " 0   log_price         1460 non-null   float64\n",
      " 1   log_total_sf      1460 non-null   float64\n",
      " 2   has_2nd           1460 non-null   int64  \n",
      " 3   has_bsmt          1460 non-null   int64  \n",
      " 4   has_garage        1460 non-null   int64  \n",
      " 5   has_pool          1460 non-null   int64  \n",
      " 6   has_central_air   1460 non-null   int64  \n",
      " 7   has_fireplace     1460 non-null   int64  \n",
      " 8   house_age         1460 non-null   int64  \n",
      " 9   remod_age         1460 non-null   int64  \n",
      " 10  total_porch_sf    1460 non-null   int64  \n",
      " 11  neighbor_weight   1460 non-null   float64\n",
      " 12  year_price        1460 non-null   float64\n",
      " 13  OverallQual       1460 non-null   int64  \n",
      " 14  OverallCond       1460 non-null   int64  \n",
      " 15  GarageCars        1460 non-null   int64  \n",
      " 16  LotFrontage       1460 non-null   float64\n",
      " 17  MSSubClass_160    1460 non-null   int64  \n",
      " 18  MSSubClass_180    1460 non-null   int64  \n",
      " 19  MSSubClass_190    1460 non-null   int64  \n",
      " 20  MSSubClass_20     1460 non-null   int64  \n",
      " 21  MSSubClass_30     1460 non-null   int64  \n",
      " 22  MSSubClass_40     1460 non-null   int64  \n",
      " 23  MSSubClass_45     1460 non-null   int64  \n",
      " 24  MSSubClass_50     1460 non-null   int64  \n",
      " 25  MSSubClass_60     1460 non-null   int64  \n",
      " 26  MSSubClass_70     1460 non-null   int64  \n",
      " 27  MSSubClass_75     1460 non-null   int64  \n",
      " 28  MSSubClass_80     1460 non-null   int64  \n",
      " 29  MSSubClass_85     1460 non-null   int64  \n",
      " 30  MSSubClass_90     1460 non-null   int64  \n",
      " 31  MSZoning_FV       1460 non-null   int64  \n",
      " 32  MSZoning_RH       1460 non-null   int64  \n",
      " 33  MSZoning_RL       1460 non-null   int64  \n",
      " 34  MSZoning_RM       1460 non-null   int64  \n",
      " 35  ExterQual_Fa      1460 non-null   int64  \n",
      " 36  ExterQual_Gd      1460 non-null   int64  \n",
      " 37  ExterQual_TA      1460 non-null   int64  \n",
      " 38  ExterCond_Fa      1460 non-null   int64  \n",
      " 39  ExterCond_Gd      1460 non-null   int64  \n",
      " 40  ExterCond_Po      1460 non-null   int64  \n",
      " 41  ExterCond_TA      1460 non-null   int64  \n",
      " 42  BsmtQual_Fa       1460 non-null   int64  \n",
      " 43  BsmtQual_Gd       1460 non-null   int64  \n",
      " 44  BsmtQual_TA       1460 non-null   int64  \n",
      " 45  BsmtCond_Gd       1460 non-null   int64  \n",
      " 46  BsmtCond_Po       1460 non-null   int64  \n",
      " 47  BsmtCond_TA       1460 non-null   int64  \n",
      " 48  KitchenQual_Fa    1460 non-null   int64  \n",
      " 49  KitchenQual_Gd    1460 non-null   int64  \n",
      " 50  KitchenQual_TA    1460 non-null   int64  \n",
      " 51  Utilities_NoSeWa  1460 non-null   int64  \n",
      " 52  PoolQC_Fa         1460 non-null   int64  \n",
      " 53  PoolQC_Gd         1460 non-null   int64  \n",
      " 54  Functional_Maj2   1460 non-null   int64  \n",
      " 55  Functional_Min1   1460 non-null   int64  \n",
      " 56  Functional_Min2   1460 non-null   int64  \n",
      " 57  Functional_Mod    1460 non-null   int64  \n",
      " 58  Functional_Sev    1460 non-null   int64  \n",
      " 59  Functional_Typ    1460 non-null   int64  \n",
      " 60  GarageQual_Fa     1460 non-null   int64  \n",
      " 61  GarageQual_Gd     1460 non-null   int64  \n",
      " 62  GarageQual_Po     1460 non-null   int64  \n",
      " 63  GarageQual_TA     1460 non-null   int64  \n",
      " 64  GarageCond_Fa     1460 non-null   int64  \n",
      " 65  GarageCond_Gd     1460 non-null   int64  \n",
      " 66  GarageCond_Po     1460 non-null   int64  \n",
      " 67  GarageCond_TA     1460 non-null   int64  \n",
      "dtypes: float64(5), int64(63)\n",
      "memory usage: 787.0 KB\n"
     ]
    }
   ],
   "source": [
    "data = pd.get_dummies(all_data, drop_first=True, dtype=int)\n",
    "data.info()"
   ]
  },
  {
   "cell_type": "markdown",
   "id": "599c6343",
   "metadata": {},
   "source": [
    "## 1. 単純なRFR実装\n",
    "まずは、全ての変数を単純なランダムフォレスト回帰に入れ込んで予測してみる"
   ]
  },
  {
   "cell_type": "code",
   "execution_count": 33,
   "id": "43db53e1",
   "metadata": {},
   "outputs": [],
   "source": [
    "from sklearn.model_selection import train_test_split\n",
    "\n",
    "X = data.drop('log_price', axis=1)\n",
    "y = data['log_price']\n",
    "\n",
    "X_train, X_val, y_train, y_val = train_test_split(X, y, test_size=0.2, random_state=99)"
   ]
  },
  {
   "cell_type": "code",
   "execution_count": 34,
   "id": "c09ab70d",
   "metadata": {},
   "outputs": [
    {
     "name": "stdout",
     "output_type": "stream",
     "text": [
      "Test RFR\n",
      "  RMSE: 0.1176\n",
      "  R2: 0.8932\n"
     ]
    }
   ],
   "source": [
    "from sklearn.ensemble import RandomForestRegressor\n",
    "from sklearn.metrics import root_mean_squared_error, r2_score\n",
    "\n",
    "test_rfr = RandomForestRegressor(random_state=0, n_jobs=-1)\n",
    "test_rfr.fit(X_train, y_train)\n",
    "\n",
    "y_pred = test_rfr.predict(X_val)\n",
    "\n",
    "rmse = root_mean_squared_error(y_val, y_pred)\n",
    "r2 = r2_score(y_val, y_pred)\n",
    "\n",
    "print('Test RFR')\n",
    "print(f'  RMSE: {rmse:.4f}')\n",
    "print(f'  R2: {r2:.4f}')"
   ]
  },
  {
   "cell_type": "code",
   "execution_count": 35,
   "id": "256e8d57",
   "metadata": {},
   "outputs": [
    {
     "data": {
      "image/png": "[encoded data removed]",
      "text/plain": [
       "<Figure size 640x480 with 1 Axes>"
      ]
     },
     "metadata": {},
     "output_type": "display_data"
    }
   ],
   "source": [
    "sns.regplot(x=y_val, y=y_pred, scatter_kws={'s': 20, 'alpha': 0.3}, line_kws={'color': 'green', 'lw': 1, 'alpha': 0.8})\n",
    "plt.title(f\"Test Random Forest Regr. \")\n",
    "plt.savefig(os.path.join(IMAGE_PATH, '0200_test_rfr.png'))\n",
    "plt.show()"
   ]
  },
  {
   "cell_type": "code",
   "execution_count": 36,
   "id": "c9857e81",
   "metadata": {},
   "outputs": [
    {
     "data": {
      "image/png": "[encoded data removed]",
      "text/plain": [
       "<Figure size 640x480 with 1 Axes>"
      ]
     },
     "metadata": {},
     "output_type": "display_data"
    }
   ],
   "source": [
    "from utils import plot_learning_curve\n",
    "\n",
    "X_train, X_val, y_train, y_val = train_test_split(X, y, test_size=0.2)\n",
    "\n",
    "plot_learning_curve(RandomForestRegressor(n_jobs=-1), X_train, y_train)\n",
    "plt.savefig(os.path.join(IMAGE_PATH, '0201_learning_curve.png'))\n",
    "plt.show()"
   ]
  },
  {
   "cell_type": "markdown",
   "id": "59baf82e",
   "metadata": {},
   "source": [
    "#### 明らかに過学習\n",
    "特徴量の重要度を測定する。"
   ]
  },
  {
   "cell_type": "code",
   "execution_count": 37,
   "id": "d8aaed93",
   "metadata": {},
   "outputs": [
    {
     "data": {
      "image/png": "[encoded data removed]",
      "text/plain": [
       "<Figure size 1200x1000 with 1 Axes>"
      ]
     },
     "metadata": {},
     "output_type": "display_data"
    }
   ],
   "source": [
    "plt.figure(figsize=(12, 10))\n",
    "feature_importances = test_rfr.feature_importances_\n",
    "\n",
    "importance = pd.DataFrame({\n",
    "    'feature': X.columns,\n",
    "    'importance': feature_importances\n",
    "    }).sort_values('importance', ascending=False)\n",
    "    \n",
    "sns.barplot(x='importance', y='feature', data=importance)\n",
    "        \n",
    "# 軸ラベルとタイトル\n",
    "plt.xlabel('Importance')\n",
    "plt.ylabel('Features')\n",
    "plt.title('Test RFR: Learning Curve')\n",
    "plt.tight_layout()\n",
    "plt.savefig(os.path.join(IMAGE_PATH, '0202_test_rfr_lc.png'))\n",
    "plt.show()"
   ]
  },
  {
   "cell_type": "markdown",
   "id": "2703cbf7",
   "metadata": {},
   "source": [
    "## 2. Optunaによるハイパーパラメータチューニング"
   ]
  },
  {
   "cell_type": "code",
   "execution_count": 38,
   "id": "9821e9b2",
   "metadata": {},
   "outputs": [],
   "source": [
    "import optuna\n",
    "\n",
    "X = data.drop('log_price', axis=1)\n",
    "y = data['log_price']\n",
    "\n",
    "X_train, X_val, y_train, y_val = train_test_split(X, y, test_size=0.2)\n",
    "\n",
    "def objective(trial):\n",
    "    \n",
    "    params = {\n",
    "        'n_estimators': trial.suggest_int('n_estimators', 5, 150),\n",
    "        'max_depth': trial.suggest_int('max_depth', 3, 30),\n",
    "        'min_samples_split': trial.suggest_int('min_samples_split', 2, 20),\n",
    "        'min_samples_leaf': trial.suggest_int('min_samples_leaf', 1, 10),\n",
    "        'max_features': trial.suggest_categorical('max_features', [None, 'log2', 'sqrt', X_train.shape[1]//2, X_train.shape[1]//3]),\n",
    "        }\n",
    "    \n",
    "    rfr = RandomForestRegressor(\n",
    "        **params,\n",
    "        n_jobs=-1,\n",
    "        )\n",
    "    \n",
    "    rfr.fit(X_train, y_train)\n",
    "    \n",
    "    y_pred = rfr.predict(X_val)\n",
    "    rmse = root_mean_squared_error(y_val, y_pred)\n",
    "    \n",
    "    return rmse"
   ]
  },
  {
   "cell_type": "code",
   "execution_count": 39,
   "id": "239b337d",
   "metadata": {},
   "outputs": [
    {
     "name": "stderr",
     "output_type": "stream",
     "text": [
      "[I 2025-05-19 11:41:02,431] A new study created in memory with name: no-name-1eb43a00-e06b-4e4f-9c00-18fc4ec77118\n",
      "[I 2025-05-19 11:41:02,863] Trial 3 finished with value: 0.15537347661972953 and parameters: {'n_estimators': 18, 'max_depth': 16, 'min_samples_split': 3, 'min_samples_leaf': 2, 'max_features': None}. Best is trial 3 with value: 0.15537347661972953.\n",
      "[I 2025-05-19 11:41:02,906] Trial 4 finished with value: 0.15170466022485488 and parameters: {'n_estimators': 25, 'max_depth': 16, 'min_samples_split': 7, 'min_samples_leaf': 4, 'max_features': 33}. Best is trial 4 with value: 0.15170466022485488.\n",
      "[I 2025-05-19 11:41:02,916] Trial 7 finished with value: 0.17264403678409485 and parameters: {'n_estimators': 25, 'max_depth': 28, 'min_samples_split': 12, 'min_samples_leaf': 6, 'max_features': 'sqrt'}. Best is trial 4 with value: 0.15170466022485488.\n",
      "[I 2025-05-19 11:41:02,923] Trial 0 finished with value: 0.18531455018659326 and parameters: {'n_estimators': 66, 'max_depth': 6, 'min_samples_split': 13, 'min_samples_leaf': 5, 'max_features': 'log2'}. Best is trial 4 with value: 0.15170466022485488.\n",
      "[I 2025-05-19 11:41:02,951] Trial 2 finished with value: 0.17369149372426396 and parameters: {'n_estimators': 89, 'max_depth': 30, 'min_samples_split': 11, 'min_samples_leaf': 10, 'max_features': 'sqrt'}. Best is trial 4 with value: 0.15170466022485488.\n",
      "[I 2025-05-19 11:41:03,035] Trial 6 finished with value: 0.14996589425967227 and parameters: {'n_estimators': 99, 'max_depth': 15, 'min_samples_split': 11, 'min_samples_leaf': 2, 'max_features': 22}. Best is trial 6 with value: 0.14996589425967227.\n",
      "[I 2025-05-19 11:41:03,106] Trial 1 finished with value: 0.17008710246274594 and parameters: {'n_estimators': 109, 'max_depth': 8, 'min_samples_split': 14, 'min_samples_leaf': 5, 'max_features': 'sqrt'}. Best is trial 6 with value: 0.14996589425967227.\n",
      "[I 2025-05-19 11:41:03,197] Trial 10 finished with value: 0.1635228915147943 and parameters: {'n_estimators': 38, 'max_depth': 13, 'min_samples_split': 11, 'min_samples_leaf': 3, 'max_features': 'sqrt'}. Best is trial 6 with value: 0.14996589425967227.\n",
      "[I 2025-05-19 11:41:03,218] Trial 8 finished with value: 0.15679976170610155 and parameters: {'n_estimators': 36, 'max_depth': 19, 'min_samples_split': 14, 'min_samples_leaf': 8, 'max_features': 33}. Best is trial 6 with value: 0.14996589425967227.\n",
      "[I 2025-05-19 11:41:03,262] Trial 11 finished with value: 0.17955360191225783 and parameters: {'n_estimators': 38, 'max_depth': 21, 'min_samples_split': 4, 'min_samples_leaf': 8, 'max_features': 'log2'}. Best is trial 6 with value: 0.14996589425967227.\n",
      "[I 2025-05-19 11:41:03,270] Trial 5 finished with value: 0.15985520206585285 and parameters: {'n_estimators': 142, 'max_depth': 25, 'min_samples_split': 9, 'min_samples_leaf': 1, 'max_features': 'log2'}. Best is trial 6 with value: 0.14996589425967227.\n",
      "[I 2025-05-19 11:41:03,278] Trial 12 finished with value: 0.16928906324367518 and parameters: {'n_estimators': 37, 'max_depth': 7, 'min_samples_split': 14, 'min_samples_leaf': 5, 'max_features': 'sqrt'}. Best is trial 6 with value: 0.14996589425967227.\n",
      "[I 2025-05-19 11:41:03,589] Trial 9 finished with value: 0.15687284868243725 and parameters: {'n_estimators': 136, 'max_depth': 16, 'min_samples_split': 20, 'min_samples_leaf': 10, 'max_features': 22}. Best is trial 6 with value: 0.14996589425967227.\n",
      "[I 2025-05-19 11:41:03,620] Trial 16 finished with value: 0.17846146143897096 and parameters: {'n_estimators': 36, 'max_depth': 5, 'min_samples_split': 16, 'min_samples_leaf': 7, 'max_features': 'sqrt'}. Best is trial 6 with value: 0.14996589425967227.\n",
      "[I 2025-05-19 11:41:03,651] Trial 15 finished with value: 0.16679572390132325 and parameters: {'n_estimators': 60, 'max_depth': 7, 'min_samples_split': 16, 'min_samples_leaf': 3, 'max_features': 'sqrt'}. Best is trial 6 with value: 0.14996589425967227.\n",
      "[I 2025-05-19 11:41:03,654] Trial 13 finished with value: 0.15367900857365624 and parameters: {'n_estimators': 136, 'max_depth': 15, 'min_samples_split': 5, 'min_samples_leaf': 6, 'max_features': 33}. Best is trial 6 with value: 0.14996589425967227.\n",
      "[I 2025-05-19 11:41:03,707] Trial 14 finished with value: 0.19698824044025492 and parameters: {'n_estimators': 148, 'max_depth': 4, 'min_samples_split': 12, 'min_samples_leaf': 1, 'max_features': 'sqrt'}. Best is trial 6 with value: 0.14996589425967227.\n",
      "[I 2025-05-19 11:41:03,786] Trial 17 finished with value: 0.15123184481617066 and parameters: {'n_estimators': 73, 'max_depth': 14, 'min_samples_split': 7, 'min_samples_leaf': 3, 'max_features': 22}. Best is trial 6 with value: 0.14996589425967227.\n",
      "[I 2025-05-19 11:41:03,852] Trial 18 finished with value: 0.15169047165424301 and parameters: {'n_estimators': 72, 'max_depth': 12, 'min_samples_split': 20, 'min_samples_leaf': 3, 'max_features': 22}. Best is trial 6 with value: 0.14996589425967227.\n",
      "[I 2025-05-19 11:41:03,920] Trial 19 finished with value: 0.1529843740949211 and parameters: {'n_estimators': 72, 'max_depth': 12, 'min_samples_split': 20, 'min_samples_leaf': 3, 'max_features': 22}. Best is trial 6 with value: 0.14996589425967227.\n",
      "[I 2025-05-19 11:41:03,962] Trial 23 finished with value: 0.17254235127079187 and parameters: {'n_estimators': 5, 'max_depth': 12, 'min_samples_split': 7, 'min_samples_leaf': 3, 'max_features': 22}. Best is trial 6 with value: 0.14996589425967227.\n",
      "[I 2025-05-19 11:41:04,172] Trial 21 finished with value: 0.1491088466762143 and parameters: {'n_estimators': 74, 'max_depth': 12, 'min_samples_split': 7, 'min_samples_leaf': 3, 'max_features': 33}. Best is trial 21 with value: 0.1491088466762143.\n",
      "[I 2025-05-19 11:41:04,174] Trial 20 finished with value: 0.14891652859780777 and parameters: {'n_estimators': 69, 'max_depth': 11, 'min_samples_split': 7, 'min_samples_leaf': 3, 'max_features': 33}. Best is trial 20 with value: 0.14891652859780777.\n",
      "[I 2025-05-19 11:41:04,287] Trial 24 finished with value: 0.1492301337082959 and parameters: {'n_estimators': 101, 'max_depth': 12, 'min_samples_split': 7, 'min_samples_leaf': 3, 'max_features': 22}. Best is trial 20 with value: 0.14891652859780777.\n",
      "[I 2025-05-19 11:41:04,319] Trial 22 finished with value: 0.14944071094123215 and parameters: {'n_estimators': 118, 'max_depth': 11, 'min_samples_split': 7, 'min_samples_leaf': 3, 'max_features': 22}. Best is trial 20 with value: 0.14891652859780777.\n",
      "[I 2025-05-19 11:41:04,372] Trial 25 finished with value: 0.14765024358474543 and parameters: {'n_estimators': 101, 'max_depth': 11, 'min_samples_split': 8, 'min_samples_leaf': 2, 'max_features': 22}. Best is trial 25 with value: 0.14765024358474543.\n",
      "[I 2025-05-19 11:41:04,430] Trial 26 finished with value: 0.14841127248917155 and parameters: {'n_estimators': 96, 'max_depth': 20, 'min_samples_split': 8, 'min_samples_leaf': 2, 'max_features': 22}. Best is trial 25 with value: 0.14765024358474543.\n",
      "[I 2025-05-19 11:41:04,446] Trial 28 finished with value: 0.1491258597147855 and parameters: {'n_estimators': 91, 'max_depth': 10, 'min_samples_split': 7, 'min_samples_leaf': 2, 'max_features': 22}. Best is trial 25 with value: 0.14765024358474543.\n",
      "[I 2025-05-19 11:41:04,520] Trial 27 finished with value: 0.1501051705078864 and parameters: {'n_estimators': 100, 'max_depth': 20, 'min_samples_split': 8, 'min_samples_leaf': 2, 'max_features': 22}. Best is trial 25 with value: 0.14765024358474543.\n",
      "[I 2025-05-19 11:41:04,811] Trial 29 finished with value: 0.14954872503578245 and parameters: {'n_estimators': 92, 'max_depth': 10, 'min_samples_split': 9, 'min_samples_leaf': 2, 'max_features': 33}. Best is trial 25 with value: 0.14765024358474543.\n",
      "[I 2025-05-19 11:41:04,817] Trial 30 finished with value: 0.14819440836465445 and parameters: {'n_estimators': 98, 'max_depth': 10, 'min_samples_split': 9, 'min_samples_leaf': 2, 'max_features': 33}. Best is trial 25 with value: 0.14765024358474543.\n",
      "[I 2025-05-19 11:41:04,998] Trial 31 finished with value: 0.1509462352500892 and parameters: {'n_estimators': 118, 'max_depth': 10, 'min_samples_split': 9, 'min_samples_leaf': 4, 'max_features': 33}. Best is trial 25 with value: 0.14765024358474543.\n",
      "[I 2025-05-19 11:41:05,037] Trial 33 finished with value: 0.1521608939772381 and parameters: {'n_estimators': 55, 'max_depth': 9, 'min_samples_split': 9, 'min_samples_leaf': 2, 'max_features': 33}. Best is trial 25 with value: 0.14765024358474543.\n",
      "[I 2025-05-19 11:41:05,058] Trial 32 finished with value: 0.15008959698675609 and parameters: {'n_estimators': 89, 'max_depth': 19, 'min_samples_split': 9, 'min_samples_leaf': 4, 'max_features': 33}. Best is trial 25 with value: 0.14765024358474543.\n",
      "[I 2025-05-19 11:41:05,098] Trial 34 finished with value: 0.1578888559265316 and parameters: {'n_estimators': 86, 'max_depth': 19, 'min_samples_split': 9, 'min_samples_leaf': 1, 'max_features': None}. Best is trial 25 with value: 0.14765024358474543.\n",
      "[I 2025-05-19 11:41:05,235] Trial 36 finished with value: 0.15877300842895353 and parameters: {'n_estimators': 58, 'max_depth': 22, 'min_samples_split': 9, 'min_samples_leaf': 1, 'max_features': None}. Best is trial 25 with value: 0.14765024358474543.\n",
      "[I 2025-05-19 11:41:05,458] Trial 35 finished with value: 0.15790085935100634 and parameters: {'n_estimators': 121, 'max_depth': 19, 'min_samples_split': 9, 'min_samples_leaf': 1, 'max_features': None}. Best is trial 25 with value: 0.14765024358474543.\n",
      "[I 2025-05-19 11:41:05,650] Trial 38 finished with value: 0.1563350984078828 and parameters: {'n_estimators': 57, 'max_depth': 23, 'min_samples_split': 9, 'min_samples_leaf': 1, 'max_features': None}. Best is trial 25 with value: 0.14765024358474543.\n",
      "[I 2025-05-19 11:41:05,702] Trial 37 finished with value: 0.1556340549234027 and parameters: {'n_estimators': 83, 'max_depth': 18, 'min_samples_split': 5, 'min_samples_leaf': 1, 'max_features': None}. Best is trial 25 with value: 0.14765024358474543.\n",
      "[I 2025-05-19 11:41:05,799] Trial 39 finished with value: 0.1555814792540037 and parameters: {'n_estimators': 83, 'max_depth': 18, 'min_samples_split': 5, 'min_samples_leaf': 1, 'max_features': None}. Best is trial 25 with value: 0.14765024358474543.\n",
      "[I 2025-05-19 11:41:05,848] Trial 40 finished with value: 0.15756908540196096 and parameters: {'n_estimators': 83, 'max_depth': 18, 'min_samples_split': 5, 'min_samples_leaf': 1, 'max_features': None}. Best is trial 25 with value: 0.14765024358474543.\n",
      "[I 2025-05-19 11:41:05,940] Trial 41 finished with value: 0.15308250118931038 and parameters: {'n_estimators': 122, 'max_depth': 23, 'min_samples_split': 4, 'min_samples_leaf': 1, 'max_features': None}. Best is trial 25 with value: 0.14765024358474543.\n",
      "[I 2025-05-19 11:41:05,984] Trial 42 finished with value: 0.18861630083087402 and parameters: {'n_estimators': 112, 'max_depth': 3, 'min_samples_split': 2, 'min_samples_leaf': 1, 'max_features': None}. Best is trial 25 with value: 0.14765024358474543.\n",
      "[I 2025-05-19 11:41:06,159] Trial 43 finished with value: 0.22174816602179673 and parameters: {'n_estimators': 116, 'max_depth': 3, 'min_samples_split': 5, 'min_samples_leaf': 4, 'max_features': 'log2'}. Best is trial 25 with value: 0.14765024358474543.\n",
      "[I 2025-05-19 11:41:06,251] Trial 44 finished with value: 0.235127676291773 and parameters: {'n_estimators': 109, 'max_depth': 3, 'min_samples_split': 5, 'min_samples_leaf': 4, 'max_features': 'log2'}. Best is trial 25 with value: 0.14765024358474543.\n",
      "[I 2025-05-19 11:41:06,398] Trial 46 finished with value: 0.17609457230613235 and parameters: {'n_estimators': 125, 'max_depth': 7, 'min_samples_split': 5, 'min_samples_leaf': 4, 'max_features': 'log2'}. Best is trial 25 with value: 0.14765024358474543.\n",
      "[I 2025-05-19 11:41:06,444] Trial 47 finished with value: 0.2311111328575909 and parameters: {'n_estimators': 110, 'max_depth': 3, 'min_samples_split': 3, 'min_samples_leaf': 4, 'max_features': 'log2'}. Best is trial 25 with value: 0.14765024358474543.\n",
      "[I 2025-05-19 11:41:06,447] Trial 45 finished with value: 0.17421189394054176 and parameters: {'n_estimators': 111, 'max_depth': 8, 'min_samples_split': 5, 'min_samples_leaf': 4, 'max_features': 'log2'}. Best is trial 25 with value: 0.14765024358474543.\n",
      "[I 2025-05-19 11:41:06,524] Trial 48 finished with value: 0.15175203548709043 and parameters: {'n_estimators': 106, 'max_depth': 8, 'min_samples_split': 2, 'min_samples_leaf': 4, 'max_features': 33}. Best is trial 25 with value: 0.14765024358474543.\n",
      "[I 2025-05-19 11:41:06,570] Trial 50 finished with value: 0.1505715000009768 and parameters: {'n_estimators': 108, 'max_depth': 8, 'min_samples_split': 6, 'min_samples_leaf': 4, 'max_features': 33}. Best is trial 25 with value: 0.14765024358474543.\n",
      "[I 2025-05-19 11:41:06,586] Trial 49 finished with value: 0.14865510739583063 and parameters: {'n_estimators': 106, 'max_depth': 14, 'min_samples_split': 6, 'min_samples_leaf': 4, 'max_features': 33}. Best is trial 25 with value: 0.14765024358474543.\n",
      "[I 2025-05-19 11:41:06,590] Trial 51 finished with value: 0.15213548097296686 and parameters: {'n_estimators': 47, 'max_depth': 8, 'min_samples_split': 6, 'min_samples_leaf': 4, 'max_features': 33}. Best is trial 25 with value: 0.14765024358474543.\n",
      "[I 2025-05-19 11:41:06,649] Trial 52 finished with value: 0.15028897450105244 and parameters: {'n_estimators': 48, 'max_depth': 8, 'min_samples_split': 10, 'min_samples_leaf': 2, 'max_features': 33}. Best is trial 25 with value: 0.14765024358474543.\n",
      "[I 2025-05-19 11:41:06,911] Trial 54 finished with value: 0.15084132314711635 and parameters: {'n_estimators': 64, 'max_depth': 14, 'min_samples_split': 10, 'min_samples_leaf': 2, 'max_features': 33}. Best is trial 25 with value: 0.14765024358474543.\n",
      "[I 2025-05-19 11:41:06,953] Trial 55 finished with value: 0.1479833993017983 and parameters: {'n_estimators': 46, 'max_depth': 14, 'min_samples_split': 10, 'min_samples_leaf': 2, 'max_features': 33}. Best is trial 25 with value: 0.14765024358474543.\n",
      "[I 2025-05-19 11:41:06,960] Trial 53 finished with value: 0.1474837066974025 and parameters: {'n_estimators': 106, 'max_depth': 14, 'min_samples_split': 10, 'min_samples_leaf': 2, 'max_features': 33}. Best is trial 53 with value: 0.1474837066974025.\n",
      "[I 2025-05-19 11:41:07,144] Trial 56 finished with value: 0.15019589028149669 and parameters: {'n_estimators': 65, 'max_depth': 14, 'min_samples_split': 10, 'min_samples_leaf': 2, 'max_features': 33}. Best is trial 53 with value: 0.1474837066974025.\n",
      "[I 2025-05-19 11:41:07,214] Trial 58 finished with value: 0.15056871070190858 and parameters: {'n_estimators': 67, 'max_depth': 14, 'min_samples_split': 10, 'min_samples_leaf': 2, 'max_features': 33}. Best is trial 53 with value: 0.1474837066974025.\n",
      "[I 2025-05-19 11:41:07,248] Trial 57 finished with value: 0.15065561553790435 and parameters: {'n_estimators': 66, 'max_depth': 14, 'min_samples_split': 10, 'min_samples_leaf': 2, 'max_features': 33}. Best is trial 53 with value: 0.1474837066974025.\n",
      "[I 2025-05-19 11:41:07,260] Trial 59 finished with value: 0.15021025450033598 and parameters: {'n_estimators': 96, 'max_depth': 14, 'min_samples_split': 10, 'min_samples_leaf': 2, 'max_features': 33}. Best is trial 53 with value: 0.1474837066974025.\n",
      "[I 2025-05-19 11:41:07,369] Trial 60 finished with value: 0.15086485968814656 and parameters: {'n_estimators': 96, 'max_depth': 14, 'min_samples_split': 8, 'min_samples_leaf': 5, 'max_features': 33}. Best is trial 53 with value: 0.1474837066974025.\n",
      "[I 2025-05-19 11:41:07,533] Trial 62 finished with value: 0.1506689256167009 and parameters: {'n_estimators': 95, 'max_depth': 15, 'min_samples_split': 12, 'min_samples_leaf': 5, 'max_features': 33}. Best is trial 53 with value: 0.1474837066974025.\n",
      "[I 2025-05-19 11:41:07,541] Trial 61 finished with value: 0.1516441165413998 and parameters: {'n_estimators': 98, 'max_depth': 15, 'min_samples_split': 8, 'min_samples_leaf': 5, 'max_features': 33}. Best is trial 53 with value: 0.1474837066974025.\n",
      "[I 2025-05-19 11:41:07,606] Trial 63 finished with value: 0.1499356420651978 and parameters: {'n_estimators': 95, 'max_depth': 15, 'min_samples_split': 12, 'min_samples_leaf': 5, 'max_features': 33}. Best is trial 53 with value: 0.1474837066974025.\n",
      "[I 2025-05-19 11:41:07,884] Trial 64 finished with value: 0.1530881133525605 and parameters: {'n_estimators': 96, 'max_depth': 16, 'min_samples_split': 12, 'min_samples_leaf': 9, 'max_features': 33}. Best is trial 53 with value: 0.1474837066974025.\n",
      "[I 2025-05-19 11:41:07,956] Trial 65 finished with value: 0.15219895181730653 and parameters: {'n_estimators': 102, 'max_depth': 17, 'min_samples_split': 12, 'min_samples_leaf': 5, 'max_features': 22}. Best is trial 53 with value: 0.1474837066974025.\n",
      "[I 2025-05-19 11:41:08,025] Trial 66 finished with value: 0.15357922519012987 and parameters: {'n_estimators': 128, 'max_depth': 16, 'min_samples_split': 8, 'min_samples_leaf': 6, 'max_features': 22}. Best is trial 53 with value: 0.1474837066974025.\n",
      "[I 2025-05-19 11:41:08,030] Trial 67 finished with value: 0.1515489057805935 and parameters: {'n_estimators': 132, 'max_depth': 16, 'min_samples_split': 12, 'min_samples_leaf': 5, 'max_features': 22}. Best is trial 53 with value: 0.1474837066974025.\n",
      "[I 2025-05-19 11:41:08,031] Trial 68 finished with value: 0.15146554024273579 and parameters: {'n_estimators': 105, 'max_depth': 16, 'min_samples_split': 12, 'min_samples_leaf': 3, 'max_features': 22}. Best is trial 53 with value: 0.1474837066974025.\n",
      "[I 2025-05-19 11:41:08,193] Trial 69 finished with value: 0.15102719800058598 and parameters: {'n_estimators': 104, 'max_depth': 17, 'min_samples_split': 11, 'min_samples_leaf': 3, 'max_features': 22}. Best is trial 53 with value: 0.1474837066974025.\n",
      "[I 2025-05-19 11:41:08,223] Trial 70 finished with value: 0.15075528015770717 and parameters: {'n_estimators': 130, 'max_depth': 16, 'min_samples_split': 12, 'min_samples_leaf': 3, 'max_features': 22}. Best is trial 53 with value: 0.1474837066974025.\n",
      "[I 2025-05-19 11:41:08,431] Trial 71 finished with value: 0.15080912722467826 and parameters: {'n_estimators': 127, 'max_depth': 11, 'min_samples_split': 11, 'min_samples_leaf': 3, 'max_features': 22}. Best is trial 53 with value: 0.1474837066974025.\n",
      "[I 2025-05-19 11:41:08,486] Trial 75 finished with value: 0.16265723578075833 and parameters: {'n_estimators': 26, 'max_depth': 11, 'min_samples_split': 11, 'min_samples_leaf': 3, 'max_features': 'sqrt'}. Best is trial 53 with value: 0.1474837066974025.\n",
      "[I 2025-05-19 11:41:08,575] Trial 72 finished with value: 0.150035514353467 and parameters: {'n_estimators': 103, 'max_depth': 11, 'min_samples_split': 8, 'min_samples_leaf': 3, 'max_features': 22}. Best is trial 53 with value: 0.1474837066974025.\n",
      "[I 2025-05-19 11:41:08,576] Trial 73 finished with value: 0.1517878516401625 and parameters: {'n_estimators': 130, 'max_depth': 11, 'min_samples_split': 11, 'min_samples_leaf': 3, 'max_features': 22}. Best is trial 53 with value: 0.1474837066974025.\n",
      "[I 2025-05-19 11:41:08,626] Trial 76 finished with value: 0.16218756914629612 and parameters: {'n_estimators': 79, 'max_depth': 11, 'min_samples_split': 11, 'min_samples_leaf': 3, 'max_features': 'sqrt'}. Best is trial 53 with value: 0.1474837066974025.\n",
      "[I 2025-05-19 11:41:08,633] Trial 74 finished with value: 0.1496810394616594 and parameters: {'n_estimators': 103, 'max_depth': 11, 'min_samples_split': 11, 'min_samples_leaf': 3, 'max_features': 22}. Best is trial 53 with value: 0.1474837066974025.\n",
      "[I 2025-05-19 11:41:08,704] Trial 77 finished with value: 0.1618248044668869 and parameters: {'n_estimators': 78, 'max_depth': 11, 'min_samples_split': 6, 'min_samples_leaf': 3, 'max_features': 'sqrt'}. Best is trial 53 with value: 0.1474837066974025.\n",
      "[I 2025-05-19 11:41:08,829] Trial 78 finished with value: 0.15982246232253916 and parameters: {'n_estimators': 73, 'max_depth': 12, 'min_samples_split': 6, 'min_samples_leaf': 3, 'max_features': 'sqrt'}. Best is trial 53 with value: 0.1474837066974025.\n",
      "[I 2025-05-19 11:41:08,942] Trial 79 finished with value: 0.1589216771432026 and parameters: {'n_estimators': 78, 'max_depth': 11, 'min_samples_split': 6, 'min_samples_leaf': 3, 'max_features': 'sqrt'}. Best is trial 53 with value: 0.1474837066974025.\n",
      "[I 2025-05-19 11:41:09,036] Trial 80 finished with value: 0.1483067214562827 and parameters: {'n_estimators': 76, 'max_depth': 13, 'min_samples_split': 6, 'min_samples_leaf': 2, 'max_features': 33}. Best is trial 53 with value: 0.1474837066974025.\n",
      "[I 2025-05-19 11:41:09,124] Trial 81 finished with value: 0.15033661796466696 and parameters: {'n_estimators': 75, 'max_depth': 13, 'min_samples_split': 6, 'min_samples_leaf': 2, 'max_features': 33}. Best is trial 53 with value: 0.1474837066974025.\n",
      "[I 2025-05-19 11:41:09,184] Trial 82 finished with value: 0.14867457092412809 and parameters: {'n_estimators': 74, 'max_depth': 13, 'min_samples_split': 6, 'min_samples_leaf': 2, 'max_features': 33}. Best is trial 53 with value: 0.1474837066974025.\n",
      "[I 2025-05-19 11:41:09,215] Trial 83 finished with value: 0.15000374183804366 and parameters: {'n_estimators': 75, 'max_depth': 13, 'min_samples_split': 6, 'min_samples_leaf': 2, 'max_features': 33}. Best is trial 53 with value: 0.1474837066974025.\n",
      "[I 2025-05-19 11:41:09,332] Trial 84 finished with value: 0.15067430640316956 and parameters: {'n_estimators': 76, 'max_depth': 13, 'min_samples_split': 6, 'min_samples_leaf': 2, 'max_features': 33}. Best is trial 53 with value: 0.1474837066974025.\n",
      "[I 2025-05-19 11:41:09,411] Trial 85 finished with value: 0.14969234287626204 and parameters: {'n_estimators': 88, 'max_depth': 13, 'min_samples_split': 7, 'min_samples_leaf': 2, 'max_features': 33}. Best is trial 53 with value: 0.1474837066974025.\n",
      "[I 2025-05-19 11:41:09,456] Trial 86 finished with value: 0.14879766166932754 and parameters: {'n_estimators': 88, 'max_depth': 13, 'min_samples_split': 7, 'min_samples_leaf': 2, 'max_features': 33}. Best is trial 53 with value: 0.1474837066974025.\n",
      "[I 2025-05-19 11:41:09,599] Trial 87 finished with value: 0.1501009758555902 and parameters: {'n_estimators': 89, 'max_depth': 13, 'min_samples_split': 7, 'min_samples_leaf': 2, 'max_features': 33}. Best is trial 53 with value: 0.1474837066974025.\n",
      "[I 2025-05-19 11:41:09,664] Trial 88 finished with value: 0.14978570089465504 and parameters: {'n_estimators': 89, 'max_depth': 13, 'min_samples_split': 7, 'min_samples_leaf': 2, 'max_features': 33}. Best is trial 53 with value: 0.1474837066974025.\n",
      "[I 2025-05-19 11:41:09,755] Trial 90 finished with value: 0.1495376927657632 and parameters: {'n_estimators': 88, 'max_depth': 13, 'min_samples_split': 7, 'min_samples_leaf': 2, 'max_features': 33}. Best is trial 53 with value: 0.1474837066974025.\n",
      "[I 2025-05-19 11:41:09,772] Trial 89 finished with value: 0.14789859935318153 and parameters: {'n_estimators': 88, 'max_depth': 13, 'min_samples_split': 7, 'min_samples_leaf': 2, 'max_features': 33}. Best is trial 53 with value: 0.1474837066974025.\n",
      "[I 2025-05-19 11:41:09,804] Trial 91 finished with value: 0.14881567156076478 and parameters: {'n_estimators': 89, 'max_depth': 13, 'min_samples_split': 7, 'min_samples_leaf': 2, 'max_features': 33}. Best is trial 53 with value: 0.1474837066974025.\n",
      "[I 2025-05-19 11:41:10,074] Trial 93 finished with value: 0.14834967888503528 and parameters: {'n_estimators': 51, 'max_depth': 10, 'min_samples_split': 8, 'min_samples_leaf': 2, 'max_features': 33}. Best is trial 53 with value: 0.1474837066974025.\n",
      "[I 2025-05-19 11:41:10,087] Trial 92 finished with value: 0.15109910550343397 and parameters: {'n_estimators': 87, 'max_depth': 10, 'min_samples_split': 7, 'min_samples_leaf': 2, 'max_features': 33}. Best is trial 53 with value: 0.1474837066974025.\n",
      "[I 2025-05-19 11:41:10,157] Trial 94 finished with value: 0.1473308299112255 and parameters: {'n_estimators': 90, 'max_depth': 9, 'min_samples_split': 4, 'min_samples_leaf': 1, 'max_features': 33}. Best is trial 94 with value: 0.1473308299112255.\n",
      "[I 2025-05-19 11:41:10,279] Trial 95 finished with value: 0.14695316905009614 and parameters: {'n_estimators': 85, 'max_depth': 29, 'min_samples_split': 8, 'min_samples_leaf': 1, 'max_features': 33}. Best is trial 95 with value: 0.14695316905009614.\n",
      "[I 2025-05-19 11:41:10,401] Trial 96 finished with value: 0.14942625152599442 and parameters: {'n_estimators': 113, 'max_depth': 26, 'min_samples_split': 4, 'min_samples_leaf': 1, 'max_features': 33}. Best is trial 95 with value: 0.14695316905009614.\n",
      "[I 2025-05-19 11:41:10,502] Trial 97 finished with value: 0.1537276220549671 and parameters: {'n_estimators': 114, 'max_depth': 10, 'min_samples_split': 4, 'min_samples_leaf': 7, 'max_features': 33}. Best is trial 95 with value: 0.14695316905009614.\n",
      "[I 2025-05-19 11:41:10,539] Trial 99 finished with value: 0.15253359930661772 and parameters: {'n_estimators': 84, 'max_depth': 9, 'min_samples_split': 8, 'min_samples_leaf': 1, 'max_features': 33}. Best is trial 95 with value: 0.14695316905009614.\n",
      "[I 2025-05-19 11:41:10,592] Trial 98 finished with value: 0.15222646319583147 and parameters: {'n_estimators': 82, 'max_depth': 10, 'min_samples_split': 4, 'min_samples_leaf': 1, 'max_features': 33}. Best is trial 95 with value: 0.14695316905009614.\n",
      "[I 2025-05-19 11:41:10,665] Trial 101 finished with value: 0.15445726110456798 and parameters: {'n_estimators': 47, 'max_depth': 9, 'min_samples_split': 8, 'min_samples_leaf': 7, 'max_features': 33}. Best is trial 95 with value: 0.14695316905009614.\n",
      "[I 2025-05-19 11:41:10,747] Trial 100 finished with value: 0.1495478469483105 and parameters: {'n_estimators': 115, 'max_depth': 9, 'min_samples_split': 8, 'min_samples_leaf': 1, 'max_features': 33}. Best is trial 95 with value: 0.14695316905009614.\n",
      "[I 2025-05-19 11:41:10,823] Trial 103 finished with value: 0.1496854994155715 and parameters: {'n_estimators': 47, 'max_depth': 9, 'min_samples_split': 4, 'min_samples_leaf': 1, 'max_features': 33}. Best is trial 95 with value: 0.14695316905009614.\n",
      "[I 2025-05-19 11:41:10,846] Trial 102 finished with value: 0.1509721177933855 and parameters: {'n_estimators': 115, 'max_depth': 9, 'min_samples_split': 4, 'min_samples_leaf': 1, 'max_features': 33}. Best is trial 95 with value: 0.14695316905009614.\n",
      "[I 2025-05-19 11:41:10,913] Trial 104 finished with value: 0.15164529797984375 and parameters: {'n_estimators': 41, 'max_depth': 9, 'min_samples_split': 8, 'min_samples_leaf': 1, 'max_features': 33}. Best is trial 95 with value: 0.14695316905009614.\n",
      "[I 2025-05-19 11:41:10,950] Trial 105 finished with value: 0.15206809377094754 and parameters: {'n_estimators': 50, 'max_depth': 30, 'min_samples_split': 8, 'min_samples_leaf': 1, 'max_features': 33}. Best is trial 95 with value: 0.14695316905009614.\n",
      "[I 2025-05-19 11:41:10,961] Trial 106 finished with value: 0.1500380436366836 and parameters: {'n_estimators': 49, 'max_depth': 28, 'min_samples_split': 9, 'min_samples_leaf': 1, 'max_features': 33}. Best is trial 95 with value: 0.14695316905009614.\n",
      "[I 2025-05-19 11:41:11,016] Trial 107 finished with value: 0.14969777122275932 and parameters: {'n_estimators': 45, 'max_depth': 29, 'min_samples_split': 8, 'min_samples_leaf': 1, 'max_features': 33}. Best is trial 95 with value: 0.14695316905009614.\n",
      "[I 2025-05-19 11:41:11,116] Trial 108 finished with value: 0.1517645397047849 and parameters: {'n_estimators': 41, 'max_depth': 28, 'min_samples_split': 9, 'min_samples_leaf': 1, 'max_features': 33}. Best is trial 95 with value: 0.14695316905009614.\n",
      "[I 2025-05-19 11:41:11,128] Trial 109 finished with value: 0.1508377184303996 and parameters: {'n_estimators': 43, 'max_depth': 29, 'min_samples_split': 9, 'min_samples_leaf': 1, 'max_features': 33}. Best is trial 95 with value: 0.14695316905009614.\n",
      "[I 2025-05-19 11:41:11,260] Trial 110 finished with value: 0.1590300684360322 and parameters: {'n_estimators': 42, 'max_depth': 5, 'min_samples_split': 9, 'min_samples_leaf': 1, 'max_features': 33}. Best is trial 95 with value: 0.14695316905009614.\n",
      "[I 2025-05-19 11:41:11,397] Trial 113 finished with value: 0.16610123863922 and parameters: {'n_estimators': 32, 'max_depth': 12, 'min_samples_split': 9, 'min_samples_leaf': 2, 'max_features': 'log2'}. Best is trial 95 with value: 0.14695316905009614.\n",
      "[I 2025-05-19 11:41:11,407] Trial 111 finished with value: 0.15037690090743963 and parameters: {'n_estimators': 99, 'max_depth': 28, 'min_samples_split': 9, 'min_samples_leaf': 1, 'max_features': 33}. Best is trial 95 with value: 0.14695316905009614.\n",
      "[I 2025-05-19 11:41:11,429] Trial 112 finished with value: 0.14996929846525744 and parameters: {'n_estimators': 93, 'max_depth': 25, 'min_samples_split': 9, 'min_samples_leaf': 1, 'max_features': 33}. Best is trial 95 with value: 0.14695316905009614.\n",
      "[I 2025-05-19 11:41:11,431] Trial 115 finished with value: 0.17086576272842338 and parameters: {'n_estimators': 30, 'max_depth': 26, 'min_samples_split': 9, 'min_samples_leaf': 2, 'max_features': 'log2'}. Best is trial 95 with value: 0.14695316905009614.\n",
      "[I 2025-05-19 11:41:11,483] Trial 114 finished with value: 0.1897342033232725 and parameters: {'n_estimators': 93, 'max_depth': 5, 'min_samples_split': 9, 'min_samples_leaf': 2, 'max_features': 'log2'}. Best is trial 95 with value: 0.14695316905009614.\n",
      "[I 2025-05-19 11:41:11,560] Trial 117 finished with value: 0.16979537100382985 and parameters: {'n_estimators': 32, 'max_depth': 12, 'min_samples_split': 19, 'min_samples_leaf': 2, 'max_features': 'log2'}. Best is trial 95 with value: 0.14695316905009614.\n",
      "[I 2025-05-19 11:41:11,583] Trial 116 finished with value: 0.1692887690391071 and parameters: {'n_estimators': 93, 'max_depth': 12, 'min_samples_split': 19, 'min_samples_leaf': 2, 'max_features': 'log2'}. Best is trial 95 with value: 0.14695316905009614.\n",
      "[I 2025-05-19 11:41:11,585] Trial 118 finished with value: 0.1601209492598296 and parameters: {'n_estimators': 34, 'max_depth': 25, 'min_samples_split': 3, 'min_samples_leaf': 2, 'max_features': 'log2'}. Best is trial 95 with value: 0.14695316905009614.\n",
      "[I 2025-05-19 11:41:11,865] Trial 119 finished with value: 0.15188268297430527 and parameters: {'n_estimators': 70, 'max_depth': 25, 'min_samples_split': 10, 'min_samples_leaf': 2, 'max_features': 33}. Best is trial 95 with value: 0.14695316905009614.\n",
      "[I 2025-05-19 11:41:11,949] Trial 122 finished with value: 0.1498647228528556 and parameters: {'n_estimators': 52, 'max_depth': 15, 'min_samples_split': 3, 'min_samples_leaf': 2, 'max_features': 33}. Best is trial 95 with value: 0.14695316905009614.\n",
      "[I 2025-05-19 11:41:11,950] Trial 123 finished with value: 0.15399171349004545 and parameters: {'n_estimators': 53, 'max_depth': 15, 'min_samples_split': 18, 'min_samples_leaf': 2, 'max_features': 33}. Best is trial 95 with value: 0.14695316905009614.\n",
      "[I 2025-05-19 11:41:11,955] Trial 121 finished with value: 0.152268175678491 and parameters: {'n_estimators': 70, 'max_depth': 12, 'min_samples_split': 17, 'min_samples_leaf': 2, 'max_features': 33}. Best is trial 95 with value: 0.14695316905009614.\n",
      "[I 2025-05-19 11:41:11,998] Trial 124 finished with value: 0.1534106785878042 and parameters: {'n_estimators': 15, 'max_depth': 15, 'min_samples_split': 10, 'min_samples_leaf': 2, 'max_features': 33}. Best is trial 95 with value: 0.14695316905009614.\n",
      "[I 2025-05-19 11:41:12,000] Trial 120 finished with value: 0.14845208180263772 and parameters: {'n_estimators': 92, 'max_depth': 12, 'min_samples_split': 3, 'min_samples_leaf': 2, 'max_features': 33}. Best is trial 95 with value: 0.14695316905009614.\n",
      "[I 2025-05-19 11:41:12,408] Trial 125 finished with value: 0.151498588740279 and parameters: {'n_estimators': 82, 'max_depth': 15, 'min_samples_split': 10, 'min_samples_leaf': 2, 'max_features': 33}. Best is trial 95 with value: 0.14695316905009614.\n",
      "[I 2025-05-19 11:41:12,503] Trial 126 finished with value: 0.14836281382844424 and parameters: {'n_estimators': 106, 'max_depth': 21, 'min_samples_split': 10, 'min_samples_leaf': 2, 'max_features': 33}. Best is trial 95 with value: 0.14695316905009614.\n",
      "[I 2025-05-19 11:41:12,591] Trial 127 finished with value: 0.14653809688108746 and parameters: {'n_estimators': 52, 'max_depth': 15, 'min_samples_split': 10, 'min_samples_leaf': 2, 'max_features': 22}. Best is trial 127 with value: 0.14653809688108746.\n",
      "[I 2025-05-19 11:41:12,657] Trial 128 finished with value: 0.1554608198654288 and parameters: {'n_estimators': 18, 'max_depth': 14, 'min_samples_split': 6, 'min_samples_leaf': 2, 'max_features': 22}. Best is trial 127 with value: 0.14653809688108746.\n",
      "[I 2025-05-19 11:41:12,709] Trial 129 finished with value: 0.1538412647827647 and parameters: {'n_estimators': 61, 'max_depth': 14, 'min_samples_split': 6, 'min_samples_leaf': 6, 'max_features': 22}. Best is trial 127 with value: 0.14653809688108746.\n",
      "[I 2025-05-19 11:41:12,748] Trial 132 finished with value: 0.1566963802089065 and parameters: {'n_estimators': 107, 'max_depth': 10, 'min_samples_split': 3, 'min_samples_leaf': 10, 'max_features': 22}. Best is trial 127 with value: 0.14653809688108746.\n",
      "[I 2025-05-19 11:41:12,831] Trial 130 finished with value: 0.14940705742195973 and parameters: {'n_estimators': 98, 'max_depth': 14, 'min_samples_split': 3, 'min_samples_leaf': 2, 'max_features': 22}. Best is trial 127 with value: 0.14653809688108746.\n",
      "[I 2025-05-19 11:41:12,876] Trial 131 finished with value: 0.15507577700315242 and parameters: {'n_estimators': 108, 'max_depth': 10, 'min_samples_split': 2, 'min_samples_leaf': 6, 'max_features': 22}. Best is trial 127 with value: 0.14653809688108746.\n",
      "[I 2025-05-19 11:41:13,179] Trial 133 finished with value: 0.14898965444303439 and parameters: {'n_estimators': 98, 'max_depth': 14, 'min_samples_split': 5, 'min_samples_leaf': 2, 'max_features': 22}. Best is trial 127 with value: 0.14653809688108746.\n",
      "[I 2025-05-19 11:41:13,192] Trial 135 finished with value: 0.14950465751912068 and parameters: {'n_estimators': 98, 'max_depth': 17, 'min_samples_split': 10, 'min_samples_leaf': 2, 'max_features': 22}. Best is trial 127 with value: 0.14653809688108746.\n",
      "[I 2025-05-19 11:41:13,218] Trial 134 finished with value: 0.1481233391991934 and parameters: {'n_estimators': 107, 'max_depth': 22, 'min_samples_split': 3, 'min_samples_leaf': 2, 'max_features': 22}. Best is trial 127 with value: 0.14653809688108746.\n",
      "[I 2025-05-19 11:41:13,359] Trial 136 finished with value: 0.14692620665070694 and parameters: {'n_estimators': 61, 'max_depth': 20, 'min_samples_split': 2, 'min_samples_leaf': 2, 'max_features': 22}. Best is trial 127 with value: 0.14653809688108746.\n",
      "[I 2025-05-19 11:41:13,409] Trial 137 finished with value: 0.15139735361566076 and parameters: {'n_estimators': 107, 'max_depth': 7, 'min_samples_split': 2, 'min_samples_leaf': 2, 'max_features': 22}. Best is trial 127 with value: 0.14653809688108746.\n",
      "[I 2025-05-19 11:41:13,436] Trial 140 finished with value: 0.1488043856177274 and parameters: {'n_estimators': 101, 'max_depth': 24, 'min_samples_split': 10, 'min_samples_leaf': 3, 'max_features': 33}. Best is trial 127 with value: 0.14653809688108746.\n",
      "[I 2025-05-19 11:41:13,493] Trial 139 finished with value: 0.14920114972531043 and parameters: {'n_estimators': 102, 'max_depth': 21, 'min_samples_split': 10, 'min_samples_leaf': 3, 'max_features': 22}. Best is trial 127 with value: 0.14653809688108746.\n",
      "[I 2025-05-19 11:41:13,517] Trial 138 finished with value: 0.15036990503284178 and parameters: {'n_estimators': 99, 'max_depth': 20, 'min_samples_split': 10, 'min_samples_leaf': 2, 'max_features': 22}. Best is trial 127 with value: 0.14653809688108746.\n",
      "[I 2025-05-19 11:41:13,852] Trial 142 finished with value: 0.14917991447765716 and parameters: {'n_estimators': 102, 'max_depth': 21, 'min_samples_split': 13, 'min_samples_leaf': 3, 'max_features': 22}. Best is trial 127 with value: 0.14653809688108746.\n",
      "[I 2025-05-19 11:41:13,948] Trial 143 finished with value: 0.1496591879586939 and parameters: {'n_estimators': 102, 'max_depth': 23, 'min_samples_split': 8, 'min_samples_leaf': 3, 'max_features': 22}. Best is trial 127 with value: 0.14653809688108746.\n",
      "[I 2025-05-19 11:41:13,964] Trial 141 finished with value: 0.1509779590594274 and parameters: {'n_estimators': 101, 'max_depth': 21, 'min_samples_split': 8, 'min_samples_leaf': 3, 'max_features': 33}. Best is trial 127 with value: 0.14653809688108746.\n",
      "[I 2025-05-19 11:41:13,998] Trial 144 finished with value: 0.15032881907805498 and parameters: {'n_estimators': 102, 'max_depth': 21, 'min_samples_split': 10, 'min_samples_leaf': 3, 'max_features': 22}. Best is trial 127 with value: 0.14653809688108746.\n",
      "[I 2025-05-19 11:41:14,049] Trial 145 finished with value: 0.1508880912143961 and parameters: {'n_estimators': 57, 'max_depth': 21, 'min_samples_split': 2, 'min_samples_leaf': 3, 'max_features': 22}. Best is trial 127 with value: 0.14653809688108746.\n",
      "[I 2025-05-19 11:41:14,058] Trial 146 finished with value: 0.1504324605994562 and parameters: {'n_estimators': 57, 'max_depth': 20, 'min_samples_split': 2, 'min_samples_leaf': 3, 'max_features': 22}. Best is trial 127 with value: 0.14653809688108746.\n",
      "[I 2025-05-19 11:41:14,116] Trial 148 finished with value: 0.14884924285500975 and parameters: {'n_estimators': 57, 'max_depth': 22, 'min_samples_split': 2, 'min_samples_leaf': 2, 'max_features': 22}. Best is trial 127 with value: 0.14653809688108746.\n",
      "[I 2025-05-19 11:41:14,134] Trial 147 finished with value: 0.14506382600829681 and parameters: {'n_estimators': 63, 'max_depth': 20, 'min_samples_split': 2, 'min_samples_leaf': 2, 'max_features': 22}. Best is trial 147 with value: 0.14506382600829681.\n",
      "[I 2025-05-19 11:41:14,417] Trial 149 finished with value: 0.14961891314530756 and parameters: {'n_estimators': 57, 'max_depth': 22, 'min_samples_split': 2, 'min_samples_leaf': 2, 'max_features': 22}. Best is trial 147 with value: 0.14506382600829681.\n",
      "[I 2025-05-19 11:41:14,613] Trial 152 finished with value: 0.15595226816815608 and parameters: {'n_estimators': 59, 'max_depth': 22, 'min_samples_split': 3, 'min_samples_leaf': 2, 'max_features': None}. Best is trial 147 with value: 0.14506382600829681.\n",
      "[I 2025-05-19 11:41:14,619] Trial 150 finished with value: 0.15801496214118974 and parameters: {'n_estimators': 56, 'max_depth': 20, 'min_samples_split': 2, 'min_samples_leaf': 2, 'max_features': None}. Best is trial 147 with value: 0.14506382600829681.\n",
      "[I 2025-05-19 11:41:14,620] Trial 151 finished with value: 0.15502018438059628 and parameters: {'n_estimators': 62, 'max_depth': 20, 'min_samples_split': 2, 'min_samples_leaf': 2, 'max_features': None}. Best is trial 147 with value: 0.14506382600829681.\n",
      "[I 2025-05-19 11:41:14,697] Trial 154 finished with value: 0.15677642417529586 and parameters: {'n_estimators': 62, 'max_depth': 22, 'min_samples_split': 3, 'min_samples_leaf': 2, 'max_features': None}. Best is trial 147 with value: 0.14506382600829681.\n",
      "[I 2025-05-19 11:41:14,716] Trial 153 finished with value: 0.14735589110587752 and parameters: {'n_estimators': 92, 'max_depth': 22, 'min_samples_split': 3, 'min_samples_leaf': 2, 'max_features': 33}. Best is trial 147 with value: 0.14506382600829681.\n",
      "[I 2025-05-19 11:41:14,733] Trial 155 finished with value: 0.1535342970014148 and parameters: {'n_estimators': 62, 'max_depth': 19, 'min_samples_split': 3, 'min_samples_leaf': 2, 'max_features': None}. Best is trial 147 with value: 0.14506382600829681.\n",
      "[I 2025-05-19 11:41:14,968] Trial 156 finished with value: 0.15743287423019378 and parameters: {'n_estimators': 84, 'max_depth': 19, 'min_samples_split': 11, 'min_samples_leaf': 2, 'max_features': None}. Best is trial 147 with value: 0.14506382600829681.\n",
      "[I 2025-05-19 11:41:15,024] Trial 157 finished with value: 0.14606359202763058 and parameters: {'n_estimators': 63, 'max_depth': 19, 'min_samples_split': 11, 'min_samples_leaf': 2, 'max_features': 22}. Best is trial 147 with value: 0.14506382600829681.\n",
      "[I 2025-05-19 11:41:15,126] Trial 158 finished with value: 0.14770997732188695 and parameters: {'n_estimators': 61, 'max_depth': 19, 'min_samples_split': 3, 'min_samples_leaf': 2, 'max_features': 22}. Best is trial 147 with value: 0.14506382600829681.\n",
      "[I 2025-05-19 11:41:15,127] Trial 160 finished with value: 0.14740207246483356 and parameters: {'n_estimators': 92, 'max_depth': 12, 'min_samples_split': 3, 'min_samples_leaf': 2, 'max_features': 22}. Best is trial 147 with value: 0.14506382600829681.\n",
      "[I 2025-05-19 11:41:15,304] Trial 159 finished with value: 0.14709948712085205 and parameters: {'n_estimators': 94, 'max_depth': 19, 'min_samples_split': 3, 'min_samples_leaf': 2, 'max_features': 22}. Best is trial 147 with value: 0.14506382600829681.\n",
      "[I 2025-05-19 11:41:15,374] Trial 163 finished with value: 0.14831500395653377 and parameters: {'n_estimators': 85, 'max_depth': 19, 'min_samples_split': 8, 'min_samples_leaf': 1, 'max_features': 22}. Best is trial 147 with value: 0.14506382600829681.\n",
      "[I 2025-05-19 11:41:15,377] Trial 161 finished with value: 0.14869367816132248 and parameters: {'n_estimators': 80, 'max_depth': 18, 'min_samples_split': 3, 'min_samples_leaf': 1, 'max_features': 22}. Best is trial 147 with value: 0.14506382600829681.\n",
      "[I 2025-05-19 11:41:15,389] Trial 162 finished with value: 0.14832427864410982 and parameters: {'n_estimators': 85, 'max_depth': 19, 'min_samples_split': 3, 'min_samples_leaf': 1, 'max_features': 22}. Best is trial 147 with value: 0.14506382600829681.\n",
      "[I 2025-05-19 11:41:15,482] Trial 164 finished with value: 0.1490632368032514 and parameters: {'n_estimators': 53, 'max_depth': 24, 'min_samples_split': 8, 'min_samples_leaf': 1, 'max_features': 22}. Best is trial 147 with value: 0.14506382600829681.\n",
      "[I 2025-05-19 11:41:15,533] Trial 165 finished with value: 0.15151428329631927 and parameters: {'n_estimators': 52, 'max_depth': 23, 'min_samples_split': 11, 'min_samples_leaf': 1, 'max_features': 22}. Best is trial 147 with value: 0.14506382600829681.\n",
      "[I 2025-05-19 11:41:15,584] Trial 166 finished with value: 0.14549536079809208 and parameters: {'n_estimators': 69, 'max_depth': 18, 'min_samples_split': 4, 'min_samples_leaf': 1, 'max_features': 22}. Best is trial 147 with value: 0.14506382600829681.\n",
      "[I 2025-05-19 11:41:15,628] Trial 167 finished with value: 0.14999357741627503 and parameters: {'n_estimators': 79, 'max_depth': 17, 'min_samples_split': 4, 'min_samples_leaf': 1, 'max_features': 22}. Best is trial 147 with value: 0.14506382600829681.\n",
      "[I 2025-05-19 11:41:15,922] Trial 168 finished with value: 0.1485565430206406 and parameters: {'n_estimators': 80, 'max_depth': 18, 'min_samples_split': 4, 'min_samples_leaf': 1, 'max_features': 22}. Best is trial 147 with value: 0.14506382600829681.\n",
      "[I 2025-05-19 11:41:15,974] Trial 169 finished with value: 0.15259810577937943 and parameters: {'n_estimators': 65, 'max_depth': 18, 'min_samples_split': 4, 'min_samples_leaf': 2, 'max_features': 22}. Best is trial 147 with value: 0.14506382600829681.\n",
      "[I 2025-05-19 11:41:15,995] Trial 171 finished with value: 0.1493197371064859 and parameters: {'n_estimators': 65, 'max_depth': 18, 'min_samples_split': 3, 'min_samples_leaf': 2, 'max_features': 22}. Best is trial 147 with value: 0.14506382600829681.\n",
      "[I 2025-05-19 11:41:16,089] Trial 172 finished with value: 0.14834040704669277 and parameters: {'n_estimators': 90, 'max_depth': 18, 'min_samples_split': 4, 'min_samples_leaf': 2, 'max_features': 22}. Best is trial 147 with value: 0.14506382600829681.\n",
      "[I 2025-05-19 11:41:16,097] Trial 170 finished with value: 0.14842864854948848 and parameters: {'n_estimators': 91, 'max_depth': 18, 'min_samples_split': 4, 'min_samples_leaf': 2, 'max_features': 22}. Best is trial 147 with value: 0.14506382600829681.\n",
      "[I 2025-05-19 11:41:16,144] Trial 173 finished with value: 0.1508604491230959 and parameters: {'n_estimators': 67, 'max_depth': 17, 'min_samples_split': 4, 'min_samples_leaf': 2, 'max_features': 22}. Best is trial 147 with value: 0.14506382600829681.\n",
      "[I 2025-05-19 11:41:16,197] Trial 175 finished with value: 0.14910717509826346 and parameters: {'n_estimators': 66, 'max_depth': 18, 'min_samples_split': 4, 'min_samples_leaf': 2, 'max_features': 22}. Best is trial 147 with value: 0.14506382600829681.\n",
      "[I 2025-05-19 11:41:16,210] Trial 174 finished with value: 0.14997458623363472 and parameters: {'n_estimators': 65, 'max_depth': 18, 'min_samples_split': 4, 'min_samples_leaf': 2, 'max_features': 22}. Best is trial 147 with value: 0.14506382600829681.\n",
      "[I 2025-05-19 11:41:16,456] Trial 176 finished with value: 0.1473812985340171 and parameters: {'n_estimators': 95, 'max_depth': 18, 'min_samples_split': 4, 'min_samples_leaf': 2, 'max_features': 22}. Best is trial 147 with value: 0.14506382600829681.\n",
      "[I 2025-05-19 11:41:16,479] Trial 177 finished with value: 0.14812432058816283 and parameters: {'n_estimators': 91, 'max_depth': 17, 'min_samples_split': 3, 'min_samples_leaf': 2, 'max_features': 22}. Best is trial 147 with value: 0.14506382600829681.\n",
      "[I 2025-05-19 11:41:16,552] Trial 178 finished with value: 0.14706558191154354 and parameters: {'n_estimators': 68, 'max_depth': 18, 'min_samples_split': 4, 'min_samples_leaf': 2, 'max_features': 22}. Best is trial 147 with value: 0.14506382600829681.\n",
      "[I 2025-05-19 11:41:16,627] Trial 180 finished with value: 0.14637126122208868 and parameters: {'n_estimators': 68, 'max_depth': 20, 'min_samples_split': 3, 'min_samples_leaf': 2, 'max_features': 22}. Best is trial 147 with value: 0.14506382600829681.\n",
      "[I 2025-05-19 11:41:16,693] Trial 179 finished with value: 0.1504670327101905 and parameters: {'n_estimators': 67, 'max_depth': 20, 'min_samples_split': 3, 'min_samples_leaf': 2, 'max_features': 22}. Best is trial 147 with value: 0.14506382600829681.\n",
      "[I 2025-05-19 11:41:16,702] Trial 181 finished with value: 0.1505233913007577 and parameters: {'n_estimators': 69, 'max_depth': 20, 'min_samples_split': 3, 'min_samples_leaf': 2, 'max_features': 22}. Best is trial 147 with value: 0.14506382600829681.\n",
      "[I 2025-05-19 11:41:16,761] Trial 182 finished with value: 0.1476601142044367 and parameters: {'n_estimators': 69, 'max_depth': 20, 'min_samples_split': 2, 'min_samples_leaf': 2, 'max_features': 22}. Best is trial 147 with value: 0.14506382600829681.\n",
      "[I 2025-05-19 11:41:16,958] Trial 183 finished with value: 0.14994892171596705 and parameters: {'n_estimators': 93, 'max_depth': 20, 'min_samples_split': 2, 'min_samples_leaf': 2, 'max_features': 22}. Best is trial 147 with value: 0.14506382600829681.\n",
      "[I 2025-05-19 11:41:17,022] Trial 185 finished with value: 0.14864482770331114 and parameters: {'n_estimators': 70, 'max_depth': 20, 'min_samples_split': 3, 'min_samples_leaf': 2, 'max_features': 22}. Best is trial 147 with value: 0.14506382600829681.\n",
      "[I 2025-05-19 11:41:17,034] Trial 184 finished with value: 0.14860103912328068 and parameters: {'n_estimators': 94, 'max_depth': 20, 'min_samples_split': 2, 'min_samples_leaf': 2, 'max_features': 22}. Best is trial 147 with value: 0.14506382600829681.\n",
      "[I 2025-05-19 11:41:17,058] Trial 186 finished with value: 0.14994027785158917 and parameters: {'n_estimators': 69, 'max_depth': 20, 'min_samples_split': 5, 'min_samples_leaf': 1, 'max_features': 22}. Best is trial 147 with value: 0.14506382600829681.\n",
      "[I 2025-05-19 11:41:17,127] Trial 187 finished with value: 0.14889785967141178 and parameters: {'n_estimators': 68, 'max_depth': 19, 'min_samples_split': 5, 'min_samples_leaf': 1, 'max_features': 22}. Best is trial 147 with value: 0.14506382600829681.\n",
      "[I 2025-05-19 11:41:17,274] Trial 189 finished with value: 0.14920914276018132 and parameters: {'n_estimators': 73, 'max_depth': 19, 'min_samples_split': 5, 'min_samples_leaf': 2, 'max_features': 22}. Best is trial 147 with value: 0.14506382600829681.\n",
      "[I 2025-05-19 11:41:17,299] Trial 190 finished with value: 0.1517477851752282 and parameters: {'n_estimators': 73, 'max_depth': 19, 'min_samples_split': 2, 'min_samples_leaf': 2, 'max_features': 22}. Best is trial 147 with value: 0.14506382600829681.\n",
      "[I 2025-05-19 11:41:17,344] Trial 188 finished with value: 0.15113127977505794 and parameters: {'n_estimators': 72, 'max_depth': 19, 'min_samples_split': 5, 'min_samples_leaf': 2, 'max_features': 22}. Best is trial 147 with value: 0.14506382600829681.\n",
      "[I 2025-05-19 11:41:17,559] Trial 192 finished with value: 0.14853543208577263 and parameters: {'n_estimators': 59, 'max_depth': 19, 'min_samples_split': 5, 'min_samples_leaf': 1, 'max_features': 22}. Best is trial 147 with value: 0.14506382600829681.\n",
      "[I 2025-05-19 11:41:17,562] Trial 191 finished with value: 0.14901920717334766 and parameters: {'n_estimators': 72, 'max_depth': 19, 'min_samples_split': 5, 'min_samples_leaf': 2, 'max_features': 22}. Best is trial 147 with value: 0.14506382600829681.\n",
      "[I 2025-05-19 11:41:17,600] Trial 193 finished with value: 0.1492468081721857 and parameters: {'n_estimators': 72, 'max_depth': 19, 'min_samples_split': 5, 'min_samples_leaf': 1, 'max_features': 22}. Best is trial 147 with value: 0.14506382600829681.\n",
      "[I 2025-05-19 11:41:17,605] Trial 194 finished with value: 0.14791479970167062 and parameters: {'n_estimators': 74, 'max_depth': 19, 'min_samples_split': 5, 'min_samples_leaf': 2, 'max_features': 22}. Best is trial 147 with value: 0.14506382600829681.\n",
      "[I 2025-05-19 11:41:17,687] Trial 195 finished with value: 0.14829748870649584 and parameters: {'n_estimators': 73, 'max_depth': 16, 'min_samples_split': 2, 'min_samples_leaf': 2, 'max_features': 22}. Best is trial 147 with value: 0.14506382600829681.\n",
      "[I 2025-05-19 11:41:17,915] Trial 196 finished with value: 0.14843634729154856 and parameters: {'n_estimators': 72, 'max_depth': 19, 'min_samples_split': 2, 'min_samples_leaf': 2, 'max_features': 22}. Best is trial 147 with value: 0.14506382600829681.\n",
      "[I 2025-05-19 11:41:18,177] Trial 197 finished with value: 0.16312109045726428 and parameters: {'n_estimators': 62, 'max_depth': 16, 'min_samples_split': 13, 'min_samples_leaf': 2, 'max_features': 'sqrt'}. Best is trial 147 with value: 0.14506382600829681.\n",
      "[I 2025-05-19 11:41:18,241] Trial 198 finished with value: 0.14925497870280915 and parameters: {'n_estimators': 61, 'max_depth': 19, 'min_samples_split': 3, 'min_samples_leaf': 2, 'max_features': 22}. Best is trial 147 with value: 0.14506382600829681.\n",
      "[I 2025-05-19 11:41:18,292] Trial 200 finished with value: 0.14671774885361463 and parameters: {'n_estimators': 63, 'max_depth': 16, 'min_samples_split': 2, 'min_samples_leaf': 2, 'max_features': 22}. Best is trial 147 with value: 0.14506382600829681.\n",
      "[I 2025-05-19 11:41:18,305] Trial 201 finished with value: 0.15765960605449084 and parameters: {'n_estimators': 63, 'max_depth': 17, 'min_samples_split': 4, 'min_samples_leaf': 2, 'max_features': 'sqrt'}. Best is trial 147 with value: 0.14506382600829681.\n",
      "[I 2025-05-19 11:41:18,364] Trial 199 finished with value: 0.14933432102400734 and parameters: {'n_estimators': 96, 'max_depth': 16, 'min_samples_split': 2, 'min_samples_leaf': 2, 'max_features': 22}. Best is trial 147 with value: 0.14506382600829681.\n",
      "[I 2025-05-19 11:41:18,371] Trial 202 finished with value: 0.15082040875541594 and parameters: {'n_estimators': 62, 'max_depth': 17, 'min_samples_split': 4, 'min_samples_leaf': 2, 'max_features': 22}. Best is trial 147 with value: 0.14506382600829681.\n",
      "[I 2025-05-19 11:41:18,434] Trial 203 finished with value: 0.1613247841637189 and parameters: {'n_estimators': 61, 'max_depth': 18, 'min_samples_split': 13, 'min_samples_leaf': 2, 'max_features': 'sqrt'}. Best is trial 147 with value: 0.14506382600829681.\n",
      "[I 2025-05-19 11:41:18,624] Trial 204 finished with value: 0.153821603457488 and parameters: {'n_estimators': 94, 'max_depth': 17, 'min_samples_split': 4, 'min_samples_leaf': 2, 'max_features': 'sqrt'}. Best is trial 147 with value: 0.14506382600829681.\n",
      "[I 2025-05-19 11:41:18,739] Trial 205 finished with value: 0.14838290074038835 and parameters: {'n_estimators': 63, 'max_depth': 17, 'min_samples_split': 4, 'min_samples_leaf': 2, 'max_features': 22}. Best is trial 147 with value: 0.14506382600829681.\n",
      "[I 2025-05-19 11:41:18,795] Trial 206 finished with value: 0.1488836800835103 and parameters: {'n_estimators': 86, 'max_depth': 17, 'min_samples_split': 4, 'min_samples_leaf': 2, 'max_features': 22}. Best is trial 147 with value: 0.14506382600829681.\n",
      "[I 2025-05-19 11:41:19,015] Trial 207 finished with value: 0.1484041576078766 and parameters: {'n_estimators': 147, 'max_depth': 17, 'min_samples_split': 2, 'min_samples_leaf': 2, 'max_features': 22}. Best is trial 147 with value: 0.14506382600829681.\n",
      "[I 2025-05-19 11:41:19,023] Trial 208 finished with value: 0.14851450235697103 and parameters: {'n_estimators': 96, 'max_depth': 15, 'min_samples_split': 2, 'min_samples_leaf': 2, 'max_features': 22}. Best is trial 147 with value: 0.14506382600829681.\n",
      "[I 2025-05-19 11:41:19,027] Trial 209 finished with value: 0.14689472039332302 and parameters: {'n_estimators': 77, 'max_depth': 15, 'min_samples_split': 3, 'min_samples_leaf': 2, 'max_features': 22}. Best is trial 147 with value: 0.14506382600829681.\n",
      "[I 2025-05-19 11:41:19,056] Trial 211 finished with value: 0.14882839926868757 and parameters: {'n_estimators': 54, 'max_depth': 15, 'min_samples_split': 3, 'min_samples_leaf': 2, 'max_features': 22}. Best is trial 147 with value: 0.14506382600829681.\n",
      "[I 2025-05-19 11:41:19,086] Trial 210 finished with value: 0.14745619496979498 and parameters: {'n_estimators': 87, 'max_depth': 15, 'min_samples_split': 3, 'min_samples_leaf': 2, 'max_features': 22}. Best is trial 147 with value: 0.14506382600829681.\n",
      "[I 2025-05-19 11:41:19,326] Trial 212 finished with value: 0.14844737939077465 and parameters: {'n_estimators': 86, 'max_depth': 15, 'min_samples_split': 2, 'min_samples_leaf': 2, 'max_features': 22}. Best is trial 147 with value: 0.14506382600829681.\n",
      "[I 2025-05-19 11:41:19,509] Trial 213 finished with value: 0.14815231837281947 and parameters: {'n_estimators': 76, 'max_depth': 15, 'min_samples_split': 3, 'min_samples_leaf': 2, 'max_features': 22}. Best is trial 147 with value: 0.14506382600829681.\n",
      "[I 2025-05-19 11:41:19,575] Trial 214 finished with value: 0.15028686948130876 and parameters: {'n_estimators': 76, 'max_depth': 15, 'min_samples_split': 3, 'min_samples_leaf': 2, 'max_features': 22}. Best is trial 147 with value: 0.14506382600829681.\n",
      "[I 2025-05-19 11:41:19,981] Trial 215 finished with value: 0.1471193559596479 and parameters: {'n_estimators': 76, 'max_depth': 15, 'min_samples_split': 3, 'min_samples_leaf': 2, 'max_features': 22}. Best is trial 147 with value: 0.14506382600829681.\n",
      "[I 2025-05-19 11:41:20,011] Trial 217 finished with value: 0.14698064929272056 and parameters: {'n_estimators': 75, 'max_depth': 21, 'min_samples_split': 3, 'min_samples_leaf': 2, 'max_features': 22}. Best is trial 147 with value: 0.14506382600829681.\n",
      "[I 2025-05-19 11:41:20,113] Trial 216 finished with value: 0.14863784789140874 and parameters: {'n_estimators': 75, 'max_depth': 15, 'min_samples_split': 3, 'min_samples_leaf': 2, 'max_features': 22}. Best is trial 147 with value: 0.14506382600829681.\n",
      "[I 2025-05-19 11:41:20,175] Trial 218 finished with value: 0.14880398080908766 and parameters: {'n_estimators': 77, 'max_depth': 15, 'min_samples_split': 3, 'min_samples_leaf': 2, 'max_features': 22}. Best is trial 147 with value: 0.14506382600829681.\n",
      "[I 2025-05-19 11:41:20,286] Trial 219 finished with value: 0.14672611140348588 and parameters: {'n_estimators': 87, 'max_depth': 15, 'min_samples_split': 3, 'min_samples_leaf': 2, 'max_features': 22}. Best is trial 147 with value: 0.14506382600829681.\n",
      "[I 2025-05-19 11:41:20,388] Trial 220 finished with value: 0.1493084405647399 and parameters: {'n_estimators': 77, 'max_depth': 21, 'min_samples_split': 3, 'min_samples_leaf': 2, 'max_features': 22}. Best is trial 147 with value: 0.14506382600829681.\n",
      "[I 2025-05-19 11:41:20,510] Trial 221 finished with value: 0.14846677573767136 and parameters: {'n_estimators': 81, 'max_depth': 21, 'min_samples_split': 3, 'min_samples_leaf': 2, 'max_features': 22}. Best is trial 147 with value: 0.14506382600829681.\n",
      "[I 2025-05-19 11:41:20,701] Trial 222 finished with value: 0.14785379753046146 and parameters: {'n_estimators': 82, 'max_depth': 21, 'min_samples_split': 3, 'min_samples_leaf': 2, 'max_features': 22}. Best is trial 147 with value: 0.14506382600829681.\n",
      "[I 2025-05-19 11:41:20,715] Trial 223 finished with value: 0.14670961885921 and parameters: {'n_estimators': 89, 'max_depth': 14, 'min_samples_split': 3, 'min_samples_leaf': 1, 'max_features': 22}. Best is trial 147 with value: 0.14506382600829681.\n",
      "[I 2025-05-19 11:41:20,769] Trial 224 finished with value: 0.14788435268313826 and parameters: {'n_estimators': 81, 'max_depth': 21, 'min_samples_split': 3, 'min_samples_leaf': 1, 'max_features': 22}. Best is trial 147 with value: 0.14506382600829681.\n",
      "[I 2025-05-19 11:41:20,855] Trial 226 finished with value: 0.14728215504555597 and parameters: {'n_estimators': 82, 'max_depth': 21, 'min_samples_split': 3, 'min_samples_leaf': 1, 'max_features': 22}. Best is trial 147 with value: 0.14506382600829681.\n",
      "[I 2025-05-19 11:41:20,881] Trial 225 finished with value: 0.14839608675983568 and parameters: {'n_estimators': 79, 'max_depth': 21, 'min_samples_split': 3, 'min_samples_leaf': 1, 'max_features': 22}. Best is trial 147 with value: 0.14506382600829681.\n",
      "[I 2025-05-19 11:41:20,981] Trial 227 finished with value: 0.1491015890181829 and parameters: {'n_estimators': 81, 'max_depth': 16, 'min_samples_split': 3, 'min_samples_leaf': 1, 'max_features': 22}. Best is trial 147 with value: 0.14506382600829681.\n",
      "[I 2025-05-19 11:41:21,014] Trial 228 finished with value: 0.14744302912341584 and parameters: {'n_estimators': 68, 'max_depth': 16, 'min_samples_split': 3, 'min_samples_leaf': 2, 'max_features': 22}. Best is trial 147 with value: 0.14506382600829681.\n",
      "[I 2025-05-19 11:41:21,156] Trial 229 finished with value: 0.15168336231627635 and parameters: {'n_estimators': 67, 'max_depth': 16, 'min_samples_split': 3, 'min_samples_leaf': 1, 'max_features': 22}. Best is trial 147 with value: 0.14506382600829681.\n",
      "[I 2025-05-19 11:41:21,361] Trial 230 finished with value: 0.14859904125577578 and parameters: {'n_estimators': 67, 'max_depth': 16, 'min_samples_split': 2, 'min_samples_leaf': 1, 'max_features': 22}. Best is trial 147 with value: 0.14506382600829681.\n",
      "[I 2025-05-19 11:41:21,497] Trial 231 finished with value: 0.14814344623450185 and parameters: {'n_estimators': 90, 'max_depth': 16, 'min_samples_split': 2, 'min_samples_leaf': 1, 'max_features': 22}. Best is trial 147 with value: 0.14506382600829681.\n",
      "[I 2025-05-19 11:41:21,513] Trial 232 finished with value: 0.1508381811827905 and parameters: {'n_estimators': 89, 'max_depth': 14, 'min_samples_split': 2, 'min_samples_leaf': 1, 'max_features': 22}. Best is trial 147 with value: 0.14506382600829681.\n",
      "[I 2025-05-19 11:41:21,586] Trial 233 finished with value: 0.14953935725700235 and parameters: {'n_estimators': 88, 'max_depth': 14, 'min_samples_split': 3, 'min_samples_leaf': 1, 'max_features': 22}. Best is trial 147 with value: 0.14506382600829681.\n",
      "[I 2025-05-19 11:41:21,594] Trial 234 finished with value: 0.15050113872123144 and parameters: {'n_estimators': 88, 'max_depth': 14, 'min_samples_split': 15, 'min_samples_leaf': 1, 'max_features': 22}. Best is trial 147 with value: 0.14506382600829681.\n",
      "[I 2025-05-19 11:41:21,689] Trial 235 finished with value: 0.15040449569891684 and parameters: {'n_estimators': 89, 'max_depth': 14, 'min_samples_split': 4, 'min_samples_leaf': 1, 'max_features': 22}. Best is trial 147 with value: 0.14506382600829681.\n",
      "[I 2025-05-19 11:41:21,971] Trial 236 finished with value: 0.1512235432932215 and parameters: {'n_estimators': 89, 'max_depth': 14, 'min_samples_split': 4, 'min_samples_leaf': 1, 'max_features': 22}. Best is trial 147 with value: 0.14506382600829681.\n",
      "[I 2025-05-19 11:41:22,131] Trial 238 finished with value: 0.1497078385882564 and parameters: {'n_estimators': 90, 'max_depth': 14, 'min_samples_split': 4, 'min_samples_leaf': 1, 'max_features': 22}. Best is trial 147 with value: 0.14506382600829681.\n",
      "[I 2025-05-19 11:41:22,193] Trial 237 finished with value: 0.1481723418076867 and parameters: {'n_estimators': 88, 'max_depth': 14, 'min_samples_split': 4, 'min_samples_leaf': 1, 'max_features': 22}. Best is trial 147 with value: 0.14506382600829681.\n",
      "[I 2025-05-19 11:41:22,262] Trial 240 finished with value: 0.15380527545344616 and parameters: {'n_estimators': 84, 'max_depth': 14, 'min_samples_split': 4, 'min_samples_leaf': 8, 'max_features': 22}. Best is trial 147 with value: 0.14506382600829681.\n",
      "[I 2025-05-19 11:41:22,280] Trial 239 finished with value: 0.14747738637862035 and parameters: {'n_estimators': 88, 'max_depth': 14, 'min_samples_split': 4, 'min_samples_leaf': 1, 'max_features': 22}. Best is trial 147 with value: 0.14506382600829681.\n",
      "[I 2025-05-19 11:41:22,343] Trial 241 finished with value: 0.14851354253660948 and parameters: {'n_estimators': 85, 'max_depth': 16, 'min_samples_split': 4, 'min_samples_leaf': 1, 'max_features': 22}. Best is trial 147 with value: 0.14506382600829681.\n",
      "[I 2025-05-19 11:41:22,461] Trial 242 finished with value: 0.1471160994847637 and parameters: {'n_estimators': 84, 'max_depth': 15, 'min_samples_split': 4, 'min_samples_leaf': 1, 'max_features': 22}. Best is trial 147 with value: 0.14506382600829681.\n",
      "[I 2025-05-19 11:41:22,662] Trial 243 finished with value: 0.14862215901572012 and parameters: {'n_estimators': 84, 'max_depth': 16, 'min_samples_split': 3, 'min_samples_leaf': 2, 'max_features': 22}. Best is trial 147 with value: 0.14506382600829681.\n",
      "[I 2025-05-19 11:41:22,843] Trial 244 finished with value: 0.14875579931066477 and parameters: {'n_estimators': 85, 'max_depth': 15, 'min_samples_split': 3, 'min_samples_leaf': 2, 'max_features': 22}. Best is trial 147 with value: 0.14506382600829681.\n",
      "[I 2025-05-19 11:41:23,066] Trial 246 finished with value: 0.1470680158452434 and parameters: {'n_estimators': 83, 'max_depth': 16, 'min_samples_split': 3, 'min_samples_leaf': 2, 'max_features': 22}. Best is trial 147 with value: 0.14506382600829681.\n",
      "[I 2025-05-19 11:41:23,200] Trial 247 finished with value: 0.14770783248307467 and parameters: {'n_estimators': 84, 'max_depth': 16, 'min_samples_split': 3, 'min_samples_leaf': 2, 'max_features': 22}. Best is trial 147 with value: 0.14506382600829681.\n",
      "[I 2025-05-19 11:41:23,262] Trial 245 finished with value: 0.1550898773188892 and parameters: {'n_estimators': 85, 'max_depth': 15, 'min_samples_split': 3, 'min_samples_leaf': 8, 'max_features': 22}. Best is trial 147 with value: 0.14506382600829681.\n",
      "[I 2025-05-19 11:41:23,311] Trial 248 finished with value: 0.14823285961200136 and parameters: {'n_estimators': 85, 'max_depth': 15, 'min_samples_split': 3, 'min_samples_leaf': 2, 'max_features': 22}. Best is trial 147 with value: 0.14506382600829681.\n",
      "[I 2025-05-19 11:41:23,332] Trial 249 finished with value: 0.14812372974172164 and parameters: {'n_estimators': 93, 'max_depth': 15, 'min_samples_split': 3, 'min_samples_leaf': 2, 'max_features': 22}. Best is trial 147 with value: 0.14506382600829681.\n",
      "[I 2025-05-19 11:41:23,362] Trial 250 finished with value: 0.1492049592905414 and parameters: {'n_estimators': 83, 'max_depth': 15, 'min_samples_split': 3, 'min_samples_leaf': 1, 'max_features': 22}. Best is trial 147 with value: 0.14506382600829681.\n",
      "[I 2025-05-19 11:41:23,594] Trial 251 finished with value: 0.14621053042452833 and parameters: {'n_estimators': 92, 'max_depth': 15, 'min_samples_split': 3, 'min_samples_leaf': 1, 'max_features': 22}. Best is trial 147 with value: 0.14506382600829681.\n",
      "[I 2025-05-19 11:41:23,708] Trial 252 finished with value: 0.1509614636523182 and parameters: {'n_estimators': 94, 'max_depth': 15, 'min_samples_split': 3, 'min_samples_leaf': 1, 'max_features': 22}. Best is trial 147 with value: 0.14506382600829681.\n",
      "[I 2025-05-19 11:41:23,711] Trial 253 finished with value: 0.14717537758056617 and parameters: {'n_estimators': 94, 'max_depth': 16, 'min_samples_split': 3, 'min_samples_leaf': 1, 'max_features': 22}. Best is trial 147 with value: 0.14506382600829681.\n",
      "[I 2025-05-19 11:41:24,164] Trial 254 finished with value: 0.1528970006281084 and parameters: {'n_estimators': 92, 'max_depth': 6, 'min_samples_split': 3, 'min_samples_leaf': 1, 'max_features': 22}. Best is trial 147 with value: 0.14506382600829681.\n",
      "[I 2025-05-19 11:41:24,173] Trial 255 finished with value: 0.1500826816044271 and parameters: {'n_estimators': 92, 'max_depth': 15, 'min_samples_split': 3, 'min_samples_leaf': 1, 'max_features': 22}. Best is trial 147 with value: 0.14506382600829681.\n",
      "[I 2025-05-19 11:41:24,245] Trial 257 finished with value: 0.14854087652362 and parameters: {'n_estimators': 92, 'max_depth': 16, 'min_samples_split': 4, 'min_samples_leaf': 1, 'max_features': 22}. Best is trial 147 with value: 0.14506382600829681.\n",
      "[I 2025-05-19 11:41:24,276] Trial 256 finished with value: 0.15020719434747234 and parameters: {'n_estimators': 94, 'max_depth': 15, 'min_samples_split': 4, 'min_samples_leaf': 1, 'max_features': 22}. Best is trial 147 with value: 0.14506382600829681.\n",
      "[I 2025-05-19 11:41:24,317] Trial 258 finished with value: 0.1459436692064531 and parameters: {'n_estimators': 92, 'max_depth': 20, 'min_samples_split': 4, 'min_samples_leaf': 1, 'max_features': 22}. Best is trial 147 with value: 0.14506382600829681.\n",
      "[I 2025-05-19 11:41:24,603] Trial 259 finished with value: 0.14998737810730056 and parameters: {'n_estimators': 93, 'max_depth': 16, 'min_samples_split': 2, 'min_samples_leaf': 1, 'max_features': 22}. Best is trial 147 with value: 0.14506382600829681.\n",
      "[I 2025-05-19 11:41:24,663] Trial 261 finished with value: 0.1470080514188279 and parameters: {'n_estimators': 91, 'max_depth': 27, 'min_samples_split': 2, 'min_samples_leaf': 1, 'max_features': 22}. Best is trial 147 with value: 0.14506382600829681.\n",
      "[I 2025-05-19 11:41:24,726] Trial 260 finished with value: 0.1480924631336201 and parameters: {'n_estimators': 96, 'max_depth': 16, 'min_samples_split': 2, 'min_samples_leaf': 1, 'max_features': 22}. Best is trial 147 with value: 0.14506382600829681.\n",
      "[I 2025-05-19 11:41:24,847] Trial 262 finished with value: 0.14755365692809827 and parameters: {'n_estimators': 70, 'max_depth': 18, 'min_samples_split': 2, 'min_samples_leaf': 1, 'max_features': 22}. Best is trial 147 with value: 0.14506382600829681.\n",
      "[I 2025-05-19 11:41:25,041] Trial 263 finished with value: 0.14622546736535108 and parameters: {'n_estimators': 97, 'max_depth': 16, 'min_samples_split': 2, 'min_samples_leaf': 1, 'max_features': 22}. Best is trial 147 with value: 0.14506382600829681.\n",
      "[I 2025-05-19 11:41:25,084] Trial 264 finished with value: 0.14971088337301858 and parameters: {'n_estimators': 78, 'max_depth': 16, 'min_samples_split': 2, 'min_samples_leaf': 1, 'max_features': 22}. Best is trial 147 with value: 0.14506382600829681.\n",
      "[I 2025-05-19 11:41:25,097] Trial 265 finished with value: 0.1466717009208987 and parameters: {'n_estimators': 78, 'max_depth': 18, 'min_samples_split': 2, 'min_samples_leaf': 1, 'max_features': 22}. Best is trial 147 with value: 0.14506382600829681.\n",
      "[I 2025-05-19 11:41:25,163] Trial 266 finished with value: 0.1485687337943726 and parameters: {'n_estimators': 97, 'max_depth': 20, 'min_samples_split': 2, 'min_samples_leaf': 1, 'max_features': 22}. Best is trial 147 with value: 0.14506382600829681.\n",
      "[I 2025-05-19 11:41:25,515] Trial 268 finished with value: 0.14772055532968048 and parameters: {'n_estimators': 97, 'max_depth': 27, 'min_samples_split': 2, 'min_samples_leaf': 1, 'max_features': 22}. Best is trial 147 with value: 0.14506382600829681.\n",
      "[I 2025-05-19 11:41:25,700] Trial 267 finished with value: 0.14739627555617835 and parameters: {'n_estimators': 97, 'max_depth': 27, 'min_samples_split': 2, 'min_samples_leaf': 1, 'max_features': 22}. Best is trial 147 with value: 0.14506382600829681.\n",
      "[I 2025-05-19 11:41:25,727] Trial 269 finished with value: 0.14667814002773868 and parameters: {'n_estimators': 78, 'max_depth': 20, 'min_samples_split': 2, 'min_samples_leaf': 1, 'max_features': 22}. Best is trial 147 with value: 0.14506382600829681.\n",
      "[I 2025-05-19 11:41:25,893] Trial 271 finished with value: 0.14725387323457215 and parameters: {'n_estimators': 79, 'max_depth': 29, 'min_samples_split': 2, 'min_samples_leaf': 1, 'max_features': 22}. Best is trial 147 with value: 0.14506382600829681.\n",
      "[I 2025-05-19 11:41:25,985] Trial 270 finished with value: 0.1483992572730064 and parameters: {'n_estimators': 97, 'max_depth': 20, 'min_samples_split': 2, 'min_samples_leaf': 1, 'max_features': 22}. Best is trial 147 with value: 0.14506382600829681.\n",
      "[I 2025-05-19 11:41:26,036] Trial 272 finished with value: 0.14927606816669972 and parameters: {'n_estimators': 65, 'max_depth': 20, 'min_samples_split': 2, 'min_samples_leaf': 1, 'max_features': 22}. Best is trial 147 with value: 0.14506382600829681.\n",
      "[I 2025-05-19 11:41:26,125] Trial 273 finished with value: 0.1484137542690746 and parameters: {'n_estimators': 80, 'max_depth': 26, 'min_samples_split': 2, 'min_samples_leaf': 1, 'max_features': 22}. Best is trial 147 with value: 0.14506382600829681.\n",
      "[I 2025-05-19 11:41:26,147] Trial 274 finished with value: 0.15042186609736127 and parameters: {'n_estimators': 80, 'max_depth': 20, 'min_samples_split': 2, 'min_samples_leaf': 1, 'max_features': 22}. Best is trial 147 with value: 0.14506382600829681.\n",
      "[I 2025-05-19 11:41:26,482] Trial 275 finished with value: 0.14925742484100996 and parameters: {'n_estimators': 79, 'max_depth': 30, 'min_samples_split': 2, 'min_samples_leaf': 1, 'max_features': 22}. Best is trial 147 with value: 0.14506382600829681.\n",
      "[I 2025-05-19 11:41:26,549] Trial 276 finished with value: 0.1478965792833934 and parameters: {'n_estimators': 80, 'max_depth': 20, 'min_samples_split': 2, 'min_samples_leaf': 1, 'max_features': 22}. Best is trial 147 with value: 0.14506382600829681.\n",
      "[I 2025-05-19 11:41:26,559] Trial 277 finished with value: 0.1489626838986894 and parameters: {'n_estimators': 79, 'max_depth': 29, 'min_samples_split': 2, 'min_samples_leaf': 1, 'max_features': 22}. Best is trial 147 with value: 0.14506382600829681.\n",
      "[I 2025-05-19 11:41:26,616] Trial 278 finished with value: 0.1492481098667245 and parameters: {'n_estimators': 78, 'max_depth': 29, 'min_samples_split': 2, 'min_samples_leaf': 1, 'max_features': 22}. Best is trial 147 with value: 0.14506382600829681.\n",
      "[I 2025-05-19 11:41:26,794] Trial 279 finished with value: 0.1449782382944296 and parameters: {'n_estimators': 78, 'max_depth': 29, 'min_samples_split': 2, 'min_samples_leaf': 1, 'max_features': 22}. Best is trial 279 with value: 0.1449782382944296.\n",
      "[I 2025-05-19 11:41:26,811] Trial 280 finished with value: 0.14848511020088745 and parameters: {'n_estimators': 78, 'max_depth': 29, 'min_samples_split': 2, 'min_samples_leaf': 1, 'max_features': 22}. Best is trial 279 with value: 0.1449782382944296.\n",
      "[I 2025-05-19 11:41:26,887] Trial 281 finished with value: 0.14642037223852344 and parameters: {'n_estimators': 77, 'max_depth': 29, 'min_samples_split': 2, 'min_samples_leaf': 1, 'max_features': 22}. Best is trial 279 with value: 0.1449782382944296.\n",
      "[I 2025-05-19 11:41:26,944] Trial 282 finished with value: 0.14898370210260883 and parameters: {'n_estimators': 77, 'max_depth': 29, 'min_samples_split': 2, 'min_samples_leaf': 1, 'max_features': 22}. Best is trial 279 with value: 0.1449782382944296.\n",
      "[I 2025-05-19 11:41:27,080] Trial 283 finished with value: 0.14795553258735253 and parameters: {'n_estimators': 76, 'max_depth': 29, 'min_samples_split': 2, 'min_samples_leaf': 1, 'max_features': 22}. Best is trial 279 with value: 0.1449782382944296.\n",
      "[I 2025-05-19 11:41:27,245] Trial 285 finished with value: 0.1489743749935681 and parameters: {'n_estimators': 77, 'max_depth': 18, 'min_samples_split': 2, 'min_samples_leaf': 1, 'max_features': 22}. Best is trial 279 with value: 0.1449782382944296.\n",
      "[I 2025-05-19 11:41:27,385] Trial 284 finished with value: 0.146457273037445 and parameters: {'n_estimators': 74, 'max_depth': 29, 'min_samples_split': 2, 'min_samples_leaf': 1, 'max_features': 22}. Best is trial 279 with value: 0.1449782382944296.\n",
      "[I 2025-05-19 11:41:27,412] Trial 286 finished with value: 0.15101332681419674 and parameters: {'n_estimators': 76, 'max_depth': 29, 'min_samples_split': 2, 'min_samples_leaf': 1, 'max_features': 22}. Best is trial 279 with value: 0.1449782382944296.\n",
      "[I 2025-05-19 11:41:27,553] Trial 287 finished with value: 0.1503761642235823 and parameters: {'n_estimators': 74, 'max_depth': 18, 'min_samples_split': 2, 'min_samples_leaf': 1, 'max_features': 22}. Best is trial 279 with value: 0.1449782382944296.\n",
      "[I 2025-05-19 11:41:27,626] Trial 288 finished with value: 0.1488061842454903 and parameters: {'n_estimators': 75, 'max_depth': 28, 'min_samples_split': 2, 'min_samples_leaf': 1, 'max_features': 22}. Best is trial 279 with value: 0.1449782382944296.\n",
      "[I 2025-05-19 11:41:27,673] Trial 289 finished with value: 0.14761308905527568 and parameters: {'n_estimators': 74, 'max_depth': 30, 'min_samples_split': 2, 'min_samples_leaf': 1, 'max_features': 22}. Best is trial 279 with value: 0.1449782382944296.\n",
      "[I 2025-05-19 11:41:27,750] Trial 290 finished with value: 0.15513816811859163 and parameters: {'n_estimators': 72, 'max_depth': 30, 'min_samples_split': 2, 'min_samples_leaf': 1, 'max_features': 'log2'}. Best is trial 279 with value: 0.1449782382944296.\n",
      "[I 2025-05-19 11:41:27,781] Trial 291 finished with value: 0.16241754485591997 and parameters: {'n_estimators': 74, 'max_depth': 18, 'min_samples_split': 2, 'min_samples_leaf': 1, 'max_features': 'log2'}. Best is trial 279 with value: 0.1449782382944296.\n",
      "[I 2025-05-19 11:41:28,060] Trial 293 finished with value: 0.1601182561072822 and parameters: {'n_estimators': 72, 'max_depth': 28, 'min_samples_split': 2, 'min_samples_leaf': 1, 'max_features': 'log2'}. Best is trial 279 with value: 0.1449782382944296.\n",
      "[I 2025-05-19 11:41:28,076] Trial 292 finished with value: 0.1569949524745952 and parameters: {'n_estimators': 74, 'max_depth': 30, 'min_samples_split': 2, 'min_samples_leaf': 1, 'max_features': 'log2'}. Best is trial 279 with value: 0.1449782382944296.\n",
      "[I 2025-05-19 11:41:28,125] Trial 294 finished with value: 0.1492944566864358 and parameters: {'n_estimators': 70, 'max_depth': 30, 'min_samples_split': 2, 'min_samples_leaf': 1, 'max_features': 22}. Best is trial 279 with value: 0.1449782382944296.\n",
      "[I 2025-05-19 11:41:28,194] Trial 296 finished with value: 0.15673668556359624 and parameters: {'n_estimators': 70, 'max_depth': 28, 'min_samples_split': 2, 'min_samples_leaf': 1, 'max_features': 'log2'}. Best is trial 279 with value: 0.1449782382944296.\n",
      "[I 2025-05-19 11:41:28,207] Trial 295 finished with value: 0.161587351744572 and parameters: {'n_estimators': 71, 'max_depth': 28, 'min_samples_split': 2, 'min_samples_leaf': 1, 'max_features': 'log2'}. Best is trial 279 with value: 0.1449782382944296.\n",
      "[I 2025-05-19 11:41:28,246] Trial 297 finished with value: 0.14959768284949676 and parameters: {'n_estimators': 72, 'max_depth': 30, 'min_samples_split': 12, 'min_samples_leaf': 1, 'max_features': 22}. Best is trial 279 with value: 0.1449782382944296.\n",
      "[I 2025-05-19 11:41:28,293] Trial 298 finished with value: 0.14876190907045747 and parameters: {'n_estimators': 71, 'max_depth': 28, 'min_samples_split': 12, 'min_samples_leaf': 1, 'max_features': 22}. Best is trial 279 with value: 0.1449782382944296.\n",
      "[I 2025-05-19 11:41:28,317] Trial 299 finished with value: 0.14968377792442544 and parameters: {'n_estimators': 66, 'max_depth': 28, 'min_samples_split': 12, 'min_samples_leaf': 1, 'max_features': 22}. Best is trial 279 with value: 0.1449782382944296.\n"
     ]
    }
   ],
   "source": [
    "study = optuna.create_study(direction='minimize')\n",
    "study.optimize(objective, n_trials=300, n_jobs=-1)"
   ]
  },
  {
   "cell_type": "code",
   "execution_count": 40,
   "id": "474ba176",
   "metadata": {},
   "outputs": [
    {
     "data": {
      "text/plain": [
       "({'n_estimators': 78,\n",
       "  'max_depth': 29,\n",
       "  'min_samples_split': 2,\n",
       "  'min_samples_leaf': 1,\n",
       "  'max_features': 22},\n",
       " 0.1449782382944296)"
      ]
     },
     "execution_count": 40,
     "metadata": {},
     "output_type": "execute_result"
    }
   ],
   "source": [
    "study.best_params, study.best_value"
   ]
  },
  {
   "cell_type": "code",
   "execution_count": 41,
   "id": "ffd7d2fc",
   "metadata": {},
   "outputs": [
    {
     "ename": "ValueError",
     "evalue": "Mime type rendering requires nbformat>=4.2.0 but it is not installed",
     "output_type": "error",
     "traceback": [
      "\u001b[31m---------------------------------------------------------------------------\u001b[39m",
      "\u001b[31mValueError\u001b[39m                                Traceback (most recent call last)",
      "\u001b[36mFile \u001b[39m\u001b[32m~/github.com/automatedtomato/kaggle-house-prices/.venv/lib/python3.13/site-packages/IPython/core/formatters.py:984\u001b[39m, in \u001b[36mIPythonDisplayFormatter.__call__\u001b[39m\u001b[34m(self, obj)\u001b[39m\n\u001b[32m    982\u001b[39m method = get_real_method(obj, \u001b[38;5;28mself\u001b[39m.print_method)\n\u001b[32m    983\u001b[39m \u001b[38;5;28;01mif\u001b[39;00m method \u001b[38;5;129;01mis\u001b[39;00m \u001b[38;5;129;01mnot\u001b[39;00m \u001b[38;5;28;01mNone\u001b[39;00m:\n\u001b[32m--> \u001b[39m\u001b[32m984\u001b[39m     \u001b[43mmethod\u001b[49m\u001b[43m(\u001b[49m\u001b[43m)\u001b[49m\n\u001b[32m    985\u001b[39m     \u001b[38;5;28;01mreturn\u001b[39;00m \u001b[38;5;28;01mTrue\u001b[39;00m\n",
      "\u001b[36mFile \u001b[39m\u001b[32m~/github.com/automatedtomato/kaggle-house-prices/.venv/lib/python3.13/site-packages/plotly/basedatatypes.py:833\u001b[39m, in \u001b[36mBaseFigure._ipython_display_\u001b[39m\u001b[34m(self)\u001b[39m\n\u001b[32m    830\u001b[39m \u001b[38;5;28;01mimport\u001b[39;00m\u001b[38;5;250m \u001b[39m\u001b[34;01mplotly\u001b[39;00m\u001b[34;01m.\u001b[39;00m\u001b[34;01mio\u001b[39;00m\u001b[38;5;250m \u001b[39m\u001b[38;5;28;01mas\u001b[39;00m\u001b[38;5;250m \u001b[39m\u001b[34;01mpio\u001b[39;00m\n\u001b[32m    832\u001b[39m \u001b[38;5;28;01mif\u001b[39;00m pio.renderers.render_on_display \u001b[38;5;129;01mand\u001b[39;00m pio.renderers.default:\n\u001b[32m--> \u001b[39m\u001b[32m833\u001b[39m     \u001b[43mpio\u001b[49m\u001b[43m.\u001b[49m\u001b[43mshow\u001b[49m\u001b[43m(\u001b[49m\u001b[38;5;28;43mself\u001b[39;49m\u001b[43m)\u001b[49m\n\u001b[32m    834\u001b[39m \u001b[38;5;28;01melse\u001b[39;00m:\n\u001b[32m    835\u001b[39m     \u001b[38;5;28mprint\u001b[39m(\u001b[38;5;28mrepr\u001b[39m(\u001b[38;5;28mself\u001b[39m))\n",
      "\u001b[36mFile \u001b[39m\u001b[32m~/github.com/automatedtomato/kaggle-house-prices/.venv/lib/python3.13/site-packages/plotly/io/_renderers.py:425\u001b[39m, in \u001b[36mshow\u001b[39m\u001b[34m(fig, renderer, validate, **kwargs)\u001b[39m\n\u001b[32m    420\u001b[39m     \u001b[38;5;28;01mraise\u001b[39;00m \u001b[38;5;167;01mValueError\u001b[39;00m(\n\u001b[32m    421\u001b[39m         \u001b[33m\"\u001b[39m\u001b[33mMime type rendering requires ipython but it is not installed\u001b[39m\u001b[33m\"\u001b[39m\n\u001b[32m    422\u001b[39m     )\n\u001b[32m    424\u001b[39m \u001b[38;5;28;01mif\u001b[39;00m \u001b[38;5;129;01mnot\u001b[39;00m nbformat \u001b[38;5;129;01mor\u001b[39;00m Version(nbformat.__version__) < Version(\u001b[33m\"\u001b[39m\u001b[33m4.2.0\u001b[39m\u001b[33m\"\u001b[39m):\n\u001b[32m--> \u001b[39m\u001b[32m425\u001b[39m     \u001b[38;5;28;01mraise\u001b[39;00m \u001b[38;5;167;01mValueError\u001b[39;00m(\n\u001b[32m    426\u001b[39m         \u001b[33m\"\u001b[39m\u001b[33mMime type rendering requires nbformat>=4.2.0 but it is not installed\u001b[39m\u001b[33m\"\u001b[39m\n\u001b[32m    427\u001b[39m     )\n\u001b[32m    429\u001b[39m display_jupyter_version_warnings()\n\u001b[32m    431\u001b[39m ipython_display.display(bundle, raw=\u001b[38;5;28;01mTrue\u001b[39;00m)\n",
      "\u001b[31mValueError\u001b[39m: Mime type rendering requires nbformat>=4.2.0 but it is not installed"
     ]
    },
    {
     "data": {
      "application/vnd.plotly.v1+json": {
       "config": {
        "plotlyServerURL": "https://plot.ly"
       },
       "data": [
        {
         "cliponaxis": false,
         "hovertemplate": [
          "min_samples_split (IntDistribution): 0.011502713615356023<extra></extra>",
          "n_estimators (IntDistribution): 0.017761935211428995<extra></extra>",
          "min_samples_leaf (IntDistribution): 0.04625590314856167<extra></extra>",
          "max_features (CategoricalDistribution): 0.25896719590662<extra></extra>",
          "max_depth (IntDistribution): 0.6655122521180333<extra></extra>"
         ],
         "name": "Objective Value",
         "orientation": "h",
         "text": [
          "0.01",
          "0.02",
          "0.05",
          "0.26",
          "0.67"
         ],
         "textposition": "outside",
         "type": "bar",
         "x": [
          0.011502713615356023,
          0.017761935211428995,
          0.04625590314856167,
          0.25896719590662,
          0.6655122521180333
         ],
         "y": [
          "min_samples_split",
          "n_estimators",
          "min_samples_leaf",
          "max_features",
          "max_depth"
         ]
        }
       ],
       "layout": {
        "template": {
         "data": {
          "bar": [
           {
            "error_x": {
             "color": "#2a3f5f"
            },
            "error_y": {
             "color": "#2a3f5f"
            },
            "marker": {
             "line": {
              "color": "#E5ECF6",
              "width": 0.5
             },
             "pattern": {
              "fillmode": "overlay",
              "size": 10,
              "solidity": 0.2
             }
            },
            "type": "bar"
           }
          ],
          "barpolar": [
           {
            "marker": {
             "line": {
              "color": "#E5ECF6",
              "width": 0.5
             },
             "pattern": {
              "fillmode": "overlay",
              "size": 10,
              "solidity": 0.2
             }
            },
            "type": "barpolar"
           }
          ],
          "carpet": [
           {
            "aaxis": {
             "endlinecolor": "#2a3f5f",
             "gridcolor": "white",
             "linecolor": "white",
             "minorgridcolor": "white",
             "startlinecolor": "#2a3f5f"
            },
            "baxis": {
             "endlinecolor": "#2a3f5f",
             "gridcolor": "white",
             "linecolor": "white",
             "minorgridcolor": "white",
             "startlinecolor": "#2a3f5f"
            },
            "type": "carpet"
           }
          ],
          "choropleth": [
           {
            "colorbar": {
             "outlinewidth": 0,
             "ticks": ""
            },
            "type": "choropleth"
           }
          ],
          "contour": [
           {
            "colorbar": {
             "outlinewidth": 0,
             "ticks": ""
            },
            "colorscale": [
             [
              0,
              "#0d0887"
             ],
             [
              0.1111111111111111,
              "#46039f"
             ],
             [
              0.2222222222222222,
              "#7201a8"
             ],
             [
              0.3333333333333333,
              "#9c179e"
             ],
             [
              0.4444444444444444,
              "#bd3786"
             ],
             [
              0.5555555555555556,
              "#d8576b"
             ],
             [
              0.6666666666666666,
              "#ed7953"
             ],
             [
              0.7777777777777778,
              "#fb9f3a"
             ],
             [
              0.8888888888888888,
              "#fdca26"
             ],
             [
              1,
              "#f0f921"
             ]
            ],
            "type": "contour"
           }
          ],
          "contourcarpet": [
           {
            "colorbar": {
             "outlinewidth": 0,
             "ticks": ""
            },
            "type": "contourcarpet"
           }
          ],
          "heatmap": [
           {
            "colorbar": {
             "outlinewidth": 0,
             "ticks": ""
            },
            "colorscale": [
             [
              0,
              "#0d0887"
             ],
             [
              0.1111111111111111,
              "#46039f"
             ],
             [
              0.2222222222222222,
              "#7201a8"
             ],
             [
              0.3333333333333333,
              "#9c179e"
             ],
             [
              0.4444444444444444,
              "#bd3786"
             ],
             [
              0.5555555555555556,
              "#d8576b"
             ],
             [
              0.6666666666666666,
              "#ed7953"
             ],
             [
              0.7777777777777778,
              "#fb9f3a"
             ],
             [
              0.8888888888888888,
              "#fdca26"
             ],
             [
              1,
              "#f0f921"
             ]
            ],
            "type": "heatmap"
           }
          ],
          "histogram": [
           {
            "marker": {
             "pattern": {
              "fillmode": "overlay",
              "size": 10,
              "solidity": 0.2
             }
            },
            "type": "histogram"
           }
          ],
          "histogram2d": [
           {
            "colorbar": {
             "outlinewidth": 0,
             "ticks": ""
            },
            "colorscale": [
             [
              0,
              "#0d0887"
             ],
             [
              0.1111111111111111,
              "#46039f"
             ],
             [
              0.2222222222222222,
              "#7201a8"
             ],
             [
              0.3333333333333333,
              "#9c179e"
             ],
             [
              0.4444444444444444,
              "#bd3786"
             ],
             [
              0.5555555555555556,
              "#d8576b"
             ],
             [
              0.6666666666666666,
              "#ed7953"
             ],
             [
              0.7777777777777778,
              "#fb9f3a"
             ],
             [
              0.8888888888888888,
              "#fdca26"
             ],
             [
              1,
              "#f0f921"
             ]
            ],
            "type": "histogram2d"
           }
          ],
          "histogram2dcontour": [
           {
            "colorbar": {
             "outlinewidth": 0,
             "ticks": ""
            },
            "colorscale": [
             [
              0,
              "#0d0887"
             ],
             [
              0.1111111111111111,
              "#46039f"
             ],
             [
              0.2222222222222222,
              "#7201a8"
             ],
             [
              0.3333333333333333,
              "#9c179e"
             ],
             [
              0.4444444444444444,
              "#bd3786"
             ],
             [
              0.5555555555555556,
              "#d8576b"
             ],
             [
              0.6666666666666666,
              "#ed7953"
             ],
             [
              0.7777777777777778,
              "#fb9f3a"
             ],
             [
              0.8888888888888888,
              "#fdca26"
             ],
             [
              1,
              "#f0f921"
             ]
            ],
            "type": "histogram2dcontour"
           }
          ],
          "mesh3d": [
           {
            "colorbar": {
             "outlinewidth": 0,
             "ticks": ""
            },
            "type": "mesh3d"
           }
          ],
          "parcoords": [
           {
            "line": {
             "colorbar": {
              "outlinewidth": 0,
              "ticks": ""
             }
            },
            "type": "parcoords"
           }
          ],
          "pie": [
           {
            "automargin": true,
            "type": "pie"
           }
          ],
          "scatter": [
           {
            "fillpattern": {
             "fillmode": "overlay",
             "size": 10,
             "solidity": 0.2
            },
            "type": "scatter"
           }
          ],
          "scatter3d": [
           {
            "line": {
             "colorbar": {
              "outlinewidth": 0,
              "ticks": ""
             }
            },
            "marker": {
             "colorbar": {
              "outlinewidth": 0,
              "ticks": ""
             }
            },
            "type": "scatter3d"
           }
          ],
          "scattercarpet": [
           {
            "marker": {
             "colorbar": {
              "outlinewidth": 0,
              "ticks": ""
             }
            },
            "type": "scattercarpet"
           }
          ],
          "scattergeo": [
           {
            "marker": {
             "colorbar": {
              "outlinewidth": 0,
              "ticks": ""
             }
            },
            "type": "scattergeo"
           }
          ],
          "scattergl": [
           {
            "marker": {
             "colorbar": {
              "outlinewidth": 0,
              "ticks": ""
             }
            },
            "type": "scattergl"
           }
          ],
          "scattermap": [
           {
            "marker": {
             "colorbar": {
              "outlinewidth": 0,
              "ticks": ""
             }
            },
            "type": "scattermap"
           }
          ],
          "scattermapbox": [
           {
            "marker": {
             "colorbar": {
              "outlinewidth": 0,
              "ticks": ""
             }
            },
            "type": "scattermapbox"
           }
          ],
          "scatterpolar": [
           {
            "marker": {
             "colorbar": {
              "outlinewidth": 0,
              "ticks": ""
             }
            },
            "type": "scatterpolar"
           }
          ],
          "scatterpolargl": [
           {
            "marker": {
             "colorbar": {
              "outlinewidth": 0,
              "ticks": ""
             }
            },
            "type": "scatterpolargl"
           }
          ],
          "scatterternary": [
           {
            "marker": {
             "colorbar": {
              "outlinewidth": 0,
              "ticks": ""
             }
            },
            "type": "scatterternary"
           }
          ],
          "surface": [
           {
            "colorbar": {
             "outlinewidth": 0,
             "ticks": ""
            },
            "colorscale": [
             [
              0,
              "#0d0887"
             ],
             [
              0.1111111111111111,
              "#46039f"
             ],
             [
              0.2222222222222222,
              "#7201a8"
             ],
             [
              0.3333333333333333,
              "#9c179e"
             ],
             [
              0.4444444444444444,
              "#bd3786"
             ],
             [
              0.5555555555555556,
              "#d8576b"
             ],
             [
              0.6666666666666666,
              "#ed7953"
             ],
             [
              0.7777777777777778,
              "#fb9f3a"
             ],
             [
              0.8888888888888888,
              "#fdca26"
             ],
             [
              1,
              "#f0f921"
             ]
            ],
            "type": "surface"
           }
          ],
          "table": [
           {
            "cells": {
             "fill": {
              "color": "#EBF0F8"
             },
             "line": {
              "color": "white"
             }
            },
            "header": {
             "fill": {
              "color": "#C8D4E3"
             },
             "line": {
              "color": "white"
             }
            },
            "type": "table"
           }
          ]
         },
         "layout": {
          "annotationdefaults": {
           "arrowcolor": "#2a3f5f",
           "arrowhead": 0,
           "arrowwidth": 1
          },
          "autotypenumbers": "strict",
          "coloraxis": {
           "colorbar": {
            "outlinewidth": 0,
            "ticks": ""
           }
          },
          "colorscale": {
           "diverging": [
            [
             0,
             "#8e0152"
            ],
            [
             0.1,
             "#c51b7d"
            ],
            [
             0.2,
             "#de77ae"
            ],
            [
             0.3,
             "#f1b6da"
            ],
            [
             0.4,
             "#fde0ef"
            ],
            [
             0.5,
             "#f7f7f7"
            ],
            [
             0.6,
             "#e6f5d0"
            ],
            [
             0.7,
             "#b8e186"
            ],
            [
             0.8,
             "#7fbc41"
            ],
            [
             0.9,
             "#4d9221"
            ],
            [
             1,
             "#276419"
            ]
           ],
           "sequential": [
            [
             0,
             "#0d0887"
            ],
            [
             0.1111111111111111,
             "#46039f"
            ],
            [
             0.2222222222222222,
             "#7201a8"
            ],
            [
             0.3333333333333333,
             "#9c179e"
            ],
            [
             0.4444444444444444,
             "#bd3786"
            ],
            [
             0.5555555555555556,
             "#d8576b"
            ],
            [
             0.6666666666666666,
             "#ed7953"
            ],
            [
             0.7777777777777778,
             "#fb9f3a"
            ],
            [
             0.8888888888888888,
             "#fdca26"
            ],
            [
             1,
             "#f0f921"
            ]
           ],
           "sequentialminus": [
            [
             0,
             "#0d0887"
            ],
            [
             0.1111111111111111,
             "#46039f"
            ],
            [
             0.2222222222222222,
             "#7201a8"
            ],
            [
             0.3333333333333333,
             "#9c179e"
            ],
            [
             0.4444444444444444,
             "#bd3786"
            ],
            [
             0.5555555555555556,
             "#d8576b"
            ],
            [
             0.6666666666666666,
             "#ed7953"
            ],
            [
             0.7777777777777778,
             "#fb9f3a"
            ],
            [
             0.8888888888888888,
             "#fdca26"
            ],
            [
             1,
             "#f0f921"
            ]
           ]
          },
          "colorway": [
           "#636efa",
           "#EF553B",
           "#00cc96",
           "#ab63fa",
           "#FFA15A",
           "#19d3f3",
           "#FF6692",
           "#B6E880",
           "#FF97FF",
           "#FECB52"
          ],
          "font": {
           "color": "#2a3f5f"
          },
          "geo": {
           "bgcolor": "white",
           "lakecolor": "white",
           "landcolor": "#E5ECF6",
           "showlakes": true,
           "showland": true,
           "subunitcolor": "white"
          },
          "hoverlabel": {
           "align": "left"
          },
          "hovermode": "closest",
          "mapbox": {
           "style": "light"
          },
          "paper_bgcolor": "white",
          "plot_bgcolor": "#E5ECF6",
          "polar": {
           "angularaxis": {
            "gridcolor": "white",
            "linecolor": "white",
            "ticks": ""
           },
           "bgcolor": "#E5ECF6",
           "radialaxis": {
            "gridcolor": "white",
            "linecolor": "white",
            "ticks": ""
           }
          },
          "scene": {
           "xaxis": {
            "backgroundcolor": "#E5ECF6",
            "gridcolor": "white",
            "gridwidth": 2,
            "linecolor": "white",
            "showbackground": true,
            "ticks": "",
            "zerolinecolor": "white"
           },
           "yaxis": {
            "backgroundcolor": "#E5ECF6",
            "gridcolor": "white",
            "gridwidth": 2,
            "linecolor": "white",
            "showbackground": true,
            "ticks": "",
            "zerolinecolor": "white"
           },
           "zaxis": {
            "backgroundcolor": "#E5ECF6",
            "gridcolor": "white",
            "gridwidth": 2,
            "linecolor": "white",
            "showbackground": true,
            "ticks": "",
            "zerolinecolor": "white"
           }
          },
          "shapedefaults": {
           "line": {
            "color": "#2a3f5f"
           }
          },
          "ternary": {
           "aaxis": {
            "gridcolor": "white",
            "linecolor": "white",
            "ticks": ""
           },
           "baxis": {
            "gridcolor": "white",
            "linecolor": "white",
            "ticks": ""
           },
           "bgcolor": "#E5ECF6",
           "caxis": {
            "gridcolor": "white",
            "linecolor": "white",
            "ticks": ""
           }
          },
          "title": {
           "x": 0.05
          },
          "xaxis": {
           "automargin": true,
           "gridcolor": "white",
           "linecolor": "white",
           "ticks": "",
           "title": {
            "standoff": 15
           },
           "zerolinecolor": "white",
           "zerolinewidth": 2
          },
          "yaxis": {
           "automargin": true,
           "gridcolor": "white",
           "linecolor": "white",
           "ticks": "",
           "title": {
            "standoff": 15
           },
           "zerolinecolor": "white",
           "zerolinewidth": 2
          }
         }
        },
        "title": {
         "text": "Hyperparameter Importances"
        },
        "xaxis": {
         "title": {
          "text": "Hyperparameter Importance"
         }
        },
        "yaxis": {
         "title": {
          "text": "Hyperparameter"
         }
        }
       }
      },
      "text/html": [
       "<div>                        <script type=\"text/javascript\">window.PlotlyConfig = {MathJaxConfig: 'local'};</script>\n",
       "        <script charset=\"utf-8\" src=\"https://cdn.plot.ly/plotly-3.0.1.min.js\"></script>                <div id=\"af57532c-f720-41e1-a0df-789f699e003a\" class=\"plotly-graph-div\" style=\"height:100%; width:100%;\"></div>            <script type=\"text/javascript\">                window.PLOTLYENV=window.PLOTLYENV || {};                                if (document.getElementById(\"af57532c-f720-41e1-a0df-789f699e003a\")) {                    Plotly.newPlot(                        \"af57532c-f720-41e1-a0df-789f699e003a\",                        [{\"cliponaxis\":false,\"hovertemplate\":[\"min_samples_split (IntDistribution): 0.011502713615356023\\u003cextra\\u003e\\u003c\\u002fextra\\u003e\",\"n_estimators (IntDistribution): 0.017761935211428995\\u003cextra\\u003e\\u003c\\u002fextra\\u003e\",\"min_samples_leaf (IntDistribution): 0.04625590314856167\\u003cextra\\u003e\\u003c\\u002fextra\\u003e\",\"max_features (CategoricalDistribution): 0.25896719590662\\u003cextra\\u003e\\u003c\\u002fextra\\u003e\",\"max_depth (IntDistribution): 0.6655122521180333\\u003cextra\\u003e\\u003c\\u002fextra\\u003e\"],\"name\":\"Objective Value\",\"orientation\":\"h\",\"text\":[\"0.01\",\"0.02\",\"0.05\",\"0.26\",\"0.67\"],\"textposition\":\"outside\",\"x\":[0.011502713615356023,0.017761935211428995,0.04625590314856167,0.25896719590662,0.6655122521180333],\"y\":[\"min_samples_split\",\"n_estimators\",\"min_samples_leaf\",\"max_features\",\"max_depth\"],\"type\":\"bar\"}],                        {\"title\":{\"text\":\"Hyperparameter Importances\"},\"xaxis\":{\"title\":{\"text\":\"Hyperparameter Importance\"}},\"yaxis\":{\"title\":{\"text\":\"Hyperparameter\"}},\"template\":{\"data\":{\"histogram2dcontour\":[{\"type\":\"histogram2dcontour\",\"colorbar\":{\"outlinewidth\":0,\"ticks\":\"\"},\"colorscale\":[[0.0,\"#0d0887\"],[0.1111111111111111,\"#46039f\"],[0.2222222222222222,\"#7201a8\"],[0.3333333333333333,\"#9c179e\"],[0.4444444444444444,\"#bd3786\"],[0.5555555555555556,\"#d8576b\"],[0.6666666666666666,\"#ed7953\"],[0.7777777777777778,\"#fb9f3a\"],[0.8888888888888888,\"#fdca26\"],[1.0,\"#f0f921\"]]}],\"choropleth\":[{\"type\":\"choropleth\",\"colorbar\":{\"outlinewidth\":0,\"ticks\":\"\"}}],\"histogram2d\":[{\"type\":\"histogram2d\",\"colorbar\":{\"outlinewidth\":0,\"ticks\":\"\"},\"colorscale\":[[0.0,\"#0d0887\"],[0.1111111111111111,\"#46039f\"],[0.2222222222222222,\"#7201a8\"],[0.3333333333333333,\"#9c179e\"],[0.4444444444444444,\"#bd3786\"],[0.5555555555555556,\"#d8576b\"],[0.6666666666666666,\"#ed7953\"],[0.7777777777777778,\"#fb9f3a\"],[0.8888888888888888,\"#fdca26\"],[1.0,\"#f0f921\"]]}],\"heatmap\":[{\"type\":\"heatmap\",\"colorbar\":{\"outlinewidth\":0,\"ticks\":\"\"},\"colorscale\":[[0.0,\"#0d0887\"],[0.1111111111111111,\"#46039f\"],[0.2222222222222222,\"#7201a8\"],[0.3333333333333333,\"#9c179e\"],[0.4444444444444444,\"#bd3786\"],[0.5555555555555556,\"#d8576b\"],[0.6666666666666666,\"#ed7953\"],[0.7777777777777778,\"#fb9f3a\"],[0.8888888888888888,\"#fdca26\"],[1.0,\"#f0f921\"]]}],\"contourcarpet\":[{\"type\":\"contourcarpet\",\"colorbar\":{\"outlinewidth\":0,\"ticks\":\"\"}}],\"contour\":[{\"type\":\"contour\",\"colorbar\":{\"outlinewidth\":0,\"ticks\":\"\"},\"colorscale\":[[0.0,\"#0d0887\"],[0.1111111111111111,\"#46039f\"],[0.2222222222222222,\"#7201a8\"],[0.3333333333333333,\"#9c179e\"],[0.4444444444444444,\"#bd3786\"],[0.5555555555555556,\"#d8576b\"],[0.6666666666666666,\"#ed7953\"],[0.7777777777777778,\"#fb9f3a\"],[0.8888888888888888,\"#fdca26\"],[1.0,\"#f0f921\"]]}],\"surface\":[{\"type\":\"surface\",\"colorbar\":{\"outlinewidth\":0,\"ticks\":\"\"},\"colorscale\":[[0.0,\"#0d0887\"],[0.1111111111111111,\"#46039f\"],[0.2222222222222222,\"#7201a8\"],[0.3333333333333333,\"#9c179e\"],[0.4444444444444444,\"#bd3786\"],[0.5555555555555556,\"#d8576b\"],[0.6666666666666666,\"#ed7953\"],[0.7777777777777778,\"#fb9f3a\"],[0.8888888888888888,\"#fdca26\"],[1.0,\"#f0f921\"]]}],\"mesh3d\":[{\"type\":\"mesh3d\",\"colorbar\":{\"outlinewidth\":0,\"ticks\":\"\"}}],\"scatter\":[{\"fillpattern\":{\"fillmode\":\"overlay\",\"size\":10,\"solidity\":0.2},\"type\":\"scatter\"}],\"parcoords\":[{\"type\":\"parcoords\",\"line\":{\"colorbar\":{\"outlinewidth\":0,\"ticks\":\"\"}}}],\"scatterpolargl\":[{\"type\":\"scatterpolargl\",\"marker\":{\"colorbar\":{\"outlinewidth\":0,\"ticks\":\"\"}}}],\"bar\":[{\"error_x\":{\"color\":\"#2a3f5f\"},\"error_y\":{\"color\":\"#2a3f5f\"},\"marker\":{\"line\":{\"color\":\"#E5ECF6\",\"width\":0.5},\"pattern\":{\"fillmode\":\"overlay\",\"size\":10,\"solidity\":0.2}},\"type\":\"bar\"}],\"scattergeo\":[{\"type\":\"scattergeo\",\"marker\":{\"colorbar\":{\"outlinewidth\":0,\"ticks\":\"\"}}}],\"scatterpolar\":[{\"type\":\"scatterpolar\",\"marker\":{\"colorbar\":{\"outlinewidth\":0,\"ticks\":\"\"}}}],\"histogram\":[{\"marker\":{\"pattern\":{\"fillmode\":\"overlay\",\"size\":10,\"solidity\":0.2}},\"type\":\"histogram\"}],\"scattergl\":[{\"type\":\"scattergl\",\"marker\":{\"colorbar\":{\"outlinewidth\":0,\"ticks\":\"\"}}}],\"scatter3d\":[{\"type\":\"scatter3d\",\"line\":{\"colorbar\":{\"outlinewidth\":0,\"ticks\":\"\"}},\"marker\":{\"colorbar\":{\"outlinewidth\":0,\"ticks\":\"\"}}}],\"scattermap\":[{\"type\":\"scattermap\",\"marker\":{\"colorbar\":{\"outlinewidth\":0,\"ticks\":\"\"}}}],\"scattermapbox\":[{\"type\":\"scattermapbox\",\"marker\":{\"colorbar\":{\"outlinewidth\":0,\"ticks\":\"\"}}}],\"scatterternary\":[{\"type\":\"scatterternary\",\"marker\":{\"colorbar\":{\"outlinewidth\":0,\"ticks\":\"\"}}}],\"scattercarpet\":[{\"type\":\"scattercarpet\",\"marker\":{\"colorbar\":{\"outlinewidth\":0,\"ticks\":\"\"}}}],\"carpet\":[{\"aaxis\":{\"endlinecolor\":\"#2a3f5f\",\"gridcolor\":\"white\",\"linecolor\":\"white\",\"minorgridcolor\":\"white\",\"startlinecolor\":\"#2a3f5f\"},\"baxis\":{\"endlinecolor\":\"#2a3f5f\",\"gridcolor\":\"white\",\"linecolor\":\"white\",\"minorgridcolor\":\"white\",\"startlinecolor\":\"#2a3f5f\"},\"type\":\"carpet\"}],\"table\":[{\"cells\":{\"fill\":{\"color\":\"#EBF0F8\"},\"line\":{\"color\":\"white\"}},\"header\":{\"fill\":{\"color\":\"#C8D4E3\"},\"line\":{\"color\":\"white\"}},\"type\":\"table\"}],\"barpolar\":[{\"marker\":{\"line\":{\"color\":\"#E5ECF6\",\"width\":0.5},\"pattern\":{\"fillmode\":\"overlay\",\"size\":10,\"solidity\":0.2}},\"type\":\"barpolar\"}],\"pie\":[{\"automargin\":true,\"type\":\"pie\"}]},\"layout\":{\"autotypenumbers\":\"strict\",\"colorway\":[\"#636efa\",\"#EF553B\",\"#00cc96\",\"#ab63fa\",\"#FFA15A\",\"#19d3f3\",\"#FF6692\",\"#B6E880\",\"#FF97FF\",\"#FECB52\"],\"font\":{\"color\":\"#2a3f5f\"},\"hovermode\":\"closest\",\"hoverlabel\":{\"align\":\"left\"},\"paper_bgcolor\":\"white\",\"plot_bgcolor\":\"#E5ECF6\",\"polar\":{\"bgcolor\":\"#E5ECF6\",\"angularaxis\":{\"gridcolor\":\"white\",\"linecolor\":\"white\",\"ticks\":\"\"},\"radialaxis\":{\"gridcolor\":\"white\",\"linecolor\":\"white\",\"ticks\":\"\"}},\"ternary\":{\"bgcolor\":\"#E5ECF6\",\"aaxis\":{\"gridcolor\":\"white\",\"linecolor\":\"white\",\"ticks\":\"\"},\"baxis\":{\"gridcolor\":\"white\",\"linecolor\":\"white\",\"ticks\":\"\"},\"caxis\":{\"gridcolor\":\"white\",\"linecolor\":\"white\",\"ticks\":\"\"}},\"coloraxis\":{\"colorbar\":{\"outlinewidth\":0,\"ticks\":\"\"}},\"colorscale\":{\"sequential\":[[0.0,\"#0d0887\"],[0.1111111111111111,\"#46039f\"],[0.2222222222222222,\"#7201a8\"],[0.3333333333333333,\"#9c179e\"],[0.4444444444444444,\"#bd3786\"],[0.5555555555555556,\"#d8576b\"],[0.6666666666666666,\"#ed7953\"],[0.7777777777777778,\"#fb9f3a\"],[0.8888888888888888,\"#fdca26\"],[1.0,\"#f0f921\"]],\"sequentialminus\":[[0.0,\"#0d0887\"],[0.1111111111111111,\"#46039f\"],[0.2222222222222222,\"#7201a8\"],[0.3333333333333333,\"#9c179e\"],[0.4444444444444444,\"#bd3786\"],[0.5555555555555556,\"#d8576b\"],[0.6666666666666666,\"#ed7953\"],[0.7777777777777778,\"#fb9f3a\"],[0.8888888888888888,\"#fdca26\"],[1.0,\"#f0f921\"]],\"diverging\":[[0,\"#8e0152\"],[0.1,\"#c51b7d\"],[0.2,\"#de77ae\"],[0.3,\"#f1b6da\"],[0.4,\"#fde0ef\"],[0.5,\"#f7f7f7\"],[0.6,\"#e6f5d0\"],[0.7,\"#b8e186\"],[0.8,\"#7fbc41\"],[0.9,\"#4d9221\"],[1,\"#276419\"]]},\"xaxis\":{\"gridcolor\":\"white\",\"linecolor\":\"white\",\"ticks\":\"\",\"title\":{\"standoff\":15},\"zerolinecolor\":\"white\",\"automargin\":true,\"zerolinewidth\":2},\"yaxis\":{\"gridcolor\":\"white\",\"linecolor\":\"white\",\"ticks\":\"\",\"title\":{\"standoff\":15},\"zerolinecolor\":\"white\",\"automargin\":true,\"zerolinewidth\":2},\"scene\":{\"xaxis\":{\"backgroundcolor\":\"#E5ECF6\",\"gridcolor\":\"white\",\"linecolor\":\"white\",\"showbackground\":true,\"ticks\":\"\",\"zerolinecolor\":\"white\",\"gridwidth\":2},\"yaxis\":{\"backgroundcolor\":\"#E5ECF6\",\"gridcolor\":\"white\",\"linecolor\":\"white\",\"showbackground\":true,\"ticks\":\"\",\"zerolinecolor\":\"white\",\"gridwidth\":2},\"zaxis\":{\"backgroundcolor\":\"#E5ECF6\",\"gridcolor\":\"white\",\"linecolor\":\"white\",\"showbackground\":true,\"ticks\":\"\",\"zerolinecolor\":\"white\",\"gridwidth\":2}},\"shapedefaults\":{\"line\":{\"color\":\"#2a3f5f\"}},\"annotationdefaults\":{\"arrowcolor\":\"#2a3f5f\",\"arrowhead\":0,\"arrowwidth\":1},\"geo\":{\"bgcolor\":\"white\",\"landcolor\":\"#E5ECF6\",\"subunitcolor\":\"white\",\"showland\":true,\"showlakes\":true,\"lakecolor\":\"white\"},\"title\":{\"x\":0.05},\"mapbox\":{\"style\":\"light\"}}}},                        {\"responsive\": true}                    )                };            </script>        </div>"
      ],
      "text/plain": [
       "Figure({\n",
       "    'data': [{'cliponaxis': False,\n",
       "              'hovertemplate': [min_samples_split (IntDistribution):\n",
       "                                0.011502713615356023<extra></extra>, n_estimators\n",
       "                                (IntDistribution):\n",
       "                                0.017761935211428995<extra></extra>,\n",
       "                                min_samples_leaf (IntDistribution):\n",
       "                                0.04625590314856167<extra></extra>, max_features\n",
       "                                (CategoricalDistribution):\n",
       "                                0.25896719590662<extra></extra>, max_depth\n",
       "                                (IntDistribution):\n",
       "                                0.6655122521180333<extra></extra>],\n",
       "              'name': 'Objective Value',\n",
       "              'orientation': 'h',\n",
       "              'text': [0.01, 0.02, 0.05, 0.26, 0.67],\n",
       "              'textposition': 'outside',\n",
       "              'type': 'bar',\n",
       "              'x': [0.011502713615356023, 0.017761935211428995,\n",
       "                    0.04625590314856167, 0.25896719590662, 0.6655122521180333],\n",
       "              'y': [min_samples_split, n_estimators, min_samples_leaf,\n",
       "                    max_features, max_depth]}],\n",
       "    'layout': {'template': '...',\n",
       "               'title': {'text': 'Hyperparameter Importances'},\n",
       "               'xaxis': {'title': {'text': 'Hyperparameter Importance'}},\n",
       "               'yaxis': {'title': {'text': 'Hyperparameter'}}}\n",
       "})"
      ]
     },
     "execution_count": 41,
     "metadata": {},
     "output_type": "execute_result"
    }
   ],
   "source": [
    "optuna.visualization.plot_param_importances(study)"
   ]
  },
  {
   "cell_type": "code",
   "execution_count": 42,
   "id": "7a34f501",
   "metadata": {},
   "outputs": [
    {
     "ename": "ValueError",
     "evalue": "Mime type rendering requires nbformat>=4.2.0 but it is not installed",
     "output_type": "error",
     "traceback": [
      "\u001b[31m---------------------------------------------------------------------------\u001b[39m",
      "\u001b[31mValueError\u001b[39m                                Traceback (most recent call last)",
      "\u001b[36mFile \u001b[39m\u001b[32m~/github.com/automatedtomato/kaggle-house-prices/.venv/lib/python3.13/site-packages/IPython/core/formatters.py:984\u001b[39m, in \u001b[36mIPythonDisplayFormatter.__call__\u001b[39m\u001b[34m(self, obj)\u001b[39m\n\u001b[32m    982\u001b[39m method = get_real_method(obj, \u001b[38;5;28mself\u001b[39m.print_method)\n\u001b[32m    983\u001b[39m \u001b[38;5;28;01mif\u001b[39;00m method \u001b[38;5;129;01mis\u001b[39;00m \u001b[38;5;129;01mnot\u001b[39;00m \u001b[38;5;28;01mNone\u001b[39;00m:\n\u001b[32m--> \u001b[39m\u001b[32m984\u001b[39m     \u001b[43mmethod\u001b[49m\u001b[43m(\u001b[49m\u001b[43m)\u001b[49m\n\u001b[32m    985\u001b[39m     \u001b[38;5;28;01mreturn\u001b[39;00m \u001b[38;5;28;01mTrue\u001b[39;00m\n",
      "\u001b[36mFile \u001b[39m\u001b[32m~/github.com/automatedtomato/kaggle-house-prices/.venv/lib/python3.13/site-packages/plotly/basedatatypes.py:833\u001b[39m, in \u001b[36mBaseFigure._ipython_display_\u001b[39m\u001b[34m(self)\u001b[39m\n\u001b[32m    830\u001b[39m \u001b[38;5;28;01mimport\u001b[39;00m\u001b[38;5;250m \u001b[39m\u001b[34;01mplotly\u001b[39;00m\u001b[34;01m.\u001b[39;00m\u001b[34;01mio\u001b[39;00m\u001b[38;5;250m \u001b[39m\u001b[38;5;28;01mas\u001b[39;00m\u001b[38;5;250m \u001b[39m\u001b[34;01mpio\u001b[39;00m\n\u001b[32m    832\u001b[39m \u001b[38;5;28;01mif\u001b[39;00m pio.renderers.render_on_display \u001b[38;5;129;01mand\u001b[39;00m pio.renderers.default:\n\u001b[32m--> \u001b[39m\u001b[32m833\u001b[39m     \u001b[43mpio\u001b[49m\u001b[43m.\u001b[49m\u001b[43mshow\u001b[49m\u001b[43m(\u001b[49m\u001b[38;5;28;43mself\u001b[39;49m\u001b[43m)\u001b[49m\n\u001b[32m    834\u001b[39m \u001b[38;5;28;01melse\u001b[39;00m:\n\u001b[32m    835\u001b[39m     \u001b[38;5;28mprint\u001b[39m(\u001b[38;5;28mrepr\u001b[39m(\u001b[38;5;28mself\u001b[39m))\n",
      "\u001b[36mFile \u001b[39m\u001b[32m~/github.com/automatedtomato/kaggle-house-prices/.venv/lib/python3.13/site-packages/plotly/io/_renderers.py:425\u001b[39m, in \u001b[36mshow\u001b[39m\u001b[34m(fig, renderer, validate, **kwargs)\u001b[39m\n\u001b[32m    420\u001b[39m     \u001b[38;5;28;01mraise\u001b[39;00m \u001b[38;5;167;01mValueError\u001b[39;00m(\n\u001b[32m    421\u001b[39m         \u001b[33m\"\u001b[39m\u001b[33mMime type rendering requires ipython but it is not installed\u001b[39m\u001b[33m\"\u001b[39m\n\u001b[32m    422\u001b[39m     )\n\u001b[32m    424\u001b[39m \u001b[38;5;28;01mif\u001b[39;00m \u001b[38;5;129;01mnot\u001b[39;00m nbformat \u001b[38;5;129;01mor\u001b[39;00m Version(nbformat.__version__) < Version(\u001b[33m\"\u001b[39m\u001b[33m4.2.0\u001b[39m\u001b[33m\"\u001b[39m):\n\u001b[32m--> \u001b[39m\u001b[32m425\u001b[39m     \u001b[38;5;28;01mraise\u001b[39;00m \u001b[38;5;167;01mValueError\u001b[39;00m(\n\u001b[32m    426\u001b[39m         \u001b[33m\"\u001b[39m\u001b[33mMime type rendering requires nbformat>=4.2.0 but it is not installed\u001b[39m\u001b[33m\"\u001b[39m\n\u001b[32m    427\u001b[39m     )\n\u001b[32m    429\u001b[39m display_jupyter_version_warnings()\n\u001b[32m    431\u001b[39m ipython_display.display(bundle, raw=\u001b[38;5;28;01mTrue\u001b[39;00m)\n",
      "\u001b[31mValueError\u001b[39m: Mime type rendering requires nbformat>=4.2.0 but it is not installed"
     ]
    },
    {
     "data": {
      "application/vnd.plotly.v1+json": {
       "config": {
        "plotlyServerURL": "https://plot.ly"
       },
       "data": [
        {
         "mode": "markers",
         "name": "Objective Value",
         "type": "scatter",
         "x": [
          0,
          1,
          2,
          3,
          4,
          5,
          6,
          7,
          8,
          9,
          10,
          11,
          12,
          13,
          14,
          15,
          16,
          17,
          18,
          19,
          20,
          21,
          22,
          23,
          24,
          25,
          26,
          27,
          28,
          29,
          30,
          31,
          32,
          33,
          34,
          35,
          36,
          37,
          38,
          39,
          40,
          41,
          42,
          43,
          44,
          45,
          46,
          47,
          48,
          49,
          50,
          51,
          52,
          53,
          54,
          55,
          56,
          57,
          58,
          59,
          60,
          61,
          62,
          63,
          64,
          65,
          66,
          67,
          68,
          69,
          70,
          71,
          72,
          73,
          74,
          75,
          76,
          77,
          78,
          79,
          80,
          81,
          82,
          83,
          84,
          85,
          86,
          87,
          88,
          89,
          90,
          91,
          92,
          93,
          94,
          95,
          96,
          97,
          98,
          99,
          100,
          101,
          102,
          103,
          104,
          105,
          106,
          107,
          108,
          109,
          110,
          111,
          112,
          113,
          114,
          115,
          116,
          117,
          118,
          119,
          120,
          121,
          122,
          123,
          124,
          125,
          126,
          127,
          128,
          129,
          130,
          131,
          132,
          133,
          134,
          135,
          136,
          137,
          138,
          139,
          140,
          141,
          142,
          143,
          144,
          145,
          146,
          147,
          148,
          149,
          150,
          151,
          152,
          153,
          154,
          155,
          156,
          157,
          158,
          159,
          160,
          161,
          162,
          163,
          164,
          165,
          166,
          167,
          168,
          169,
          170,
          171,
          172,
          173,
          174,
          175,
          176,
          177,
          178,
          179,
          180,
          181,
          182,
          183,
          184,
          185,
          186,
          187,
          188,
          189,
          190,
          191,
          192,
          193,
          194,
          195,
          196,
          197,
          198,
          199,
          200,
          201,
          202,
          203,
          204,
          205,
          206,
          207,
          208,
          209,
          210,
          211,
          212,
          213,
          214,
          215,
          216,
          217,
          218,
          219,
          220,
          221,
          222,
          223,
          224,
          225,
          226,
          227,
          228,
          229,
          230,
          231,
          232,
          233,
          234,
          235,
          236,
          237,
          238,
          239,
          240,
          241,
          242,
          243,
          244,
          245,
          246,
          247,
          248,
          249,
          250,
          251,
          252,
          253,
          254,
          255,
          256,
          257,
          258,
          259,
          260,
          261,
          262,
          263,
          264,
          265,
          266,
          267,
          268,
          269,
          270,
          271,
          272,
          273,
          274,
          275,
          276,
          277,
          278,
          279,
          280,
          281,
          282,
          283,
          284,
          285,
          286,
          287,
          288,
          289,
          290,
          291,
          292,
          293,
          294,
          295,
          296,
          297,
          298,
          299
         ],
         "y": [
          0.18531455018659326,
          0.17008710246274594,
          0.17369149372426396,
          0.15537347661972953,
          0.15170466022485488,
          0.15985520206585285,
          0.14996589425967227,
          0.17264403678409485,
          0.15679976170610155,
          0.15687284868243725,
          0.1635228915147943,
          0.17955360191225783,
          0.16928906324367518,
          0.15367900857365624,
          0.19698824044025492,
          0.16679572390132325,
          0.17846146143897096,
          0.15123184481617066,
          0.15169047165424301,
          0.1529843740949211,
          0.14891652859780777,
          0.1491088466762143,
          0.14944071094123215,
          0.17254235127079187,
          0.1492301337082959,
          0.14765024358474543,
          0.14841127248917155,
          0.1501051705078864,
          0.1491258597147855,
          0.14954872503578245,
          0.14819440836465445,
          0.1509462352500892,
          0.15008959698675609,
          0.1521608939772381,
          0.1578888559265316,
          0.15790085935100634,
          0.15877300842895353,
          0.1556340549234027,
          0.1563350984078828,
          0.1555814792540037,
          0.15756908540196096,
          0.15308250118931038,
          0.18861630083087402,
          0.22174816602179673,
          0.235127676291773,
          0.17421189394054176,
          0.17609457230613235,
          0.2311111328575909,
          0.15175203548709043,
          0.14865510739583063,
          0.1505715000009768,
          0.15213548097296686,
          0.15028897450105244,
          0.1474837066974025,
          0.15084132314711635,
          0.1479833993017983,
          0.15019589028149669,
          0.15065561553790435,
          0.15056871070190858,
          0.15021025450033598,
          0.15086485968814656,
          0.1516441165413998,
          0.1506689256167009,
          0.1499356420651978,
          0.1530881133525605,
          0.15219895181730653,
          0.15357922519012987,
          0.1515489057805935,
          0.15146554024273579,
          0.15102719800058598,
          0.15075528015770717,
          0.15080912722467826,
          0.150035514353467,
          0.1517878516401625,
          0.1496810394616594,
          0.16265723578075833,
          0.16218756914629612,
          0.1618248044668869,
          0.15982246232253916,
          0.1589216771432026,
          0.1483067214562827,
          0.15033661796466696,
          0.14867457092412809,
          0.15000374183804366,
          0.15067430640316956,
          0.14969234287626204,
          0.14879766166932754,
          0.1501009758555902,
          0.14978570089465504,
          0.14789859935318153,
          0.1495376927657632,
          0.14881567156076478,
          0.15109910550343397,
          0.14834967888503528,
          0.1473308299112255,
          0.14695316905009614,
          0.14942625152599442,
          0.1537276220549671,
          0.15222646319583147,
          0.15253359930661772,
          0.1495478469483105,
          0.15445726110456798,
          0.1509721177933855,
          0.1496854994155715,
          0.15164529797984375,
          0.15206809377094754,
          0.1500380436366836,
          0.14969777122275932,
          0.1517645397047849,
          0.1508377184303996,
          0.1590300684360322,
          0.15037690090743963,
          0.14996929846525744,
          0.16610123863922,
          0.1897342033232725,
          0.17086576272842338,
          0.1692887690391071,
          0.16979537100382985,
          0.1601209492598296,
          0.15188268297430527,
          0.14845208180263772,
          0.152268175678491,
          0.1498647228528556,
          0.15399171349004545,
          0.1534106785878042,
          0.151498588740279,
          0.14836281382844424,
          0.14653809688108746,
          0.1554608198654288,
          0.1538412647827647,
          0.14940705742195973,
          0.15507577700315242,
          0.1566963802089065,
          0.14898965444303439,
          0.1481233391991934,
          0.14950465751912068,
          0.14692620665070694,
          0.15139735361566076,
          0.15036990503284178,
          0.14920114972531043,
          0.1488043856177274,
          0.1509779590594274,
          0.14917991447765716,
          0.1496591879586939,
          0.15032881907805498,
          0.1508880912143961,
          0.1504324605994562,
          0.14506382600829681,
          0.14884924285500975,
          0.14961891314530756,
          0.15801496214118974,
          0.15502018438059628,
          0.15595226816815608,
          0.14735589110587752,
          0.15677642417529586,
          0.1535342970014148,
          0.15743287423019378,
          0.14606359202763058,
          0.14770997732188695,
          0.14709948712085205,
          0.14740207246483356,
          0.14869367816132248,
          0.14832427864410982,
          0.14831500395653377,
          0.1490632368032514,
          0.15151428329631927,
          0.14549536079809208,
          0.14999357741627503,
          0.1485565430206406,
          0.15259810577937943,
          0.14842864854948848,
          0.1493197371064859,
          0.14834040704669277,
          0.1508604491230959,
          0.14997458623363472,
          0.14910717509826346,
          0.1473812985340171,
          0.14812432058816283,
          0.14706558191154354,
          0.1504670327101905,
          0.14637126122208868,
          0.1505233913007577,
          0.1476601142044367,
          0.14994892171596705,
          0.14860103912328068,
          0.14864482770331114,
          0.14994027785158917,
          0.14889785967141178,
          0.15113127977505794,
          0.14920914276018132,
          0.1517477851752282,
          0.14901920717334766,
          0.14853543208577263,
          0.1492468081721857,
          0.14791479970167062,
          0.14829748870649584,
          0.14843634729154856,
          0.16312109045726428,
          0.14925497870280915,
          0.14933432102400734,
          0.14671774885361463,
          0.15765960605449084,
          0.15082040875541594,
          0.1613247841637189,
          0.153821603457488,
          0.14838290074038835,
          0.1488836800835103,
          0.1484041576078766,
          0.14851450235697103,
          0.14689472039332302,
          0.14745619496979498,
          0.14882839926868757,
          0.14844737939077465,
          0.14815231837281947,
          0.15028686948130876,
          0.1471193559596479,
          0.14863784789140874,
          0.14698064929272056,
          0.14880398080908766,
          0.14672611140348588,
          0.1493084405647399,
          0.14846677573767136,
          0.14785379753046146,
          0.14670961885921,
          0.14788435268313826,
          0.14839608675983568,
          0.14728215504555597,
          0.1491015890181829,
          0.14744302912341584,
          0.15168336231627635,
          0.14859904125577578,
          0.14814344623450185,
          0.1508381811827905,
          0.14953935725700235,
          0.15050113872123144,
          0.15040449569891684,
          0.1512235432932215,
          0.1481723418076867,
          0.1497078385882564,
          0.14747738637862035,
          0.15380527545344616,
          0.14851354253660948,
          0.1471160994847637,
          0.14862215901572012,
          0.14875579931066477,
          0.1550898773188892,
          0.1470680158452434,
          0.14770783248307467,
          0.14823285961200136,
          0.14812372974172164,
          0.1492049592905414,
          0.14621053042452833,
          0.1509614636523182,
          0.14717537758056617,
          0.1528970006281084,
          0.1500826816044271,
          0.15020719434747234,
          0.14854087652362,
          0.1459436692064531,
          0.14998737810730056,
          0.1480924631336201,
          0.1470080514188279,
          0.14755365692809827,
          0.14622546736535108,
          0.14971088337301858,
          0.1466717009208987,
          0.1485687337943726,
          0.14739627555617835,
          0.14772055532968048,
          0.14667814002773868,
          0.1483992572730064,
          0.14725387323457215,
          0.14927606816669972,
          0.1484137542690746,
          0.15042186609736127,
          0.14925742484100996,
          0.1478965792833934,
          0.1489626838986894,
          0.1492481098667245,
          0.1449782382944296,
          0.14848511020088745,
          0.14642037223852344,
          0.14898370210260883,
          0.14795553258735253,
          0.146457273037445,
          0.1489743749935681,
          0.15101332681419674,
          0.1503761642235823,
          0.1488061842454903,
          0.14761308905527568,
          0.15513816811859163,
          0.16241754485591997,
          0.1569949524745952,
          0.1601182561072822,
          0.1492944566864358,
          0.161587351744572,
          0.15673668556359624,
          0.14959768284949676,
          0.14876190907045747,
          0.14968377792442544
         ]
        },
        {
         "mode": "lines",
         "name": "Best Value",
         "type": "scatter",
         "x": [
          0,
          1,
          2,
          3,
          4,
          5,
          6,
          7,
          8,
          9,
          10,
          11,
          12,
          13,
          14,
          15,
          16,
          17,
          18,
          19,
          20,
          21,
          22,
          23,
          24,
          25,
          26,
          27,
          28,
          29,
          30,
          31,
          32,
          33,
          34,
          35,
          36,
          37,
          38,
          39,
          40,
          41,
          42,
          43,
          44,
          45,
          46,
          47,
          48,
          49,
          50,
          51,
          52,
          53,
          54,
          55,
          56,
          57,
          58,
          59,
          60,
          61,
          62,
          63,
          64,
          65,
          66,
          67,
          68,
          69,
          70,
          71,
          72,
          73,
          74,
          75,
          76,
          77,
          78,
          79,
          80,
          81,
          82,
          83,
          84,
          85,
          86,
          87,
          88,
          89,
          90,
          91,
          92,
          93,
          94,
          95,
          96,
          97,
          98,
          99,
          100,
          101,
          102,
          103,
          104,
          105,
          106,
          107,
          108,
          109,
          110,
          111,
          112,
          113,
          114,
          115,
          116,
          117,
          118,
          119,
          120,
          121,
          122,
          123,
          124,
          125,
          126,
          127,
          128,
          129,
          130,
          131,
          132,
          133,
          134,
          135,
          136,
          137,
          138,
          139,
          140,
          141,
          142,
          143,
          144,
          145,
          146,
          147,
          148,
          149,
          150,
          151,
          152,
          153,
          154,
          155,
          156,
          157,
          158,
          159,
          160,
          161,
          162,
          163,
          164,
          165,
          166,
          167,
          168,
          169,
          170,
          171,
          172,
          173,
          174,
          175,
          176,
          177,
          178,
          179,
          180,
          181,
          182,
          183,
          184,
          185,
          186,
          187,
          188,
          189,
          190,
          191,
          192,
          193,
          194,
          195,
          196,
          197,
          198,
          199,
          200,
          201,
          202,
          203,
          204,
          205,
          206,
          207,
          208,
          209,
          210,
          211,
          212,
          213,
          214,
          215,
          216,
          217,
          218,
          219,
          220,
          221,
          222,
          223,
          224,
          225,
          226,
          227,
          228,
          229,
          230,
          231,
          232,
          233,
          234,
          235,
          236,
          237,
          238,
          239,
          240,
          241,
          242,
          243,
          244,
          245,
          246,
          247,
          248,
          249,
          250,
          251,
          252,
          253,
          254,
          255,
          256,
          257,
          258,
          259,
          260,
          261,
          262,
          263,
          264,
          265,
          266,
          267,
          268,
          269,
          270,
          271,
          272,
          273,
          274,
          275,
          276,
          277,
          278,
          279,
          280,
          281,
          282,
          283,
          284,
          285,
          286,
          287,
          288,
          289,
          290,
          291,
          292,
          293,
          294,
          295,
          296,
          297,
          298,
          299
         ],
         "y": [
          0.18531455018659326,
          0.17008710246274594,
          0.17008710246274594,
          0.15537347661972953,
          0.15170466022485488,
          0.15170466022485488,
          0.14996589425967227,
          0.14996589425967227,
          0.14996589425967227,
          0.14996589425967227,
          0.14996589425967227,
          0.14996589425967227,
          0.14996589425967227,
          0.14996589425967227,
          0.14996589425967227,
          0.14996589425967227,
          0.14996589425967227,
          0.14996589425967227,
          0.14996589425967227,
          0.14996589425967227,
          0.14891652859780777,
          0.14891652859780777,
          0.14891652859780777,
          0.14891652859780777,
          0.14891652859780777,
          0.14765024358474543,
          0.14765024358474543,
          0.14765024358474543,
          0.14765024358474543,
          0.14765024358474543,
          0.14765024358474543,
          0.14765024358474543,
          0.14765024358474543,
          0.14765024358474543,
          0.14765024358474543,
          0.14765024358474543,
          0.14765024358474543,
          0.14765024358474543,
          0.14765024358474543,
          0.14765024358474543,
          0.14765024358474543,
          0.14765024358474543,
          0.14765024358474543,
          0.14765024358474543,
          0.14765024358474543,
          0.14765024358474543,
          0.14765024358474543,
          0.14765024358474543,
          0.14765024358474543,
          0.14765024358474543,
          0.14765024358474543,
          0.14765024358474543,
          0.14765024358474543,
          0.1474837066974025,
          0.1474837066974025,
          0.1474837066974025,
          0.1474837066974025,
          0.1474837066974025,
          0.1474837066974025,
          0.1474837066974025,
          0.1474837066974025,
          0.1474837066974025,
          0.1474837066974025,
          0.1474837066974025,
          0.1474837066974025,
          0.1474837066974025,
          0.1474837066974025,
          0.1474837066974025,
          0.1474837066974025,
          0.1474837066974025,
          0.1474837066974025,
          0.1474837066974025,
          0.1474837066974025,
          0.1474837066974025,
          0.1474837066974025,
          0.1474837066974025,
          0.1474837066974025,
          0.1474837066974025,
          0.1474837066974025,
          0.1474837066974025,
          0.1474837066974025,
          0.1474837066974025,
          0.1474837066974025,
          0.1474837066974025,
          0.1474837066974025,
          0.1474837066974025,
          0.1474837066974025,
          0.1474837066974025,
          0.1474837066974025,
          0.1474837066974025,
          0.1474837066974025,
          0.1474837066974025,
          0.1474837066974025,
          0.1474837066974025,
          0.1473308299112255,
          0.14695316905009614,
          0.14695316905009614,
          0.14695316905009614,
          0.14695316905009614,
          0.14695316905009614,
          0.14695316905009614,
          0.14695316905009614,
          0.14695316905009614,
          0.14695316905009614,
          0.14695316905009614,
          0.14695316905009614,
          0.14695316905009614,
          0.14695316905009614,
          0.14695316905009614,
          0.14695316905009614,
          0.14695316905009614,
          0.14695316905009614,
          0.14695316905009614,
          0.14695316905009614,
          0.14695316905009614,
          0.14695316905009614,
          0.14695316905009614,
          0.14695316905009614,
          0.14695316905009614,
          0.14695316905009614,
          0.14695316905009614,
          0.14695316905009614,
          0.14695316905009614,
          0.14695316905009614,
          0.14695316905009614,
          0.14695316905009614,
          0.14695316905009614,
          0.14653809688108746,
          0.14653809688108746,
          0.14653809688108746,
          0.14653809688108746,
          0.14653809688108746,
          0.14653809688108746,
          0.14653809688108746,
          0.14653809688108746,
          0.14653809688108746,
          0.14653809688108746,
          0.14653809688108746,
          0.14653809688108746,
          0.14653809688108746,
          0.14653809688108746,
          0.14653809688108746,
          0.14653809688108746,
          0.14653809688108746,
          0.14653809688108746,
          0.14653809688108746,
          0.14653809688108746,
          0.14506382600829681,
          0.14506382600829681,
          0.14506382600829681,
          0.14506382600829681,
          0.14506382600829681,
          0.14506382600829681,
          0.14506382600829681,
          0.14506382600829681,
          0.14506382600829681,
          0.14506382600829681,
          0.14506382600829681,
          0.14506382600829681,
          0.14506382600829681,
          0.14506382600829681,
          0.14506382600829681,
          0.14506382600829681,
          0.14506382600829681,
          0.14506382600829681,
          0.14506382600829681,
          0.14506382600829681,
          0.14506382600829681,
          0.14506382600829681,
          0.14506382600829681,
          0.14506382600829681,
          0.14506382600829681,
          0.14506382600829681,
          0.14506382600829681,
          0.14506382600829681,
          0.14506382600829681,
          0.14506382600829681,
          0.14506382600829681,
          0.14506382600829681,
          0.14506382600829681,
          0.14506382600829681,
          0.14506382600829681,
          0.14506382600829681,
          0.14506382600829681,
          0.14506382600829681,
          0.14506382600829681,
          0.14506382600829681,
          0.14506382600829681,
          0.14506382600829681,
          0.14506382600829681,
          0.14506382600829681,
          0.14506382600829681,
          0.14506382600829681,
          0.14506382600829681,
          0.14506382600829681,
          0.14506382600829681,
          0.14506382600829681,
          0.14506382600829681,
          0.14506382600829681,
          0.14506382600829681,
          0.14506382600829681,
          0.14506382600829681,
          0.14506382600829681,
          0.14506382600829681,
          0.14506382600829681,
          0.14506382600829681,
          0.14506382600829681,
          0.14506382600829681,
          0.14506382600829681,
          0.14506382600829681,
          0.14506382600829681,
          0.14506382600829681,
          0.14506382600829681,
          0.14506382600829681,
          0.14506382600829681,
          0.14506382600829681,
          0.14506382600829681,
          0.14506382600829681,
          0.14506382600829681,
          0.14506382600829681,
          0.14506382600829681,
          0.14506382600829681,
          0.14506382600829681,
          0.14506382600829681,
          0.14506382600829681,
          0.14506382600829681,
          0.14506382600829681,
          0.14506382600829681,
          0.14506382600829681,
          0.14506382600829681,
          0.14506382600829681,
          0.14506382600829681,
          0.14506382600829681,
          0.14506382600829681,
          0.14506382600829681,
          0.14506382600829681,
          0.14506382600829681,
          0.14506382600829681,
          0.14506382600829681,
          0.14506382600829681,
          0.14506382600829681,
          0.14506382600829681,
          0.14506382600829681,
          0.14506382600829681,
          0.14506382600829681,
          0.14506382600829681,
          0.14506382600829681,
          0.14506382600829681,
          0.14506382600829681,
          0.14506382600829681,
          0.14506382600829681,
          0.14506382600829681,
          0.14506382600829681,
          0.14506382600829681,
          0.14506382600829681,
          0.14506382600829681,
          0.14506382600829681,
          0.14506382600829681,
          0.14506382600829681,
          0.14506382600829681,
          0.14506382600829681,
          0.14506382600829681,
          0.14506382600829681,
          0.14506382600829681,
          0.14506382600829681,
          0.14506382600829681,
          0.14506382600829681,
          0.14506382600829681,
          0.14506382600829681,
          0.14506382600829681,
          0.14506382600829681,
          0.14506382600829681,
          0.14506382600829681,
          0.14506382600829681,
          0.14506382600829681,
          0.14506382600829681,
          0.14506382600829681,
          0.14506382600829681,
          0.14506382600829681,
          0.1449782382944296,
          0.1449782382944296,
          0.1449782382944296,
          0.1449782382944296,
          0.1449782382944296,
          0.1449782382944296,
          0.1449782382944296,
          0.1449782382944296,
          0.1449782382944296,
          0.1449782382944296,
          0.1449782382944296,
          0.1449782382944296,
          0.1449782382944296,
          0.1449782382944296,
          0.1449782382944296,
          0.1449782382944296,
          0.1449782382944296,
          0.1449782382944296,
          0.1449782382944296,
          0.1449782382944296,
          0.1449782382944296
         ]
        },
        {
         "marker": {
          "color": "#cccccc"
         },
         "mode": "markers",
         "name": "Infeasible Trial",
         "showlegend": false,
         "type": "scatter",
         "x": [],
         "y": []
        }
       ],
       "layout": {
        "template": {
         "data": {
          "bar": [
           {
            "error_x": {
             "color": "#2a3f5f"
            },
            "error_y": {
             "color": "#2a3f5f"
            },
            "marker": {
             "line": {
              "color": "#E5ECF6",
              "width": 0.5
             },
             "pattern": {
              "fillmode": "overlay",
              "size": 10,
              "solidity": 0.2
             }
            },
            "type": "bar"
           }
          ],
          "barpolar": [
           {
            "marker": {
             "line": {
              "color": "#E5ECF6",
              "width": 0.5
             },
             "pattern": {
              "fillmode": "overlay",
              "size": 10,
              "solidity": 0.2
             }
            },
            "type": "barpolar"
           }
          ],
          "carpet": [
           {
            "aaxis": {
             "endlinecolor": "#2a3f5f",
             "gridcolor": "white",
             "linecolor": "white",
             "minorgridcolor": "white",
             "startlinecolor": "#2a3f5f"
            },
            "baxis": {
             "endlinecolor": "#2a3f5f",
             "gridcolor": "white",
             "linecolor": "white",
             "minorgridcolor": "white",
             "startlinecolor": "#2a3f5f"
            },
            "type": "carpet"
           }
          ],
          "choropleth": [
           {
            "colorbar": {
             "outlinewidth": 0,
             "ticks": ""
            },
            "type": "choropleth"
           }
          ],
          "contour": [
           {
            "colorbar": {
             "outlinewidth": 0,
             "ticks": ""
            },
            "colorscale": [
             [
              0,
              "#0d0887"
             ],
             [
              0.1111111111111111,
              "#46039f"
             ],
             [
              0.2222222222222222,
              "#7201a8"
             ],
             [
              0.3333333333333333,
              "#9c179e"
             ],
             [
              0.4444444444444444,
              "#bd3786"
             ],
             [
              0.5555555555555556,
              "#d8576b"
             ],
             [
              0.6666666666666666,
              "#ed7953"
             ],
             [
              0.7777777777777778,
              "#fb9f3a"
             ],
             [
              0.8888888888888888,
              "#fdca26"
             ],
             [
              1,
              "#f0f921"
             ]
            ],
            "type": "contour"
           }
          ],
          "contourcarpet": [
           {
            "colorbar": {
             "outlinewidth": 0,
             "ticks": ""
            },
            "type": "contourcarpet"
           }
          ],
          "heatmap": [
           {
            "colorbar": {
             "outlinewidth": 0,
             "ticks": ""
            },
            "colorscale": [
             [
              0,
              "#0d0887"
             ],
             [
              0.1111111111111111,
              "#46039f"
             ],
             [
              0.2222222222222222,
              "#7201a8"
             ],
             [
              0.3333333333333333,
              "#9c179e"
             ],
             [
              0.4444444444444444,
              "#bd3786"
             ],
             [
              0.5555555555555556,
              "#d8576b"
             ],
             [
              0.6666666666666666,
              "#ed7953"
             ],
             [
              0.7777777777777778,
              "#fb9f3a"
             ],
             [
              0.8888888888888888,
              "#fdca26"
             ],
             [
              1,
              "#f0f921"
             ]
            ],
            "type": "heatmap"
           }
          ],
          "histogram": [
           {
            "marker": {
             "pattern": {
              "fillmode": "overlay",
              "size": 10,
              "solidity": 0.2
             }
            },
            "type": "histogram"
           }
          ],
          "histogram2d": [
           {
            "colorbar": {
             "outlinewidth": 0,
             "ticks": ""
            },
            "colorscale": [
             [
              0,
              "#0d0887"
             ],
             [
              0.1111111111111111,
              "#46039f"
             ],
             [
              0.2222222222222222,
              "#7201a8"
             ],
             [
              0.3333333333333333,
              "#9c179e"
             ],
             [
              0.4444444444444444,
              "#bd3786"
             ],
             [
              0.5555555555555556,
              "#d8576b"
             ],
             [
              0.6666666666666666,
              "#ed7953"
             ],
             [
              0.7777777777777778,
              "#fb9f3a"
             ],
             [
              0.8888888888888888,
              "#fdca26"
             ],
             [
              1,
              "#f0f921"
             ]
            ],
            "type": "histogram2d"
           }
          ],
          "histogram2dcontour": [
           {
            "colorbar": {
             "outlinewidth": 0,
             "ticks": ""
            },
            "colorscale": [
             [
              0,
              "#0d0887"
             ],
             [
              0.1111111111111111,
              "#46039f"
             ],
             [
              0.2222222222222222,
              "#7201a8"
             ],
             [
              0.3333333333333333,
              "#9c179e"
             ],
             [
              0.4444444444444444,
              "#bd3786"
             ],
             [
              0.5555555555555556,
              "#d8576b"
             ],
             [
              0.6666666666666666,
              "#ed7953"
             ],
             [
              0.7777777777777778,
              "#fb9f3a"
             ],
             [
              0.8888888888888888,
              "#fdca26"
             ],
             [
              1,
              "#f0f921"
             ]
            ],
            "type": "histogram2dcontour"
           }
          ],
          "mesh3d": [
           {
            "colorbar": {
             "outlinewidth": 0,
             "ticks": ""
            },
            "type": "mesh3d"
           }
          ],
          "parcoords": [
           {
            "line": {
             "colorbar": {
              "outlinewidth": 0,
              "ticks": ""
             }
            },
            "type": "parcoords"
           }
          ],
          "pie": [
           {
            "automargin": true,
            "type": "pie"
           }
          ],
          "scatter": [
           {
            "fillpattern": {
             "fillmode": "overlay",
             "size": 10,
             "solidity": 0.2
            },
            "type": "scatter"
           }
          ],
          "scatter3d": [
           {
            "line": {
             "colorbar": {
              "outlinewidth": 0,
              "ticks": ""
             }
            },
            "marker": {
             "colorbar": {
              "outlinewidth": 0,
              "ticks": ""
             }
            },
            "type": "scatter3d"
           }
          ],
          "scattercarpet": [
           {
            "marker": {
             "colorbar": {
              "outlinewidth": 0,
              "ticks": ""
             }
            },
            "type": "scattercarpet"
           }
          ],
          "scattergeo": [
           {
            "marker": {
             "colorbar": {
              "outlinewidth": 0,
              "ticks": ""
             }
            },
            "type": "scattergeo"
           }
          ],
          "scattergl": [
           {
            "marker": {
             "colorbar": {
              "outlinewidth": 0,
              "ticks": ""
             }
            },
            "type": "scattergl"
           }
          ],
          "scattermap": [
           {
            "marker": {
             "colorbar": {
              "outlinewidth": 0,
              "ticks": ""
             }
            },
            "type": "scattermap"
           }
          ],
          "scattermapbox": [
           {
            "marker": {
             "colorbar": {
              "outlinewidth": 0,
              "ticks": ""
             }
            },
            "type": "scattermapbox"
           }
          ],
          "scatterpolar": [
           {
            "marker": {
             "colorbar": {
              "outlinewidth": 0,
              "ticks": ""
             }
            },
            "type": "scatterpolar"
           }
          ],
          "scatterpolargl": [
           {
            "marker": {
             "colorbar": {
              "outlinewidth": 0,
              "ticks": ""
             }
            },
            "type": "scatterpolargl"
           }
          ],
          "scatterternary": [
           {
            "marker": {
             "colorbar": {
              "outlinewidth": 0,
              "ticks": ""
             }
            },
            "type": "scatterternary"
           }
          ],
          "surface": [
           {
            "colorbar": {
             "outlinewidth": 0,
             "ticks": ""
            },
            "colorscale": [
             [
              0,
              "#0d0887"
             ],
             [
              0.1111111111111111,
              "#46039f"
             ],
             [
              0.2222222222222222,
              "#7201a8"
             ],
             [
              0.3333333333333333,
              "#9c179e"
             ],
             [
              0.4444444444444444,
              "#bd3786"
             ],
             [
              0.5555555555555556,
              "#d8576b"
             ],
             [
              0.6666666666666666,
              "#ed7953"
             ],
             [
              0.7777777777777778,
              "#fb9f3a"
             ],
             [
              0.8888888888888888,
              "#fdca26"
             ],
             [
              1,
              "#f0f921"
             ]
            ],
            "type": "surface"
           }
          ],
          "table": [
           {
            "cells": {
             "fill": {
              "color": "#EBF0F8"
             },
             "line": {
              "color": "white"
             }
            },
            "header": {
             "fill": {
              "color": "#C8D4E3"
             },
             "line": {
              "color": "white"
             }
            },
            "type": "table"
           }
          ]
         },
         "layout": {
          "annotationdefaults": {
           "arrowcolor": "#2a3f5f",
           "arrowhead": 0,
           "arrowwidth": 1
          },
          "autotypenumbers": "strict",
          "coloraxis": {
           "colorbar": {
            "outlinewidth": 0,
            "ticks": ""
           }
          },
          "colorscale": {
           "diverging": [
            [
             0,
             "#8e0152"
            ],
            [
             0.1,
             "#c51b7d"
            ],
            [
             0.2,
             "#de77ae"
            ],
            [
             0.3,
             "#f1b6da"
            ],
            [
             0.4,
             "#fde0ef"
            ],
            [
             0.5,
             "#f7f7f7"
            ],
            [
             0.6,
             "#e6f5d0"
            ],
            [
             0.7,
             "#b8e186"
            ],
            [
             0.8,
             "#7fbc41"
            ],
            [
             0.9,
             "#4d9221"
            ],
            [
             1,
             "#276419"
            ]
           ],
           "sequential": [
            [
             0,
             "#0d0887"
            ],
            [
             0.1111111111111111,
             "#46039f"
            ],
            [
             0.2222222222222222,
             "#7201a8"
            ],
            [
             0.3333333333333333,
             "#9c179e"
            ],
            [
             0.4444444444444444,
             "#bd3786"
            ],
            [
             0.5555555555555556,
             "#d8576b"
            ],
            [
             0.6666666666666666,
             "#ed7953"
            ],
            [
             0.7777777777777778,
             "#fb9f3a"
            ],
            [
             0.8888888888888888,
             "#fdca26"
            ],
            [
             1,
             "#f0f921"
            ]
           ],
           "sequentialminus": [
            [
             0,
             "#0d0887"
            ],
            [
             0.1111111111111111,
             "#46039f"
            ],
            [
             0.2222222222222222,
             "#7201a8"
            ],
            [
             0.3333333333333333,
             "#9c179e"
            ],
            [
             0.4444444444444444,
             "#bd3786"
            ],
            [
             0.5555555555555556,
             "#d8576b"
            ],
            [
             0.6666666666666666,
             "#ed7953"
            ],
            [
             0.7777777777777778,
             "#fb9f3a"
            ],
            [
             0.8888888888888888,
             "#fdca26"
            ],
            [
             1,
             "#f0f921"
            ]
           ]
          },
          "colorway": [
           "#636efa",
           "#EF553B",
           "#00cc96",
           "#ab63fa",
           "#FFA15A",
           "#19d3f3",
           "#FF6692",
           "#B6E880",
           "#FF97FF",
           "#FECB52"
          ],
          "font": {
           "color": "#2a3f5f"
          },
          "geo": {
           "bgcolor": "white",
           "lakecolor": "white",
           "landcolor": "#E5ECF6",
           "showlakes": true,
           "showland": true,
           "subunitcolor": "white"
          },
          "hoverlabel": {
           "align": "left"
          },
          "hovermode": "closest",
          "mapbox": {
           "style": "light"
          },
          "paper_bgcolor": "white",
          "plot_bgcolor": "#E5ECF6",
          "polar": {
           "angularaxis": {
            "gridcolor": "white",
            "linecolor": "white",
            "ticks": ""
           },
           "bgcolor": "#E5ECF6",
           "radialaxis": {
            "gridcolor": "white",
            "linecolor": "white",
            "ticks": ""
           }
          },
          "scene": {
           "xaxis": {
            "backgroundcolor": "#E5ECF6",
            "gridcolor": "white",
            "gridwidth": 2,
            "linecolor": "white",
            "showbackground": true,
            "ticks": "",
            "zerolinecolor": "white"
           },
           "yaxis": {
            "backgroundcolor": "#E5ECF6",
            "gridcolor": "white",
            "gridwidth": 2,
            "linecolor": "white",
            "showbackground": true,
            "ticks": "",
            "zerolinecolor": "white"
           },
           "zaxis": {
            "backgroundcolor": "#E5ECF6",
            "gridcolor": "white",
            "gridwidth": 2,
            "linecolor": "white",
            "showbackground": true,
            "ticks": "",
            "zerolinecolor": "white"
           }
          },
          "shapedefaults": {
           "line": {
            "color": "#2a3f5f"
           }
          },
          "ternary": {
           "aaxis": {
            "gridcolor": "white",
            "linecolor": "white",
            "ticks": ""
           },
           "baxis": {
            "gridcolor": "white",
            "linecolor": "white",
            "ticks": ""
           },
           "bgcolor": "#E5ECF6",
           "caxis": {
            "gridcolor": "white",
            "linecolor": "white",
            "ticks": ""
           }
          },
          "title": {
           "x": 0.05
          },
          "xaxis": {
           "automargin": true,
           "gridcolor": "white",
           "linecolor": "white",
           "ticks": "",
           "title": {
            "standoff": 15
           },
           "zerolinecolor": "white",
           "zerolinewidth": 2
          },
          "yaxis": {
           "automargin": true,
           "gridcolor": "white",
           "linecolor": "white",
           "ticks": "",
           "title": {
            "standoff": 15
           },
           "zerolinecolor": "white",
           "zerolinewidth": 2
          }
         }
        },
        "title": {
         "text": "Optimization History Plot"
        },
        "xaxis": {
         "title": {
          "text": "Trial"
         }
        },
        "yaxis": {
         "title": {
          "text": "Objective Value"
         }
        }
       }
      },
      "text/html": [
       "<div>                        <script type=\"text/javascript\">window.PlotlyConfig = {MathJaxConfig: 'local'};</script>\n",
       "        <script charset=\"utf-8\" src=\"https://cdn.plot.ly/plotly-3.0.1.min.js\"></script>                <div id=\"a7f9d2df-8e4c-4914-9bc2-6d08cb7da2fb\" class=\"plotly-graph-div\" style=\"height:100%; width:100%;\"></div>            <script type=\"text/javascript\">                window.PLOTLYENV=window.PLOTLYENV || {};                                if (document.getElementById(\"a7f9d2df-8e4c-4914-9bc2-6d08cb7da2fb\")) {                    Plotly.newPlot(                        \"a7f9d2df-8e4c-4914-9bc2-6d08cb7da2fb\",                        [{\"mode\":\"markers\",\"name\":\"Objective Value\",\"x\":[0,1,2,3,4,5,6,7,8,9,10,11,12,13,14,15,16,17,18,19,20,21,22,23,24,25,26,27,28,29,30,31,32,33,34,35,36,37,38,39,40,41,42,43,44,45,46,47,48,49,50,51,52,53,54,55,56,57,58,59,60,61,62,63,64,65,66,67,68,69,70,71,72,73,74,75,76,77,78,79,80,81,82,83,84,85,86,87,88,89,90,91,92,93,94,95,96,97,98,99,100,101,102,103,104,105,106,107,108,109,110,111,112,113,114,115,116,117,118,119,120,121,122,123,124,125,126,127,128,129,130,131,132,133,134,135,136,137,138,139,140,141,142,143,144,145,146,147,148,149,150,151,152,153,154,155,156,157,158,159,160,161,162,163,164,165,166,167,168,169,170,171,172,173,174,175,176,177,178,179,180,181,182,183,184,185,186,187,188,189,190,191,192,193,194,195,196,197,198,199,200,201,202,203,204,205,206,207,208,209,210,211,212,213,214,215,216,217,218,219,220,221,222,223,224,225,226,227,228,229,230,231,232,233,234,235,236,237,238,239,240,241,242,243,244,245,246,247,248,249,250,251,252,253,254,255,256,257,258,259,260,261,262,263,264,265,266,267,268,269,270,271,272,273,274,275,276,277,278,279,280,281,282,283,284,285,286,287,288,289,290,291,292,293,294,295,296,297,298,299],\"y\":[0.18531455018659326,0.17008710246274594,0.17369149372426396,0.15537347661972953,0.15170466022485488,0.15985520206585285,0.14996589425967227,0.17264403678409485,0.15679976170610155,0.15687284868243725,0.1635228915147943,0.17955360191225783,0.16928906324367518,0.15367900857365624,0.19698824044025492,0.16679572390132325,0.17846146143897096,0.15123184481617066,0.15169047165424301,0.1529843740949211,0.14891652859780777,0.1491088466762143,0.14944071094123215,0.17254235127079187,0.1492301337082959,0.14765024358474543,0.14841127248917155,0.1501051705078864,0.1491258597147855,0.14954872503578245,0.14819440836465445,0.1509462352500892,0.15008959698675609,0.1521608939772381,0.1578888559265316,0.15790085935100634,0.15877300842895353,0.1556340549234027,0.1563350984078828,0.1555814792540037,0.15756908540196096,0.15308250118931038,0.18861630083087402,0.22174816602179673,0.235127676291773,0.17421189394054176,0.17609457230613235,0.2311111328575909,0.15175203548709043,0.14865510739583063,0.1505715000009768,0.15213548097296686,0.15028897450105244,0.1474837066974025,0.15084132314711635,0.1479833993017983,0.15019589028149669,0.15065561553790435,0.15056871070190858,0.15021025450033598,0.15086485968814656,0.1516441165413998,0.1506689256167009,0.1499356420651978,0.1530881133525605,0.15219895181730653,0.15357922519012987,0.1515489057805935,0.15146554024273579,0.15102719800058598,0.15075528015770717,0.15080912722467826,0.150035514353467,0.1517878516401625,0.1496810394616594,0.16265723578075833,0.16218756914629612,0.1618248044668869,0.15982246232253916,0.1589216771432026,0.1483067214562827,0.15033661796466696,0.14867457092412809,0.15000374183804366,0.15067430640316956,0.14969234287626204,0.14879766166932754,0.1501009758555902,0.14978570089465504,0.14789859935318153,0.1495376927657632,0.14881567156076478,0.15109910550343397,0.14834967888503528,0.1473308299112255,0.14695316905009614,0.14942625152599442,0.1537276220549671,0.15222646319583147,0.15253359930661772,0.1495478469483105,0.15445726110456798,0.1509721177933855,0.1496854994155715,0.15164529797984375,0.15206809377094754,0.1500380436366836,0.14969777122275932,0.1517645397047849,0.1508377184303996,0.1590300684360322,0.15037690090743963,0.14996929846525744,0.16610123863922,0.1897342033232725,0.17086576272842338,0.1692887690391071,0.16979537100382985,0.1601209492598296,0.15188268297430527,0.14845208180263772,0.152268175678491,0.1498647228528556,0.15399171349004545,0.1534106785878042,0.151498588740279,0.14836281382844424,0.14653809688108746,0.1554608198654288,0.1538412647827647,0.14940705742195973,0.15507577700315242,0.1566963802089065,0.14898965444303439,0.1481233391991934,0.14950465751912068,0.14692620665070694,0.15139735361566076,0.15036990503284178,0.14920114972531043,0.1488043856177274,0.1509779590594274,0.14917991447765716,0.1496591879586939,0.15032881907805498,0.1508880912143961,0.1504324605994562,0.14506382600829681,0.14884924285500975,0.14961891314530756,0.15801496214118974,0.15502018438059628,0.15595226816815608,0.14735589110587752,0.15677642417529586,0.1535342970014148,0.15743287423019378,0.14606359202763058,0.14770997732188695,0.14709948712085205,0.14740207246483356,0.14869367816132248,0.14832427864410982,0.14831500395653377,0.1490632368032514,0.15151428329631927,0.14549536079809208,0.14999357741627503,0.1485565430206406,0.15259810577937943,0.14842864854948848,0.1493197371064859,0.14834040704669277,0.1508604491230959,0.14997458623363472,0.14910717509826346,0.1473812985340171,0.14812432058816283,0.14706558191154354,0.1504670327101905,0.14637126122208868,0.1505233913007577,0.1476601142044367,0.14994892171596705,0.14860103912328068,0.14864482770331114,0.14994027785158917,0.14889785967141178,0.15113127977505794,0.14920914276018132,0.1517477851752282,0.14901920717334766,0.14853543208577263,0.1492468081721857,0.14791479970167062,0.14829748870649584,0.14843634729154856,0.16312109045726428,0.14925497870280915,0.14933432102400734,0.14671774885361463,0.15765960605449084,0.15082040875541594,0.1613247841637189,0.153821603457488,0.14838290074038835,0.1488836800835103,0.1484041576078766,0.14851450235697103,0.14689472039332302,0.14745619496979498,0.14882839926868757,0.14844737939077465,0.14815231837281947,0.15028686948130876,0.1471193559596479,0.14863784789140874,0.14698064929272056,0.14880398080908766,0.14672611140348588,0.1493084405647399,0.14846677573767136,0.14785379753046146,0.14670961885921,0.14788435268313826,0.14839608675983568,0.14728215504555597,0.1491015890181829,0.14744302912341584,0.15168336231627635,0.14859904125577578,0.14814344623450185,0.1508381811827905,0.14953935725700235,0.15050113872123144,0.15040449569891684,0.1512235432932215,0.1481723418076867,0.1497078385882564,0.14747738637862035,0.15380527545344616,0.14851354253660948,0.1471160994847637,0.14862215901572012,0.14875579931066477,0.1550898773188892,0.1470680158452434,0.14770783248307467,0.14823285961200136,0.14812372974172164,0.1492049592905414,0.14621053042452833,0.1509614636523182,0.14717537758056617,0.1528970006281084,0.1500826816044271,0.15020719434747234,0.14854087652362,0.1459436692064531,0.14998737810730056,0.1480924631336201,0.1470080514188279,0.14755365692809827,0.14622546736535108,0.14971088337301858,0.1466717009208987,0.1485687337943726,0.14739627555617835,0.14772055532968048,0.14667814002773868,0.1483992572730064,0.14725387323457215,0.14927606816669972,0.1484137542690746,0.15042186609736127,0.14925742484100996,0.1478965792833934,0.1489626838986894,0.1492481098667245,0.1449782382944296,0.14848511020088745,0.14642037223852344,0.14898370210260883,0.14795553258735253,0.146457273037445,0.1489743749935681,0.15101332681419674,0.1503761642235823,0.1488061842454903,0.14761308905527568,0.15513816811859163,0.16241754485591997,0.1569949524745952,0.1601182561072822,0.1492944566864358,0.161587351744572,0.15673668556359624,0.14959768284949676,0.14876190907045747,0.14968377792442544],\"type\":\"scatter\"},{\"mode\":\"lines\",\"name\":\"Best Value\",\"x\":[0,1,2,3,4,5,6,7,8,9,10,11,12,13,14,15,16,17,18,19,20,21,22,23,24,25,26,27,28,29,30,31,32,33,34,35,36,37,38,39,40,41,42,43,44,45,46,47,48,49,50,51,52,53,54,55,56,57,58,59,60,61,62,63,64,65,66,67,68,69,70,71,72,73,74,75,76,77,78,79,80,81,82,83,84,85,86,87,88,89,90,91,92,93,94,95,96,97,98,99,100,101,102,103,104,105,106,107,108,109,110,111,112,113,114,115,116,117,118,119,120,121,122,123,124,125,126,127,128,129,130,131,132,133,134,135,136,137,138,139,140,141,142,143,144,145,146,147,148,149,150,151,152,153,154,155,156,157,158,159,160,161,162,163,164,165,166,167,168,169,170,171,172,173,174,175,176,177,178,179,180,181,182,183,184,185,186,187,188,189,190,191,192,193,194,195,196,197,198,199,200,201,202,203,204,205,206,207,208,209,210,211,212,213,214,215,216,217,218,219,220,221,222,223,224,225,226,227,228,229,230,231,232,233,234,235,236,237,238,239,240,241,242,243,244,245,246,247,248,249,250,251,252,253,254,255,256,257,258,259,260,261,262,263,264,265,266,267,268,269,270,271,272,273,274,275,276,277,278,279,280,281,282,283,284,285,286,287,288,289,290,291,292,293,294,295,296,297,298,299],\"y\":[0.18531455018659326,0.17008710246274594,0.17008710246274594,0.15537347661972953,0.15170466022485488,0.15170466022485488,0.14996589425967227,0.14996589425967227,0.14996589425967227,0.14996589425967227,0.14996589425967227,0.14996589425967227,0.14996589425967227,0.14996589425967227,0.14996589425967227,0.14996589425967227,0.14996589425967227,0.14996589425967227,0.14996589425967227,0.14996589425967227,0.14891652859780777,0.14891652859780777,0.14891652859780777,0.14891652859780777,0.14891652859780777,0.14765024358474543,0.14765024358474543,0.14765024358474543,0.14765024358474543,0.14765024358474543,0.14765024358474543,0.14765024358474543,0.14765024358474543,0.14765024358474543,0.14765024358474543,0.14765024358474543,0.14765024358474543,0.14765024358474543,0.14765024358474543,0.14765024358474543,0.14765024358474543,0.14765024358474543,0.14765024358474543,0.14765024358474543,0.14765024358474543,0.14765024358474543,0.14765024358474543,0.14765024358474543,0.14765024358474543,0.14765024358474543,0.14765024358474543,0.14765024358474543,0.14765024358474543,0.1474837066974025,0.1474837066974025,0.1474837066974025,0.1474837066974025,0.1474837066974025,0.1474837066974025,0.1474837066974025,0.1474837066974025,0.1474837066974025,0.1474837066974025,0.1474837066974025,0.1474837066974025,0.1474837066974025,0.1474837066974025,0.1474837066974025,0.1474837066974025,0.1474837066974025,0.1474837066974025,0.1474837066974025,0.1474837066974025,0.1474837066974025,0.1474837066974025,0.1474837066974025,0.1474837066974025,0.1474837066974025,0.1474837066974025,0.1474837066974025,0.1474837066974025,0.1474837066974025,0.1474837066974025,0.1474837066974025,0.1474837066974025,0.1474837066974025,0.1474837066974025,0.1474837066974025,0.1474837066974025,0.1474837066974025,0.1474837066974025,0.1474837066974025,0.1474837066974025,0.1474837066974025,0.1473308299112255,0.14695316905009614,0.14695316905009614,0.14695316905009614,0.14695316905009614,0.14695316905009614,0.14695316905009614,0.14695316905009614,0.14695316905009614,0.14695316905009614,0.14695316905009614,0.14695316905009614,0.14695316905009614,0.14695316905009614,0.14695316905009614,0.14695316905009614,0.14695316905009614,0.14695316905009614,0.14695316905009614,0.14695316905009614,0.14695316905009614,0.14695316905009614,0.14695316905009614,0.14695316905009614,0.14695316905009614,0.14695316905009614,0.14695316905009614,0.14695316905009614,0.14695316905009614,0.14695316905009614,0.14695316905009614,0.14695316905009614,0.14695316905009614,0.14653809688108746,0.14653809688108746,0.14653809688108746,0.14653809688108746,0.14653809688108746,0.14653809688108746,0.14653809688108746,0.14653809688108746,0.14653809688108746,0.14653809688108746,0.14653809688108746,0.14653809688108746,0.14653809688108746,0.14653809688108746,0.14653809688108746,0.14653809688108746,0.14653809688108746,0.14653809688108746,0.14653809688108746,0.14653809688108746,0.14506382600829681,0.14506382600829681,0.14506382600829681,0.14506382600829681,0.14506382600829681,0.14506382600829681,0.14506382600829681,0.14506382600829681,0.14506382600829681,0.14506382600829681,0.14506382600829681,0.14506382600829681,0.14506382600829681,0.14506382600829681,0.14506382600829681,0.14506382600829681,0.14506382600829681,0.14506382600829681,0.14506382600829681,0.14506382600829681,0.14506382600829681,0.14506382600829681,0.14506382600829681,0.14506382600829681,0.14506382600829681,0.14506382600829681,0.14506382600829681,0.14506382600829681,0.14506382600829681,0.14506382600829681,0.14506382600829681,0.14506382600829681,0.14506382600829681,0.14506382600829681,0.14506382600829681,0.14506382600829681,0.14506382600829681,0.14506382600829681,0.14506382600829681,0.14506382600829681,0.14506382600829681,0.14506382600829681,0.14506382600829681,0.14506382600829681,0.14506382600829681,0.14506382600829681,0.14506382600829681,0.14506382600829681,0.14506382600829681,0.14506382600829681,0.14506382600829681,0.14506382600829681,0.14506382600829681,0.14506382600829681,0.14506382600829681,0.14506382600829681,0.14506382600829681,0.14506382600829681,0.14506382600829681,0.14506382600829681,0.14506382600829681,0.14506382600829681,0.14506382600829681,0.14506382600829681,0.14506382600829681,0.14506382600829681,0.14506382600829681,0.14506382600829681,0.14506382600829681,0.14506382600829681,0.14506382600829681,0.14506382600829681,0.14506382600829681,0.14506382600829681,0.14506382600829681,0.14506382600829681,0.14506382600829681,0.14506382600829681,0.14506382600829681,0.14506382600829681,0.14506382600829681,0.14506382600829681,0.14506382600829681,0.14506382600829681,0.14506382600829681,0.14506382600829681,0.14506382600829681,0.14506382600829681,0.14506382600829681,0.14506382600829681,0.14506382600829681,0.14506382600829681,0.14506382600829681,0.14506382600829681,0.14506382600829681,0.14506382600829681,0.14506382600829681,0.14506382600829681,0.14506382600829681,0.14506382600829681,0.14506382600829681,0.14506382600829681,0.14506382600829681,0.14506382600829681,0.14506382600829681,0.14506382600829681,0.14506382600829681,0.14506382600829681,0.14506382600829681,0.14506382600829681,0.14506382600829681,0.14506382600829681,0.14506382600829681,0.14506382600829681,0.14506382600829681,0.14506382600829681,0.14506382600829681,0.14506382600829681,0.14506382600829681,0.14506382600829681,0.14506382600829681,0.14506382600829681,0.14506382600829681,0.14506382600829681,0.14506382600829681,0.14506382600829681,0.14506382600829681,0.14506382600829681,0.14506382600829681,0.14506382600829681,0.14506382600829681,0.14506382600829681,0.1449782382944296,0.1449782382944296,0.1449782382944296,0.1449782382944296,0.1449782382944296,0.1449782382944296,0.1449782382944296,0.1449782382944296,0.1449782382944296,0.1449782382944296,0.1449782382944296,0.1449782382944296,0.1449782382944296,0.1449782382944296,0.1449782382944296,0.1449782382944296,0.1449782382944296,0.1449782382944296,0.1449782382944296,0.1449782382944296,0.1449782382944296],\"type\":\"scatter\"},{\"marker\":{\"color\":\"#cccccc\"},\"mode\":\"markers\",\"name\":\"Infeasible Trial\",\"showlegend\":false,\"x\":[],\"y\":[],\"type\":\"scatter\"}],                        {\"title\":{\"text\":\"Optimization History Plot\"},\"xaxis\":{\"title\":{\"text\":\"Trial\"}},\"yaxis\":{\"title\":{\"text\":\"Objective Value\"}},\"template\":{\"data\":{\"histogram2dcontour\":[{\"type\":\"histogram2dcontour\",\"colorbar\":{\"outlinewidth\":0,\"ticks\":\"\"},\"colorscale\":[[0.0,\"#0d0887\"],[0.1111111111111111,\"#46039f\"],[0.2222222222222222,\"#7201a8\"],[0.3333333333333333,\"#9c179e\"],[0.4444444444444444,\"#bd3786\"],[0.5555555555555556,\"#d8576b\"],[0.6666666666666666,\"#ed7953\"],[0.7777777777777778,\"#fb9f3a\"],[0.8888888888888888,\"#fdca26\"],[1.0,\"#f0f921\"]]}],\"choropleth\":[{\"type\":\"choropleth\",\"colorbar\":{\"outlinewidth\":0,\"ticks\":\"\"}}],\"histogram2d\":[{\"type\":\"histogram2d\",\"colorbar\":{\"outlinewidth\":0,\"ticks\":\"\"},\"colorscale\":[[0.0,\"#0d0887\"],[0.1111111111111111,\"#46039f\"],[0.2222222222222222,\"#7201a8\"],[0.3333333333333333,\"#9c179e\"],[0.4444444444444444,\"#bd3786\"],[0.5555555555555556,\"#d8576b\"],[0.6666666666666666,\"#ed7953\"],[0.7777777777777778,\"#fb9f3a\"],[0.8888888888888888,\"#fdca26\"],[1.0,\"#f0f921\"]]}],\"heatmap\":[{\"type\":\"heatmap\",\"colorbar\":{\"outlinewidth\":0,\"ticks\":\"\"},\"colorscale\":[[0.0,\"#0d0887\"],[0.1111111111111111,\"#46039f\"],[0.2222222222222222,\"#7201a8\"],[0.3333333333333333,\"#9c179e\"],[0.4444444444444444,\"#bd3786\"],[0.5555555555555556,\"#d8576b\"],[0.6666666666666666,\"#ed7953\"],[0.7777777777777778,\"#fb9f3a\"],[0.8888888888888888,\"#fdca26\"],[1.0,\"#f0f921\"]]}],\"contourcarpet\":[{\"type\":\"contourcarpet\",\"colorbar\":{\"outlinewidth\":0,\"ticks\":\"\"}}],\"contour\":[{\"type\":\"contour\",\"colorbar\":{\"outlinewidth\":0,\"ticks\":\"\"},\"colorscale\":[[0.0,\"#0d0887\"],[0.1111111111111111,\"#46039f\"],[0.2222222222222222,\"#7201a8\"],[0.3333333333333333,\"#9c179e\"],[0.4444444444444444,\"#bd3786\"],[0.5555555555555556,\"#d8576b\"],[0.6666666666666666,\"#ed7953\"],[0.7777777777777778,\"#fb9f3a\"],[0.8888888888888888,\"#fdca26\"],[1.0,\"#f0f921\"]]}],\"surface\":[{\"type\":\"surface\",\"colorbar\":{\"outlinewidth\":0,\"ticks\":\"\"},\"colorscale\":[[0.0,\"#0d0887\"],[0.1111111111111111,\"#46039f\"],[0.2222222222222222,\"#7201a8\"],[0.3333333333333333,\"#9c179e\"],[0.4444444444444444,\"#bd3786\"],[0.5555555555555556,\"#d8576b\"],[0.6666666666666666,\"#ed7953\"],[0.7777777777777778,\"#fb9f3a\"],[0.8888888888888888,\"#fdca26\"],[1.0,\"#f0f921\"]]}],\"mesh3d\":[{\"type\":\"mesh3d\",\"colorbar\":{\"outlinewidth\":0,\"ticks\":\"\"}}],\"scatter\":[{\"fillpattern\":{\"fillmode\":\"overlay\",\"size\":10,\"solidity\":0.2},\"type\":\"scatter\"}],\"parcoords\":[{\"type\":\"parcoords\",\"line\":{\"colorbar\":{\"outlinewidth\":0,\"ticks\":\"\"}}}],\"scatterpolargl\":[{\"type\":\"scatterpolargl\",\"marker\":{\"colorbar\":{\"outlinewidth\":0,\"ticks\":\"\"}}}],\"bar\":[{\"error_x\":{\"color\":\"#2a3f5f\"},\"error_y\":{\"color\":\"#2a3f5f\"},\"marker\":{\"line\":{\"color\":\"#E5ECF6\",\"width\":0.5},\"pattern\":{\"fillmode\":\"overlay\",\"size\":10,\"solidity\":0.2}},\"type\":\"bar\"}],\"scattergeo\":[{\"type\":\"scattergeo\",\"marker\":{\"colorbar\":{\"outlinewidth\":0,\"ticks\":\"\"}}}],\"scatterpolar\":[{\"type\":\"scatterpolar\",\"marker\":{\"colorbar\":{\"outlinewidth\":0,\"ticks\":\"\"}}}],\"histogram\":[{\"marker\":{\"pattern\":{\"fillmode\":\"overlay\",\"size\":10,\"solidity\":0.2}},\"type\":\"histogram\"}],\"scattergl\":[{\"type\":\"scattergl\",\"marker\":{\"colorbar\":{\"outlinewidth\":0,\"ticks\":\"\"}}}],\"scatter3d\":[{\"type\":\"scatter3d\",\"line\":{\"colorbar\":{\"outlinewidth\":0,\"ticks\":\"\"}},\"marker\":{\"colorbar\":{\"outlinewidth\":0,\"ticks\":\"\"}}}],\"scattermap\":[{\"type\":\"scattermap\",\"marker\":{\"colorbar\":{\"outlinewidth\":0,\"ticks\":\"\"}}}],\"scattermapbox\":[{\"type\":\"scattermapbox\",\"marker\":{\"colorbar\":{\"outlinewidth\":0,\"ticks\":\"\"}}}],\"scatterternary\":[{\"type\":\"scatterternary\",\"marker\":{\"colorbar\":{\"outlinewidth\":0,\"ticks\":\"\"}}}],\"scattercarpet\":[{\"type\":\"scattercarpet\",\"marker\":{\"colorbar\":{\"outlinewidth\":0,\"ticks\":\"\"}}}],\"carpet\":[{\"aaxis\":{\"endlinecolor\":\"#2a3f5f\",\"gridcolor\":\"white\",\"linecolor\":\"white\",\"minorgridcolor\":\"white\",\"startlinecolor\":\"#2a3f5f\"},\"baxis\":{\"endlinecolor\":\"#2a3f5f\",\"gridcolor\":\"white\",\"linecolor\":\"white\",\"minorgridcolor\":\"white\",\"startlinecolor\":\"#2a3f5f\"},\"type\":\"carpet\"}],\"table\":[{\"cells\":{\"fill\":{\"color\":\"#EBF0F8\"},\"line\":{\"color\":\"white\"}},\"header\":{\"fill\":{\"color\":\"#C8D4E3\"},\"line\":{\"color\":\"white\"}},\"type\":\"table\"}],\"barpolar\":[{\"marker\":{\"line\":{\"color\":\"#E5ECF6\",\"width\":0.5},\"pattern\":{\"fillmode\":\"overlay\",\"size\":10,\"solidity\":0.2}},\"type\":\"barpolar\"}],\"pie\":[{\"automargin\":true,\"type\":\"pie\"}]},\"layout\":{\"autotypenumbers\":\"strict\",\"colorway\":[\"#636efa\",\"#EF553B\",\"#00cc96\",\"#ab63fa\",\"#FFA15A\",\"#19d3f3\",\"#FF6692\",\"#B6E880\",\"#FF97FF\",\"#FECB52\"],\"font\":{\"color\":\"#2a3f5f\"},\"hovermode\":\"closest\",\"hoverlabel\":{\"align\":\"left\"},\"paper_bgcolor\":\"white\",\"plot_bgcolor\":\"#E5ECF6\",\"polar\":{\"bgcolor\":\"#E5ECF6\",\"angularaxis\":{\"gridcolor\":\"white\",\"linecolor\":\"white\",\"ticks\":\"\"},\"radialaxis\":{\"gridcolor\":\"white\",\"linecolor\":\"white\",\"ticks\":\"\"}},\"ternary\":{\"bgcolor\":\"#E5ECF6\",\"aaxis\":{\"gridcolor\":\"white\",\"linecolor\":\"white\",\"ticks\":\"\"},\"baxis\":{\"gridcolor\":\"white\",\"linecolor\":\"white\",\"ticks\":\"\"},\"caxis\":{\"gridcolor\":\"white\",\"linecolor\":\"white\",\"ticks\":\"\"}},\"coloraxis\":{\"colorbar\":{\"outlinewidth\":0,\"ticks\":\"\"}},\"colorscale\":{\"sequential\":[[0.0,\"#0d0887\"],[0.1111111111111111,\"#46039f\"],[0.2222222222222222,\"#7201a8\"],[0.3333333333333333,\"#9c179e\"],[0.4444444444444444,\"#bd3786\"],[0.5555555555555556,\"#d8576b\"],[0.6666666666666666,\"#ed7953\"],[0.7777777777777778,\"#fb9f3a\"],[0.8888888888888888,\"#fdca26\"],[1.0,\"#f0f921\"]],\"sequentialminus\":[[0.0,\"#0d0887\"],[0.1111111111111111,\"#46039f\"],[0.2222222222222222,\"#7201a8\"],[0.3333333333333333,\"#9c179e\"],[0.4444444444444444,\"#bd3786\"],[0.5555555555555556,\"#d8576b\"],[0.6666666666666666,\"#ed7953\"],[0.7777777777777778,\"#fb9f3a\"],[0.8888888888888888,\"#fdca26\"],[1.0,\"#f0f921\"]],\"diverging\":[[0,\"#8e0152\"],[0.1,\"#c51b7d\"],[0.2,\"#de77ae\"],[0.3,\"#f1b6da\"],[0.4,\"#fde0ef\"],[0.5,\"#f7f7f7\"],[0.6,\"#e6f5d0\"],[0.7,\"#b8e186\"],[0.8,\"#7fbc41\"],[0.9,\"#4d9221\"],[1,\"#276419\"]]},\"xaxis\":{\"gridcolor\":\"white\",\"linecolor\":\"white\",\"ticks\":\"\",\"title\":{\"standoff\":15},\"zerolinecolor\":\"white\",\"automargin\":true,\"zerolinewidth\":2},\"yaxis\":{\"gridcolor\":\"white\",\"linecolor\":\"white\",\"ticks\":\"\",\"title\":{\"standoff\":15},\"zerolinecolor\":\"white\",\"automargin\":true,\"zerolinewidth\":2},\"scene\":{\"xaxis\":{\"backgroundcolor\":\"#E5ECF6\",\"gridcolor\":\"white\",\"linecolor\":\"white\",\"showbackground\":true,\"ticks\":\"\",\"zerolinecolor\":\"white\",\"gridwidth\":2},\"yaxis\":{\"backgroundcolor\":\"#E5ECF6\",\"gridcolor\":\"white\",\"linecolor\":\"white\",\"showbackground\":true,\"ticks\":\"\",\"zerolinecolor\":\"white\",\"gridwidth\":2},\"zaxis\":{\"backgroundcolor\":\"#E5ECF6\",\"gridcolor\":\"white\",\"linecolor\":\"white\",\"showbackground\":true,\"ticks\":\"\",\"zerolinecolor\":\"white\",\"gridwidth\":2}},\"shapedefaults\":{\"line\":{\"color\":\"#2a3f5f\"}},\"annotationdefaults\":{\"arrowcolor\":\"#2a3f5f\",\"arrowhead\":0,\"arrowwidth\":1},\"geo\":{\"bgcolor\":\"white\",\"landcolor\":\"#E5ECF6\",\"subunitcolor\":\"white\",\"showland\":true,\"showlakes\":true,\"lakecolor\":\"white\"},\"title\":{\"x\":0.05},\"mapbox\":{\"style\":\"light\"}}}},                        {\"responsive\": true}                    )                };            </script>        </div>"
      ],
      "text/plain": [
       "Figure({\n",
       "    'data': [{'mode': 'markers',\n",
       "              'name': 'Objective Value',\n",
       "              'type': 'scatter',\n",
       "              'x': [0, 1, 2, ..., 297, 298, 299],\n",
       "              'y': [0.18531455018659326, 0.17008710246274594, 0.17369149372426396,\n",
       "                    ..., 0.14959768284949676, 0.14876190907045747,\n",
       "                    0.14968377792442544]},\n",
       "             {'mode': 'lines',\n",
       "              'name': 'Best Value',\n",
       "              'type': 'scatter',\n",
       "              'x': [0, 1, 2, ..., 297, 298, 299],\n",
       "              'y': [0.18531455018659326, 0.17008710246274594, 0.17008710246274594,\n",
       "                    ..., 0.1449782382944296, 0.1449782382944296,\n",
       "                    0.1449782382944296]},\n",
       "             {'marker': {'color': '#cccccc'},\n",
       "              'mode': 'markers',\n",
       "              'name': 'Infeasible Trial',\n",
       "              'showlegend': False,\n",
       "              'type': 'scatter',\n",
       "              'x': [],\n",
       "              'y': []}],\n",
       "    'layout': {'template': '...',\n",
       "               'title': {'text': 'Optimization History Plot'},\n",
       "               'xaxis': {'title': {'text': 'Trial'}},\n",
       "               'yaxis': {'title': {'text': 'Objective Value'}}}\n",
       "})"
      ]
     },
     "execution_count": 42,
     "metadata": {},
     "output_type": "execute_result"
    }
   ],
   "source": [
    "optuna.visualization.plot_optimization_history(study)"
   ]
  },
  {
   "cell_type": "code",
   "execution_count": 43,
   "id": "d554b15e",
   "metadata": {},
   "outputs": [
    {
     "name": "stdout",
     "output_type": "stream",
     "text": [
      "Best RFR\n",
      "  RMSE: 0.139\n",
      "  R2: 0.8683\n"
     ]
    }
   ],
   "source": [
    "X_train, X_val, y_train, y_val = train_test_split(X, y, test_size=0.2)\n",
    "\n",
    "best_params = study.best_params\n",
    "\n",
    "best_rfr = RandomForestRegressor(**best_params, n_jobs=-1)\n",
    "best_rfr.fit(X_train, y_train)\n",
    "y_pred = best_rfr.predict(X_val)\n",
    "\n",
    "rmse = root_mean_squared_error(y_val, y_pred)\n",
    "r2 = r2_score(y_val, y_pred)\n",
    "\n",
    "print('Best RFR')\n",
    "print(f'  RMSE: {round(rmse, 4)}')\n",
    "print(f'  R2: {round(r2, 4)}')"
   ]
  },
  {
   "cell_type": "code",
   "execution_count": 44,
   "id": "5b9950ea",
   "metadata": {},
   "outputs": [
    {
     "data": {
      "image/png": "[encoded data removed]",
      "text/plain": [
       "<Figure size 640x480 with 1 Axes>"
      ]
     },
     "metadata": {},
     "output_type": "display_data"
    }
   ],
   "source": [
    "sns.regplot(x=y_val, y=y_pred, scatter_kws={'s': 20, 'alpha': 0.3}, line_kws={'color': 'green', 'lw': 1, 'alpha': 0.8})\n",
    "plt.title(f\"Random Forest Regr. \")\n",
    "plt.show()"
   ]
  },
  {
   "cell_type": "code",
   "execution_count": 21,
   "id": "83e35894",
   "metadata": {},
   "outputs": [
    {
     "data": {
      "image/png": "[encoded data removed]",
      "text/plain": [
       "<Figure size 640x480 with 1 Axes>"
      ]
     },
     "metadata": {},
     "output_type": "display_data"
    }
   ],
   "source": [
    "from utils import plot_learning_curve\n",
    "\n",
    "X_train, X_val, y_train, y_val = train_test_split(X, y, test_size=0.2, random_state=1)\n",
    "\n",
    "val_rfr = RandomForestRegressor(**study.best_params, n_jobs=-1, random_state=2)\n",
    "\n",
    "plot_learning_curve(val_rfr, X_train, y_train, title=\"Learning Curve: Random Forest Regr.\")\n",
    "plt.savefig(os.path.join(IMAGE_PATH, '0203_rfr_learning_curve.png'))\n",
    "plt.show()"
   ]
  },
  {
   "cell_type": "code",
   "execution_count": 22,
   "id": "e40217ea",
   "metadata": {},
   "outputs": [],
   "source": [
    "metrics = {\n",
    "    'model': 'RFR',\n",
    "    'params': f'{study.best_params}',\n",
    "    'RMSE': round(rmse, 4),\n",
    "    'R2': round(r2, 4)\n",
    "}\n",
    "\n",
    "metrics = pd.DataFrame(metrics, index=[0])\n",
    "\n",
    "ridge_metrics = pd.read_csv(os.path.join(METRICS_PATH, '0100_metrics.csv'), index_col=0)\n",
    "\n",
    "metrics = pd.concat([ridge_metrics, metrics])\n",
    "\n",
    "metrics.to_csv(os.path.join(METRICS_PATH, '0200_metrics.csv'))"
   ]
  },
  {
   "cell_type": "code",
   "execution_count": 23,
   "id": "5d3d9aa9",
   "metadata": {},
   "outputs": [],
   "source": [
    "data.to_csv(os.path.join(RAW_PATH, '0200_data.csv'))"
   ]
  },
  {
   "cell_type": "code",
   "execution_count": 24,
   "id": "38a0069e",
   "metadata": {},
   "outputs": [
    {
     "data": {
      "text/plain": [
       "['/Users/automatedtomato/github.com/automatedtomato/kaggle-house-prices/models/0200_rf_regr.joblib']"
      ]
     },
     "execution_count": 24,
     "metadata": {},
     "output_type": "execute_result"
    }
   ],
   "source": [
    "import joblib\n",
    "\n",
    "joblib.dump(best_rfr, os.path.join(MODEL_PATH, '0200_rf_regr.joblib'))"
   ]
  },
  {
   "cell_type": "code",
   "execution_count": null,
   "id": "f221320a",
   "metadata": {},
   "outputs": [],
   "source": []
  }
 ],
 "metadata": {
  "kernelspec": {
   "display_name": ".venv",
   "language": "python",
   "name": "python3"
  },
  "language_info": {
   "codemirror_mode": {
    "name": "ipython",
    "version": 3
   },
   "file_extension": ".py",
   "mimetype": "text/x-python",
   "name": "python",
   "nbconvert_exporter": "python",
   "pygments_lexer": "ipython3",
   "version": "3.13.1"
  }
 },
 "nbformat": 4,
 "nbformat_minor": 5
}
