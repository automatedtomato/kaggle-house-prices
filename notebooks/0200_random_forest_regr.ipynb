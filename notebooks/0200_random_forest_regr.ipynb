{
 "cells": [
  {
   "cell_type": "markdown",
   "id": "617d8f2b",
   "metadata": {},
   "source": [
    "# 0200 ランダムフォレスト回帰\n",
    "- 多変数が複雑に関連し合っている場合、単純な線形モデルよりも決定木モデルのほうが精度が高い場合がある。\n",
    "- 特に、変数同士の非線形な関係を捉えやすい\n",
    "- 交互作用の検出力高\n",
    "\n",
    "ただし、\n",
    "- モデルの複雑性が増す\n",
    "- ハイパーパラメータがブラックボックス化しやすい"
   ]
  },
  {
   "cell_type": "code",
   "execution_count": 1,
   "id": "9c710c1b",
   "metadata": {},
   "outputs": [],
   "source": [
    "import pandas as pd\n",
    "import numpy as np\n",
    "import matplotlib.pyplot as plt\n",
    "import seaborn as sns\n",
    "import os\n",
    "\n",
    "from constants import *\n",
    "\n",
    "plt.style.use('ggplot')\n",
    "sns.set_palette('flare')\n",
    "\n",
    "%load_ext autoreload\n",
    "%autoreload 2"
   ]
  },
  {
   "cell_type": "markdown",
   "id": "0973202d",
   "metadata": {},
   "source": [
    "## 0. データ取得"
   ]
  },
  {
   "cell_type": "code",
   "execution_count": 2,
   "id": "111f2d35",
   "metadata": {},
   "outputs": [
    {
     "data": {
      "text/html": [
       "<div>\n",
       "<style scoped>\n",
       "    .dataframe tbody tr th:only-of-type {\n",
       "        vertical-align: middle;\n",
       "    }\n",
       "\n",
       "    .dataframe tbody tr th {\n",
       "        vertical-align: top;\n",
       "    }\n",
       "\n",
       "    .dataframe thead th {\n",
       "        text-align: right;\n",
       "    }\n",
       "</style>\n",
       "<table border=\"1\" class=\"dataframe\">\n",
       "  <thead>\n",
       "    <tr style=\"text-align: right;\">\n",
       "      <th></th>\n",
       "      <th>MSSubClass</th>\n",
       "      <th>MSZoning</th>\n",
       "      <th>LotFrontage</th>\n",
       "      <th>LotArea</th>\n",
       "      <th>Street</th>\n",
       "      <th>Alley</th>\n",
       "      <th>LotShape</th>\n",
       "      <th>LandContour</th>\n",
       "      <th>Utilities</th>\n",
       "      <th>LotConfig</th>\n",
       "      <th>...</th>\n",
       "      <th>PoolArea</th>\n",
       "      <th>PoolQC</th>\n",
       "      <th>Fence</th>\n",
       "      <th>MiscFeature</th>\n",
       "      <th>MiscVal</th>\n",
       "      <th>MoSold</th>\n",
       "      <th>YrSold</th>\n",
       "      <th>SaleType</th>\n",
       "      <th>SaleCondition</th>\n",
       "      <th>SalePrice</th>\n",
       "    </tr>\n",
       "    <tr>\n",
       "      <th>Id</th>\n",
       "      <th></th>\n",
       "      <th></th>\n",
       "      <th></th>\n",
       "      <th></th>\n",
       "      <th></th>\n",
       "      <th></th>\n",
       "      <th></th>\n",
       "      <th></th>\n",
       "      <th></th>\n",
       "      <th></th>\n",
       "      <th></th>\n",
       "      <th></th>\n",
       "      <th></th>\n",
       "      <th></th>\n",
       "      <th></th>\n",
       "      <th></th>\n",
       "      <th></th>\n",
       "      <th></th>\n",
       "      <th></th>\n",
       "      <th></th>\n",
       "      <th></th>\n",
       "    </tr>\n",
       "  </thead>\n",
       "  <tbody>\n",
       "    <tr>\n",
       "      <th>1</th>\n",
       "      <td>60</td>\n",
       "      <td>RL</td>\n",
       "      <td>65.0</td>\n",
       "      <td>8450</td>\n",
       "      <td>Pave</td>\n",
       "      <td>NaN</td>\n",
       "      <td>Reg</td>\n",
       "      <td>Lvl</td>\n",
       "      <td>AllPub</td>\n",
       "      <td>Inside</td>\n",
       "      <td>...</td>\n",
       "      <td>0</td>\n",
       "      <td>NaN</td>\n",
       "      <td>NaN</td>\n",
       "      <td>NaN</td>\n",
       "      <td>0</td>\n",
       "      <td>2</td>\n",
       "      <td>2008</td>\n",
       "      <td>WD</td>\n",
       "      <td>Normal</td>\n",
       "      <td>208500</td>\n",
       "    </tr>\n",
       "    <tr>\n",
       "      <th>2</th>\n",
       "      <td>20</td>\n",
       "      <td>RL</td>\n",
       "      <td>80.0</td>\n",
       "      <td>9600</td>\n",
       "      <td>Pave</td>\n",
       "      <td>NaN</td>\n",
       "      <td>Reg</td>\n",
       "      <td>Lvl</td>\n",
       "      <td>AllPub</td>\n",
       "      <td>FR2</td>\n",
       "      <td>...</td>\n",
       "      <td>0</td>\n",
       "      <td>NaN</td>\n",
       "      <td>NaN</td>\n",
       "      <td>NaN</td>\n",
       "      <td>0</td>\n",
       "      <td>5</td>\n",
       "      <td>2007</td>\n",
       "      <td>WD</td>\n",
       "      <td>Normal</td>\n",
       "      <td>181500</td>\n",
       "    </tr>\n",
       "    <tr>\n",
       "      <th>3</th>\n",
       "      <td>60</td>\n",
       "      <td>RL</td>\n",
       "      <td>68.0</td>\n",
       "      <td>11250</td>\n",
       "      <td>Pave</td>\n",
       "      <td>NaN</td>\n",
       "      <td>IR1</td>\n",
       "      <td>Lvl</td>\n",
       "      <td>AllPub</td>\n",
       "      <td>Inside</td>\n",
       "      <td>...</td>\n",
       "      <td>0</td>\n",
       "      <td>NaN</td>\n",
       "      <td>NaN</td>\n",
       "      <td>NaN</td>\n",
       "      <td>0</td>\n",
       "      <td>9</td>\n",
       "      <td>2008</td>\n",
       "      <td>WD</td>\n",
       "      <td>Normal</td>\n",
       "      <td>223500</td>\n",
       "    </tr>\n",
       "    <tr>\n",
       "      <th>4</th>\n",
       "      <td>70</td>\n",
       "      <td>RL</td>\n",
       "      <td>60.0</td>\n",
       "      <td>9550</td>\n",
       "      <td>Pave</td>\n",
       "      <td>NaN</td>\n",
       "      <td>IR1</td>\n",
       "      <td>Lvl</td>\n",
       "      <td>AllPub</td>\n",
       "      <td>Corner</td>\n",
       "      <td>...</td>\n",
       "      <td>0</td>\n",
       "      <td>NaN</td>\n",
       "      <td>NaN</td>\n",
       "      <td>NaN</td>\n",
       "      <td>0</td>\n",
       "      <td>2</td>\n",
       "      <td>2006</td>\n",
       "      <td>WD</td>\n",
       "      <td>Abnorml</td>\n",
       "      <td>140000</td>\n",
       "    </tr>\n",
       "    <tr>\n",
       "      <th>5</th>\n",
       "      <td>60</td>\n",
       "      <td>RL</td>\n",
       "      <td>84.0</td>\n",
       "      <td>14260</td>\n",
       "      <td>Pave</td>\n",
       "      <td>NaN</td>\n",
       "      <td>IR1</td>\n",
       "      <td>Lvl</td>\n",
       "      <td>AllPub</td>\n",
       "      <td>FR2</td>\n",
       "      <td>...</td>\n",
       "      <td>0</td>\n",
       "      <td>NaN</td>\n",
       "      <td>NaN</td>\n",
       "      <td>NaN</td>\n",
       "      <td>0</td>\n",
       "      <td>12</td>\n",
       "      <td>2008</td>\n",
       "      <td>WD</td>\n",
       "      <td>Normal</td>\n",
       "      <td>250000</td>\n",
       "    </tr>\n",
       "  </tbody>\n",
       "</table>\n",
       "<p>5 rows × 80 columns</p>\n",
       "</div>"
      ],
      "text/plain": [
       "    MSSubClass MSZoning  LotFrontage  LotArea Street Alley LotShape  \\\n",
       "Id                                                                    \n",
       "1           60       RL         65.0     8450   Pave   NaN      Reg   \n",
       "2           20       RL         80.0     9600   Pave   NaN      Reg   \n",
       "3           60       RL         68.0    11250   Pave   NaN      IR1   \n",
       "4           70       RL         60.0     9550   Pave   NaN      IR1   \n",
       "5           60       RL         84.0    14260   Pave   NaN      IR1   \n",
       "\n",
       "   LandContour Utilities LotConfig  ... PoolArea PoolQC Fence MiscFeature  \\\n",
       "Id                                  ...                                     \n",
       "1          Lvl    AllPub    Inside  ...        0    NaN   NaN         NaN   \n",
       "2          Lvl    AllPub       FR2  ...        0    NaN   NaN         NaN   \n",
       "3          Lvl    AllPub    Inside  ...        0    NaN   NaN         NaN   \n",
       "4          Lvl    AllPub    Corner  ...        0    NaN   NaN         NaN   \n",
       "5          Lvl    AllPub       FR2  ...        0    NaN   NaN         NaN   \n",
       "\n",
       "   MiscVal MoSold  YrSold  SaleType  SaleCondition  SalePrice  \n",
       "Id                                                             \n",
       "1        0      2    2008        WD         Normal     208500  \n",
       "2        0      5    2007        WD         Normal     181500  \n",
       "3        0      9    2008        WD         Normal     223500  \n",
       "4        0      2    2006        WD        Abnorml     140000  \n",
       "5        0     12    2008        WD         Normal     250000  \n",
       "\n",
       "[5 rows x 80 columns]"
      ]
     },
     "execution_count": 2,
     "metadata": {},
     "output_type": "execute_result"
    }
   ],
   "source": [
    "raw_data = pd.read_csv(os.path.join(RAW_PATH, 'train.csv'), index_col=0)\n",
    "raw_data.head()"
   ]
  },
  {
   "cell_type": "markdown",
   "id": "01a366bd",
   "metadata": {},
   "source": [
    "### RFR用にデータを整形\n",
    "順序・名義尺度はダミー変数化するため、基本的な特徴量のみ作成。\n",
    "#### 元のデータセットから残すカラムを指定"
   ]
  },
  {
   "cell_type": "code",
   "execution_count": 62,
   "id": "a0b2ed3f",
   "metadata": {},
   "outputs": [],
   "source": [
    "cols_remained = [\n",
    "    'MSSubClass','LotFrontage', 'Street', 'Utilities',\n",
    "    'HouseStyle', 'OverallQual', 'ExterQual', 'KitchenQual', 'Heating',\n",
    "    'Functional', 'GarageCars']\n",
    "\n",
    "all_data = pd.DataFrame(index=raw_data.index)\n",
    "\n",
    "for col in cols_remained:\n",
    "    all_data[col] = raw_data[col]"
   ]
  },
  {
   "cell_type": "code",
   "execution_count": 74,
   "id": "a66d327c",
   "metadata": {},
   "outputs": [
    {
     "data": {
      "text/plain": [
       "Index(['MSSubClass', 'LotFrontage', 'Street', 'Utilities', 'HouseStyle',\n",
       "       'OverallQual', 'ExterQual', 'KitchenQual', 'Heating', 'Functional',\n",
       "       'GarageCars', 'log_price', 'log_total_sf', 'has_2nd', 'has_bsmt',\n",
       "       'has_garage', 'has_pool', 'has_central_air', 'has_fireplace',\n",
       "       'house_age', 'remod_age', 'total_porch_sf',\n",
       "       'neighbor_log_price_stdscaled', 'year_price'],\n",
       "      dtype='object')"
      ]
     },
     "execution_count": 74,
     "metadata": {},
     "output_type": "execute_result"
    }
   ],
   "source": [
    "raw_data['log_price'] = np.log(raw_data['SalePrice'])\n",
    "\n",
    "all_data['MSSubClass'] = raw_data['MSSubClass'].astype(str)\n",
    "\n",
    "all_data['log_price'] = raw_data['log_price']\n",
    "\n",
    "all_data['total_sf'] = raw_data['1stFlrSF'] + raw_data['2ndFlrSF'].fillna(0) + raw_data['TotalBsmtSF'].fillna(0)\n",
    "\n",
    "all_data['log_total_sf'] = np.log(all_data['total_sf'])\n",
    "\n",
    "all_data['has_2nd'] = (raw_data['2ndFlrSF'] > 0).astype(int)\n",
    "\n",
    "all_data['has_bsmt'] = (raw_data['TotalBsmtSF'] > 0).astype(int)\n",
    "\n",
    "all_data['has_garage'] = (raw_data['GarageArea'] > 0).astype(int)\n",
    "\n",
    "all_data['has_pool'] = (raw_data['PoolArea'] > 0).astype(int)\n",
    "\n",
    "all_data['has_central_air'] = (raw_data['CentralAir'] == 'Y').astype(int)\n",
    "\n",
    "all_data['has_fireplace'] = (raw_data['Fireplaces'] > 0).astype(int)\n",
    "\n",
    "all_data['house_age'] = raw_data['YrSold'] - raw_data['YearBuilt']\n",
    "\n",
    "all_data['remod_age'] = raw_data['YrSold'] - raw_data['YearRemodAdd']\n",
    "\n",
    "all_data['total_porch_sf'] = raw_data['OpenPorchSF'] + raw_data['EnclosedPorch'].fillna(0) + raw_data['3SsnPorch'].fillna(0) + raw_data['ScreenPorch'].fillna(0)\n",
    "\n",
    "from sklearn.preprocessing import StandardScaler\n",
    "\n",
    "std_scaler = StandardScaler()\n",
    "\n",
    "neighbor_log_price = raw_data.groupby('Neighborhood')['log_price'].mean().sort_values(ascending=False)\n",
    "neighbor_log_price_stdsclaled = std_scaler.fit_transform(neighbor_log_price.values.reshape(-1, 1))\n",
    "neighbor_log_price_dict = dict(zip(neighbor_log_price.index, neighbor_log_price_stdsclaled))\n",
    "all_data['neighbor_log_price_stdscaled'] = raw_data['Neighborhood'].map(neighbor_log_price_dict).astype(float)\n",
    "\n",
    "all_data['built_era'] = pd.cut(\n",
    "    raw_data['YearBuilt'],\n",
    "    bins=[1800, 1900, 1940, 1960, 1980, 2000, 2020],\n",
    "    labels=['pre_1900', '1900-1940', '40-60', '60-80', '80-2000', 'post-2000']\n",
    ")\n",
    "\n",
    "year_price = raw_data.groupby('YearBuilt')['SalePrice'].mean()\n",
    "year_price = year_price.rolling(window=5, center=True).mean()\n",
    "year_price = year_price.interpolate(method='linear')\n",
    "year_price = year_price.fillna(raw_data.groupby('YearBuilt')['SalePrice'].mean())\n",
    "all_data['year_price'] = raw_data['YearBuilt'].map(year_price)\n",
    "\n",
    "all_data.drop(['total_sf', 'built_era'], axis=1, inplace=True)\n",
    "\n",
    "all_data.columns"
   ]
  },
  {
   "cell_type": "code",
   "execution_count": 75,
   "id": "b3c0eb78",
   "metadata": {},
   "outputs": [
    {
     "data": {
      "text/html": [
       "<div>\n",
       "<style scoped>\n",
       "    .dataframe tbody tr th:only-of-type {\n",
       "        vertical-align: middle;\n",
       "    }\n",
       "\n",
       "    .dataframe tbody tr th {\n",
       "        vertical-align: top;\n",
       "    }\n",
       "\n",
       "    .dataframe thead th {\n",
       "        text-align: right;\n",
       "    }\n",
       "</style>\n",
       "<table border=\"1\" class=\"dataframe\">\n",
       "  <thead>\n",
       "    <tr style=\"text-align: right;\">\n",
       "      <th></th>\n",
       "      <th>MSSubClass</th>\n",
       "      <th>LotFrontage</th>\n",
       "      <th>Street</th>\n",
       "      <th>Utilities</th>\n",
       "      <th>HouseStyle</th>\n",
       "      <th>OverallQual</th>\n",
       "      <th>ExterQual</th>\n",
       "      <th>KitchenQual</th>\n",
       "      <th>Heating</th>\n",
       "      <th>Functional</th>\n",
       "      <th>...</th>\n",
       "      <th>has_bsmt</th>\n",
       "      <th>has_garage</th>\n",
       "      <th>has_pool</th>\n",
       "      <th>has_central_air</th>\n",
       "      <th>has_fireplace</th>\n",
       "      <th>house_age</th>\n",
       "      <th>remod_age</th>\n",
       "      <th>total_porch_sf</th>\n",
       "      <th>neighbor_log_price_stdscaled</th>\n",
       "      <th>year_price</th>\n",
       "    </tr>\n",
       "    <tr>\n",
       "      <th>Id</th>\n",
       "      <th></th>\n",
       "      <th></th>\n",
       "      <th></th>\n",
       "      <th></th>\n",
       "      <th></th>\n",
       "      <th></th>\n",
       "      <th></th>\n",
       "      <th></th>\n",
       "      <th></th>\n",
       "      <th></th>\n",
       "      <th></th>\n",
       "      <th></th>\n",
       "      <th></th>\n",
       "      <th></th>\n",
       "      <th></th>\n",
       "      <th></th>\n",
       "      <th></th>\n",
       "      <th></th>\n",
       "      <th></th>\n",
       "      <th></th>\n",
       "      <th></th>\n",
       "    </tr>\n",
       "  </thead>\n",
       "  <tbody>\n",
       "    <tr>\n",
       "      <th>1</th>\n",
       "      <td>60</td>\n",
       "      <td>65.0</td>\n",
       "      <td>Pave</td>\n",
       "      <td>AllPub</td>\n",
       "      <td>2Story</td>\n",
       "      <td>7</td>\n",
       "      <td>Gd</td>\n",
       "      <td>Gd</td>\n",
       "      <td>GasA</td>\n",
       "      <td>Typ</td>\n",
       "      <td>...</td>\n",
       "      <td>1</td>\n",
       "      <td>1</td>\n",
       "      <td>0</td>\n",
       "      <td>1</td>\n",
       "      <td>0</td>\n",
       "      <td>5</td>\n",
       "      <td>5</td>\n",
       "      <td>61</td>\n",
       "      <td>0.392477</td>\n",
       "      <td>227387.363668</td>\n",
       "    </tr>\n",
       "    <tr>\n",
       "      <th>2</th>\n",
       "      <td>20</td>\n",
       "      <td>80.0</td>\n",
       "      <td>Pave</td>\n",
       "      <td>AllPub</td>\n",
       "      <td>1Story</td>\n",
       "      <td>6</td>\n",
       "      <td>TA</td>\n",
       "      <td>TA</td>\n",
       "      <td>GasA</td>\n",
       "      <td>Typ</td>\n",
       "      <td>...</td>\n",
       "      <td>1</td>\n",
       "      <td>1</td>\n",
       "      <td>0</td>\n",
       "      <td>1</td>\n",
       "      <td>1</td>\n",
       "      <td>31</td>\n",
       "      <td>31</td>\n",
       "      <td>0</td>\n",
       "      <td>0.922961</td>\n",
       "      <td>166794.831439</td>\n",
       "    </tr>\n",
       "    <tr>\n",
       "      <th>3</th>\n",
       "      <td>60</td>\n",
       "      <td>68.0</td>\n",
       "      <td>Pave</td>\n",
       "      <td>AllPub</td>\n",
       "      <td>2Story</td>\n",
       "      <td>7</td>\n",
       "      <td>Gd</td>\n",
       "      <td>Gd</td>\n",
       "      <td>GasA</td>\n",
       "      <td>Typ</td>\n",
       "      <td>...</td>\n",
       "      <td>1</td>\n",
       "      <td>1</td>\n",
       "      <td>0</td>\n",
       "      <td>1</td>\n",
       "      <td>1</td>\n",
       "      <td>7</td>\n",
       "      <td>6</td>\n",
       "      <td>42</td>\n",
       "      <td>0.392477</td>\n",
       "      <td>223657.905932</td>\n",
       "    </tr>\n",
       "    <tr>\n",
       "      <th>4</th>\n",
       "      <td>70</td>\n",
       "      <td>60.0</td>\n",
       "      <td>Pave</td>\n",
       "      <td>AllPub</td>\n",
       "      <td>2Story</td>\n",
       "      <td>7</td>\n",
       "      <td>TA</td>\n",
       "      <td>Gd</td>\n",
       "      <td>GasA</td>\n",
       "      <td>Typ</td>\n",
       "      <td>...</td>\n",
       "      <td>1</td>\n",
       "      <td>1</td>\n",
       "      <td>0</td>\n",
       "      <td>1</td>\n",
       "      <td>1</td>\n",
       "      <td>91</td>\n",
       "      <td>36</td>\n",
       "      <td>307</td>\n",
       "      <td>0.518880</td>\n",
       "      <td>124018.557143</td>\n",
       "    </tr>\n",
       "    <tr>\n",
       "      <th>5</th>\n",
       "      <td>60</td>\n",
       "      <td>84.0</td>\n",
       "      <td>Pave</td>\n",
       "      <td>AllPub</td>\n",
       "      <td>2Story</td>\n",
       "      <td>8</td>\n",
       "      <td>Gd</td>\n",
       "      <td>Gd</td>\n",
       "      <td>GasA</td>\n",
       "      <td>Typ</td>\n",
       "      <td>...</td>\n",
       "      <td>1</td>\n",
       "      <td>1</td>\n",
       "      <td>0</td>\n",
       "      <td>1</td>\n",
       "      <td>1</td>\n",
       "      <td>8</td>\n",
       "      <td>8</td>\n",
       "      <td>84</td>\n",
       "      <td>1.897994</td>\n",
       "      <td>222266.190377</td>\n",
       "    </tr>\n",
       "  </tbody>\n",
       "</table>\n",
       "<p>5 rows × 24 columns</p>\n",
       "</div>"
      ],
      "text/plain": [
       "   MSSubClass  LotFrontage Street Utilities HouseStyle  OverallQual ExterQual  \\\n",
       "Id                                                                              \n",
       "1          60         65.0   Pave    AllPub     2Story            7        Gd   \n",
       "2          20         80.0   Pave    AllPub     1Story            6        TA   \n",
       "3          60         68.0   Pave    AllPub     2Story            7        Gd   \n",
       "4          70         60.0   Pave    AllPub     2Story            7        TA   \n",
       "5          60         84.0   Pave    AllPub     2Story            8        Gd   \n",
       "\n",
       "   KitchenQual Heating Functional  ...  has_bsmt  has_garage  has_pool  \\\n",
       "Id                                 ...                                   \n",
       "1           Gd    GasA        Typ  ...         1           1         0   \n",
       "2           TA    GasA        Typ  ...         1           1         0   \n",
       "3           Gd    GasA        Typ  ...         1           1         0   \n",
       "4           Gd    GasA        Typ  ...         1           1         0   \n",
       "5           Gd    GasA        Typ  ...         1           1         0   \n",
       "\n",
       "    has_central_air  has_fireplace  house_age  remod_age  total_porch_sf  \\\n",
       "Id                                                                         \n",
       "1                 1              0          5          5              61   \n",
       "2                 1              1         31         31               0   \n",
       "3                 1              1          7          6              42   \n",
       "4                 1              1         91         36             307   \n",
       "5                 1              1          8          8              84   \n",
       "\n",
       "    neighbor_log_price_stdscaled     year_price  \n",
       "Id                                               \n",
       "1                       0.392477  227387.363668  \n",
       "2                       0.922961  166794.831439  \n",
       "3                       0.392477  223657.905932  \n",
       "4                       0.518880  124018.557143  \n",
       "5                       1.897994  222266.190377  \n",
       "\n",
       "[5 rows x 24 columns]"
      ]
     },
     "execution_count": 75,
     "metadata": {},
     "output_type": "execute_result"
    }
   ],
   "source": [
    "for col in all_data.columns:\n",
    "    if all_data[col].dtype == 'object':\n",
    "        all_data[col].fillna('None')\n",
    "    if all_data[col].dtype == 'float64' or all_data[col].dtype == 'int64':\n",
    "        all_data[col].fillna(0)\n",
    "\n",
    "all_data.head()"
   ]
  },
  {
   "cell_type": "code",
   "execution_count": 76,
   "id": "e6f2ef3b",
   "metadata": {},
   "outputs": [
    {
     "data": {
      "text/plain": [
       "Index(['LotFrontage', 'OverallQual', 'GarageCars', 'log_price', 'log_total_sf',\n",
       "       'has_2nd', 'has_bsmt', 'has_garage', 'has_pool', 'has_central_air',\n",
       "       'has_fireplace', 'house_age', 'remod_age', 'total_porch_sf',\n",
       "       'neighbor_log_price_stdscaled', 'year_price', 'MSSubClass_160',\n",
       "       'MSSubClass_180', 'MSSubClass_190', 'MSSubClass_20', 'MSSubClass_30',\n",
       "       'MSSubClass_40', 'MSSubClass_45', 'MSSubClass_50', 'MSSubClass_60',\n",
       "       'MSSubClass_70', 'MSSubClass_75', 'MSSubClass_80', 'MSSubClass_85',\n",
       "       'MSSubClass_90', 'Street_Pave', 'Utilities_NoSeWa', 'HouseStyle_1.5Unf',\n",
       "       'HouseStyle_1Story', 'HouseStyle_2.5Fin', 'HouseStyle_2.5Unf',\n",
       "       'HouseStyle_2Story', 'HouseStyle_SFoyer', 'HouseStyle_SLvl',\n",
       "       'ExterQual_Fa', 'ExterQual_Gd', 'ExterQual_TA', 'KitchenQual_Fa',\n",
       "       'KitchenQual_Gd', 'KitchenQual_TA', 'Heating_GasA', 'Heating_GasW',\n",
       "       'Heating_Grav', 'Heating_OthW', 'Heating_Wall', 'Functional_Maj2',\n",
       "       'Functional_Min1', 'Functional_Min2', 'Functional_Mod',\n",
       "       'Functional_Sev', 'Functional_Typ'],\n",
       "      dtype='object')"
      ]
     },
     "execution_count": 76,
     "metadata": {},
     "output_type": "execute_result"
    }
   ],
   "source": [
    "data = pd.get_dummies(all_data, drop_first=True, dtype=int)\n",
    "data.columns"
   ]
  },
  {
   "cell_type": "markdown",
   "id": "599c6343",
   "metadata": {},
   "source": [
    "## 1. 単純なRFR実装\n",
    "まずは、全ての変数を単純なランダムフォレスト回帰に入れ込んで予測してみる"
   ]
  },
  {
   "cell_type": "code",
   "execution_count": 77,
   "id": "43db53e1",
   "metadata": {},
   "outputs": [],
   "source": [
    "from sklearn.model_selection import train_test_split\n",
    "\n",
    "X = data.drop('log_price', axis=1)\n",
    "y = data['log_price']\n",
    "\n",
    "X_train, X_val, y_train, y_val = train_test_split(X, y, test_size=0.2, random_state=99)"
   ]
  },
  {
   "cell_type": "code",
   "execution_count": 78,
   "id": "c09ab70d",
   "metadata": {},
   "outputs": [
    {
     "name": "stdout",
     "output_type": "stream",
     "text": [
      "Test RFR\n",
      "  RMSE: 0.12138609745047756\n",
      "  R2: 0.8861991328426317\n"
     ]
    }
   ],
   "source": [
    "from sklearn.ensemble import RandomForestRegressor\n",
    "from sklearn.metrics import root_mean_squared_error, r2_score\n",
    "\n",
    "test = RandomForestRegressor(random_state=0, n_jobs=-1)\n",
    "test.fit(X_train, y_train)\n",
    "\n",
    "y_pred = test.predict(X_val)\n",
    "\n",
    "rmse = root_mean_squared_error(y_val, y_pred)\n",
    "r2 = r2_score(y_val, y_pred)\n",
    "\n",
    "print('Test RFR')\n",
    "print(f'  RMSE: {rmse}')\n",
    "print(f'  R2: {r2}')"
   ]
  },
  {
   "cell_type": "code",
   "execution_count": 79,
   "id": "256e8d57",
   "metadata": {},
   "outputs": [
    {
     "data": {
      "image/png": "[encoded data removed]",
      "text/plain": [
       "<Figure size 640x480 with 1 Axes>"
      ]
     },
     "metadata": {},
     "output_type": "display_data"
    }
   ],
   "source": [
    "sns.regplot(x=y_val, y=y_pred, scatter_kws={'s': 20, 'alpha': 0.3}, line_kws={'color': 'green', 'lw': 1, 'alpha': 0.8})\n",
    "plt.title(f\"Random Forest Regr. \")\n",
    "plt.show()"
   ]
  },
  {
   "cell_type": "code",
   "execution_count": 80,
   "id": "c9857e81",
   "metadata": {},
   "outputs": [
    {
     "data": {
      "image/png": "[encoded data removed]",
      "text/plain": [
       "<Figure size 640x480 with 1 Axes>"
      ]
     },
     "metadata": {},
     "output_type": "display_data"
    }
   ],
   "source": [
    "from utils import plot_learning_curve\n",
    "\n",
    "X_train, X_val, y_train, y_val = train_test_split(X, y, test_size=0.2, random_state=11)\n",
    "\n",
    "plot_learning_curve(RandomForestRegressor(random_state=11, n_jobs=-1), X_train, y_train)\n",
    "plt.show()"
   ]
  },
  {
   "cell_type": "markdown",
   "id": "59baf82e",
   "metadata": {},
   "source": [
    "#### 明らかに過学習\n",
    "特徴量の重要度を測定する。"
   ]
  },
  {
   "cell_type": "code",
   "execution_count": 81,
   "id": "d8aaed93",
   "metadata": {},
   "outputs": [
    {
     "data": {
      "image/png": "[encoded data removed]",
      "text/plain": [
       "<Figure size 1200x800 with 1 Axes>"
      ]
     },
     "metadata": {},
     "output_type": "display_data"
    },
    {
     "data": {
      "text/html": [
       "<div>\n",
       "<style scoped>\n",
       "    .dataframe tbody tr th:only-of-type {\n",
       "        vertical-align: middle;\n",
       "    }\n",
       "\n",
       "    .dataframe tbody tr th {\n",
       "        vertical-align: top;\n",
       "    }\n",
       "\n",
       "    .dataframe thead th {\n",
       "        text-align: right;\n",
       "    }\n",
       "</style>\n",
       "<table border=\"1\" class=\"dataframe\">\n",
       "  <thead>\n",
       "    <tr style=\"text-align: right;\">\n",
       "      <th></th>\n",
       "      <th>feature</th>\n",
       "      <th>importance</th>\n",
       "    </tr>\n",
       "  </thead>\n",
       "  <tbody>\n",
       "    <tr>\n",
       "      <th>1</th>\n",
       "      <td>OverallQual</td>\n",
       "      <td>0.429710</td>\n",
       "    </tr>\n",
       "    <tr>\n",
       "      <th>3</th>\n",
       "      <td>log_total_sf</td>\n",
       "      <td>0.355437</td>\n",
       "    </tr>\n",
       "    <tr>\n",
       "      <th>13</th>\n",
       "      <td>neighbor_log_price_stdscaled</td>\n",
       "      <td>0.068047</td>\n",
       "    </tr>\n",
       "    <tr>\n",
       "      <th>11</th>\n",
       "      <td>remod_age</td>\n",
       "      <td>0.025551</td>\n",
       "    </tr>\n",
       "    <tr>\n",
       "      <th>0</th>\n",
       "      <td>LotFrontage</td>\n",
       "      <td>0.017159</td>\n",
       "    </tr>\n",
       "    <tr>\n",
       "      <th>8</th>\n",
       "      <td>has_central_air</td>\n",
       "      <td>0.016827</td>\n",
       "    </tr>\n",
       "    <tr>\n",
       "      <th>14</th>\n",
       "      <td>year_price</td>\n",
       "      <td>0.014577</td>\n",
       "    </tr>\n",
       "    <tr>\n",
       "      <th>10</th>\n",
       "      <td>house_age</td>\n",
       "      <td>0.014277</td>\n",
       "    </tr>\n",
       "    <tr>\n",
       "      <th>12</th>\n",
       "      <td>total_porch_sf</td>\n",
       "      <td>0.013785</td>\n",
       "    </tr>\n",
       "    <tr>\n",
       "      <th>2</th>\n",
       "      <td>GarageCars</td>\n",
       "      <td>0.009192</td>\n",
       "    </tr>\n",
       "  </tbody>\n",
       "</table>\n",
       "</div>"
      ],
      "text/plain": [
       "                         feature  importance\n",
       "1                    OverallQual    0.429710\n",
       "3                   log_total_sf    0.355437\n",
       "13  neighbor_log_price_stdscaled    0.068047\n",
       "11                     remod_age    0.025551\n",
       "0                    LotFrontage    0.017159\n",
       "8                has_central_air    0.016827\n",
       "14                    year_price    0.014577\n",
       "10                     house_age    0.014277\n",
       "12                total_porch_sf    0.013785\n",
       "2                     GarageCars    0.009192"
      ]
     },
     "execution_count": 81,
     "metadata": {},
     "output_type": "execute_result"
    }
   ],
   "source": [
    "from utils import plot_feature_importance\n",
    "\n",
    "importance = plot_feature_importance(test, X.columns, type='feature_importances')\n",
    "importance = importance[importance['importance'] > 0.005]\n",
    "importance"
   ]
  },
  {
   "cell_type": "code",
   "execution_count": 82,
   "id": "801886c2",
   "metadata": {},
   "outputs": [
    {
     "data": {
      "image/png": "[encoded data removed]",
      "text/plain": [
       "<Figure size 1000x800 with 2 Axes>"
      ]
     },
     "metadata": {},
     "output_type": "display_data"
    }
   ],
   "source": [
    "col = list(importance['feature'])\n",
    "\n",
    "corr_mat = data[col].corr()\n",
    "plt.figure(figsize=(10, 8))\n",
    "sns.heatmap(corr_mat, annot=True, cmap='coolwarm')\n",
    "plt.show()"
   ]
  },
  {
   "cell_type": "code",
   "execution_count": 83,
   "id": "97fc7b2d",
   "metadata": {},
   "outputs": [
    {
     "data": {
      "image/png": "[encoded data removed]",
      "text/plain": [
       "<Figure size 1000x800 with 2 Axes>"
      ]
     },
     "metadata": {},
     "output_type": "display_data"
    }
   ],
   "source": [
    "import pingouin as pg\n",
    "plt.figure(figsize=(10, 8))\n",
    "\n",
    "pcorr_mat = pg.pcorr(data[col]).round(3)\n",
    "\n",
    "sns.heatmap(pcorr_mat, annot=True, cmap='coolwarm')\n",
    "plt.show()"
   ]
  },
  {
   "cell_type": "code",
   "execution_count": 84,
   "id": "9821e9b2",
   "metadata": {},
   "outputs": [],
   "source": [
    "import optuna\n",
    "\n",
    "X = data.drop('log_price', axis=1)\n",
    "y = data['log_price']\n",
    "\n",
    "X_train, X_val, y_train, y_val = train_test_split(X, y, test_size=0.2, random_state=33)\n",
    "\n",
    "def objective(trial):\n",
    "    \n",
    "    params = {\n",
    "        'n_estimators': trial.suggest_int('n_estimators', 5, 150),\n",
    "        'max_depth': trial.suggest_int('max_depth', 3, 30),\n",
    "        'min_samples_split': trial.suggest_int('min_samples_split', 2, 20),\n",
    "        'min_samples_leaf': trial.suggest_int('min_samples_leaf', 1, 10),\n",
    "        'max_features': trial.suggest_int('max_features', 1, 20)\n",
    "        }\n",
    "    \n",
    "    rfr = RandomForestRegressor(\n",
    "        **params,\n",
    "        n_jobs=-1,\n",
    "        random_state=87)\n",
    "    \n",
    "    rfr.fit(X_train, y_train)\n",
    "    \n",
    "    y_pred = rfr.predict(X_val)\n",
    "    rmse = root_mean_squared_error(y_val, y_pred)\n",
    "    \n",
    "    return rmse"
   ]
  },
  {
   "cell_type": "code",
   "execution_count": 85,
   "id": "239b337d",
   "metadata": {},
   "outputs": [
    {
     "name": "stderr",
     "output_type": "stream",
     "text": [
      "[I 2025-05-09 16:56:21,946] A new study created in memory with name: no-name-25f1069c-bd68-478b-80a2-19d6bcbe18fe\n",
      "[I 2025-05-09 16:56:22,522] Trial 5 finished with value: 0.14658661330330186 and parameters: {'n_estimators': 37, 'max_depth': 8, 'min_samples_split': 15, 'min_samples_leaf': 5, 'max_features': 17}. Best is trial 5 with value: 0.14658661330330186.\n",
      "[I 2025-05-09 16:56:22,530] Trial 3 finished with value: 0.1523970759877634 and parameters: {'n_estimators': 59, 'max_depth': 7, 'min_samples_split': 10, 'min_samples_leaf': 5, 'max_features': 13}. Best is trial 5 with value: 0.14658661330330186.\n",
      "[I 2025-05-09 16:56:22,534] Trial 2 finished with value: 0.14995078753312174 and parameters: {'n_estimators': 68, 'max_depth': 29, 'min_samples_split': 17, 'min_samples_leaf': 9, 'max_features': 12}. Best is trial 5 with value: 0.14658661330330186.\n",
      "[I 2025-05-09 16:56:22,538] Trial 6 finished with value: 0.1464812522640167 and parameters: {'n_estimators': 43, 'max_depth': 24, 'min_samples_split': 6, 'min_samples_leaf': 4, 'max_features': 20}. Best is trial 6 with value: 0.1464812522640167.\n",
      "[I 2025-05-09 16:56:22,583] Trial 1 finished with value: 0.1796501173947842 and parameters: {'n_estimators': 91, 'max_depth': 24, 'min_samples_split': 11, 'min_samples_leaf': 5, 'max_features': 4}. Best is trial 6 with value: 0.1464812522640167.\n",
      "[I 2025-05-09 16:56:22,593] Trial 0 finished with value: 0.1480821242671468 and parameters: {'n_estimators': 92, 'max_depth': 21, 'min_samples_split': 18, 'min_samples_leaf': 4, 'max_features': 16}. Best is trial 6 with value: 0.1464812522640167.\n",
      "[I 2025-05-09 16:56:22,695] Trial 7 finished with value: 0.15265334538149983 and parameters: {'n_estimators': 121, 'max_depth': 27, 'min_samples_split': 20, 'min_samples_leaf': 3, 'max_features': 9}. Best is trial 6 with value: 0.1464812522640167.\n",
      "[I 2025-05-09 16:56:22,741] Trial 4 finished with value: 0.14680973873013248 and parameters: {'n_estimators': 120, 'max_depth': 24, 'min_samples_split': 13, 'min_samples_leaf': 8, 'max_features': 19}. Best is trial 6 with value: 0.1464812522640167.\n",
      "[I 2025-05-09 16:56:22,981] Trial 8 finished with value: 0.14470421966294938 and parameters: {'n_estimators': 31, 'max_depth': 29, 'min_samples_split': 15, 'min_samples_leaf': 2, 'max_features': 18}. Best is trial 8 with value: 0.14470421966294938.\n",
      "[I 2025-05-09 16:56:23,008] Trial 9 finished with value: 0.17466700838198973 and parameters: {'n_estimators': 65, 'max_depth': 27, 'min_samples_split': 19, 'min_samples_leaf': 5, 'max_features': 4}. Best is trial 8 with value: 0.14470421966294938.\n",
      "[I 2025-05-09 16:56:23,215] Trial 12 finished with value: 0.1476195877541835 and parameters: {'n_estimators': 82, 'max_depth': 19, 'min_samples_split': 16, 'min_samples_leaf': 10, 'max_features': 16}. Best is trial 8 with value: 0.14470421966294938.\n",
      "[I 2025-05-09 16:56:23,228] Trial 11 finished with value: 0.15524473288991691 and parameters: {'n_estimators': 70, 'max_depth': 6, 'min_samples_split': 11, 'min_samples_leaf': 2, 'max_features': 10}. Best is trial 8 with value: 0.14470421966294938.\n",
      "[I 2025-05-09 16:56:23,230] Trial 10 finished with value: 0.14824210312032585 and parameters: {'n_estimators': 105, 'max_depth': 11, 'min_samples_split': 5, 'min_samples_leaf': 10, 'max_features': 18}. Best is trial 8 with value: 0.14470421966294938.\n",
      "[I 2025-05-09 16:56:23,299] Trial 13 finished with value: 0.1465129366522804 and parameters: {'n_estimators': 134, 'max_depth': 9, 'min_samples_split': 16, 'min_samples_leaf': 1, 'max_features': 16}. Best is trial 8 with value: 0.14470421966294938.\n",
      "[I 2025-05-09 16:56:23,322] Trial 17 finished with value: 0.16168480144727101 and parameters: {'n_estimators': 5, 'max_depth': 14, 'min_samples_split': 5, 'min_samples_leaf': 1, 'max_features': 8}. Best is trial 8 with value: 0.14470421966294938.\n",
      "[I 2025-05-09 16:56:23,363] Trial 16 finished with value: 0.1848624227873484 and parameters: {'n_estimators': 68, 'max_depth': 3, 'min_samples_split': 3, 'min_samples_leaf': 10, 'max_features': 11}. Best is trial 8 with value: 0.14470421966294938.\n",
      "[I 2025-05-09 16:56:23,386] Trial 14 finished with value: 0.14956102291375087 and parameters: {'n_estimators': 144, 'max_depth': 21, 'min_samples_split': 18, 'min_samples_leaf': 9, 'max_features': 12}. Best is trial 8 with value: 0.14470421966294938.\n",
      "[I 2025-05-09 16:56:23,405] Trial 15 finished with value: 0.16734449029337214 and parameters: {'n_estimators': 140, 'max_depth': 20, 'min_samples_split': 14, 'min_samples_leaf': 9, 'max_features': 6}. Best is trial 8 with value: 0.14470421966294938.\n",
      "[I 2025-05-09 16:56:23,411] Trial 18 finished with value: 0.1607863862890282 and parameters: {'n_estimators': 7, 'max_depth': 15, 'min_samples_split': 2, 'min_samples_leaf': 1, 'max_features': 20}. Best is trial 8 with value: 0.14470421966294938.\n",
      "[I 2025-05-09 16:56:23,452] Trial 20 finished with value: 0.15732751705061865 and parameters: {'n_estimators': 9, 'max_depth': 15, 'min_samples_split': 2, 'min_samples_leaf': 1, 'max_features': 20}. Best is trial 8 with value: 0.14470421966294938.\n",
      "[I 2025-05-09 16:56:23,480] Trial 19 finished with value: 0.15579755865189512 and parameters: {'n_estimators': 9, 'max_depth': 14, 'min_samples_split': 3, 'min_samples_leaf': 1, 'max_features': 20}. Best is trial 8 with value: 0.14470421966294938.\n",
      "[I 2025-05-09 16:56:23,481] Trial 21 finished with value: 0.15958772233609642 and parameters: {'n_estimators': 5, 'max_depth': 15, 'min_samples_split': 2, 'min_samples_leaf': 7, 'max_features': 20}. Best is trial 8 with value: 0.14470421966294938.\n",
      "[I 2025-05-09 16:56:23,648] Trial 22 finished with value: 0.14796392301495406 and parameters: {'n_estimators': 32, 'max_depth': 30, 'min_samples_split': 8, 'min_samples_leaf': 7, 'max_features': 20}. Best is trial 8 with value: 0.14470421966294938.\n",
      "[I 2025-05-09 16:56:23,683] Trial 23 finished with value: 0.1486643370655745 and parameters: {'n_estimators': 30, 'max_depth': 30, 'min_samples_split': 8, 'min_samples_leaf': 7, 'max_features': 20}. Best is trial 8 with value: 0.14470421966294938.\n",
      "[I 2025-05-09 16:56:23,695] Trial 24 finished with value: 0.14837644443396916 and parameters: {'n_estimators': 37, 'max_depth': 30, 'min_samples_split': 7, 'min_samples_leaf': 7, 'max_features': 14}. Best is trial 8 with value: 0.14470421966294938.\n",
      "[I 2025-05-09 16:56:23,737] Trial 26 finished with value: 0.14833808324115685 and parameters: {'n_estimators': 35, 'max_depth': 30, 'min_samples_split': 7, 'min_samples_leaf': 7, 'max_features': 14}. Best is trial 8 with value: 0.14470421966294938.\n",
      "[I 2025-05-09 16:56:23,747] Trial 25 finished with value: 0.32600367376614625 and parameters: {'n_estimators': 36, 'max_depth': 29, 'min_samples_split': 8, 'min_samples_leaf': 7, 'max_features': 1}. Best is trial 8 with value: 0.14470421966294938.\n",
      "[I 2025-05-09 16:56:23,751] Trial 28 finished with value: 0.14502494547602707 and parameters: {'n_estimators': 37, 'max_depth': 30, 'min_samples_split': 8, 'min_samples_leaf': 3, 'max_features': 14}. Best is trial 8 with value: 0.14470421966294938.\n",
      "[I 2025-05-09 16:56:23,752] Trial 29 finished with value: 0.15042626957733846 and parameters: {'n_estimators': 39, 'max_depth': 29, 'min_samples_split': 9, 'min_samples_leaf': 3, 'max_features': 14}. Best is trial 8 with value: 0.14470421966294938.\n",
      "[I 2025-05-09 16:56:23,789] Trial 27 finished with value: 0.14541513495554603 and parameters: {'n_estimators': 38, 'max_depth': 30, 'min_samples_split': 8, 'min_samples_leaf': 3, 'max_features': 14}. Best is trial 8 with value: 0.14470421966294938.\n",
      "[I 2025-05-09 16:56:24,050] Trial 30 finished with value: 0.14715944860525898 and parameters: {'n_estimators': 44, 'max_depth': 24, 'min_samples_split': 13, 'min_samples_leaf': 3, 'max_features': 14}. Best is trial 8 with value: 0.14470421966294938.\n",
      "[I 2025-05-09 16:56:24,071] Trial 32 finished with value: 0.1476414918663511 and parameters: {'n_estimators': 49, 'max_depth': 24, 'min_samples_split': 12, 'min_samples_leaf': 3, 'max_features': 15}. Best is trial 8 with value: 0.14470421966294938.\n",
      "[I 2025-05-09 16:56:24,072] Trial 31 finished with value: 0.14659696516275575 and parameters: {'n_estimators': 47, 'max_depth': 24, 'min_samples_split': 13, 'min_samples_leaf': 3, 'max_features': 14}. Best is trial 8 with value: 0.14470421966294938.\n",
      "[I 2025-05-09 16:56:24,088] Trial 34 finished with value: 0.14655478882047696 and parameters: {'n_estimators': 50, 'max_depth': 25, 'min_samples_split': 5, 'min_samples_leaf': 3, 'max_features': 18}. Best is trial 8 with value: 0.14470421966294938.\n",
      "[I 2025-05-09 16:56:24,089] Trial 37 finished with value: 0.14471783468834737 and parameters: {'n_estimators': 21, 'max_depth': 26, 'min_samples_split': 12, 'min_samples_leaf': 3, 'max_features': 17}. Best is trial 8 with value: 0.14470421966294938.\n",
      "[I 2025-05-09 16:56:24,107] Trial 35 finished with value: 0.1465541789962702 and parameters: {'n_estimators': 51, 'max_depth': 25, 'min_samples_split': 5, 'min_samples_leaf': 3, 'max_features': 18}. Best is trial 8 with value: 0.14470421966294938.\n",
      "[I 2025-05-09 16:56:24,137] Trial 36 finished with value: 0.15060210596138163 and parameters: {'n_estimators': 20, 'max_depth': 26, 'min_samples_split': 12, 'min_samples_leaf': 3, 'max_features': 15}. Best is trial 8 with value: 0.14470421966294938.\n",
      "[I 2025-05-09 16:56:24,179] Trial 33 finished with value: 0.14651461814471442 and parameters: {'n_estimators': 54, 'max_depth': 24, 'min_samples_split': 13, 'min_samples_leaf': 3, 'max_features': 16}. Best is trial 8 with value: 0.14470421966294938.\n",
      "[I 2025-05-09 16:56:24,284] Trial 38 finished with value: 0.1487092679381483 and parameters: {'n_estimators': 22, 'max_depth': 27, 'min_samples_split': 5, 'min_samples_leaf': 4, 'max_features': 18}. Best is trial 8 with value: 0.14470421966294938.\n",
      "[I 2025-05-09 16:56:24,326] Trial 39 finished with value: 0.1475089122134954 and parameters: {'n_estimators': 23, 'max_depth': 27, 'min_samples_split': 5, 'min_samples_leaf': 4, 'max_features': 18}. Best is trial 8 with value: 0.14470421966294938.\n",
      "[I 2025-05-09 16:56:24,344] Trial 41 finished with value: 0.1463656068514736 and parameters: {'n_estimators': 19, 'max_depth': 27, 'min_samples_split': 10, 'min_samples_leaf': 2, 'max_features': 17}. Best is trial 8 with value: 0.14470421966294938.\n",
      "[I 2025-05-09 16:56:24,349] Trial 40 finished with value: 0.14960687806961528 and parameters: {'n_estimators': 20, 'max_depth': 27, 'min_samples_split': 5, 'min_samples_leaf': 4, 'max_features': 18}. Best is trial 8 with value: 0.14470421966294938.\n",
      "[I 2025-05-09 16:56:24,368] Trial 42 finished with value: 0.1460393883249261 and parameters: {'n_estimators': 21, 'max_depth': 27, 'min_samples_split': 10, 'min_samples_leaf': 2, 'max_features': 17}. Best is trial 8 with value: 0.14470421966294938.\n",
      "[I 2025-05-09 16:56:24,372] Trial 43 finished with value: 0.14987672945534597 and parameters: {'n_estimators': 20, 'max_depth': 27, 'min_samples_split': 11, 'min_samples_leaf': 2, 'max_features': 17}. Best is trial 8 with value: 0.14470421966294938.\n",
      "[I 2025-05-09 16:56:24,414] Trial 44 finished with value: 0.14881858346584215 and parameters: {'n_estimators': 21, 'max_depth': 28, 'min_samples_split': 10, 'min_samples_leaf': 4, 'max_features': 17}. Best is trial 8 with value: 0.14470421966294938.\n",
      "[I 2025-05-09 16:56:24,484] Trial 45 finished with value: 0.14786654618581657 and parameters: {'n_estimators': 21, 'max_depth': 28, 'min_samples_split': 9, 'min_samples_leaf': 4, 'max_features': 12}. Best is trial 8 with value: 0.14470421966294938.\n",
      "[I 2025-05-09 16:56:24,534] Trial 46 finished with value: 0.14884071655838194 and parameters: {'n_estimators': 25, 'max_depth': 22, 'min_samples_split': 10, 'min_samples_leaf': 2, 'max_features': 12}. Best is trial 8 with value: 0.14470421966294938.\n",
      "[I 2025-05-09 16:56:24,655] Trial 49 finished with value: 0.1461346514065228 and parameters: {'n_estimators': 15, 'max_depth': 22, 'min_samples_split': 10, 'min_samples_leaf': 2, 'max_features': 17}. Best is trial 8 with value: 0.14470421966294938.\n",
      "[I 2025-05-09 16:56:24,659] Trial 50 finished with value: 0.14834230176099936 and parameters: {'n_estimators': 27, 'max_depth': 22, 'min_samples_split': 10, 'min_samples_leaf': 2, 'max_features': 12}. Best is trial 8 with value: 0.14470421966294938.\n",
      "[I 2025-05-09 16:56:24,660] Trial 48 finished with value: 0.1483423017609995 and parameters: {'n_estimators': 27, 'max_depth': 22, 'min_samples_split': 10, 'min_samples_leaf': 2, 'max_features': 12}. Best is trial 8 with value: 0.14470421966294938.\n",
      "[I 2025-05-09 16:56:24,703] Trial 47 finished with value: 0.14869227978784677 and parameters: {'n_estimators': 60, 'max_depth': 22, 'min_samples_split': 9, 'min_samples_leaf': 2, 'max_features': 12}. Best is trial 8 with value: 0.14470421966294938.\n",
      "[I 2025-05-09 16:56:24,741] Trial 51 finished with value: 0.15093707362266703 and parameters: {'n_estimators': 28, 'max_depth': 22, 'min_samples_split': 9, 'min_samples_leaf': 2, 'max_features': 12}. Best is trial 8 with value: 0.14470421966294938.\n",
      "[I 2025-05-09 16:56:24,804] Trial 52 finished with value: 0.14869227978784685 and parameters: {'n_estimators': 60, 'max_depth': 22, 'min_samples_split': 9, 'min_samples_leaf': 2, 'max_features': 12}. Best is trial 8 with value: 0.14470421966294938.\n",
      "[I 2025-05-09 16:56:24,873] Trial 53 finished with value: 0.14733509198444142 and parameters: {'n_estimators': 60, 'max_depth': 22, 'min_samples_split': 16, 'min_samples_leaf': 2, 'max_features': 15}. Best is trial 8 with value: 0.14470421966294938.\n",
      "[I 2025-05-09 16:56:24,950] Trial 54 finished with value: 0.14533494167478392 and parameters: {'n_estimators': 60, 'max_depth': 18, 'min_samples_split': 15, 'min_samples_leaf': 2, 'max_features': 15}. Best is trial 8 with value: 0.14470421966294938.\n",
      "[I 2025-05-09 16:56:25,011] Trial 55 finished with value: 0.14739039375138283 and parameters: {'n_estimators': 59, 'max_depth': 18, 'min_samples_split': 15, 'min_samples_leaf': 5, 'max_features': 15}. Best is trial 8 with value: 0.14470421966294938.\n",
      "[I 2025-05-09 16:56:25,033] Trial 58 finished with value: 0.14790213523178572 and parameters: {'n_estimators': 14, 'max_depth': 19, 'min_samples_split': 16, 'min_samples_leaf': 5, 'max_features': 15}. Best is trial 8 with value: 0.14470421966294938.\n",
      "[I 2025-05-09 16:56:25,086] Trial 59 finished with value: 0.1506054630337961 and parameters: {'n_estimators': 13, 'max_depth': 28, 'min_samples_split': 15, 'min_samples_leaf': 5, 'max_features': 15}. Best is trial 8 with value: 0.14470421966294938.\n",
      "[I 2025-05-09 16:56:25,087] Trial 56 finished with value: 0.147390393751383 and parameters: {'n_estimators': 59, 'max_depth': 29, 'min_samples_split': 15, 'min_samples_leaf': 5, 'max_features': 15}. Best is trial 8 with value: 0.14470421966294938.\n",
      "[I 2025-05-09 16:56:25,110] Trial 57 finished with value: 0.1453993691332328 and parameters: {'n_estimators': 79, 'max_depth': 29, 'min_samples_split': 16, 'min_samples_leaf': 5, 'max_features': 15}. Best is trial 8 with value: 0.14470421966294938.\n",
      "[I 2025-05-09 16:56:25,151] Trial 60 finished with value: 0.15232223992656196 and parameters: {'n_estimators': 14, 'max_depth': 18, 'min_samples_split': 15, 'min_samples_leaf': 5, 'max_features': 15}. Best is trial 8 with value: 0.14470421966294938.\n",
      "[I 2025-05-09 16:56:25,154] Trial 61 finished with value: 0.15278815201677107 and parameters: {'n_estimators': 14, 'max_depth': 29, 'min_samples_split': 15, 'min_samples_leaf': 5, 'max_features': 16}. Best is trial 8 with value: 0.14470421966294938.\n",
      "[I 2025-05-09 16:56:25,476] Trial 62 finished with value: 0.14676441443372962 and parameters: {'n_estimators': 78, 'max_depth': 18, 'min_samples_split': 17, 'min_samples_leaf': 5, 'max_features': 16}. Best is trial 8 with value: 0.14470421966294938.\n",
      "[I 2025-05-09 16:56:25,613] Trial 64 finished with value: 0.1444129802969067 and parameters: {'n_estimators': 72, 'max_depth': 29, 'min_samples_split': 14, 'min_samples_leaf': 1, 'max_features': 19}. Best is trial 64 with value: 0.1444129802969067.\n",
      "[I 2025-05-09 16:56:25,672] Trial 63 finished with value: 0.14651698783705785 and parameters: {'n_estimators': 79, 'max_depth': 28, 'min_samples_split': 18, 'min_samples_leaf': 1, 'max_features': 19}. Best is trial 64 with value: 0.1444129802969067.\n",
      "[I 2025-05-09 16:56:25,792] Trial 65 finished with value: 0.14730754958504236 and parameters: {'n_estimators': 78, 'max_depth': 26, 'min_samples_split': 19, 'min_samples_leaf': 1, 'max_features': 19}. Best is trial 64 with value: 0.1444129802969067.\n",
      "[I 2025-05-09 16:56:25,797] Trial 66 finished with value: 0.15074877954996857 and parameters: {'n_estimators': 76, 'max_depth': 10, 'min_samples_split': 17, 'min_samples_leaf': 1, 'max_features': 10}. Best is trial 64 with value: 0.1444129802969067.\n",
      "[I 2025-05-09 16:56:25,874] Trial 67 finished with value: 0.15125502636925472 and parameters: {'n_estimators': 92, 'max_depth': 29, 'min_samples_split': 18, 'min_samples_leaf': 6, 'max_features': 10}. Best is trial 64 with value: 0.1444129802969067.\n",
      "[I 2025-05-09 16:56:25,897] Trial 69 finished with value: 0.14708099374738054 and parameters: {'n_estimators': 79, 'max_depth': 10, 'min_samples_split': 17, 'min_samples_leaf': 6, 'max_features': 19}. Best is trial 64 with value: 0.1444129802969067.\n",
      "[I 2025-05-09 16:56:25,936] Trial 68 finished with value: 0.1472290027767185 and parameters: {'n_estimators': 83, 'max_depth': 11, 'min_samples_split': 18, 'min_samples_leaf': 6, 'max_features': 19}. Best is trial 64 with value: 0.1444129802969067.\n",
      "[I 2025-05-09 16:56:26,269] Trial 70 finished with value: 0.14621971562947808 and parameters: {'n_estimators': 89, 'max_depth': 10, 'min_samples_split': 18, 'min_samples_leaf': 6, 'max_features': 19}. Best is trial 64 with value: 0.1444129802969067.\n",
      "[I 2025-05-09 16:56:26,294] Trial 72 finished with value: 0.14655878503653763 and parameters: {'n_estimators': 95, 'max_depth': 11, 'min_samples_split': 14, 'min_samples_leaf': 6, 'max_features': 19}. Best is trial 64 with value: 0.1444129802969067.\n",
      "[I 2025-05-09 16:56:26,362] Trial 71 finished with value: 0.146522042090833 and parameters: {'n_estimators': 97, 'max_depth': 12, 'min_samples_split': 18, 'min_samples_leaf': 6, 'max_features': 19}. Best is trial 64 with value: 0.1444129802969067.\n",
      "[I 2025-05-09 16:56:26,463] Trial 73 finished with value: 0.1467137746986483 and parameters: {'n_estimators': 91, 'max_depth': 30, 'min_samples_split': 14, 'min_samples_leaf': 1, 'max_features': 13}. Best is trial 64 with value: 0.1444129802969067.\n",
      "[I 2025-05-09 16:56:26,489] Trial 77 finished with value: 0.1476059040465354 and parameters: {'n_estimators': 42, 'max_depth': 30, 'min_samples_split': 14, 'min_samples_leaf': 3, 'max_features': 13}. Best is trial 64 with value: 0.1444129802969067.\n",
      "[I 2025-05-09 16:56:26,491] Trial 74 finished with value: 0.14644643309299238 and parameters: {'n_estimators': 96, 'max_depth': 30, 'min_samples_split': 14, 'min_samples_leaf': 1, 'max_features': 13}. Best is trial 64 with value: 0.1444129802969067.\n",
      "[I 2025-05-09 16:56:26,554] Trial 76 finished with value: 0.14804339776161057 and parameters: {'n_estimators': 111, 'max_depth': 30, 'min_samples_split': 14, 'min_samples_leaf': 3, 'max_features': 13}. Best is trial 64 with value: 0.1444129802969067.\n",
      "[I 2025-05-09 16:56:26,568] Trial 75 finished with value: 0.14770567747052288 and parameters: {'n_estimators': 101, 'max_depth': 30, 'min_samples_split': 14, 'min_samples_leaf': 3, 'max_features': 13}. Best is trial 64 with value: 0.1444129802969067.\n",
      "[I 2025-05-09 16:56:26,708] Trial 79 finished with value: 0.14760590404653529 and parameters: {'n_estimators': 42, 'max_depth': 30, 'min_samples_split': 14, 'min_samples_leaf': 3, 'max_features': 13}. Best is trial 64 with value: 0.1444129802969067.\n",
      "[I 2025-05-09 16:56:26,722] Trial 78 finished with value: 0.1476059040465353 and parameters: {'n_estimators': 42, 'max_depth': 30, 'min_samples_split': 14, 'min_samples_leaf': 3, 'max_features': 13}. Best is trial 64 with value: 0.1444129802969067.\n",
      "[I 2025-05-09 16:56:26,881] Trial 81 finished with value: 0.15104055314598944 and parameters: {'n_estimators': 41, 'max_depth': 26, 'min_samples_split': 12, 'min_samples_leaf': 3, 'max_features': 13}. Best is trial 64 with value: 0.1444129802969067.\n",
      "[I 2025-05-09 16:56:26,890] Trial 80 finished with value: 0.14898524487391798 and parameters: {'n_estimators': 70, 'max_depth': 30, 'min_samples_split': 12, 'min_samples_leaf': 3, 'max_features': 13}. Best is trial 64 with value: 0.1444129802969067.\n",
      "[I 2025-05-09 16:56:26,984] Trial 84 finished with value: 0.14614686311521216 and parameters: {'n_estimators': 71, 'max_depth': 26, 'min_samples_split': 12, 'min_samples_leaf': 8, 'max_features': 16}. Best is trial 64 with value: 0.1444129802969067.\n",
      "[I 2025-05-09 16:56:27,014] Trial 83 finished with value: 0.14316400750256691 and parameters: {'n_estimators': 72, 'max_depth': 26, 'min_samples_split': 12, 'min_samples_leaf': 3, 'max_features': 16}. Best is trial 83 with value: 0.14316400750256691.\n",
      "[I 2025-05-09 16:56:27,021] Trial 82 finished with value: 0.1446346936074733 and parameters: {'n_estimators': 71, 'max_depth': 26, 'min_samples_split': 12, 'min_samples_leaf': 3, 'max_features': 17}. Best is trial 83 with value: 0.14316400750256691.\n",
      "[I 2025-05-09 16:56:27,079] Trial 85 finished with value: 0.146386721651839 and parameters: {'n_estimators': 72, 'max_depth': 26, 'min_samples_split': 12, 'min_samples_leaf': 4, 'max_features': 16}. Best is trial 83 with value: 0.14316400750256691.\n",
      "[I 2025-05-09 16:56:27,173] Trial 87 finished with value: 0.14647973333392764 and parameters: {'n_estimators': 33, 'max_depth': 26, 'min_samples_split': 12, 'min_samples_leaf': 8, 'max_features': 16}. Best is trial 83 with value: 0.14316400750256691.\n",
      "[I 2025-05-09 16:56:27,295] Trial 86 finished with value: 0.14379460451282092 and parameters: {'n_estimators': 72, 'max_depth': 26, 'min_samples_split': 7, 'min_samples_leaf': 4, 'max_features': 16}. Best is trial 83 with value: 0.14316400750256691.\n",
      "[I 2025-05-09 16:56:27,364] Trial 89 finished with value: 0.14710004455875828 and parameters: {'n_estimators': 32, 'max_depth': 25, 'min_samples_split': 7, 'min_samples_leaf': 2, 'max_features': 17}. Best is trial 83 with value: 0.14316400750256691.\n",
      "[I 2025-05-09 16:56:27,426] Trial 88 finished with value: 0.14591099766708476 and parameters: {'n_estimators': 33, 'max_depth': 25, 'min_samples_split': 11, 'min_samples_leaf': 2, 'max_features': 17}. Best is trial 83 with value: 0.14316400750256691.\n",
      "[I 2025-05-09 16:56:27,471] Trial 92 finished with value: 0.14533343409731644 and parameters: {'n_estimators': 34, 'max_depth': 25, 'min_samples_split': 11, 'min_samples_leaf': 4, 'max_features': 17}. Best is trial 83 with value: 0.14316400750256691.\n",
      "[I 2025-05-09 16:56:27,492] Trial 90 finished with value: 0.14686316030362984 and parameters: {'n_estimators': 31, 'max_depth': 25, 'min_samples_split': 7, 'min_samples_leaf': 2, 'max_features': 17}. Best is trial 83 with value: 0.14316400750256691.\n",
      "[I 2025-05-09 16:56:27,529] Trial 93 finished with value: 0.15413267719349308 and parameters: {'n_estimators': 65, 'max_depth': 5, 'min_samples_split': 6, 'min_samples_leaf': 4, 'max_features': 17}. Best is trial 83 with value: 0.14316400750256691.\n",
      "[I 2025-05-09 16:56:27,605] Trial 91 finished with value: 0.14932941207732214 and parameters: {'n_estimators': 64, 'max_depth': 6, 'min_samples_split': 13, 'min_samples_leaf': 4, 'max_features': 17}. Best is trial 83 with value: 0.14316400750256691.\n",
      "[I 2025-05-09 16:56:27,768] Trial 94 finished with value: 0.14462435554806788 and parameters: {'n_estimators': 85, 'max_depth': 25, 'min_samples_split': 11, 'min_samples_leaf': 2, 'max_features': 17}. Best is trial 83 with value: 0.14316400750256691.\n",
      "[I 2025-05-09 16:56:27,840] Trial 95 finished with value: 0.14539558610078301 and parameters: {'n_estimators': 64, 'max_depth': 25, 'min_samples_split': 11, 'min_samples_leaf': 4, 'max_features': 17}. Best is trial 83 with value: 0.14316400750256691.\n",
      "[I 2025-05-09 16:56:27,889] Trial 96 finished with value: 0.1531081935009758 and parameters: {'n_estimators': 65, 'max_depth': 5, 'min_samples_split': 11, 'min_samples_leaf': 4, 'max_features': 18}. Best is trial 83 with value: 0.14316400750256691.\n",
      "[I 2025-05-09 16:56:27,940] Trial 97 finished with value: 0.14682283117256056 and parameters: {'n_estimators': 65, 'max_depth': 28, 'min_samples_split': 13, 'min_samples_leaf': 4, 'max_features': 18}. Best is trial 83 with value: 0.14316400750256691.\n",
      "[I 2025-05-09 16:56:28,031] Trial 98 finished with value: 0.1461489642496253 and parameters: {'n_estimators': 85, 'max_depth': 23, 'min_samples_split': 13, 'min_samples_leaf': 4, 'max_features': 18}. Best is trial 83 with value: 0.14316400750256691.\n",
      "[I 2025-05-09 16:56:28,040] Trial 99 finished with value: 0.1461725421393076 and parameters: {'n_estimators': 67, 'max_depth': 28, 'min_samples_split': 13, 'min_samples_leaf': 4, 'max_features': 18}. Best is trial 83 with value: 0.14316400750256691.\n",
      "[I 2025-05-09 16:56:28,049] Trial 100 finished with value: 0.14614896424962534 and parameters: {'n_estimators': 85, 'max_depth': 23, 'min_samples_split': 13, 'min_samples_leaf': 4, 'max_features': 18}. Best is trial 83 with value: 0.14316400750256691.\n",
      "[I 2025-05-09 16:56:28,253] Trial 101 finished with value: 0.14625362890714244 and parameters: {'n_estimators': 74, 'max_depth': 23, 'min_samples_split': 16, 'min_samples_leaf': 4, 'max_features': 18}. Best is trial 83 with value: 0.14316400750256691.\n",
      "[I 2025-05-09 16:56:28,341] Trial 102 finished with value: 0.1455717356619194 and parameters: {'n_estimators': 86, 'max_depth': 23, 'min_samples_split': 11, 'min_samples_leaf': 4, 'max_features': 18}. Best is trial 83 with value: 0.14316400750256691.\n",
      "[I 2025-05-09 16:56:28,449] Trial 104 finished with value: 0.14581445715064686 and parameters: {'n_estimators': 85, 'max_depth': 28, 'min_samples_split': 13, 'min_samples_leaf': 2, 'max_features': 18}. Best is trial 83 with value: 0.14316400750256691.\n",
      "[I 2025-05-09 16:56:28,486] Trial 105 finished with value: 0.145814457150647 and parameters: {'n_estimators': 85, 'max_depth': 23, 'min_samples_split': 13, 'min_samples_leaf': 2, 'max_features': 18}. Best is trial 83 with value: 0.14316400750256691.\n",
      "[I 2025-05-09 16:56:28,502] Trial 103 finished with value: 0.14549660862514568 and parameters: {'n_estimators': 83, 'max_depth': 21, 'min_samples_split': 11, 'min_samples_leaf': 4, 'max_features': 18}. Best is trial 83 with value: 0.14316400750256691.\n",
      "[I 2025-05-09 16:56:28,542] Trial 106 finished with value: 0.15703645599558544 and parameters: {'n_estimators': 46, 'max_depth': 23, 'min_samples_split': 8, 'min_samples_leaf': 3, 'max_features': 6}. Best is trial 83 with value: 0.14316400750256691.\n",
      "[I 2025-05-09 16:56:28,593] Trial 108 finished with value: 0.14559921084213312 and parameters: {'n_estimators': 74, 'max_depth': 24, 'min_samples_split': 11, 'min_samples_leaf': 3, 'max_features': 16}. Best is trial 83 with value: 0.14316400750256691.\n",
      "[I 2025-05-09 16:56:28,604] Trial 107 finished with value: 0.1545985970512641 and parameters: {'n_estimators': 74, 'max_depth': 23, 'min_samples_split': 11, 'min_samples_leaf': 3, 'max_features': 7}. Best is trial 83 with value: 0.14316400750256691.\n",
      "[I 2025-05-09 16:56:28,710] Trial 109 finished with value: 0.1463430650492782 and parameters: {'n_estimators': 53, 'max_depth': 27, 'min_samples_split': 11, 'min_samples_leaf': 3, 'max_features': 16}. Best is trial 83 with value: 0.14316400750256691.\n",
      "[I 2025-05-09 16:56:28,803] Trial 110 finished with value: 0.1438255086611918 and parameters: {'n_estimators': 54, 'max_depth': 24, 'min_samples_split': 6, 'min_samples_leaf': 3, 'max_features': 16}. Best is trial 83 with value: 0.14316400750256691.\n",
      "[I 2025-05-09 16:56:28,866] Trial 111 finished with value: 0.14634274316105644 and parameters: {'n_estimators': 56, 'max_depth': 24, 'min_samples_split': 11, 'min_samples_leaf': 3, 'max_features': 16}. Best is trial 83 with value: 0.14316400750256691.\n",
      "[I 2025-05-09 16:56:28,973] Trial 112 finished with value: 0.14382550866119168 and parameters: {'n_estimators': 54, 'max_depth': 25, 'min_samples_split': 6, 'min_samples_leaf': 3, 'max_features': 16}. Best is trial 83 with value: 0.14316400750256691.\n",
      "[I 2025-05-09 16:56:28,988] Trial 113 finished with value: 0.14380764283382055 and parameters: {'n_estimators': 55, 'max_depth': 24, 'min_samples_split': 6, 'min_samples_leaf': 3, 'max_features': 16}. Best is trial 83 with value: 0.14316400750256691.\n",
      "[I 2025-05-09 16:56:29,101] Trial 114 finished with value: 0.14312538096136385 and parameters: {'n_estimators': 74, 'max_depth': 25, 'min_samples_split': 6, 'min_samples_leaf': 3, 'max_features': 16}. Best is trial 114 with value: 0.14312538096136385.\n",
      "[I 2025-05-09 16:56:29,110] Trial 116 finished with value: 0.14396190916167242 and parameters: {'n_estimators': 55, 'max_depth': 27, 'min_samples_split': 12, 'min_samples_leaf': 1, 'max_features': 14}. Best is trial 114 with value: 0.14312538096136385.\n",
      "[I 2025-05-09 16:56:29,139] Trial 115 finished with value: 0.14741258136858482 and parameters: {'n_estimators': 53, 'max_depth': 27, 'min_samples_split': 6, 'min_samples_leaf': 1, 'max_features': 14}. Best is trial 114 with value: 0.14312538096136385.\n",
      "[I 2025-05-09 16:56:29,263] Trial 117 finished with value: 0.14724044653608967 and parameters: {'n_estimators': 63, 'max_depth': 25, 'min_samples_split': 6, 'min_samples_leaf': 1, 'max_features': 14}. Best is trial 114 with value: 0.14312538096136385.\n",
      "[I 2025-05-09 16:56:29,275] Trial 118 finished with value: 0.1477407496520303 and parameters: {'n_estimators': 56, 'max_depth': 25, 'min_samples_split': 6, 'min_samples_leaf': 1, 'max_features': 14}. Best is trial 114 with value: 0.14312538096136385.\n",
      "[I 2025-05-09 16:56:29,328] Trial 119 finished with value: 0.1439533673092429 and parameters: {'n_estimators': 62, 'max_depth': 25, 'min_samples_split': 6, 'min_samples_leaf': 1, 'max_features': 17}. Best is trial 114 with value: 0.14312538096136385.\n",
      "[I 2025-05-09 16:56:29,346] Trial 121 finished with value: 0.27670462880148494 and parameters: {'n_estimators': 50, 'max_depth': 27, 'min_samples_split': 6, 'min_samples_leaf': 3, 'max_features': 1}. Best is trial 114 with value: 0.14312538096136385.\n",
      "[I 2025-05-09 16:56:29,382] Trial 120 finished with value: 0.144723871534584 and parameters: {'n_estimators': 56, 'max_depth': 27, 'min_samples_split': 6, 'min_samples_leaf': 2, 'max_features': 14}. Best is trial 114 with value: 0.14312538096136385.\n",
      "[I 2025-05-09 16:56:29,585] Trial 122 finished with value: 0.1472679641534261 and parameters: {'n_estimators': 55, 'max_depth': 27, 'min_samples_split': 6, 'min_samples_leaf': 1, 'max_features': 14}. Best is trial 114 with value: 0.14312538096136385.\n",
      "[I 2025-05-09 16:56:29,594] Trial 123 finished with value: 0.14862190031243355 and parameters: {'n_estimators': 56, 'max_depth': 27, 'min_samples_split': 4, 'min_samples_leaf': 1, 'max_features': 14}. Best is trial 114 with value: 0.14312538096136385.\n",
      "[I 2025-05-09 16:56:29,653] Trial 124 finished with value: 0.1441673859297016 and parameters: {'n_estimators': 57, 'max_depth': 27, 'min_samples_split': 6, 'min_samples_leaf': 1, 'max_features': 16}. Best is trial 114 with value: 0.14312538096136385.\n",
      "[I 2025-05-09 16:56:29,695] Trial 125 finished with value: 0.1447992201232886 and parameters: {'n_estimators': 46, 'max_depth': 26, 'min_samples_split': 4, 'min_samples_leaf': 3, 'max_features': 20}. Best is trial 114 with value: 0.14312538096136385.\n",
      "[I 2025-05-09 16:56:29,779] Trial 126 finished with value: 0.1431997032312589 and parameters: {'n_estimators': 67, 'max_depth': 26, 'min_samples_split': 5, 'min_samples_leaf': 3, 'max_features': 16}. Best is trial 114 with value: 0.14312538096136385.\n",
      "[I 2025-05-09 16:56:29,832] Trial 127 finished with value: 0.14513629568328656 and parameters: {'n_estimators': 68, 'max_depth': 24, 'min_samples_split': 4, 'min_samples_leaf': 1, 'max_features': 16}. Best is trial 114 with value: 0.14312538096136385.\n",
      "[I 2025-05-09 16:56:29,878] Trial 129 finished with value: 0.14513629568328662 and parameters: {'n_estimators': 68, 'max_depth': 26, 'min_samples_split': 4, 'min_samples_leaf': 1, 'max_features': 16}. Best is trial 114 with value: 0.14312538096136385.\n",
      "[I 2025-05-09 16:56:29,896] Trial 128 finished with value: 0.14432870571723425 and parameters: {'n_estimators': 70, 'max_depth': 26, 'min_samples_split': 7, 'min_samples_leaf': 1, 'max_features': 16}. Best is trial 114 with value: 0.14312538096136385.\n",
      "[I 2025-05-09 16:56:30,147] Trial 130 finished with value: 0.14513629568328665 and parameters: {'n_estimators': 68, 'max_depth': 24, 'min_samples_split': 4, 'min_samples_leaf': 1, 'max_features': 16}. Best is trial 114 with value: 0.14312538096136385.\n",
      "[I 2025-05-09 16:56:30,180] Trial 131 finished with value: 0.14524908608411263 and parameters: {'n_estimators': 71, 'max_depth': 24, 'min_samples_split': 4, 'min_samples_leaf': 1, 'max_features': 16}. Best is trial 114 with value: 0.14312538096136385.\n",
      "[I 2025-05-09 16:56:30,254] Trial 133 finished with value: 0.14494461590657212 and parameters: {'n_estimators': 62, 'max_depth': 24, 'min_samples_split': 7, 'min_samples_leaf': 1, 'max_features': 16}. Best is trial 114 with value: 0.14312538096136385.\n",
      "[I 2025-05-09 16:56:30,264] Trial 132 finished with value: 0.1455410330994881 and parameters: {'n_estimators': 69, 'max_depth': 26, 'min_samples_split': 4, 'min_samples_leaf': 1, 'max_features': 16}. Best is trial 114 with value: 0.14312538096136385.\n",
      "[I 2025-05-09 16:56:30,330] Trial 134 finished with value: 0.14513629568328681 and parameters: {'n_estimators': 68, 'max_depth': 24, 'min_samples_split': 4, 'min_samples_leaf': 1, 'max_features': 16}. Best is trial 114 with value: 0.14312538096136385.\n",
      "[I 2025-05-09 16:56:30,385] Trial 135 finished with value: 0.1457548465813909 and parameters: {'n_estimators': 62, 'max_depth': 24, 'min_samples_split': 7, 'min_samples_leaf': 1, 'max_features': 15}. Best is trial 114 with value: 0.14312538096136385.\n",
      "[I 2025-05-09 16:56:30,421] Trial 137 finished with value: 0.14567054645753985 and parameters: {'n_estimators': 62, 'max_depth': 25, 'min_samples_split': 7, 'min_samples_leaf': 1, 'max_features': 15}. Best is trial 114 with value: 0.14312538096136385.\n",
      "[I 2025-05-09 16:56:30,444] Trial 136 finished with value: 0.145744946386274 and parameters: {'n_estimators': 60, 'max_depth': 25, 'min_samples_split': 7, 'min_samples_leaf': 1, 'max_features': 15}. Best is trial 114 with value: 0.14312538096136385.\n",
      "[I 2025-05-09 16:56:30,711] Trial 139 finished with value: 0.14567054645753982 and parameters: {'n_estimators': 62, 'max_depth': 26, 'min_samples_split': 7, 'min_samples_leaf': 1, 'max_features': 15}. Best is trial 114 with value: 0.14312538096136385.\n",
      "[I 2025-05-09 16:56:30,724] Trial 138 finished with value: 0.14572617054162354 and parameters: {'n_estimators': 61, 'max_depth': 25, 'min_samples_split': 7, 'min_samples_leaf': 1, 'max_features': 15}. Best is trial 114 with value: 0.14312538096136385.\n",
      "[I 2025-05-09 16:56:30,825] Trial 142 finished with value: 0.1435789956515743 and parameters: {'n_estimators': 76, 'max_depth': 25, 'min_samples_split': 5, 'min_samples_leaf': 2, 'max_features': 15}. Best is trial 114 with value: 0.14312538096136385.\n",
      "[I 2025-05-09 16:56:30,842] Trial 140 finished with value: 0.14457736348302508 and parameters: {'n_estimators': 81, 'max_depth': 25, 'min_samples_split': 7, 'min_samples_leaf': 2, 'max_features': 15}. Best is trial 114 with value: 0.14312538096136385.\n",
      "[I 2025-05-09 16:56:30,862] Trial 141 finished with value: 0.1455414126278985 and parameters: {'n_estimators': 59, 'max_depth': 25, 'min_samples_split': 7, 'min_samples_leaf': 2, 'max_features': 15}. Best is trial 114 with value: 0.14312538096136385.\n",
      "[I 2025-05-09 16:56:30,919] Trial 143 finished with value: 0.1435789956515743 and parameters: {'n_estimators': 76, 'max_depth': 25, 'min_samples_split': 5, 'min_samples_leaf': 2, 'max_features': 15}. Best is trial 114 with value: 0.14312538096136385.\n",
      "[I 2025-05-09 16:56:30,968] Trial 144 finished with value: 0.14412906203473866 and parameters: {'n_estimators': 81, 'max_depth': 26, 'min_samples_split': 5, 'min_samples_leaf': 2, 'max_features': 15}. Best is trial 114 with value: 0.14312538096136385.\n",
      "[I 2025-05-09 16:56:31,093] Trial 145 finished with value: 0.14368754380319662 and parameters: {'n_estimators': 75, 'max_depth': 28, 'min_samples_split': 5, 'min_samples_leaf': 2, 'max_features': 17}. Best is trial 114 with value: 0.14312538096136385.\n",
      "[I 2025-05-09 16:56:31,263] Trial 146 finished with value: 0.1435442220588813 and parameters: {'n_estimators': 76, 'max_depth': 28, 'min_samples_split': 5, 'min_samples_leaf': 2, 'max_features': 17}. Best is trial 114 with value: 0.14312538096136385.\n",
      "[I 2025-05-09 16:56:31,297] Trial 147 finished with value: 0.1448257055583459 and parameters: {'n_estimators': 75, 'max_depth': 28, 'min_samples_split': 3, 'min_samples_leaf': 2, 'max_features': 17}. Best is trial 114 with value: 0.14312538096136385.\n",
      "[I 2025-05-09 16:56:31,315] Trial 149 finished with value: 0.1432879634855324 and parameters: {'n_estimators': 81, 'max_depth': 28, 'min_samples_split': 5, 'min_samples_leaf': 2, 'max_features': 17}. Best is trial 114 with value: 0.14312538096136385.\n",
      "[I 2025-05-09 16:56:31,402] Trial 150 finished with value: 0.14354422205888115 and parameters: {'n_estimators': 76, 'max_depth': 28, 'min_samples_split': 5, 'min_samples_leaf': 2, 'max_features': 17}. Best is trial 114 with value: 0.14312538096136385.\n",
      "[I 2025-05-09 16:56:31,406] Trial 148 finished with value: 0.14368754380319654 and parameters: {'n_estimators': 75, 'max_depth': 28, 'min_samples_split': 5, 'min_samples_leaf': 2, 'max_features': 17}. Best is trial 114 with value: 0.14312538096136385.\n",
      "[I 2025-05-09 16:56:31,539] Trial 151 finished with value: 0.1440582786016317 and parameters: {'n_estimators': 80, 'max_depth': 28, 'min_samples_split': 5, 'min_samples_leaf': 2, 'max_features': 15}. Best is trial 114 with value: 0.14312538096136385.\n",
      "[I 2025-05-09 16:56:31,593] Trial 152 finished with value: 0.14398870389263155 and parameters: {'n_estimators': 77, 'max_depth': 28, 'min_samples_split': 5, 'min_samples_leaf': 2, 'max_features': 16}. Best is trial 114 with value: 0.14312538096136385.\n",
      "[I 2025-05-09 16:56:31,702] Trial 154 finished with value: 0.14354422205888112 and parameters: {'n_estimators': 76, 'max_depth': 28, 'min_samples_split': 5, 'min_samples_leaf': 2, 'max_features': 17}. Best is trial 114 with value: 0.14312538096136385.\n",
      "[I 2025-05-09 16:56:31,829] Trial 153 finished with value: 0.143544222058881 and parameters: {'n_estimators': 76, 'max_depth': 28, 'min_samples_split': 5, 'min_samples_leaf': 2, 'max_features': 17}. Best is trial 114 with value: 0.14312538096136385.\n",
      "[I 2025-05-09 16:56:31,913] Trial 156 finished with value: 0.1434068121803098 and parameters: {'n_estimators': 77, 'max_depth': 28, 'min_samples_split': 5, 'min_samples_leaf': 2, 'max_features': 17}. Best is trial 114 with value: 0.14312538096136385.\n",
      "[I 2025-05-09 16:56:31,920] Trial 155 finished with value: 0.1434068121803098 and parameters: {'n_estimators': 77, 'max_depth': 28, 'min_samples_split': 5, 'min_samples_leaf': 2, 'max_features': 17}. Best is trial 114 with value: 0.14312538096136385.\n",
      "[I 2025-05-09 16:56:31,941] Trial 157 finished with value: 0.14354422205888112 and parameters: {'n_estimators': 76, 'max_depth': 28, 'min_samples_split': 5, 'min_samples_leaf': 2, 'max_features': 17}. Best is trial 114 with value: 0.14312538096136385.\n",
      "[I 2025-05-09 16:56:32,077] Trial 158 finished with value: 0.1435442220588813 and parameters: {'n_estimators': 76, 'max_depth': 28, 'min_samples_split': 5, 'min_samples_leaf': 2, 'max_features': 17}. Best is trial 114 with value: 0.14312538096136385.\n",
      "[I 2025-05-09 16:56:32,197] Trial 159 finished with value: 0.1434068121803096 and parameters: {'n_estimators': 77, 'max_depth': 28, 'min_samples_split': 5, 'min_samples_leaf': 2, 'max_features': 17}. Best is trial 114 with value: 0.14312538096136385.\n",
      "[I 2025-05-09 16:56:32,301] Trial 161 finished with value: 0.14354422205888104 and parameters: {'n_estimators': 76, 'max_depth': 29, 'min_samples_split': 5, 'min_samples_leaf': 2, 'max_features': 17}. Best is trial 114 with value: 0.14312538096136385.\n",
      "[I 2025-05-09 16:56:32,307] Trial 160 finished with value: 0.1435442220588812 and parameters: {'n_estimators': 76, 'max_depth': 29, 'min_samples_split': 5, 'min_samples_leaf': 2, 'max_features': 17}. Best is trial 114 with value: 0.14312538096136385.\n",
      "[I 2025-05-09 16:56:32,406] Trial 162 finished with value: 0.1435442220588812 and parameters: {'n_estimators': 76, 'max_depth': 29, 'min_samples_split': 5, 'min_samples_leaf': 2, 'max_features': 17}. Best is trial 114 with value: 0.14312538096136385.\n",
      "[I 2025-05-09 16:56:32,532] Trial 165 finished with value: 0.14354422205888115 and parameters: {'n_estimators': 76, 'max_depth': 29, 'min_samples_split': 5, 'min_samples_leaf': 2, 'max_features': 17}. Best is trial 114 with value: 0.14312538096136385.\n",
      "[I 2025-05-09 16:56:32,549] Trial 164 finished with value: 0.14354422205888093 and parameters: {'n_estimators': 76, 'max_depth': 29, 'min_samples_split': 5, 'min_samples_leaf': 2, 'max_features': 17}. Best is trial 114 with value: 0.14312538096136385.\n",
      "[I 2025-05-09 16:56:32,556] Trial 163 finished with value: 0.14354422205888112 and parameters: {'n_estimators': 76, 'max_depth': 29, 'min_samples_split': 5, 'min_samples_leaf': 2, 'max_features': 17}. Best is trial 114 with value: 0.14312538096136385.\n",
      "[I 2025-05-09 16:56:32,593] Trial 166 finished with value: 0.14368754380319673 and parameters: {'n_estimators': 75, 'max_depth': 29, 'min_samples_split': 5, 'min_samples_leaf': 2, 'max_features': 17}. Best is trial 114 with value: 0.14312538096136385.\n",
      "[I 2025-05-09 16:56:32,836] Trial 167 finished with value: 0.1434068121803097 and parameters: {'n_estimators': 77, 'max_depth': 28, 'min_samples_split': 5, 'min_samples_leaf': 2, 'max_features': 17}. Best is trial 114 with value: 0.14312538096136385.\n",
      "[I 2025-05-09 16:56:32,855] Trial 168 finished with value: 0.14346210437624088 and parameters: {'n_estimators': 78, 'max_depth': 29, 'min_samples_split': 5, 'min_samples_leaf': 2, 'max_features': 17}. Best is trial 114 with value: 0.14312538096136385.\n",
      "[I 2025-05-09 16:56:32,989] Trial 169 finished with value: 0.14346210437624082 and parameters: {'n_estimators': 78, 'max_depth': 29, 'min_samples_split': 5, 'min_samples_leaf': 2, 'max_features': 17}. Best is trial 114 with value: 0.14312538096136385.\n",
      "[I 2025-05-09 16:56:33,042] Trial 170 finished with value: 0.1432503806396187 and parameters: {'n_estimators': 88, 'max_depth': 29, 'min_samples_split': 5, 'min_samples_leaf': 2, 'max_features': 17}. Best is trial 114 with value: 0.14312538096136385.\n",
      "[I 2025-05-09 16:56:33,148] Trial 173 finished with value: 0.14311590709465785 and parameters: {'n_estimators': 89, 'max_depth': 29, 'min_samples_split': 5, 'min_samples_leaf': 2, 'max_features': 17}. Best is trial 173 with value: 0.14311590709465785.\n",
      "[I 2025-05-09 16:56:33,177] Trial 171 finished with value: 0.14485192081807483 and parameters: {'n_estimators': 88, 'max_depth': 29, 'min_samples_split': 3, 'min_samples_leaf': 2, 'max_features': 17}. Best is trial 173 with value: 0.14311590709465785.\n",
      "[I 2025-05-09 16:56:33,202] Trial 172 finished with value: 0.14340564135016545 and parameters: {'n_estimators': 82, 'max_depth': 29, 'min_samples_split': 5, 'min_samples_leaf': 2, 'max_features': 17}. Best is trial 173 with value: 0.14311590709465785.\n",
      "[I 2025-05-09 16:56:33,322] Trial 174 finished with value: 0.1445137960473125 and parameters: {'n_estimators': 81, 'max_depth': 29, 'min_samples_split': 4, 'min_samples_leaf': 2, 'max_features': 18}. Best is trial 173 with value: 0.14311590709465785.\n",
      "[I 2025-05-09 16:56:33,482] Trial 175 finished with value: 0.14468915815283198 and parameters: {'n_estimators': 82, 'max_depth': 29, 'min_samples_split': 3, 'min_samples_leaf': 2, 'max_features': 18}. Best is trial 173 with value: 0.14311590709465785.\n",
      "[I 2025-05-09 16:56:33,515] Trial 176 finished with value: 0.14480878955413412 and parameters: {'n_estimators': 89, 'max_depth': 29, 'min_samples_split': 3, 'min_samples_leaf': 2, 'max_features': 18}. Best is trial 173 with value: 0.14311590709465785.\n",
      "[I 2025-05-09 16:56:33,606] Trial 177 finished with value: 0.14468915815283187 and parameters: {'n_estimators': 82, 'max_depth': 29, 'min_samples_split': 3, 'min_samples_leaf': 2, 'max_features': 18}. Best is trial 173 with value: 0.14311590709465785.\n",
      "[I 2025-05-09 16:56:33,667] Trial 178 finished with value: 0.14473015049624488 and parameters: {'n_estimators': 88, 'max_depth': 29, 'min_samples_split': 3, 'min_samples_leaf': 2, 'max_features': 18}. Best is trial 173 with value: 0.14311590709465785.\n",
      "[I 2025-05-09 16:56:33,748] Trial 179 finished with value: 0.14485484425296283 and parameters: {'n_estimators': 87, 'max_depth': 29, 'min_samples_split': 3, 'min_samples_leaf': 2, 'max_features': 18}. Best is trial 173 with value: 0.14311590709465785.\n",
      "[I 2025-05-09 16:56:33,832] Trial 180 finished with value: 0.14468915815283212 and parameters: {'n_estimators': 82, 'max_depth': 29, 'min_samples_split': 3, 'min_samples_leaf': 2, 'max_features': 18}. Best is trial 173 with value: 0.14311590709465785.\n",
      "[I 2025-05-09 16:56:33,859] Trial 181 finished with value: 0.14453391760926718 and parameters: {'n_estimators': 83, 'max_depth': 29, 'min_samples_split': 4, 'min_samples_leaf': 2, 'max_features': 18}. Best is trial 173 with value: 0.14311590709465785.\n",
      "[I 2025-05-09 16:56:33,928] Trial 182 finished with value: 0.14480878955413398 and parameters: {'n_estimators': 89, 'max_depth': 29, 'min_samples_split': 4, 'min_samples_leaf': 2, 'max_features': 18}. Best is trial 173 with value: 0.14311590709465785.\n",
      "[I 2025-05-09 16:56:34,158] Trial 183 finished with value: 0.14473015049624505 and parameters: {'n_estimators': 88, 'max_depth': 30, 'min_samples_split': 4, 'min_samples_leaf': 2, 'max_features': 18}. Best is trial 173 with value: 0.14311590709465785.\n",
      "[I 2025-05-09 16:56:34,245] Trial 185 finished with value: 0.14490780670110476 and parameters: {'n_estimators': 92, 'max_depth': 30, 'min_samples_split': 4, 'min_samples_leaf': 2, 'max_features': 17}. Best is trial 173 with value: 0.14311590709465785.\n",
      "[I 2025-05-09 16:56:34,246] Trial 184 finished with value: 0.14478948950294848 and parameters: {'n_estimators': 93, 'max_depth': 30, 'min_samples_split': 4, 'min_samples_leaf': 2, 'max_features': 18}. Best is trial 173 with value: 0.14311590709465785.\n",
      "[I 2025-05-09 16:56:34,357] Trial 187 finished with value: 0.14490780670110487 and parameters: {'n_estimators': 92, 'max_depth': 30, 'min_samples_split': 4, 'min_samples_leaf': 2, 'max_features': 17}. Best is trial 173 with value: 0.14311590709465785.\n",
      "[I 2025-05-09 16:56:34,399] Trial 186 finished with value: 0.14506539068569024 and parameters: {'n_estimators': 93, 'max_depth': 30, 'min_samples_split': 4, 'min_samples_leaf': 2, 'max_features': 17}. Best is trial 173 with value: 0.14311590709465785.\n",
      "[I 2025-05-09 16:56:34,552] Trial 189 finished with value: 0.14507234131411215 and parameters: {'n_estimators': 80, 'max_depth': 30, 'min_samples_split': 4, 'min_samples_leaf': 2, 'max_features': 17}. Best is trial 173 with value: 0.14311590709465785.\n",
      "[I 2025-05-09 16:56:34,568] Trial 188 finished with value: 0.1450653906856903 and parameters: {'n_estimators': 93, 'max_depth': 30, 'min_samples_split': 4, 'min_samples_leaf': 2, 'max_features': 17}. Best is trial 173 with value: 0.14311590709465785.\n",
      "[I 2025-05-09 16:56:34,614] Trial 190 finished with value: 0.1433523468836731 and parameters: {'n_estimators': 92, 'max_depth': 30, 'min_samples_split': 5, 'min_samples_leaf': 2, 'max_features': 17}. Best is trial 173 with value: 0.14311590709465785.\n",
      "[I 2025-05-09 16:56:34,723] Trial 191 finished with value: 0.14335234688367307 and parameters: {'n_estimators': 92, 'max_depth': 30, 'min_samples_split': 5, 'min_samples_leaf': 2, 'max_features': 17}. Best is trial 173 with value: 0.14311590709465785.\n",
      "[I 2025-05-09 16:56:34,875] Trial 192 finished with value: 0.143317745543239 and parameters: {'n_estimators': 80, 'max_depth': 28, 'min_samples_split': 5, 'min_samples_leaf': 2, 'max_features': 17}. Best is trial 173 with value: 0.14311590709465785.\n",
      "[I 2025-05-09 16:56:34,904] Trial 193 finished with value: 0.14333219196054972 and parameters: {'n_estimators': 79, 'max_depth': 28, 'min_samples_split': 5, 'min_samples_leaf': 2, 'max_features': 17}. Best is trial 173 with value: 0.14311590709465785.\n",
      "[I 2025-05-09 16:56:34,954] Trial 194 finished with value: 0.14331774554323912 and parameters: {'n_estimators': 80, 'max_depth': 28, 'min_samples_split': 5, 'min_samples_leaf': 2, 'max_features': 17}. Best is trial 173 with value: 0.14311590709465785.\n",
      "[I 2025-05-09 16:56:35,048] Trial 195 finished with value: 0.14333219196054953 and parameters: {'n_estimators': 79, 'max_depth': 28, 'min_samples_split': 5, 'min_samples_leaf': 2, 'max_features': 17}. Best is trial 173 with value: 0.14311590709465785.\n",
      "[I 2025-05-09 16:56:35,116] Trial 197 finished with value: 0.14314825510573606 and parameters: {'n_estimators': 72, 'max_depth': 28, 'min_samples_split': 5, 'min_samples_leaf': 2, 'max_features': 17}. Best is trial 173 with value: 0.14311590709465785.\n",
      "[I 2025-05-09 16:56:35,124] Trial 196 finished with value: 0.14314825510573606 and parameters: {'n_estimators': 72, 'max_depth': 28, 'min_samples_split': 5, 'min_samples_leaf': 2, 'max_features': 17}. Best is trial 173 with value: 0.14311590709465785.\n",
      "[I 2025-05-09 16:56:35,171] Trial 198 finished with value: 0.143148255105736 and parameters: {'n_estimators': 72, 'max_depth': 28, 'min_samples_split': 5, 'min_samples_leaf': 2, 'max_features': 17}. Best is trial 173 with value: 0.14311590709465785.\n",
      "[I 2025-05-09 16:56:35,183] Trial 199 finished with value: 0.14333219196054953 and parameters: {'n_estimators': 79, 'max_depth': 28, 'min_samples_split': 5, 'min_samples_leaf': 2, 'max_features': 17}. Best is trial 173 with value: 0.14311590709465785.\n"
     ]
    }
   ],
   "source": [
    "study = optuna.create_study(direction='minimize')\n",
    "study.optimize(objective, n_trials=200, n_jobs=-1)"
   ]
  },
  {
   "cell_type": "code",
   "execution_count": 86,
   "id": "474ba176",
   "metadata": {},
   "outputs": [
    {
     "data": {
      "text/plain": [
       "({'n_estimators': 89,\n",
       "  'max_depth': 29,\n",
       "  'min_samples_split': 5,\n",
       "  'min_samples_leaf': 2,\n",
       "  'max_features': 17},\n",
       " 0.14311590709465785)"
      ]
     },
     "execution_count": 86,
     "metadata": {},
     "output_type": "execute_result"
    }
   ],
   "source": [
    "study.best_params, study.best_value"
   ]
  },
  {
   "cell_type": "code",
   "execution_count": 87,
   "id": "ffd7d2fc",
   "metadata": {},
   "outputs": [
    {
     "ename": "ValueError",
     "evalue": "Mime type rendering requires nbformat>=4.2.0 but it is not installed",
     "output_type": "error",
     "traceback": [
      "\u001b[31m---------------------------------------------------------------------------\u001b[39m",
      "\u001b[31mValueError\u001b[39m                                Traceback (most recent call last)",
      "\u001b[36mFile \u001b[39m\u001b[32m~/github.com/automatedtomato/kaggle-house-prices/.venv/lib/python3.13/site-packages/IPython/core/formatters.py:984\u001b[39m, in \u001b[36mIPythonDisplayFormatter.__call__\u001b[39m\u001b[34m(self, obj)\u001b[39m\n\u001b[32m    982\u001b[39m method = get_real_method(obj, \u001b[38;5;28mself\u001b[39m.print_method)\n\u001b[32m    983\u001b[39m \u001b[38;5;28;01mif\u001b[39;00m method \u001b[38;5;129;01mis\u001b[39;00m \u001b[38;5;129;01mnot\u001b[39;00m \u001b[38;5;28;01mNone\u001b[39;00m:\n\u001b[32m--> \u001b[39m\u001b[32m984\u001b[39m     \u001b[43mmethod\u001b[49m\u001b[43m(\u001b[49m\u001b[43m)\u001b[49m\n\u001b[32m    985\u001b[39m     \u001b[38;5;28;01mreturn\u001b[39;00m \u001b[38;5;28;01mTrue\u001b[39;00m\n",
      "\u001b[36mFile \u001b[39m\u001b[32m~/github.com/automatedtomato/kaggle-house-prices/.venv/lib/python3.13/site-packages/plotly/basedatatypes.py:833\u001b[39m, in \u001b[36mBaseFigure._ipython_display_\u001b[39m\u001b[34m(self)\u001b[39m\n\u001b[32m    830\u001b[39m \u001b[38;5;28;01mimport\u001b[39;00m\u001b[38;5;250m \u001b[39m\u001b[34;01mplotly\u001b[39;00m\u001b[34;01m.\u001b[39;00m\u001b[34;01mio\u001b[39;00m\u001b[38;5;250m \u001b[39m\u001b[38;5;28;01mas\u001b[39;00m\u001b[38;5;250m \u001b[39m\u001b[34;01mpio\u001b[39;00m\n\u001b[32m    832\u001b[39m \u001b[38;5;28;01mif\u001b[39;00m pio.renderers.render_on_display \u001b[38;5;129;01mand\u001b[39;00m pio.renderers.default:\n\u001b[32m--> \u001b[39m\u001b[32m833\u001b[39m     \u001b[43mpio\u001b[49m\u001b[43m.\u001b[49m\u001b[43mshow\u001b[49m\u001b[43m(\u001b[49m\u001b[38;5;28;43mself\u001b[39;49m\u001b[43m)\u001b[49m\n\u001b[32m    834\u001b[39m \u001b[38;5;28;01melse\u001b[39;00m:\n\u001b[32m    835\u001b[39m     \u001b[38;5;28mprint\u001b[39m(\u001b[38;5;28mrepr\u001b[39m(\u001b[38;5;28mself\u001b[39m))\n",
      "\u001b[36mFile \u001b[39m\u001b[32m~/github.com/automatedtomato/kaggle-house-prices/.venv/lib/python3.13/site-packages/plotly/io/_renderers.py:425\u001b[39m, in \u001b[36mshow\u001b[39m\u001b[34m(fig, renderer, validate, **kwargs)\u001b[39m\n\u001b[32m    420\u001b[39m     \u001b[38;5;28;01mraise\u001b[39;00m \u001b[38;5;167;01mValueError\u001b[39;00m(\n\u001b[32m    421\u001b[39m         \u001b[33m\"\u001b[39m\u001b[33mMime type rendering requires ipython but it is not installed\u001b[39m\u001b[33m\"\u001b[39m\n\u001b[32m    422\u001b[39m     )\n\u001b[32m    424\u001b[39m \u001b[38;5;28;01mif\u001b[39;00m \u001b[38;5;129;01mnot\u001b[39;00m nbformat \u001b[38;5;129;01mor\u001b[39;00m Version(nbformat.__version__) < Version(\u001b[33m\"\u001b[39m\u001b[33m4.2.0\u001b[39m\u001b[33m\"\u001b[39m):\n\u001b[32m--> \u001b[39m\u001b[32m425\u001b[39m     \u001b[38;5;28;01mraise\u001b[39;00m \u001b[38;5;167;01mValueError\u001b[39;00m(\n\u001b[32m    426\u001b[39m         \u001b[33m\"\u001b[39m\u001b[33mMime type rendering requires nbformat>=4.2.0 but it is not installed\u001b[39m\u001b[33m\"\u001b[39m\n\u001b[32m    427\u001b[39m     )\n\u001b[32m    429\u001b[39m display_jupyter_version_warnings()\n\u001b[32m    431\u001b[39m ipython_display.display(bundle, raw=\u001b[38;5;28;01mTrue\u001b[39;00m)\n",
      "\u001b[31mValueError\u001b[39m: Mime type rendering requires nbformat>=4.2.0 but it is not installed"
     ]
    },
    {
     "data": {
      "application/vnd.plotly.v1+json": {
       "config": {
        "plotlyServerURL": "https://plot.ly"
       },
       "data": [
        {
         "cliponaxis": false,
         "hovertemplate": [
          "min_samples_split (IntDistribution): 0.003431226015421862<extra></extra>",
          "max_depth (IntDistribution): 0.0041449300903383226<extra></extra>",
          "n_estimators (IntDistribution): 0.004198419310948213<extra></extra>",
          "min_samples_leaf (IntDistribution): 0.02925196560796904<extra></extra>",
          "max_features (IntDistribution): 0.9589734589753225<extra></extra>"
         ],
         "name": "Objective Value",
         "orientation": "h",
         "text": [
          "<0.01",
          "<0.01",
          "<0.01",
          "0.03",
          "0.96"
         ],
         "textposition": "outside",
         "type": "bar",
         "x": [
          0.003431226015421862,
          0.0041449300903383226,
          0.004198419310948213,
          0.02925196560796904,
          0.9589734589753225
         ],
         "y": [
          "min_samples_split",
          "max_depth",
          "n_estimators",
          "min_samples_leaf",
          "max_features"
         ]
        }
       ],
       "layout": {
        "template": {
         "data": {
          "bar": [
           {
            "error_x": {
             "color": "#2a3f5f"
            },
            "error_y": {
             "color": "#2a3f5f"
            },
            "marker": {
             "line": {
              "color": "#E5ECF6",
              "width": 0.5
             },
             "pattern": {
              "fillmode": "overlay",
              "size": 10,
              "solidity": 0.2
             }
            },
            "type": "bar"
           }
          ],
          "barpolar": [
           {
            "marker": {
             "line": {
              "color": "#E5ECF6",
              "width": 0.5
             },
             "pattern": {
              "fillmode": "overlay",
              "size": 10,
              "solidity": 0.2
             }
            },
            "type": "barpolar"
           }
          ],
          "carpet": [
           {
            "aaxis": {
             "endlinecolor": "#2a3f5f",
             "gridcolor": "white",
             "linecolor": "white",
             "minorgridcolor": "white",
             "startlinecolor": "#2a3f5f"
            },
            "baxis": {
             "endlinecolor": "#2a3f5f",
             "gridcolor": "white",
             "linecolor": "white",
             "minorgridcolor": "white",
             "startlinecolor": "#2a3f5f"
            },
            "type": "carpet"
           }
          ],
          "choropleth": [
           {
            "colorbar": {
             "outlinewidth": 0,
             "ticks": ""
            },
            "type": "choropleth"
           }
          ],
          "contour": [
           {
            "colorbar": {
             "outlinewidth": 0,
             "ticks": ""
            },
            "colorscale": [
             [
              0,
              "#0d0887"
             ],
             [
              0.1111111111111111,
              "#46039f"
             ],
             [
              0.2222222222222222,
              "#7201a8"
             ],
             [
              0.3333333333333333,
              "#9c179e"
             ],
             [
              0.4444444444444444,
              "#bd3786"
             ],
             [
              0.5555555555555556,
              "#d8576b"
             ],
             [
              0.6666666666666666,
              "#ed7953"
             ],
             [
              0.7777777777777778,
              "#fb9f3a"
             ],
             [
              0.8888888888888888,
              "#fdca26"
             ],
             [
              1,
              "#f0f921"
             ]
            ],
            "type": "contour"
           }
          ],
          "contourcarpet": [
           {
            "colorbar": {
             "outlinewidth": 0,
             "ticks": ""
            },
            "type": "contourcarpet"
           }
          ],
          "heatmap": [
           {
            "colorbar": {
             "outlinewidth": 0,
             "ticks": ""
            },
            "colorscale": [
             [
              0,
              "#0d0887"
             ],
             [
              0.1111111111111111,
              "#46039f"
             ],
             [
              0.2222222222222222,
              "#7201a8"
             ],
             [
              0.3333333333333333,
              "#9c179e"
             ],
             [
              0.4444444444444444,
              "#bd3786"
             ],
             [
              0.5555555555555556,
              "#d8576b"
             ],
             [
              0.6666666666666666,
              "#ed7953"
             ],
             [
              0.7777777777777778,
              "#fb9f3a"
             ],
             [
              0.8888888888888888,
              "#fdca26"
             ],
             [
              1,
              "#f0f921"
             ]
            ],
            "type": "heatmap"
           }
          ],
          "histogram": [
           {
            "marker": {
             "pattern": {
              "fillmode": "overlay",
              "size": 10,
              "solidity": 0.2
             }
            },
            "type": "histogram"
           }
          ],
          "histogram2d": [
           {
            "colorbar": {
             "outlinewidth": 0,
             "ticks": ""
            },
            "colorscale": [
             [
              0,
              "#0d0887"
             ],
             [
              0.1111111111111111,
              "#46039f"
             ],
             [
              0.2222222222222222,
              "#7201a8"
             ],
             [
              0.3333333333333333,
              "#9c179e"
             ],
             [
              0.4444444444444444,
              "#bd3786"
             ],
             [
              0.5555555555555556,
              "#d8576b"
             ],
             [
              0.6666666666666666,
              "#ed7953"
             ],
             [
              0.7777777777777778,
              "#fb9f3a"
             ],
             [
              0.8888888888888888,
              "#fdca26"
             ],
             [
              1,
              "#f0f921"
             ]
            ],
            "type": "histogram2d"
           }
          ],
          "histogram2dcontour": [
           {
            "colorbar": {
             "outlinewidth": 0,
             "ticks": ""
            },
            "colorscale": [
             [
              0,
              "#0d0887"
             ],
             [
              0.1111111111111111,
              "#46039f"
             ],
             [
              0.2222222222222222,
              "#7201a8"
             ],
             [
              0.3333333333333333,
              "#9c179e"
             ],
             [
              0.4444444444444444,
              "#bd3786"
             ],
             [
              0.5555555555555556,
              "#d8576b"
             ],
             [
              0.6666666666666666,
              "#ed7953"
             ],
             [
              0.7777777777777778,
              "#fb9f3a"
             ],
             [
              0.8888888888888888,
              "#fdca26"
             ],
             [
              1,
              "#f0f921"
             ]
            ],
            "type": "histogram2dcontour"
           }
          ],
          "mesh3d": [
           {
            "colorbar": {
             "outlinewidth": 0,
             "ticks": ""
            },
            "type": "mesh3d"
           }
          ],
          "parcoords": [
           {
            "line": {
             "colorbar": {
              "outlinewidth": 0,
              "ticks": ""
             }
            },
            "type": "parcoords"
           }
          ],
          "pie": [
           {
            "automargin": true,
            "type": "pie"
           }
          ],
          "scatter": [
           {
            "fillpattern": {
             "fillmode": "overlay",
             "size": 10,
             "solidity": 0.2
            },
            "type": "scatter"
           }
          ],
          "scatter3d": [
           {
            "line": {
             "colorbar": {
              "outlinewidth": 0,
              "ticks": ""
             }
            },
            "marker": {
             "colorbar": {
              "outlinewidth": 0,
              "ticks": ""
             }
            },
            "type": "scatter3d"
           }
          ],
          "scattercarpet": [
           {
            "marker": {
             "colorbar": {
              "outlinewidth": 0,
              "ticks": ""
             }
            },
            "type": "scattercarpet"
           }
          ],
          "scattergeo": [
           {
            "marker": {
             "colorbar": {
              "outlinewidth": 0,
              "ticks": ""
             }
            },
            "type": "scattergeo"
           }
          ],
          "scattergl": [
           {
            "marker": {
             "colorbar": {
              "outlinewidth": 0,
              "ticks": ""
             }
            },
            "type": "scattergl"
           }
          ],
          "scattermap": [
           {
            "marker": {
             "colorbar": {
              "outlinewidth": 0,
              "ticks": ""
             }
            },
            "type": "scattermap"
           }
          ],
          "scattermapbox": [
           {
            "marker": {
             "colorbar": {
              "outlinewidth": 0,
              "ticks": ""
             }
            },
            "type": "scattermapbox"
           }
          ],
          "scatterpolar": [
           {
            "marker": {
             "colorbar": {
              "outlinewidth": 0,
              "ticks": ""
             }
            },
            "type": "scatterpolar"
           }
          ],
          "scatterpolargl": [
           {
            "marker": {
             "colorbar": {
              "outlinewidth": 0,
              "ticks": ""
             }
            },
            "type": "scatterpolargl"
           }
          ],
          "scatterternary": [
           {
            "marker": {
             "colorbar": {
              "outlinewidth": 0,
              "ticks": ""
             }
            },
            "type": "scatterternary"
           }
          ],
          "surface": [
           {
            "colorbar": {
             "outlinewidth": 0,
             "ticks": ""
            },
            "colorscale": [
             [
              0,
              "#0d0887"
             ],
             [
              0.1111111111111111,
              "#46039f"
             ],
             [
              0.2222222222222222,
              "#7201a8"
             ],
             [
              0.3333333333333333,
              "#9c179e"
             ],
             [
              0.4444444444444444,
              "#bd3786"
             ],
             [
              0.5555555555555556,
              "#d8576b"
             ],
             [
              0.6666666666666666,
              "#ed7953"
             ],
             [
              0.7777777777777778,
              "#fb9f3a"
             ],
             [
              0.8888888888888888,
              "#fdca26"
             ],
             [
              1,
              "#f0f921"
             ]
            ],
            "type": "surface"
           }
          ],
          "table": [
           {
            "cells": {
             "fill": {
              "color": "#EBF0F8"
             },
             "line": {
              "color": "white"
             }
            },
            "header": {
             "fill": {
              "color": "#C8D4E3"
             },
             "line": {
              "color": "white"
             }
            },
            "type": "table"
           }
          ]
         },
         "layout": {
          "annotationdefaults": {
           "arrowcolor": "#2a3f5f",
           "arrowhead": 0,
           "arrowwidth": 1
          },
          "autotypenumbers": "strict",
          "coloraxis": {
           "colorbar": {
            "outlinewidth": 0,
            "ticks": ""
           }
          },
          "colorscale": {
           "diverging": [
            [
             0,
             "#8e0152"
            ],
            [
             0.1,
             "#c51b7d"
            ],
            [
             0.2,
             "#de77ae"
            ],
            [
             0.3,
             "#f1b6da"
            ],
            [
             0.4,
             "#fde0ef"
            ],
            [
             0.5,
             "#f7f7f7"
            ],
            [
             0.6,
             "#e6f5d0"
            ],
            [
             0.7,
             "#b8e186"
            ],
            [
             0.8,
             "#7fbc41"
            ],
            [
             0.9,
             "#4d9221"
            ],
            [
             1,
             "#276419"
            ]
           ],
           "sequential": [
            [
             0,
             "#0d0887"
            ],
            [
             0.1111111111111111,
             "#46039f"
            ],
            [
             0.2222222222222222,
             "#7201a8"
            ],
            [
             0.3333333333333333,
             "#9c179e"
            ],
            [
             0.4444444444444444,
             "#bd3786"
            ],
            [
             0.5555555555555556,
             "#d8576b"
            ],
            [
             0.6666666666666666,
             "#ed7953"
            ],
            [
             0.7777777777777778,
             "#fb9f3a"
            ],
            [
             0.8888888888888888,
             "#fdca26"
            ],
            [
             1,
             "#f0f921"
            ]
           ],
           "sequentialminus": [
            [
             0,
             "#0d0887"
            ],
            [
             0.1111111111111111,
             "#46039f"
            ],
            [
             0.2222222222222222,
             "#7201a8"
            ],
            [
             0.3333333333333333,
             "#9c179e"
            ],
            [
             0.4444444444444444,
             "#bd3786"
            ],
            [
             0.5555555555555556,
             "#d8576b"
            ],
            [
             0.6666666666666666,
             "#ed7953"
            ],
            [
             0.7777777777777778,
             "#fb9f3a"
            ],
            [
             0.8888888888888888,
             "#fdca26"
            ],
            [
             1,
             "#f0f921"
            ]
           ]
          },
          "colorway": [
           "#636efa",
           "#EF553B",
           "#00cc96",
           "#ab63fa",
           "#FFA15A",
           "#19d3f3",
           "#FF6692",
           "#B6E880",
           "#FF97FF",
           "#FECB52"
          ],
          "font": {
           "color": "#2a3f5f"
          },
          "geo": {
           "bgcolor": "white",
           "lakecolor": "white",
           "landcolor": "#E5ECF6",
           "showlakes": true,
           "showland": true,
           "subunitcolor": "white"
          },
          "hoverlabel": {
           "align": "left"
          },
          "hovermode": "closest",
          "mapbox": {
           "style": "light"
          },
          "paper_bgcolor": "white",
          "plot_bgcolor": "#E5ECF6",
          "polar": {
           "angularaxis": {
            "gridcolor": "white",
            "linecolor": "white",
            "ticks": ""
           },
           "bgcolor": "#E5ECF6",
           "radialaxis": {
            "gridcolor": "white",
            "linecolor": "white",
            "ticks": ""
           }
          },
          "scene": {
           "xaxis": {
            "backgroundcolor": "#E5ECF6",
            "gridcolor": "white",
            "gridwidth": 2,
            "linecolor": "white",
            "showbackground": true,
            "ticks": "",
            "zerolinecolor": "white"
           },
           "yaxis": {
            "backgroundcolor": "#E5ECF6",
            "gridcolor": "white",
            "gridwidth": 2,
            "linecolor": "white",
            "showbackground": true,
            "ticks": "",
            "zerolinecolor": "white"
           },
           "zaxis": {
            "backgroundcolor": "#E5ECF6",
            "gridcolor": "white",
            "gridwidth": 2,
            "linecolor": "white",
            "showbackground": true,
            "ticks": "",
            "zerolinecolor": "white"
           }
          },
          "shapedefaults": {
           "line": {
            "color": "#2a3f5f"
           }
          },
          "ternary": {
           "aaxis": {
            "gridcolor": "white",
            "linecolor": "white",
            "ticks": ""
           },
           "baxis": {
            "gridcolor": "white",
            "linecolor": "white",
            "ticks": ""
           },
           "bgcolor": "#E5ECF6",
           "caxis": {
            "gridcolor": "white",
            "linecolor": "white",
            "ticks": ""
           }
          },
          "title": {
           "x": 0.05
          },
          "xaxis": {
           "automargin": true,
           "gridcolor": "white",
           "linecolor": "white",
           "ticks": "",
           "title": {
            "standoff": 15
           },
           "zerolinecolor": "white",
           "zerolinewidth": 2
          },
          "yaxis": {
           "automargin": true,
           "gridcolor": "white",
           "linecolor": "white",
           "ticks": "",
           "title": {
            "standoff": 15
           },
           "zerolinecolor": "white",
           "zerolinewidth": 2
          }
         }
        },
        "title": {
         "text": "Hyperparameter Importances"
        },
        "xaxis": {
         "title": {
          "text": "Hyperparameter Importance"
         }
        },
        "yaxis": {
         "title": {
          "text": "Hyperparameter"
         }
        }
       }
      },
      "text/html": [
       "<div>                        <script type=\"text/javascript\">window.PlotlyConfig = {MathJaxConfig: 'local'};</script>\n",
       "        <script charset=\"utf-8\" src=\"https://cdn.plot.ly/plotly-3.0.1.min.js\"></script>                <div id=\"a15aa9bc-ff04-4ca4-818c-f2b5edff11fa\" class=\"plotly-graph-div\" style=\"height:100%; width:100%;\"></div>            <script type=\"text/javascript\">                window.PLOTLYENV=window.PLOTLYENV || {};                                if (document.getElementById(\"a15aa9bc-ff04-4ca4-818c-f2b5edff11fa\")) {                    Plotly.newPlot(                        \"a15aa9bc-ff04-4ca4-818c-f2b5edff11fa\",                        [{\"cliponaxis\":false,\"hovertemplate\":[\"min_samples_split (IntDistribution): 0.003431226015421862\\u003cextra\\u003e\\u003c\\u002fextra\\u003e\",\"max_depth (IntDistribution): 0.0041449300903383226\\u003cextra\\u003e\\u003c\\u002fextra\\u003e\",\"n_estimators (IntDistribution): 0.004198419310948213\\u003cextra\\u003e\\u003c\\u002fextra\\u003e\",\"min_samples_leaf (IntDistribution): 0.02925196560796904\\u003cextra\\u003e\\u003c\\u002fextra\\u003e\",\"max_features (IntDistribution): 0.9589734589753225\\u003cextra\\u003e\\u003c\\u002fextra\\u003e\"],\"name\":\"Objective Value\",\"orientation\":\"h\",\"text\":[\"\\u003c0.01\",\"\\u003c0.01\",\"\\u003c0.01\",\"0.03\",\"0.96\"],\"textposition\":\"outside\",\"x\":[0.003431226015421862,0.0041449300903383226,0.004198419310948213,0.02925196560796904,0.9589734589753225],\"y\":[\"min_samples_split\",\"max_depth\",\"n_estimators\",\"min_samples_leaf\",\"max_features\"],\"type\":\"bar\"}],                        {\"title\":{\"text\":\"Hyperparameter Importances\"},\"xaxis\":{\"title\":{\"text\":\"Hyperparameter Importance\"}},\"yaxis\":{\"title\":{\"text\":\"Hyperparameter\"}},\"template\":{\"data\":{\"histogram2dcontour\":[{\"type\":\"histogram2dcontour\",\"colorbar\":{\"outlinewidth\":0,\"ticks\":\"\"},\"colorscale\":[[0.0,\"#0d0887\"],[0.1111111111111111,\"#46039f\"],[0.2222222222222222,\"#7201a8\"],[0.3333333333333333,\"#9c179e\"],[0.4444444444444444,\"#bd3786\"],[0.5555555555555556,\"#d8576b\"],[0.6666666666666666,\"#ed7953\"],[0.7777777777777778,\"#fb9f3a\"],[0.8888888888888888,\"#fdca26\"],[1.0,\"#f0f921\"]]}],\"choropleth\":[{\"type\":\"choropleth\",\"colorbar\":{\"outlinewidth\":0,\"ticks\":\"\"}}],\"histogram2d\":[{\"type\":\"histogram2d\",\"colorbar\":{\"outlinewidth\":0,\"ticks\":\"\"},\"colorscale\":[[0.0,\"#0d0887\"],[0.1111111111111111,\"#46039f\"],[0.2222222222222222,\"#7201a8\"],[0.3333333333333333,\"#9c179e\"],[0.4444444444444444,\"#bd3786\"],[0.5555555555555556,\"#d8576b\"],[0.6666666666666666,\"#ed7953\"],[0.7777777777777778,\"#fb9f3a\"],[0.8888888888888888,\"#fdca26\"],[1.0,\"#f0f921\"]]}],\"heatmap\":[{\"type\":\"heatmap\",\"colorbar\":{\"outlinewidth\":0,\"ticks\":\"\"},\"colorscale\":[[0.0,\"#0d0887\"],[0.1111111111111111,\"#46039f\"],[0.2222222222222222,\"#7201a8\"],[0.3333333333333333,\"#9c179e\"],[0.4444444444444444,\"#bd3786\"],[0.5555555555555556,\"#d8576b\"],[0.6666666666666666,\"#ed7953\"],[0.7777777777777778,\"#fb9f3a\"],[0.8888888888888888,\"#fdca26\"],[1.0,\"#f0f921\"]]}],\"contourcarpet\":[{\"type\":\"contourcarpet\",\"colorbar\":{\"outlinewidth\":0,\"ticks\":\"\"}}],\"contour\":[{\"type\":\"contour\",\"colorbar\":{\"outlinewidth\":0,\"ticks\":\"\"},\"colorscale\":[[0.0,\"#0d0887\"],[0.1111111111111111,\"#46039f\"],[0.2222222222222222,\"#7201a8\"],[0.3333333333333333,\"#9c179e\"],[0.4444444444444444,\"#bd3786\"],[0.5555555555555556,\"#d8576b\"],[0.6666666666666666,\"#ed7953\"],[0.7777777777777778,\"#fb9f3a\"],[0.8888888888888888,\"#fdca26\"],[1.0,\"#f0f921\"]]}],\"surface\":[{\"type\":\"surface\",\"colorbar\":{\"outlinewidth\":0,\"ticks\":\"\"},\"colorscale\":[[0.0,\"#0d0887\"],[0.1111111111111111,\"#46039f\"],[0.2222222222222222,\"#7201a8\"],[0.3333333333333333,\"#9c179e\"],[0.4444444444444444,\"#bd3786\"],[0.5555555555555556,\"#d8576b\"],[0.6666666666666666,\"#ed7953\"],[0.7777777777777778,\"#fb9f3a\"],[0.8888888888888888,\"#fdca26\"],[1.0,\"#f0f921\"]]}],\"mesh3d\":[{\"type\":\"mesh3d\",\"colorbar\":{\"outlinewidth\":0,\"ticks\":\"\"}}],\"scatter\":[{\"fillpattern\":{\"fillmode\":\"overlay\",\"size\":10,\"solidity\":0.2},\"type\":\"scatter\"}],\"parcoords\":[{\"type\":\"parcoords\",\"line\":{\"colorbar\":{\"outlinewidth\":0,\"ticks\":\"\"}}}],\"scatterpolargl\":[{\"type\":\"scatterpolargl\",\"marker\":{\"colorbar\":{\"outlinewidth\":0,\"ticks\":\"\"}}}],\"bar\":[{\"error_x\":{\"color\":\"#2a3f5f\"},\"error_y\":{\"color\":\"#2a3f5f\"},\"marker\":{\"line\":{\"color\":\"#E5ECF6\",\"width\":0.5},\"pattern\":{\"fillmode\":\"overlay\",\"size\":10,\"solidity\":0.2}},\"type\":\"bar\"}],\"scattergeo\":[{\"type\":\"scattergeo\",\"marker\":{\"colorbar\":{\"outlinewidth\":0,\"ticks\":\"\"}}}],\"scatterpolar\":[{\"type\":\"scatterpolar\",\"marker\":{\"colorbar\":{\"outlinewidth\":0,\"ticks\":\"\"}}}],\"histogram\":[{\"marker\":{\"pattern\":{\"fillmode\":\"overlay\",\"size\":10,\"solidity\":0.2}},\"type\":\"histogram\"}],\"scattergl\":[{\"type\":\"scattergl\",\"marker\":{\"colorbar\":{\"outlinewidth\":0,\"ticks\":\"\"}}}],\"scatter3d\":[{\"type\":\"scatter3d\",\"line\":{\"colorbar\":{\"outlinewidth\":0,\"ticks\":\"\"}},\"marker\":{\"colorbar\":{\"outlinewidth\":0,\"ticks\":\"\"}}}],\"scattermap\":[{\"type\":\"scattermap\",\"marker\":{\"colorbar\":{\"outlinewidth\":0,\"ticks\":\"\"}}}],\"scattermapbox\":[{\"type\":\"scattermapbox\",\"marker\":{\"colorbar\":{\"outlinewidth\":0,\"ticks\":\"\"}}}],\"scatterternary\":[{\"type\":\"scatterternary\",\"marker\":{\"colorbar\":{\"outlinewidth\":0,\"ticks\":\"\"}}}],\"scattercarpet\":[{\"type\":\"scattercarpet\",\"marker\":{\"colorbar\":{\"outlinewidth\":0,\"ticks\":\"\"}}}],\"carpet\":[{\"aaxis\":{\"endlinecolor\":\"#2a3f5f\",\"gridcolor\":\"white\",\"linecolor\":\"white\",\"minorgridcolor\":\"white\",\"startlinecolor\":\"#2a3f5f\"},\"baxis\":{\"endlinecolor\":\"#2a3f5f\",\"gridcolor\":\"white\",\"linecolor\":\"white\",\"minorgridcolor\":\"white\",\"startlinecolor\":\"#2a3f5f\"},\"type\":\"carpet\"}],\"table\":[{\"cells\":{\"fill\":{\"color\":\"#EBF0F8\"},\"line\":{\"color\":\"white\"}},\"header\":{\"fill\":{\"color\":\"#C8D4E3\"},\"line\":{\"color\":\"white\"}},\"type\":\"table\"}],\"barpolar\":[{\"marker\":{\"line\":{\"color\":\"#E5ECF6\",\"width\":0.5},\"pattern\":{\"fillmode\":\"overlay\",\"size\":10,\"solidity\":0.2}},\"type\":\"barpolar\"}],\"pie\":[{\"automargin\":true,\"type\":\"pie\"}]},\"layout\":{\"autotypenumbers\":\"strict\",\"colorway\":[\"#636efa\",\"#EF553B\",\"#00cc96\",\"#ab63fa\",\"#FFA15A\",\"#19d3f3\",\"#FF6692\",\"#B6E880\",\"#FF97FF\",\"#FECB52\"],\"font\":{\"color\":\"#2a3f5f\"},\"hovermode\":\"closest\",\"hoverlabel\":{\"align\":\"left\"},\"paper_bgcolor\":\"white\",\"plot_bgcolor\":\"#E5ECF6\",\"polar\":{\"bgcolor\":\"#E5ECF6\",\"angularaxis\":{\"gridcolor\":\"white\",\"linecolor\":\"white\",\"ticks\":\"\"},\"radialaxis\":{\"gridcolor\":\"white\",\"linecolor\":\"white\",\"ticks\":\"\"}},\"ternary\":{\"bgcolor\":\"#E5ECF6\",\"aaxis\":{\"gridcolor\":\"white\",\"linecolor\":\"white\",\"ticks\":\"\"},\"baxis\":{\"gridcolor\":\"white\",\"linecolor\":\"white\",\"ticks\":\"\"},\"caxis\":{\"gridcolor\":\"white\",\"linecolor\":\"white\",\"ticks\":\"\"}},\"coloraxis\":{\"colorbar\":{\"outlinewidth\":0,\"ticks\":\"\"}},\"colorscale\":{\"sequential\":[[0.0,\"#0d0887\"],[0.1111111111111111,\"#46039f\"],[0.2222222222222222,\"#7201a8\"],[0.3333333333333333,\"#9c179e\"],[0.4444444444444444,\"#bd3786\"],[0.5555555555555556,\"#d8576b\"],[0.6666666666666666,\"#ed7953\"],[0.7777777777777778,\"#fb9f3a\"],[0.8888888888888888,\"#fdca26\"],[1.0,\"#f0f921\"]],\"sequentialminus\":[[0.0,\"#0d0887\"],[0.1111111111111111,\"#46039f\"],[0.2222222222222222,\"#7201a8\"],[0.3333333333333333,\"#9c179e\"],[0.4444444444444444,\"#bd3786\"],[0.5555555555555556,\"#d8576b\"],[0.6666666666666666,\"#ed7953\"],[0.7777777777777778,\"#fb9f3a\"],[0.8888888888888888,\"#fdca26\"],[1.0,\"#f0f921\"]],\"diverging\":[[0,\"#8e0152\"],[0.1,\"#c51b7d\"],[0.2,\"#de77ae\"],[0.3,\"#f1b6da\"],[0.4,\"#fde0ef\"],[0.5,\"#f7f7f7\"],[0.6,\"#e6f5d0\"],[0.7,\"#b8e186\"],[0.8,\"#7fbc41\"],[0.9,\"#4d9221\"],[1,\"#276419\"]]},\"xaxis\":{\"gridcolor\":\"white\",\"linecolor\":\"white\",\"ticks\":\"\",\"title\":{\"standoff\":15},\"zerolinecolor\":\"white\",\"automargin\":true,\"zerolinewidth\":2},\"yaxis\":{\"gridcolor\":\"white\",\"linecolor\":\"white\",\"ticks\":\"\",\"title\":{\"standoff\":15},\"zerolinecolor\":\"white\",\"automargin\":true,\"zerolinewidth\":2},\"scene\":{\"xaxis\":{\"backgroundcolor\":\"#E5ECF6\",\"gridcolor\":\"white\",\"linecolor\":\"white\",\"showbackground\":true,\"ticks\":\"\",\"zerolinecolor\":\"white\",\"gridwidth\":2},\"yaxis\":{\"backgroundcolor\":\"#E5ECF6\",\"gridcolor\":\"white\",\"linecolor\":\"white\",\"showbackground\":true,\"ticks\":\"\",\"zerolinecolor\":\"white\",\"gridwidth\":2},\"zaxis\":{\"backgroundcolor\":\"#E5ECF6\",\"gridcolor\":\"white\",\"linecolor\":\"white\",\"showbackground\":true,\"ticks\":\"\",\"zerolinecolor\":\"white\",\"gridwidth\":2}},\"shapedefaults\":{\"line\":{\"color\":\"#2a3f5f\"}},\"annotationdefaults\":{\"arrowcolor\":\"#2a3f5f\",\"arrowhead\":0,\"arrowwidth\":1},\"geo\":{\"bgcolor\":\"white\",\"landcolor\":\"#E5ECF6\",\"subunitcolor\":\"white\",\"showland\":true,\"showlakes\":true,\"lakecolor\":\"white\"},\"title\":{\"x\":0.05},\"mapbox\":{\"style\":\"light\"}}}},                        {\"responsive\": true}                    )                };            </script>        </div>"
      ],
      "text/plain": [
       "Figure({\n",
       "    'data': [{'cliponaxis': False,\n",
       "              'hovertemplate': [min_samples_split (IntDistribution):\n",
       "                                0.003431226015421862<extra></extra>, max_depth\n",
       "                                (IntDistribution):\n",
       "                                0.0041449300903383226<extra></extra>, n_estimators\n",
       "                                (IntDistribution):\n",
       "                                0.004198419310948213<extra></extra>,\n",
       "                                min_samples_leaf (IntDistribution):\n",
       "                                0.02925196560796904<extra></extra>, max_features\n",
       "                                (IntDistribution):\n",
       "                                0.9589734589753225<extra></extra>],\n",
       "              'name': 'Objective Value',\n",
       "              'orientation': 'h',\n",
       "              'text': [<0.01, <0.01, <0.01, 0.03, 0.96],\n",
       "              'textposition': 'outside',\n",
       "              'type': 'bar',\n",
       "              'x': [0.003431226015421862, 0.0041449300903383226,\n",
       "                    0.004198419310948213, 0.02925196560796904, 0.9589734589753225],\n",
       "              'y': [min_samples_split, max_depth, n_estimators, min_samples_leaf,\n",
       "                    max_features]}],\n",
       "    'layout': {'template': '...',\n",
       "               'title': {'text': 'Hyperparameter Importances'},\n",
       "               'xaxis': {'title': {'text': 'Hyperparameter Importance'}},\n",
       "               'yaxis': {'title': {'text': 'Hyperparameter'}}}\n",
       "})"
      ]
     },
     "execution_count": 87,
     "metadata": {},
     "output_type": "execute_result"
    }
   ],
   "source": [
    "optuna.visualization.plot_param_importances(study)"
   ]
  },
  {
   "cell_type": "code",
   "execution_count": 89,
   "id": "7a34f501",
   "metadata": {},
   "outputs": [
    {
     "ename": "ValueError",
     "evalue": "Mime type rendering requires nbformat>=4.2.0 but it is not installed",
     "output_type": "error",
     "traceback": [
      "\u001b[31m---------------------------------------------------------------------------\u001b[39m",
      "\u001b[31mValueError\u001b[39m                                Traceback (most recent call last)",
      "\u001b[36mFile \u001b[39m\u001b[32m~/github.com/automatedtomato/kaggle-house-prices/.venv/lib/python3.13/site-packages/IPython/core/formatters.py:984\u001b[39m, in \u001b[36mIPythonDisplayFormatter.__call__\u001b[39m\u001b[34m(self, obj)\u001b[39m\n\u001b[32m    982\u001b[39m method = get_real_method(obj, \u001b[38;5;28mself\u001b[39m.print_method)\n\u001b[32m    983\u001b[39m \u001b[38;5;28;01mif\u001b[39;00m method \u001b[38;5;129;01mis\u001b[39;00m \u001b[38;5;129;01mnot\u001b[39;00m \u001b[38;5;28;01mNone\u001b[39;00m:\n\u001b[32m--> \u001b[39m\u001b[32m984\u001b[39m     \u001b[43mmethod\u001b[49m\u001b[43m(\u001b[49m\u001b[43m)\u001b[49m\n\u001b[32m    985\u001b[39m     \u001b[38;5;28;01mreturn\u001b[39;00m \u001b[38;5;28;01mTrue\u001b[39;00m\n",
      "\u001b[36mFile \u001b[39m\u001b[32m~/github.com/automatedtomato/kaggle-house-prices/.venv/lib/python3.13/site-packages/plotly/basedatatypes.py:833\u001b[39m, in \u001b[36mBaseFigure._ipython_display_\u001b[39m\u001b[34m(self)\u001b[39m\n\u001b[32m    830\u001b[39m \u001b[38;5;28;01mimport\u001b[39;00m\u001b[38;5;250m \u001b[39m\u001b[34;01mplotly\u001b[39;00m\u001b[34;01m.\u001b[39;00m\u001b[34;01mio\u001b[39;00m\u001b[38;5;250m \u001b[39m\u001b[38;5;28;01mas\u001b[39;00m\u001b[38;5;250m \u001b[39m\u001b[34;01mpio\u001b[39;00m\n\u001b[32m    832\u001b[39m \u001b[38;5;28;01mif\u001b[39;00m pio.renderers.render_on_display \u001b[38;5;129;01mand\u001b[39;00m pio.renderers.default:\n\u001b[32m--> \u001b[39m\u001b[32m833\u001b[39m     \u001b[43mpio\u001b[49m\u001b[43m.\u001b[49m\u001b[43mshow\u001b[49m\u001b[43m(\u001b[49m\u001b[38;5;28;43mself\u001b[39;49m\u001b[43m)\u001b[49m\n\u001b[32m    834\u001b[39m \u001b[38;5;28;01melse\u001b[39;00m:\n\u001b[32m    835\u001b[39m     \u001b[38;5;28mprint\u001b[39m(\u001b[38;5;28mrepr\u001b[39m(\u001b[38;5;28mself\u001b[39m))\n",
      "\u001b[36mFile \u001b[39m\u001b[32m~/github.com/automatedtomato/kaggle-house-prices/.venv/lib/python3.13/site-packages/plotly/io/_renderers.py:425\u001b[39m, in \u001b[36mshow\u001b[39m\u001b[34m(fig, renderer, validate, **kwargs)\u001b[39m\n\u001b[32m    420\u001b[39m     \u001b[38;5;28;01mraise\u001b[39;00m \u001b[38;5;167;01mValueError\u001b[39;00m(\n\u001b[32m    421\u001b[39m         \u001b[33m\"\u001b[39m\u001b[33mMime type rendering requires ipython but it is not installed\u001b[39m\u001b[33m\"\u001b[39m\n\u001b[32m    422\u001b[39m     )\n\u001b[32m    424\u001b[39m \u001b[38;5;28;01mif\u001b[39;00m \u001b[38;5;129;01mnot\u001b[39;00m nbformat \u001b[38;5;129;01mor\u001b[39;00m Version(nbformat.__version__) < Version(\u001b[33m\"\u001b[39m\u001b[33m4.2.0\u001b[39m\u001b[33m\"\u001b[39m):\n\u001b[32m--> \u001b[39m\u001b[32m425\u001b[39m     \u001b[38;5;28;01mraise\u001b[39;00m \u001b[38;5;167;01mValueError\u001b[39;00m(\n\u001b[32m    426\u001b[39m         \u001b[33m\"\u001b[39m\u001b[33mMime type rendering requires nbformat>=4.2.0 but it is not installed\u001b[39m\u001b[33m\"\u001b[39m\n\u001b[32m    427\u001b[39m     )\n\u001b[32m    429\u001b[39m display_jupyter_version_warnings()\n\u001b[32m    431\u001b[39m ipython_display.display(bundle, raw=\u001b[38;5;28;01mTrue\u001b[39;00m)\n",
      "\u001b[31mValueError\u001b[39m: Mime type rendering requires nbformat>=4.2.0 but it is not installed"
     ]
    },
    {
     "data": {
      "application/vnd.plotly.v1+json": {
       "config": {
        "plotlyServerURL": "https://plot.ly"
       },
       "data": [
        {
         "mode": "markers",
         "name": "Objective Value",
         "type": "scatter",
         "x": [
          0,
          1,
          2,
          3,
          4,
          5,
          6,
          7,
          8,
          9,
          10,
          11,
          12,
          13,
          14,
          15,
          16,
          17,
          18,
          19,
          20,
          21,
          22,
          23,
          24,
          25,
          26,
          27,
          28,
          29,
          30,
          31,
          32,
          33,
          34,
          35,
          36,
          37,
          38,
          39,
          40,
          41,
          42,
          43,
          44,
          45,
          46,
          47,
          48,
          49,
          50,
          51,
          52,
          53,
          54,
          55,
          56,
          57,
          58,
          59,
          60,
          61,
          62,
          63,
          64,
          65,
          66,
          67,
          68,
          69,
          70,
          71,
          72,
          73,
          74,
          75,
          76,
          77,
          78,
          79,
          80,
          81,
          82,
          83,
          84,
          85,
          86,
          87,
          88,
          89,
          90,
          91,
          92,
          93,
          94,
          95,
          96,
          97,
          98,
          99,
          100,
          101,
          102,
          103,
          104,
          105,
          106,
          107,
          108,
          109,
          110,
          111,
          112,
          113,
          114,
          115,
          116,
          117,
          118,
          119,
          120,
          121,
          122,
          123,
          124,
          125,
          126,
          127,
          128,
          129,
          130,
          131,
          132,
          133,
          134,
          135,
          136,
          137,
          138,
          139,
          140,
          141,
          142,
          143,
          144,
          145,
          146,
          147,
          148,
          149,
          150,
          151,
          152,
          153,
          154,
          155,
          156,
          157,
          158,
          159,
          160,
          161,
          162,
          163,
          164,
          165,
          166,
          167,
          168,
          169,
          170,
          171,
          172,
          173,
          174,
          175,
          176,
          177,
          178,
          179,
          180,
          181,
          182,
          183,
          184,
          185,
          186,
          187,
          188,
          189,
          190,
          191,
          192,
          193,
          194,
          195,
          196,
          197,
          198,
          199
         ],
         "y": [
          0.1480821242671468,
          0.1796501173947842,
          0.14995078753312174,
          0.1523970759877634,
          0.14680973873013248,
          0.14658661330330186,
          0.1464812522640167,
          0.15265334538149983,
          0.14470421966294938,
          0.17466700838198973,
          0.14824210312032585,
          0.15524473288991691,
          0.1476195877541835,
          0.1465129366522804,
          0.14956102291375087,
          0.16734449029337214,
          0.1848624227873484,
          0.16168480144727101,
          0.1607863862890282,
          0.15579755865189512,
          0.15732751705061865,
          0.15958772233609642,
          0.14796392301495406,
          0.1486643370655745,
          0.14837644443396916,
          0.32600367376614625,
          0.14833808324115685,
          0.14541513495554603,
          0.14502494547602707,
          0.15042626957733846,
          0.14715944860525898,
          0.14659696516275575,
          0.1476414918663511,
          0.14651461814471442,
          0.14655478882047696,
          0.1465541789962702,
          0.15060210596138163,
          0.14471783468834737,
          0.1487092679381483,
          0.1475089122134954,
          0.14960687806961528,
          0.1463656068514736,
          0.1460393883249261,
          0.14987672945534597,
          0.14881858346584215,
          0.14786654618581657,
          0.14884071655838194,
          0.14869227978784677,
          0.1483423017609995,
          0.1461346514065228,
          0.14834230176099936,
          0.15093707362266703,
          0.14869227978784685,
          0.14733509198444142,
          0.14533494167478392,
          0.14739039375138283,
          0.147390393751383,
          0.1453993691332328,
          0.14790213523178572,
          0.1506054630337961,
          0.15232223992656196,
          0.15278815201677107,
          0.14676441443372962,
          0.14651698783705785,
          0.1444129802969067,
          0.14730754958504236,
          0.15074877954996857,
          0.15125502636925472,
          0.1472290027767185,
          0.14708099374738054,
          0.14621971562947808,
          0.146522042090833,
          0.14655878503653763,
          0.1467137746986483,
          0.14644643309299238,
          0.14770567747052288,
          0.14804339776161057,
          0.1476059040465354,
          0.1476059040465353,
          0.14760590404653529,
          0.14898524487391798,
          0.15104055314598944,
          0.1446346936074733,
          0.14316400750256691,
          0.14614686311521216,
          0.146386721651839,
          0.14379460451282092,
          0.14647973333392764,
          0.14591099766708476,
          0.14710004455875828,
          0.14686316030362984,
          0.14932941207732214,
          0.14533343409731644,
          0.15413267719349308,
          0.14462435554806788,
          0.14539558610078301,
          0.1531081935009758,
          0.14682283117256056,
          0.1461489642496253,
          0.1461725421393076,
          0.14614896424962534,
          0.14625362890714244,
          0.1455717356619194,
          0.14549660862514568,
          0.14581445715064686,
          0.145814457150647,
          0.15703645599558544,
          0.1545985970512641,
          0.14559921084213312,
          0.1463430650492782,
          0.1438255086611918,
          0.14634274316105644,
          0.14382550866119168,
          0.14380764283382055,
          0.14312538096136385,
          0.14741258136858482,
          0.14396190916167242,
          0.14724044653608967,
          0.1477407496520303,
          0.1439533673092429,
          0.144723871534584,
          0.27670462880148494,
          0.1472679641534261,
          0.14862190031243355,
          0.1441673859297016,
          0.1447992201232886,
          0.1431997032312589,
          0.14513629568328656,
          0.14432870571723425,
          0.14513629568328662,
          0.14513629568328665,
          0.14524908608411263,
          0.1455410330994881,
          0.14494461590657212,
          0.14513629568328681,
          0.1457548465813909,
          0.145744946386274,
          0.14567054645753985,
          0.14572617054162354,
          0.14567054645753982,
          0.14457736348302508,
          0.1455414126278985,
          0.1435789956515743,
          0.1435789956515743,
          0.14412906203473866,
          0.14368754380319662,
          0.1435442220588813,
          0.1448257055583459,
          0.14368754380319654,
          0.1432879634855324,
          0.14354422205888115,
          0.1440582786016317,
          0.14398870389263155,
          0.143544222058881,
          0.14354422205888112,
          0.1434068121803098,
          0.1434068121803098,
          0.14354422205888112,
          0.1435442220588813,
          0.1434068121803096,
          0.1435442220588812,
          0.14354422205888104,
          0.1435442220588812,
          0.14354422205888112,
          0.14354422205888093,
          0.14354422205888115,
          0.14368754380319673,
          0.1434068121803097,
          0.14346210437624088,
          0.14346210437624082,
          0.1432503806396187,
          0.14485192081807483,
          0.14340564135016545,
          0.14311590709465785,
          0.1445137960473125,
          0.14468915815283198,
          0.14480878955413412,
          0.14468915815283187,
          0.14473015049624488,
          0.14485484425296283,
          0.14468915815283212,
          0.14453391760926718,
          0.14480878955413398,
          0.14473015049624505,
          0.14478948950294848,
          0.14490780670110476,
          0.14506539068569024,
          0.14490780670110487,
          0.1450653906856903,
          0.14507234131411215,
          0.1433523468836731,
          0.14335234688367307,
          0.143317745543239,
          0.14333219196054972,
          0.14331774554323912,
          0.14333219196054953,
          0.14314825510573606,
          0.14314825510573606,
          0.143148255105736,
          0.14333219196054953
         ]
        },
        {
         "mode": "lines",
         "name": "Best Value",
         "type": "scatter",
         "x": [
          0,
          1,
          2,
          3,
          4,
          5,
          6,
          7,
          8,
          9,
          10,
          11,
          12,
          13,
          14,
          15,
          16,
          17,
          18,
          19,
          20,
          21,
          22,
          23,
          24,
          25,
          26,
          27,
          28,
          29,
          30,
          31,
          32,
          33,
          34,
          35,
          36,
          37,
          38,
          39,
          40,
          41,
          42,
          43,
          44,
          45,
          46,
          47,
          48,
          49,
          50,
          51,
          52,
          53,
          54,
          55,
          56,
          57,
          58,
          59,
          60,
          61,
          62,
          63,
          64,
          65,
          66,
          67,
          68,
          69,
          70,
          71,
          72,
          73,
          74,
          75,
          76,
          77,
          78,
          79,
          80,
          81,
          82,
          83,
          84,
          85,
          86,
          87,
          88,
          89,
          90,
          91,
          92,
          93,
          94,
          95,
          96,
          97,
          98,
          99,
          100,
          101,
          102,
          103,
          104,
          105,
          106,
          107,
          108,
          109,
          110,
          111,
          112,
          113,
          114,
          115,
          116,
          117,
          118,
          119,
          120,
          121,
          122,
          123,
          124,
          125,
          126,
          127,
          128,
          129,
          130,
          131,
          132,
          133,
          134,
          135,
          136,
          137,
          138,
          139,
          140,
          141,
          142,
          143,
          144,
          145,
          146,
          147,
          148,
          149,
          150,
          151,
          152,
          153,
          154,
          155,
          156,
          157,
          158,
          159,
          160,
          161,
          162,
          163,
          164,
          165,
          166,
          167,
          168,
          169,
          170,
          171,
          172,
          173,
          174,
          175,
          176,
          177,
          178,
          179,
          180,
          181,
          182,
          183,
          184,
          185,
          186,
          187,
          188,
          189,
          190,
          191,
          192,
          193,
          194,
          195,
          196,
          197,
          198,
          199
         ],
         "y": [
          0.1480821242671468,
          0.1480821242671468,
          0.1480821242671468,
          0.1480821242671468,
          0.14680973873013248,
          0.14658661330330186,
          0.1464812522640167,
          0.1464812522640167,
          0.14470421966294938,
          0.14470421966294938,
          0.14470421966294938,
          0.14470421966294938,
          0.14470421966294938,
          0.14470421966294938,
          0.14470421966294938,
          0.14470421966294938,
          0.14470421966294938,
          0.14470421966294938,
          0.14470421966294938,
          0.14470421966294938,
          0.14470421966294938,
          0.14470421966294938,
          0.14470421966294938,
          0.14470421966294938,
          0.14470421966294938,
          0.14470421966294938,
          0.14470421966294938,
          0.14470421966294938,
          0.14470421966294938,
          0.14470421966294938,
          0.14470421966294938,
          0.14470421966294938,
          0.14470421966294938,
          0.14470421966294938,
          0.14470421966294938,
          0.14470421966294938,
          0.14470421966294938,
          0.14470421966294938,
          0.14470421966294938,
          0.14470421966294938,
          0.14470421966294938,
          0.14470421966294938,
          0.14470421966294938,
          0.14470421966294938,
          0.14470421966294938,
          0.14470421966294938,
          0.14470421966294938,
          0.14470421966294938,
          0.14470421966294938,
          0.14470421966294938,
          0.14470421966294938,
          0.14470421966294938,
          0.14470421966294938,
          0.14470421966294938,
          0.14470421966294938,
          0.14470421966294938,
          0.14470421966294938,
          0.14470421966294938,
          0.14470421966294938,
          0.14470421966294938,
          0.14470421966294938,
          0.14470421966294938,
          0.14470421966294938,
          0.14470421966294938,
          0.1444129802969067,
          0.1444129802969067,
          0.1444129802969067,
          0.1444129802969067,
          0.1444129802969067,
          0.1444129802969067,
          0.1444129802969067,
          0.1444129802969067,
          0.1444129802969067,
          0.1444129802969067,
          0.1444129802969067,
          0.1444129802969067,
          0.1444129802969067,
          0.1444129802969067,
          0.1444129802969067,
          0.1444129802969067,
          0.1444129802969067,
          0.1444129802969067,
          0.1444129802969067,
          0.14316400750256691,
          0.14316400750256691,
          0.14316400750256691,
          0.14316400750256691,
          0.14316400750256691,
          0.14316400750256691,
          0.14316400750256691,
          0.14316400750256691,
          0.14316400750256691,
          0.14316400750256691,
          0.14316400750256691,
          0.14316400750256691,
          0.14316400750256691,
          0.14316400750256691,
          0.14316400750256691,
          0.14316400750256691,
          0.14316400750256691,
          0.14316400750256691,
          0.14316400750256691,
          0.14316400750256691,
          0.14316400750256691,
          0.14316400750256691,
          0.14316400750256691,
          0.14316400750256691,
          0.14316400750256691,
          0.14316400750256691,
          0.14316400750256691,
          0.14316400750256691,
          0.14316400750256691,
          0.14316400750256691,
          0.14316400750256691,
          0.14312538096136385,
          0.14312538096136385,
          0.14312538096136385,
          0.14312538096136385,
          0.14312538096136385,
          0.14312538096136385,
          0.14312538096136385,
          0.14312538096136385,
          0.14312538096136385,
          0.14312538096136385,
          0.14312538096136385,
          0.14312538096136385,
          0.14312538096136385,
          0.14312538096136385,
          0.14312538096136385,
          0.14312538096136385,
          0.14312538096136385,
          0.14312538096136385,
          0.14312538096136385,
          0.14312538096136385,
          0.14312538096136385,
          0.14312538096136385,
          0.14312538096136385,
          0.14312538096136385,
          0.14312538096136385,
          0.14312538096136385,
          0.14312538096136385,
          0.14312538096136385,
          0.14312538096136385,
          0.14312538096136385,
          0.14312538096136385,
          0.14312538096136385,
          0.14312538096136385,
          0.14312538096136385,
          0.14312538096136385,
          0.14312538096136385,
          0.14312538096136385,
          0.14312538096136385,
          0.14312538096136385,
          0.14312538096136385,
          0.14312538096136385,
          0.14312538096136385,
          0.14312538096136385,
          0.14312538096136385,
          0.14312538096136385,
          0.14312538096136385,
          0.14312538096136385,
          0.14312538096136385,
          0.14312538096136385,
          0.14312538096136385,
          0.14312538096136385,
          0.14312538096136385,
          0.14312538096136385,
          0.14312538096136385,
          0.14312538096136385,
          0.14312538096136385,
          0.14312538096136385,
          0.14312538096136385,
          0.14312538096136385,
          0.14311590709465785,
          0.14311590709465785,
          0.14311590709465785,
          0.14311590709465785,
          0.14311590709465785,
          0.14311590709465785,
          0.14311590709465785,
          0.14311590709465785,
          0.14311590709465785,
          0.14311590709465785,
          0.14311590709465785,
          0.14311590709465785,
          0.14311590709465785,
          0.14311590709465785,
          0.14311590709465785,
          0.14311590709465785,
          0.14311590709465785,
          0.14311590709465785,
          0.14311590709465785,
          0.14311590709465785,
          0.14311590709465785,
          0.14311590709465785,
          0.14311590709465785,
          0.14311590709465785,
          0.14311590709465785,
          0.14311590709465785,
          0.14311590709465785
         ]
        },
        {
         "marker": {
          "color": "#cccccc"
         },
         "mode": "markers",
         "name": "Infeasible Trial",
         "showlegend": false,
         "type": "scatter",
         "x": [],
         "y": []
        }
       ],
       "layout": {
        "template": {
         "data": {
          "bar": [
           {
            "error_x": {
             "color": "#2a3f5f"
            },
            "error_y": {
             "color": "#2a3f5f"
            },
            "marker": {
             "line": {
              "color": "#E5ECF6",
              "width": 0.5
             },
             "pattern": {
              "fillmode": "overlay",
              "size": 10,
              "solidity": 0.2
             }
            },
            "type": "bar"
           }
          ],
          "barpolar": [
           {
            "marker": {
             "line": {
              "color": "#E5ECF6",
              "width": 0.5
             },
             "pattern": {
              "fillmode": "overlay",
              "size": 10,
              "solidity": 0.2
             }
            },
            "type": "barpolar"
           }
          ],
          "carpet": [
           {
            "aaxis": {
             "endlinecolor": "#2a3f5f",
             "gridcolor": "white",
             "linecolor": "white",
             "minorgridcolor": "white",
             "startlinecolor": "#2a3f5f"
            },
            "baxis": {
             "endlinecolor": "#2a3f5f",
             "gridcolor": "white",
             "linecolor": "white",
             "minorgridcolor": "white",
             "startlinecolor": "#2a3f5f"
            },
            "type": "carpet"
           }
          ],
          "choropleth": [
           {
            "colorbar": {
             "outlinewidth": 0,
             "ticks": ""
            },
            "type": "choropleth"
           }
          ],
          "contour": [
           {
            "colorbar": {
             "outlinewidth": 0,
             "ticks": ""
            },
            "colorscale": [
             [
              0,
              "#0d0887"
             ],
             [
              0.1111111111111111,
              "#46039f"
             ],
             [
              0.2222222222222222,
              "#7201a8"
             ],
             [
              0.3333333333333333,
              "#9c179e"
             ],
             [
              0.4444444444444444,
              "#bd3786"
             ],
             [
              0.5555555555555556,
              "#d8576b"
             ],
             [
              0.6666666666666666,
              "#ed7953"
             ],
             [
              0.7777777777777778,
              "#fb9f3a"
             ],
             [
              0.8888888888888888,
              "#fdca26"
             ],
             [
              1,
              "#f0f921"
             ]
            ],
            "type": "contour"
           }
          ],
          "contourcarpet": [
           {
            "colorbar": {
             "outlinewidth": 0,
             "ticks": ""
            },
            "type": "contourcarpet"
           }
          ],
          "heatmap": [
           {
            "colorbar": {
             "outlinewidth": 0,
             "ticks": ""
            },
            "colorscale": [
             [
              0,
              "#0d0887"
             ],
             [
              0.1111111111111111,
              "#46039f"
             ],
             [
              0.2222222222222222,
              "#7201a8"
             ],
             [
              0.3333333333333333,
              "#9c179e"
             ],
             [
              0.4444444444444444,
              "#bd3786"
             ],
             [
              0.5555555555555556,
              "#d8576b"
             ],
             [
              0.6666666666666666,
              "#ed7953"
             ],
             [
              0.7777777777777778,
              "#fb9f3a"
             ],
             [
              0.8888888888888888,
              "#fdca26"
             ],
             [
              1,
              "#f0f921"
             ]
            ],
            "type": "heatmap"
           }
          ],
          "histogram": [
           {
            "marker": {
             "pattern": {
              "fillmode": "overlay",
              "size": 10,
              "solidity": 0.2
             }
            },
            "type": "histogram"
           }
          ],
          "histogram2d": [
           {
            "colorbar": {
             "outlinewidth": 0,
             "ticks": ""
            },
            "colorscale": [
             [
              0,
              "#0d0887"
             ],
             [
              0.1111111111111111,
              "#46039f"
             ],
             [
              0.2222222222222222,
              "#7201a8"
             ],
             [
              0.3333333333333333,
              "#9c179e"
             ],
             [
              0.4444444444444444,
              "#bd3786"
             ],
             [
              0.5555555555555556,
              "#d8576b"
             ],
             [
              0.6666666666666666,
              "#ed7953"
             ],
             [
              0.7777777777777778,
              "#fb9f3a"
             ],
             [
              0.8888888888888888,
              "#fdca26"
             ],
             [
              1,
              "#f0f921"
             ]
            ],
            "type": "histogram2d"
           }
          ],
          "histogram2dcontour": [
           {
            "colorbar": {
             "outlinewidth": 0,
             "ticks": ""
            },
            "colorscale": [
             [
              0,
              "#0d0887"
             ],
             [
              0.1111111111111111,
              "#46039f"
             ],
             [
              0.2222222222222222,
              "#7201a8"
             ],
             [
              0.3333333333333333,
              "#9c179e"
             ],
             [
              0.4444444444444444,
              "#bd3786"
             ],
             [
              0.5555555555555556,
              "#d8576b"
             ],
             [
              0.6666666666666666,
              "#ed7953"
             ],
             [
              0.7777777777777778,
              "#fb9f3a"
             ],
             [
              0.8888888888888888,
              "#fdca26"
             ],
             [
              1,
              "#f0f921"
             ]
            ],
            "type": "histogram2dcontour"
           }
          ],
          "mesh3d": [
           {
            "colorbar": {
             "outlinewidth": 0,
             "ticks": ""
            },
            "type": "mesh3d"
           }
          ],
          "parcoords": [
           {
            "line": {
             "colorbar": {
              "outlinewidth": 0,
              "ticks": ""
             }
            },
            "type": "parcoords"
           }
          ],
          "pie": [
           {
            "automargin": true,
            "type": "pie"
           }
          ],
          "scatter": [
           {
            "fillpattern": {
             "fillmode": "overlay",
             "size": 10,
             "solidity": 0.2
            },
            "type": "scatter"
           }
          ],
          "scatter3d": [
           {
            "line": {
             "colorbar": {
              "outlinewidth": 0,
              "ticks": ""
             }
            },
            "marker": {
             "colorbar": {
              "outlinewidth": 0,
              "ticks": ""
             }
            },
            "type": "scatter3d"
           }
          ],
          "scattercarpet": [
           {
            "marker": {
             "colorbar": {
              "outlinewidth": 0,
              "ticks": ""
             }
            },
            "type": "scattercarpet"
           }
          ],
          "scattergeo": [
           {
            "marker": {
             "colorbar": {
              "outlinewidth": 0,
              "ticks": ""
             }
            },
            "type": "scattergeo"
           }
          ],
          "scattergl": [
           {
            "marker": {
             "colorbar": {
              "outlinewidth": 0,
              "ticks": ""
             }
            },
            "type": "scattergl"
           }
          ],
          "scattermap": [
           {
            "marker": {
             "colorbar": {
              "outlinewidth": 0,
              "ticks": ""
             }
            },
            "type": "scattermap"
           }
          ],
          "scattermapbox": [
           {
            "marker": {
             "colorbar": {
              "outlinewidth": 0,
              "ticks": ""
             }
            },
            "type": "scattermapbox"
           }
          ],
          "scatterpolar": [
           {
            "marker": {
             "colorbar": {
              "outlinewidth": 0,
              "ticks": ""
             }
            },
            "type": "scatterpolar"
           }
          ],
          "scatterpolargl": [
           {
            "marker": {
             "colorbar": {
              "outlinewidth": 0,
              "ticks": ""
             }
            },
            "type": "scatterpolargl"
           }
          ],
          "scatterternary": [
           {
            "marker": {
             "colorbar": {
              "outlinewidth": 0,
              "ticks": ""
             }
            },
            "type": "scatterternary"
           }
          ],
          "surface": [
           {
            "colorbar": {
             "outlinewidth": 0,
             "ticks": ""
            },
            "colorscale": [
             [
              0,
              "#0d0887"
             ],
             [
              0.1111111111111111,
              "#46039f"
             ],
             [
              0.2222222222222222,
              "#7201a8"
             ],
             [
              0.3333333333333333,
              "#9c179e"
             ],
             [
              0.4444444444444444,
              "#bd3786"
             ],
             [
              0.5555555555555556,
              "#d8576b"
             ],
             [
              0.6666666666666666,
              "#ed7953"
             ],
             [
              0.7777777777777778,
              "#fb9f3a"
             ],
             [
              0.8888888888888888,
              "#fdca26"
             ],
             [
              1,
              "#f0f921"
             ]
            ],
            "type": "surface"
           }
          ],
          "table": [
           {
            "cells": {
             "fill": {
              "color": "#EBF0F8"
             },
             "line": {
              "color": "white"
             }
            },
            "header": {
             "fill": {
              "color": "#C8D4E3"
             },
             "line": {
              "color": "white"
             }
            },
            "type": "table"
           }
          ]
         },
         "layout": {
          "annotationdefaults": {
           "arrowcolor": "#2a3f5f",
           "arrowhead": 0,
           "arrowwidth": 1
          },
          "autotypenumbers": "strict",
          "coloraxis": {
           "colorbar": {
            "outlinewidth": 0,
            "ticks": ""
           }
          },
          "colorscale": {
           "diverging": [
            [
             0,
             "#8e0152"
            ],
            [
             0.1,
             "#c51b7d"
            ],
            [
             0.2,
             "#de77ae"
            ],
            [
             0.3,
             "#f1b6da"
            ],
            [
             0.4,
             "#fde0ef"
            ],
            [
             0.5,
             "#f7f7f7"
            ],
            [
             0.6,
             "#e6f5d0"
            ],
            [
             0.7,
             "#b8e186"
            ],
            [
             0.8,
             "#7fbc41"
            ],
            [
             0.9,
             "#4d9221"
            ],
            [
             1,
             "#276419"
            ]
           ],
           "sequential": [
            [
             0,
             "#0d0887"
            ],
            [
             0.1111111111111111,
             "#46039f"
            ],
            [
             0.2222222222222222,
             "#7201a8"
            ],
            [
             0.3333333333333333,
             "#9c179e"
            ],
            [
             0.4444444444444444,
             "#bd3786"
            ],
            [
             0.5555555555555556,
             "#d8576b"
            ],
            [
             0.6666666666666666,
             "#ed7953"
            ],
            [
             0.7777777777777778,
             "#fb9f3a"
            ],
            [
             0.8888888888888888,
             "#fdca26"
            ],
            [
             1,
             "#f0f921"
            ]
           ],
           "sequentialminus": [
            [
             0,
             "#0d0887"
            ],
            [
             0.1111111111111111,
             "#46039f"
            ],
            [
             0.2222222222222222,
             "#7201a8"
            ],
            [
             0.3333333333333333,
             "#9c179e"
            ],
            [
             0.4444444444444444,
             "#bd3786"
            ],
            [
             0.5555555555555556,
             "#d8576b"
            ],
            [
             0.6666666666666666,
             "#ed7953"
            ],
            [
             0.7777777777777778,
             "#fb9f3a"
            ],
            [
             0.8888888888888888,
             "#fdca26"
            ],
            [
             1,
             "#f0f921"
            ]
           ]
          },
          "colorway": [
           "#636efa",
           "#EF553B",
           "#00cc96",
           "#ab63fa",
           "#FFA15A",
           "#19d3f3",
           "#FF6692",
           "#B6E880",
           "#FF97FF",
           "#FECB52"
          ],
          "font": {
           "color": "#2a3f5f"
          },
          "geo": {
           "bgcolor": "white",
           "lakecolor": "white",
           "landcolor": "#E5ECF6",
           "showlakes": true,
           "showland": true,
           "subunitcolor": "white"
          },
          "hoverlabel": {
           "align": "left"
          },
          "hovermode": "closest",
          "mapbox": {
           "style": "light"
          },
          "paper_bgcolor": "white",
          "plot_bgcolor": "#E5ECF6",
          "polar": {
           "angularaxis": {
            "gridcolor": "white",
            "linecolor": "white",
            "ticks": ""
           },
           "bgcolor": "#E5ECF6",
           "radialaxis": {
            "gridcolor": "white",
            "linecolor": "white",
            "ticks": ""
           }
          },
          "scene": {
           "xaxis": {
            "backgroundcolor": "#E5ECF6",
            "gridcolor": "white",
            "gridwidth": 2,
            "linecolor": "white",
            "showbackground": true,
            "ticks": "",
            "zerolinecolor": "white"
           },
           "yaxis": {
            "backgroundcolor": "#E5ECF6",
            "gridcolor": "white",
            "gridwidth": 2,
            "linecolor": "white",
            "showbackground": true,
            "ticks": "",
            "zerolinecolor": "white"
           },
           "zaxis": {
            "backgroundcolor": "#E5ECF6",
            "gridcolor": "white",
            "gridwidth": 2,
            "linecolor": "white",
            "showbackground": true,
            "ticks": "",
            "zerolinecolor": "white"
           }
          },
          "shapedefaults": {
           "line": {
            "color": "#2a3f5f"
           }
          },
          "ternary": {
           "aaxis": {
            "gridcolor": "white",
            "linecolor": "white",
            "ticks": ""
           },
           "baxis": {
            "gridcolor": "white",
            "linecolor": "white",
            "ticks": ""
           },
           "bgcolor": "#E5ECF6",
           "caxis": {
            "gridcolor": "white",
            "linecolor": "white",
            "ticks": ""
           }
          },
          "title": {
           "x": 0.05
          },
          "xaxis": {
           "automargin": true,
           "gridcolor": "white",
           "linecolor": "white",
           "ticks": "",
           "title": {
            "standoff": 15
           },
           "zerolinecolor": "white",
           "zerolinewidth": 2
          },
          "yaxis": {
           "automargin": true,
           "gridcolor": "white",
           "linecolor": "white",
           "ticks": "",
           "title": {
            "standoff": 15
           },
           "zerolinecolor": "white",
           "zerolinewidth": 2
          }
         }
        },
        "title": {
         "text": "Optimization History Plot"
        },
        "xaxis": {
         "title": {
          "text": "Trial"
         }
        },
        "yaxis": {
         "title": {
          "text": "Objective Value"
         }
        }
       }
      },
      "text/html": [
       "<div>                        <script type=\"text/javascript\">window.PlotlyConfig = {MathJaxConfig: 'local'};</script>\n",
       "        <script charset=\"utf-8\" src=\"https://cdn.plot.ly/plotly-3.0.1.min.js\"></script>                <div id=\"e548a7ae-2446-4503-9795-51b5db5b594c\" class=\"plotly-graph-div\" style=\"height:100%; width:100%;\"></div>            <script type=\"text/javascript\">                window.PLOTLYENV=window.PLOTLYENV || {};                                if (document.getElementById(\"e548a7ae-2446-4503-9795-51b5db5b594c\")) {                    Plotly.newPlot(                        \"e548a7ae-2446-4503-9795-51b5db5b594c\",                        [{\"mode\":\"markers\",\"name\":\"Objective Value\",\"x\":[0,1,2,3,4,5,6,7,8,9,10,11,12,13,14,15,16,17,18,19,20,21,22,23,24,25,26,27,28,29,30,31,32,33,34,35,36,37,38,39,40,41,42,43,44,45,46,47,48,49,50,51,52,53,54,55,56,57,58,59,60,61,62,63,64,65,66,67,68,69,70,71,72,73,74,75,76,77,78,79,80,81,82,83,84,85,86,87,88,89,90,91,92,93,94,95,96,97,98,99,100,101,102,103,104,105,106,107,108,109,110,111,112,113,114,115,116,117,118,119,120,121,122,123,124,125,126,127,128,129,130,131,132,133,134,135,136,137,138,139,140,141,142,143,144,145,146,147,148,149,150,151,152,153,154,155,156,157,158,159,160,161,162,163,164,165,166,167,168,169,170,171,172,173,174,175,176,177,178,179,180,181,182,183,184,185,186,187,188,189,190,191,192,193,194,195,196,197,198,199],\"y\":[0.1480821242671468,0.1796501173947842,0.14995078753312174,0.1523970759877634,0.14680973873013248,0.14658661330330186,0.1464812522640167,0.15265334538149983,0.14470421966294938,0.17466700838198973,0.14824210312032585,0.15524473288991691,0.1476195877541835,0.1465129366522804,0.14956102291375087,0.16734449029337214,0.1848624227873484,0.16168480144727101,0.1607863862890282,0.15579755865189512,0.15732751705061865,0.15958772233609642,0.14796392301495406,0.1486643370655745,0.14837644443396916,0.32600367376614625,0.14833808324115685,0.14541513495554603,0.14502494547602707,0.15042626957733846,0.14715944860525898,0.14659696516275575,0.1476414918663511,0.14651461814471442,0.14655478882047696,0.1465541789962702,0.15060210596138163,0.14471783468834737,0.1487092679381483,0.1475089122134954,0.14960687806961528,0.1463656068514736,0.1460393883249261,0.14987672945534597,0.14881858346584215,0.14786654618581657,0.14884071655838194,0.14869227978784677,0.1483423017609995,0.1461346514065228,0.14834230176099936,0.15093707362266703,0.14869227978784685,0.14733509198444142,0.14533494167478392,0.14739039375138283,0.147390393751383,0.1453993691332328,0.14790213523178572,0.1506054630337961,0.15232223992656196,0.15278815201677107,0.14676441443372962,0.14651698783705785,0.1444129802969067,0.14730754958504236,0.15074877954996857,0.15125502636925472,0.1472290027767185,0.14708099374738054,0.14621971562947808,0.146522042090833,0.14655878503653763,0.1467137746986483,0.14644643309299238,0.14770567747052288,0.14804339776161057,0.1476059040465354,0.1476059040465353,0.14760590404653529,0.14898524487391798,0.15104055314598944,0.1446346936074733,0.14316400750256691,0.14614686311521216,0.146386721651839,0.14379460451282092,0.14647973333392764,0.14591099766708476,0.14710004455875828,0.14686316030362984,0.14932941207732214,0.14533343409731644,0.15413267719349308,0.14462435554806788,0.14539558610078301,0.1531081935009758,0.14682283117256056,0.1461489642496253,0.1461725421393076,0.14614896424962534,0.14625362890714244,0.1455717356619194,0.14549660862514568,0.14581445715064686,0.145814457150647,0.15703645599558544,0.1545985970512641,0.14559921084213312,0.1463430650492782,0.1438255086611918,0.14634274316105644,0.14382550866119168,0.14380764283382055,0.14312538096136385,0.14741258136858482,0.14396190916167242,0.14724044653608967,0.1477407496520303,0.1439533673092429,0.144723871534584,0.27670462880148494,0.1472679641534261,0.14862190031243355,0.1441673859297016,0.1447992201232886,0.1431997032312589,0.14513629568328656,0.14432870571723425,0.14513629568328662,0.14513629568328665,0.14524908608411263,0.1455410330994881,0.14494461590657212,0.14513629568328681,0.1457548465813909,0.145744946386274,0.14567054645753985,0.14572617054162354,0.14567054645753982,0.14457736348302508,0.1455414126278985,0.1435789956515743,0.1435789956515743,0.14412906203473866,0.14368754380319662,0.1435442220588813,0.1448257055583459,0.14368754380319654,0.1432879634855324,0.14354422205888115,0.1440582786016317,0.14398870389263155,0.143544222058881,0.14354422205888112,0.1434068121803098,0.1434068121803098,0.14354422205888112,0.1435442220588813,0.1434068121803096,0.1435442220588812,0.14354422205888104,0.1435442220588812,0.14354422205888112,0.14354422205888093,0.14354422205888115,0.14368754380319673,0.1434068121803097,0.14346210437624088,0.14346210437624082,0.1432503806396187,0.14485192081807483,0.14340564135016545,0.14311590709465785,0.1445137960473125,0.14468915815283198,0.14480878955413412,0.14468915815283187,0.14473015049624488,0.14485484425296283,0.14468915815283212,0.14453391760926718,0.14480878955413398,0.14473015049624505,0.14478948950294848,0.14490780670110476,0.14506539068569024,0.14490780670110487,0.1450653906856903,0.14507234131411215,0.1433523468836731,0.14335234688367307,0.143317745543239,0.14333219196054972,0.14331774554323912,0.14333219196054953,0.14314825510573606,0.14314825510573606,0.143148255105736,0.14333219196054953],\"type\":\"scatter\"},{\"mode\":\"lines\",\"name\":\"Best Value\",\"x\":[0,1,2,3,4,5,6,7,8,9,10,11,12,13,14,15,16,17,18,19,20,21,22,23,24,25,26,27,28,29,30,31,32,33,34,35,36,37,38,39,40,41,42,43,44,45,46,47,48,49,50,51,52,53,54,55,56,57,58,59,60,61,62,63,64,65,66,67,68,69,70,71,72,73,74,75,76,77,78,79,80,81,82,83,84,85,86,87,88,89,90,91,92,93,94,95,96,97,98,99,100,101,102,103,104,105,106,107,108,109,110,111,112,113,114,115,116,117,118,119,120,121,122,123,124,125,126,127,128,129,130,131,132,133,134,135,136,137,138,139,140,141,142,143,144,145,146,147,148,149,150,151,152,153,154,155,156,157,158,159,160,161,162,163,164,165,166,167,168,169,170,171,172,173,174,175,176,177,178,179,180,181,182,183,184,185,186,187,188,189,190,191,192,193,194,195,196,197,198,199],\"y\":[0.1480821242671468,0.1480821242671468,0.1480821242671468,0.1480821242671468,0.14680973873013248,0.14658661330330186,0.1464812522640167,0.1464812522640167,0.14470421966294938,0.14470421966294938,0.14470421966294938,0.14470421966294938,0.14470421966294938,0.14470421966294938,0.14470421966294938,0.14470421966294938,0.14470421966294938,0.14470421966294938,0.14470421966294938,0.14470421966294938,0.14470421966294938,0.14470421966294938,0.14470421966294938,0.14470421966294938,0.14470421966294938,0.14470421966294938,0.14470421966294938,0.14470421966294938,0.14470421966294938,0.14470421966294938,0.14470421966294938,0.14470421966294938,0.14470421966294938,0.14470421966294938,0.14470421966294938,0.14470421966294938,0.14470421966294938,0.14470421966294938,0.14470421966294938,0.14470421966294938,0.14470421966294938,0.14470421966294938,0.14470421966294938,0.14470421966294938,0.14470421966294938,0.14470421966294938,0.14470421966294938,0.14470421966294938,0.14470421966294938,0.14470421966294938,0.14470421966294938,0.14470421966294938,0.14470421966294938,0.14470421966294938,0.14470421966294938,0.14470421966294938,0.14470421966294938,0.14470421966294938,0.14470421966294938,0.14470421966294938,0.14470421966294938,0.14470421966294938,0.14470421966294938,0.14470421966294938,0.1444129802969067,0.1444129802969067,0.1444129802969067,0.1444129802969067,0.1444129802969067,0.1444129802969067,0.1444129802969067,0.1444129802969067,0.1444129802969067,0.1444129802969067,0.1444129802969067,0.1444129802969067,0.1444129802969067,0.1444129802969067,0.1444129802969067,0.1444129802969067,0.1444129802969067,0.1444129802969067,0.1444129802969067,0.14316400750256691,0.14316400750256691,0.14316400750256691,0.14316400750256691,0.14316400750256691,0.14316400750256691,0.14316400750256691,0.14316400750256691,0.14316400750256691,0.14316400750256691,0.14316400750256691,0.14316400750256691,0.14316400750256691,0.14316400750256691,0.14316400750256691,0.14316400750256691,0.14316400750256691,0.14316400750256691,0.14316400750256691,0.14316400750256691,0.14316400750256691,0.14316400750256691,0.14316400750256691,0.14316400750256691,0.14316400750256691,0.14316400750256691,0.14316400750256691,0.14316400750256691,0.14316400750256691,0.14316400750256691,0.14316400750256691,0.14312538096136385,0.14312538096136385,0.14312538096136385,0.14312538096136385,0.14312538096136385,0.14312538096136385,0.14312538096136385,0.14312538096136385,0.14312538096136385,0.14312538096136385,0.14312538096136385,0.14312538096136385,0.14312538096136385,0.14312538096136385,0.14312538096136385,0.14312538096136385,0.14312538096136385,0.14312538096136385,0.14312538096136385,0.14312538096136385,0.14312538096136385,0.14312538096136385,0.14312538096136385,0.14312538096136385,0.14312538096136385,0.14312538096136385,0.14312538096136385,0.14312538096136385,0.14312538096136385,0.14312538096136385,0.14312538096136385,0.14312538096136385,0.14312538096136385,0.14312538096136385,0.14312538096136385,0.14312538096136385,0.14312538096136385,0.14312538096136385,0.14312538096136385,0.14312538096136385,0.14312538096136385,0.14312538096136385,0.14312538096136385,0.14312538096136385,0.14312538096136385,0.14312538096136385,0.14312538096136385,0.14312538096136385,0.14312538096136385,0.14312538096136385,0.14312538096136385,0.14312538096136385,0.14312538096136385,0.14312538096136385,0.14312538096136385,0.14312538096136385,0.14312538096136385,0.14312538096136385,0.14312538096136385,0.14311590709465785,0.14311590709465785,0.14311590709465785,0.14311590709465785,0.14311590709465785,0.14311590709465785,0.14311590709465785,0.14311590709465785,0.14311590709465785,0.14311590709465785,0.14311590709465785,0.14311590709465785,0.14311590709465785,0.14311590709465785,0.14311590709465785,0.14311590709465785,0.14311590709465785,0.14311590709465785,0.14311590709465785,0.14311590709465785,0.14311590709465785,0.14311590709465785,0.14311590709465785,0.14311590709465785,0.14311590709465785,0.14311590709465785,0.14311590709465785],\"type\":\"scatter\"},{\"marker\":{\"color\":\"#cccccc\"},\"mode\":\"markers\",\"name\":\"Infeasible Trial\",\"showlegend\":false,\"x\":[],\"y\":[],\"type\":\"scatter\"}],                        {\"title\":{\"text\":\"Optimization History Plot\"},\"xaxis\":{\"title\":{\"text\":\"Trial\"}},\"yaxis\":{\"title\":{\"text\":\"Objective Value\"}},\"template\":{\"data\":{\"histogram2dcontour\":[{\"type\":\"histogram2dcontour\",\"colorbar\":{\"outlinewidth\":0,\"ticks\":\"\"},\"colorscale\":[[0.0,\"#0d0887\"],[0.1111111111111111,\"#46039f\"],[0.2222222222222222,\"#7201a8\"],[0.3333333333333333,\"#9c179e\"],[0.4444444444444444,\"#bd3786\"],[0.5555555555555556,\"#d8576b\"],[0.6666666666666666,\"#ed7953\"],[0.7777777777777778,\"#fb9f3a\"],[0.8888888888888888,\"#fdca26\"],[1.0,\"#f0f921\"]]}],\"choropleth\":[{\"type\":\"choropleth\",\"colorbar\":{\"outlinewidth\":0,\"ticks\":\"\"}}],\"histogram2d\":[{\"type\":\"histogram2d\",\"colorbar\":{\"outlinewidth\":0,\"ticks\":\"\"},\"colorscale\":[[0.0,\"#0d0887\"],[0.1111111111111111,\"#46039f\"],[0.2222222222222222,\"#7201a8\"],[0.3333333333333333,\"#9c179e\"],[0.4444444444444444,\"#bd3786\"],[0.5555555555555556,\"#d8576b\"],[0.6666666666666666,\"#ed7953\"],[0.7777777777777778,\"#fb9f3a\"],[0.8888888888888888,\"#fdca26\"],[1.0,\"#f0f921\"]]}],\"heatmap\":[{\"type\":\"heatmap\",\"colorbar\":{\"outlinewidth\":0,\"ticks\":\"\"},\"colorscale\":[[0.0,\"#0d0887\"],[0.1111111111111111,\"#46039f\"],[0.2222222222222222,\"#7201a8\"],[0.3333333333333333,\"#9c179e\"],[0.4444444444444444,\"#bd3786\"],[0.5555555555555556,\"#d8576b\"],[0.6666666666666666,\"#ed7953\"],[0.7777777777777778,\"#fb9f3a\"],[0.8888888888888888,\"#fdca26\"],[1.0,\"#f0f921\"]]}],\"contourcarpet\":[{\"type\":\"contourcarpet\",\"colorbar\":{\"outlinewidth\":0,\"ticks\":\"\"}}],\"contour\":[{\"type\":\"contour\",\"colorbar\":{\"outlinewidth\":0,\"ticks\":\"\"},\"colorscale\":[[0.0,\"#0d0887\"],[0.1111111111111111,\"#46039f\"],[0.2222222222222222,\"#7201a8\"],[0.3333333333333333,\"#9c179e\"],[0.4444444444444444,\"#bd3786\"],[0.5555555555555556,\"#d8576b\"],[0.6666666666666666,\"#ed7953\"],[0.7777777777777778,\"#fb9f3a\"],[0.8888888888888888,\"#fdca26\"],[1.0,\"#f0f921\"]]}],\"surface\":[{\"type\":\"surface\",\"colorbar\":{\"outlinewidth\":0,\"ticks\":\"\"},\"colorscale\":[[0.0,\"#0d0887\"],[0.1111111111111111,\"#46039f\"],[0.2222222222222222,\"#7201a8\"],[0.3333333333333333,\"#9c179e\"],[0.4444444444444444,\"#bd3786\"],[0.5555555555555556,\"#d8576b\"],[0.6666666666666666,\"#ed7953\"],[0.7777777777777778,\"#fb9f3a\"],[0.8888888888888888,\"#fdca26\"],[1.0,\"#f0f921\"]]}],\"mesh3d\":[{\"type\":\"mesh3d\",\"colorbar\":{\"outlinewidth\":0,\"ticks\":\"\"}}],\"scatter\":[{\"fillpattern\":{\"fillmode\":\"overlay\",\"size\":10,\"solidity\":0.2},\"type\":\"scatter\"}],\"parcoords\":[{\"type\":\"parcoords\",\"line\":{\"colorbar\":{\"outlinewidth\":0,\"ticks\":\"\"}}}],\"scatterpolargl\":[{\"type\":\"scatterpolargl\",\"marker\":{\"colorbar\":{\"outlinewidth\":0,\"ticks\":\"\"}}}],\"bar\":[{\"error_x\":{\"color\":\"#2a3f5f\"},\"error_y\":{\"color\":\"#2a3f5f\"},\"marker\":{\"line\":{\"color\":\"#E5ECF6\",\"width\":0.5},\"pattern\":{\"fillmode\":\"overlay\",\"size\":10,\"solidity\":0.2}},\"type\":\"bar\"}],\"scattergeo\":[{\"type\":\"scattergeo\",\"marker\":{\"colorbar\":{\"outlinewidth\":0,\"ticks\":\"\"}}}],\"scatterpolar\":[{\"type\":\"scatterpolar\",\"marker\":{\"colorbar\":{\"outlinewidth\":0,\"ticks\":\"\"}}}],\"histogram\":[{\"marker\":{\"pattern\":{\"fillmode\":\"overlay\",\"size\":10,\"solidity\":0.2}},\"type\":\"histogram\"}],\"scattergl\":[{\"type\":\"scattergl\",\"marker\":{\"colorbar\":{\"outlinewidth\":0,\"ticks\":\"\"}}}],\"scatter3d\":[{\"type\":\"scatter3d\",\"line\":{\"colorbar\":{\"outlinewidth\":0,\"ticks\":\"\"}},\"marker\":{\"colorbar\":{\"outlinewidth\":0,\"ticks\":\"\"}}}],\"scattermap\":[{\"type\":\"scattermap\",\"marker\":{\"colorbar\":{\"outlinewidth\":0,\"ticks\":\"\"}}}],\"scattermapbox\":[{\"type\":\"scattermapbox\",\"marker\":{\"colorbar\":{\"outlinewidth\":0,\"ticks\":\"\"}}}],\"scatterternary\":[{\"type\":\"scatterternary\",\"marker\":{\"colorbar\":{\"outlinewidth\":0,\"ticks\":\"\"}}}],\"scattercarpet\":[{\"type\":\"scattercarpet\",\"marker\":{\"colorbar\":{\"outlinewidth\":0,\"ticks\":\"\"}}}],\"carpet\":[{\"aaxis\":{\"endlinecolor\":\"#2a3f5f\",\"gridcolor\":\"white\",\"linecolor\":\"white\",\"minorgridcolor\":\"white\",\"startlinecolor\":\"#2a3f5f\"},\"baxis\":{\"endlinecolor\":\"#2a3f5f\",\"gridcolor\":\"white\",\"linecolor\":\"white\",\"minorgridcolor\":\"white\",\"startlinecolor\":\"#2a3f5f\"},\"type\":\"carpet\"}],\"table\":[{\"cells\":{\"fill\":{\"color\":\"#EBF0F8\"},\"line\":{\"color\":\"white\"}},\"header\":{\"fill\":{\"color\":\"#C8D4E3\"},\"line\":{\"color\":\"white\"}},\"type\":\"table\"}],\"barpolar\":[{\"marker\":{\"line\":{\"color\":\"#E5ECF6\",\"width\":0.5},\"pattern\":{\"fillmode\":\"overlay\",\"size\":10,\"solidity\":0.2}},\"type\":\"barpolar\"}],\"pie\":[{\"automargin\":true,\"type\":\"pie\"}]},\"layout\":{\"autotypenumbers\":\"strict\",\"colorway\":[\"#636efa\",\"#EF553B\",\"#00cc96\",\"#ab63fa\",\"#FFA15A\",\"#19d3f3\",\"#FF6692\",\"#B6E880\",\"#FF97FF\",\"#FECB52\"],\"font\":{\"color\":\"#2a3f5f\"},\"hovermode\":\"closest\",\"hoverlabel\":{\"align\":\"left\"},\"paper_bgcolor\":\"white\",\"plot_bgcolor\":\"#E5ECF6\",\"polar\":{\"bgcolor\":\"#E5ECF6\",\"angularaxis\":{\"gridcolor\":\"white\",\"linecolor\":\"white\",\"ticks\":\"\"},\"radialaxis\":{\"gridcolor\":\"white\",\"linecolor\":\"white\",\"ticks\":\"\"}},\"ternary\":{\"bgcolor\":\"#E5ECF6\",\"aaxis\":{\"gridcolor\":\"white\",\"linecolor\":\"white\",\"ticks\":\"\"},\"baxis\":{\"gridcolor\":\"white\",\"linecolor\":\"white\",\"ticks\":\"\"},\"caxis\":{\"gridcolor\":\"white\",\"linecolor\":\"white\",\"ticks\":\"\"}},\"coloraxis\":{\"colorbar\":{\"outlinewidth\":0,\"ticks\":\"\"}},\"colorscale\":{\"sequential\":[[0.0,\"#0d0887\"],[0.1111111111111111,\"#46039f\"],[0.2222222222222222,\"#7201a8\"],[0.3333333333333333,\"#9c179e\"],[0.4444444444444444,\"#bd3786\"],[0.5555555555555556,\"#d8576b\"],[0.6666666666666666,\"#ed7953\"],[0.7777777777777778,\"#fb9f3a\"],[0.8888888888888888,\"#fdca26\"],[1.0,\"#f0f921\"]],\"sequentialminus\":[[0.0,\"#0d0887\"],[0.1111111111111111,\"#46039f\"],[0.2222222222222222,\"#7201a8\"],[0.3333333333333333,\"#9c179e\"],[0.4444444444444444,\"#bd3786\"],[0.5555555555555556,\"#d8576b\"],[0.6666666666666666,\"#ed7953\"],[0.7777777777777778,\"#fb9f3a\"],[0.8888888888888888,\"#fdca26\"],[1.0,\"#f0f921\"]],\"diverging\":[[0,\"#8e0152\"],[0.1,\"#c51b7d\"],[0.2,\"#de77ae\"],[0.3,\"#f1b6da\"],[0.4,\"#fde0ef\"],[0.5,\"#f7f7f7\"],[0.6,\"#e6f5d0\"],[0.7,\"#b8e186\"],[0.8,\"#7fbc41\"],[0.9,\"#4d9221\"],[1,\"#276419\"]]},\"xaxis\":{\"gridcolor\":\"white\",\"linecolor\":\"white\",\"ticks\":\"\",\"title\":{\"standoff\":15},\"zerolinecolor\":\"white\",\"automargin\":true,\"zerolinewidth\":2},\"yaxis\":{\"gridcolor\":\"white\",\"linecolor\":\"white\",\"ticks\":\"\",\"title\":{\"standoff\":15},\"zerolinecolor\":\"white\",\"automargin\":true,\"zerolinewidth\":2},\"scene\":{\"xaxis\":{\"backgroundcolor\":\"#E5ECF6\",\"gridcolor\":\"white\",\"linecolor\":\"white\",\"showbackground\":true,\"ticks\":\"\",\"zerolinecolor\":\"white\",\"gridwidth\":2},\"yaxis\":{\"backgroundcolor\":\"#E5ECF6\",\"gridcolor\":\"white\",\"linecolor\":\"white\",\"showbackground\":true,\"ticks\":\"\",\"zerolinecolor\":\"white\",\"gridwidth\":2},\"zaxis\":{\"backgroundcolor\":\"#E5ECF6\",\"gridcolor\":\"white\",\"linecolor\":\"white\",\"showbackground\":true,\"ticks\":\"\",\"zerolinecolor\":\"white\",\"gridwidth\":2}},\"shapedefaults\":{\"line\":{\"color\":\"#2a3f5f\"}},\"annotationdefaults\":{\"arrowcolor\":\"#2a3f5f\",\"arrowhead\":0,\"arrowwidth\":1},\"geo\":{\"bgcolor\":\"white\",\"landcolor\":\"#E5ECF6\",\"subunitcolor\":\"white\",\"showland\":true,\"showlakes\":true,\"lakecolor\":\"white\"},\"title\":{\"x\":0.05},\"mapbox\":{\"style\":\"light\"}}}},                        {\"responsive\": true}                    )                };            </script>        </div>"
      ],
      "text/plain": [
       "Figure({\n",
       "    'data': [{'mode': 'markers',\n",
       "              'name': 'Objective Value',\n",
       "              'type': 'scatter',\n",
       "              'x': [0, 1, 2, 3, 4, 5, 6, 7, 8, 9, 10, 11, 12, 13, 14, 15, 16, 17,\n",
       "                    18, 19, 20, 21, 22, 23, 24, 25, 26, 27, 28, 29, 30, 31, 32, 33,\n",
       "                    34, 35, 36, 37, 38, 39, 40, 41, 42, 43, 44, 45, 46, 47, 48, 49,\n",
       "                    50, 51, 52, 53, 54, 55, 56, 57, 58, 59, 60, 61, 62, 63, 64, 65,\n",
       "                    66, 67, 68, 69, 70, 71, 72, 73, 74, 75, 76, 77, 78, 79, 80, 81,\n",
       "                    82, 83, 84, 85, 86, 87, 88, 89, 90, 91, 92, 93, 94, 95, 96, 97,\n",
       "                    98, 99, 100, 101, 102, 103, 104, 105, 106, 107, 108, 109, 110,\n",
       "                    111, 112, 113, 114, 115, 116, 117, 118, 119, 120, 121, 122,\n",
       "                    123, 124, 125, 126, 127, 128, 129, 130, 131, 132, 133, 134,\n",
       "                    135, 136, 137, 138, 139, 140, 141, 142, 143, 144, 145, 146,\n",
       "                    147, 148, 149, 150, 151, 152, 153, 154, 155, 156, 157, 158,\n",
       "                    159, 160, 161, 162, 163, 164, 165, 166, 167, 168, 169, 170,\n",
       "                    171, 172, 173, 174, 175, 176, 177, 178, 179, 180, 181, 182,\n",
       "                    183, 184, 185, 186, 187, 188, 189, 190, 191, 192, 193, 194,\n",
       "                    195, 196, 197, 198, 199],\n",
       "              'y': [0.1480821242671468, 0.1796501173947842, 0.14995078753312174,\n",
       "                    0.1523970759877634, 0.14680973873013248, 0.14658661330330186,\n",
       "                    0.1464812522640167, 0.15265334538149983, 0.14470421966294938,\n",
       "                    0.17466700838198973, 0.14824210312032585, 0.15524473288991691,\n",
       "                    0.1476195877541835, 0.1465129366522804, 0.14956102291375087,\n",
       "                    0.16734449029337214, 0.1848624227873484, 0.16168480144727101,\n",
       "                    0.1607863862890282, 0.15579755865189512, 0.15732751705061865,\n",
       "                    0.15958772233609642, 0.14796392301495406, 0.1486643370655745,\n",
       "                    0.14837644443396916, 0.32600367376614625, 0.14833808324115685,\n",
       "                    0.14541513495554603, 0.14502494547602707, 0.15042626957733846,\n",
       "                    0.14715944860525898, 0.14659696516275575, 0.1476414918663511,\n",
       "                    0.14651461814471442, 0.14655478882047696, 0.1465541789962702,\n",
       "                    0.15060210596138163, 0.14471783468834737, 0.1487092679381483,\n",
       "                    0.1475089122134954, 0.14960687806961528, 0.1463656068514736,\n",
       "                    0.1460393883249261, 0.14987672945534597, 0.14881858346584215,\n",
       "                    0.14786654618581657, 0.14884071655838194, 0.14869227978784677,\n",
       "                    0.1483423017609995, 0.1461346514065228, 0.14834230176099936,\n",
       "                    0.15093707362266703, 0.14869227978784685, 0.14733509198444142,\n",
       "                    0.14533494167478392, 0.14739039375138283, 0.147390393751383,\n",
       "                    0.1453993691332328, 0.14790213523178572, 0.1506054630337961,\n",
       "                    0.15232223992656196, 0.15278815201677107, 0.14676441443372962,\n",
       "                    0.14651698783705785, 0.1444129802969067, 0.14730754958504236,\n",
       "                    0.15074877954996857, 0.15125502636925472, 0.1472290027767185,\n",
       "                    0.14708099374738054, 0.14621971562947808, 0.146522042090833,\n",
       "                    0.14655878503653763, 0.1467137746986483, 0.14644643309299238,\n",
       "                    0.14770567747052288, 0.14804339776161057, 0.1476059040465354,\n",
       "                    0.1476059040465353, 0.14760590404653529, 0.14898524487391798,\n",
       "                    0.15104055314598944, 0.1446346936074733, 0.14316400750256691,\n",
       "                    0.14614686311521216, 0.146386721651839, 0.14379460451282092,\n",
       "                    0.14647973333392764, 0.14591099766708476, 0.14710004455875828,\n",
       "                    0.14686316030362984, 0.14932941207732214, 0.14533343409731644,\n",
       "                    0.15413267719349308, 0.14462435554806788, 0.14539558610078301,\n",
       "                    0.1531081935009758, 0.14682283117256056, 0.1461489642496253,\n",
       "                    0.1461725421393076, 0.14614896424962534, 0.14625362890714244,\n",
       "                    0.1455717356619194, 0.14549660862514568, 0.14581445715064686,\n",
       "                    0.145814457150647, 0.15703645599558544, 0.1545985970512641,\n",
       "                    0.14559921084213312, 0.1463430650492782, 0.1438255086611918,\n",
       "                    0.14634274316105644, 0.14382550866119168, 0.14380764283382055,\n",
       "                    0.14312538096136385, 0.14741258136858482, 0.14396190916167242,\n",
       "                    0.14724044653608967, 0.1477407496520303, 0.1439533673092429,\n",
       "                    0.144723871534584, 0.27670462880148494, 0.1472679641534261,\n",
       "                    0.14862190031243355, 0.1441673859297016, 0.1447992201232886,\n",
       "                    0.1431997032312589, 0.14513629568328656, 0.14432870571723425,\n",
       "                    0.14513629568328662, 0.14513629568328665, 0.14524908608411263,\n",
       "                    0.1455410330994881, 0.14494461590657212, 0.14513629568328681,\n",
       "                    0.1457548465813909, 0.145744946386274, 0.14567054645753985,\n",
       "                    0.14572617054162354, 0.14567054645753982, 0.14457736348302508,\n",
       "                    0.1455414126278985, 0.1435789956515743, 0.1435789956515743,\n",
       "                    0.14412906203473866, 0.14368754380319662, 0.1435442220588813,\n",
       "                    0.1448257055583459, 0.14368754380319654, 0.1432879634855324,\n",
       "                    0.14354422205888115, 0.1440582786016317, 0.14398870389263155,\n",
       "                    0.143544222058881, 0.14354422205888112, 0.1434068121803098,\n",
       "                    0.1434068121803098, 0.14354422205888112, 0.1435442220588813,\n",
       "                    0.1434068121803096, 0.1435442220588812, 0.14354422205888104,\n",
       "                    0.1435442220588812, 0.14354422205888112, 0.14354422205888093,\n",
       "                    0.14354422205888115, 0.14368754380319673, 0.1434068121803097,\n",
       "                    0.14346210437624088, 0.14346210437624082, 0.1432503806396187,\n",
       "                    0.14485192081807483, 0.14340564135016545, 0.14311590709465785,\n",
       "                    0.1445137960473125, 0.14468915815283198, 0.14480878955413412,\n",
       "                    0.14468915815283187, 0.14473015049624488, 0.14485484425296283,\n",
       "                    0.14468915815283212, 0.14453391760926718, 0.14480878955413398,\n",
       "                    0.14473015049624505, 0.14478948950294848, 0.14490780670110476,\n",
       "                    0.14506539068569024, 0.14490780670110487, 0.1450653906856903,\n",
       "                    0.14507234131411215, 0.1433523468836731, 0.14335234688367307,\n",
       "                    0.143317745543239, 0.14333219196054972, 0.14331774554323912,\n",
       "                    0.14333219196054953, 0.14314825510573606, 0.14314825510573606,\n",
       "                    0.143148255105736, 0.14333219196054953]},\n",
       "             {'mode': 'lines',\n",
       "              'name': 'Best Value',\n",
       "              'type': 'scatter',\n",
       "              'x': [0, 1, 2, 3, 4, 5, 6, 7, 8, 9, 10, 11, 12, 13, 14, 15, 16, 17,\n",
       "                    18, 19, 20, 21, 22, 23, 24, 25, 26, 27, 28, 29, 30, 31, 32, 33,\n",
       "                    34, 35, 36, 37, 38, 39, 40, 41, 42, 43, 44, 45, 46, 47, 48, 49,\n",
       "                    50, 51, 52, 53, 54, 55, 56, 57, 58, 59, 60, 61, 62, 63, 64, 65,\n",
       "                    66, 67, 68, 69, 70, 71, 72, 73, 74, 75, 76, 77, 78, 79, 80, 81,\n",
       "                    82, 83, 84, 85, 86, 87, 88, 89, 90, 91, 92, 93, 94, 95, 96, 97,\n",
       "                    98, 99, 100, 101, 102, 103, 104, 105, 106, 107, 108, 109, 110,\n",
       "                    111, 112, 113, 114, 115, 116, 117, 118, 119, 120, 121, 122,\n",
       "                    123, 124, 125, 126, 127, 128, 129, 130, 131, 132, 133, 134,\n",
       "                    135, 136, 137, 138, 139, 140, 141, 142, 143, 144, 145, 146,\n",
       "                    147, 148, 149, 150, 151, 152, 153, 154, 155, 156, 157, 158,\n",
       "                    159, 160, 161, 162, 163, 164, 165, 166, 167, 168, 169, 170,\n",
       "                    171, 172, 173, 174, 175, 176, 177, 178, 179, 180, 181, 182,\n",
       "                    183, 184, 185, 186, 187, 188, 189, 190, 191, 192, 193, 194,\n",
       "                    195, 196, 197, 198, 199],\n",
       "              'y': [0.1480821242671468, 0.1480821242671468, 0.1480821242671468,\n",
       "                    0.1480821242671468, 0.14680973873013248, 0.14658661330330186,\n",
       "                    0.1464812522640167, 0.1464812522640167, 0.14470421966294938,\n",
       "                    0.14470421966294938, 0.14470421966294938, 0.14470421966294938,\n",
       "                    0.14470421966294938, 0.14470421966294938, 0.14470421966294938,\n",
       "                    0.14470421966294938, 0.14470421966294938, 0.14470421966294938,\n",
       "                    0.14470421966294938, 0.14470421966294938, 0.14470421966294938,\n",
       "                    0.14470421966294938, 0.14470421966294938, 0.14470421966294938,\n",
       "                    0.14470421966294938, 0.14470421966294938, 0.14470421966294938,\n",
       "                    0.14470421966294938, 0.14470421966294938, 0.14470421966294938,\n",
       "                    0.14470421966294938, 0.14470421966294938, 0.14470421966294938,\n",
       "                    0.14470421966294938, 0.14470421966294938, 0.14470421966294938,\n",
       "                    0.14470421966294938, 0.14470421966294938, 0.14470421966294938,\n",
       "                    0.14470421966294938, 0.14470421966294938, 0.14470421966294938,\n",
       "                    0.14470421966294938, 0.14470421966294938, 0.14470421966294938,\n",
       "                    0.14470421966294938, 0.14470421966294938, 0.14470421966294938,\n",
       "                    0.14470421966294938, 0.14470421966294938, 0.14470421966294938,\n",
       "                    0.14470421966294938, 0.14470421966294938, 0.14470421966294938,\n",
       "                    0.14470421966294938, 0.14470421966294938, 0.14470421966294938,\n",
       "                    0.14470421966294938, 0.14470421966294938, 0.14470421966294938,\n",
       "                    0.14470421966294938, 0.14470421966294938, 0.14470421966294938,\n",
       "                    0.14470421966294938, 0.1444129802969067, 0.1444129802969067,\n",
       "                    0.1444129802969067, 0.1444129802969067, 0.1444129802969067,\n",
       "                    0.1444129802969067, 0.1444129802969067, 0.1444129802969067,\n",
       "                    0.1444129802969067, 0.1444129802969067, 0.1444129802969067,\n",
       "                    0.1444129802969067, 0.1444129802969067, 0.1444129802969067,\n",
       "                    0.1444129802969067, 0.1444129802969067, 0.1444129802969067,\n",
       "                    0.1444129802969067, 0.1444129802969067, 0.14316400750256691,\n",
       "                    0.14316400750256691, 0.14316400750256691, 0.14316400750256691,\n",
       "                    0.14316400750256691, 0.14316400750256691, 0.14316400750256691,\n",
       "                    0.14316400750256691, 0.14316400750256691, 0.14316400750256691,\n",
       "                    0.14316400750256691, 0.14316400750256691, 0.14316400750256691,\n",
       "                    0.14316400750256691, 0.14316400750256691, 0.14316400750256691,\n",
       "                    0.14316400750256691, 0.14316400750256691, 0.14316400750256691,\n",
       "                    0.14316400750256691, 0.14316400750256691, 0.14316400750256691,\n",
       "                    0.14316400750256691, 0.14316400750256691, 0.14316400750256691,\n",
       "                    0.14316400750256691, 0.14316400750256691, 0.14316400750256691,\n",
       "                    0.14316400750256691, 0.14316400750256691, 0.14316400750256691,\n",
       "                    0.14312538096136385, 0.14312538096136385, 0.14312538096136385,\n",
       "                    0.14312538096136385, 0.14312538096136385, 0.14312538096136385,\n",
       "                    0.14312538096136385, 0.14312538096136385, 0.14312538096136385,\n",
       "                    0.14312538096136385, 0.14312538096136385, 0.14312538096136385,\n",
       "                    0.14312538096136385, 0.14312538096136385, 0.14312538096136385,\n",
       "                    0.14312538096136385, 0.14312538096136385, 0.14312538096136385,\n",
       "                    0.14312538096136385, 0.14312538096136385, 0.14312538096136385,\n",
       "                    0.14312538096136385, 0.14312538096136385, 0.14312538096136385,\n",
       "                    0.14312538096136385, 0.14312538096136385, 0.14312538096136385,\n",
       "                    0.14312538096136385, 0.14312538096136385, 0.14312538096136385,\n",
       "                    0.14312538096136385, 0.14312538096136385, 0.14312538096136385,\n",
       "                    0.14312538096136385, 0.14312538096136385, 0.14312538096136385,\n",
       "                    0.14312538096136385, 0.14312538096136385, 0.14312538096136385,\n",
       "                    0.14312538096136385, 0.14312538096136385, 0.14312538096136385,\n",
       "                    0.14312538096136385, 0.14312538096136385, 0.14312538096136385,\n",
       "                    0.14312538096136385, 0.14312538096136385, 0.14312538096136385,\n",
       "                    0.14312538096136385, 0.14312538096136385, 0.14312538096136385,\n",
       "                    0.14312538096136385, 0.14312538096136385, 0.14312538096136385,\n",
       "                    0.14312538096136385, 0.14312538096136385, 0.14312538096136385,\n",
       "                    0.14312538096136385, 0.14312538096136385, 0.14311590709465785,\n",
       "                    0.14311590709465785, 0.14311590709465785, 0.14311590709465785,\n",
       "                    0.14311590709465785, 0.14311590709465785, 0.14311590709465785,\n",
       "                    0.14311590709465785, 0.14311590709465785, 0.14311590709465785,\n",
       "                    0.14311590709465785, 0.14311590709465785, 0.14311590709465785,\n",
       "                    0.14311590709465785, 0.14311590709465785, 0.14311590709465785,\n",
       "                    0.14311590709465785, 0.14311590709465785, 0.14311590709465785,\n",
       "                    0.14311590709465785, 0.14311590709465785, 0.14311590709465785,\n",
       "                    0.14311590709465785, 0.14311590709465785, 0.14311590709465785,\n",
       "                    0.14311590709465785, 0.14311590709465785]},\n",
       "             {'marker': {'color': '#cccccc'},\n",
       "              'mode': 'markers',\n",
       "              'name': 'Infeasible Trial',\n",
       "              'showlegend': False,\n",
       "              'type': 'scatter',\n",
       "              'x': [],\n",
       "              'y': []}],\n",
       "    'layout': {'template': '...',\n",
       "               'title': {'text': 'Optimization History Plot'},\n",
       "               'xaxis': {'title': {'text': 'Trial'}},\n",
       "               'yaxis': {'title': {'text': 'Objective Value'}}}\n",
       "})"
      ]
     },
     "execution_count": 89,
     "metadata": {},
     "output_type": "execute_result"
    }
   ],
   "source": [
    "optuna.visualization.plot_optimization_history(study)"
   ]
  },
  {
   "cell_type": "code",
   "execution_count": 94,
   "id": "d554b15e",
   "metadata": {},
   "outputs": [
    {
     "name": "stdout",
     "output_type": "stream",
     "text": [
      "Best RFR\n",
      "  RMSE: 0.15341670344930894\n",
      "  R2: 0.8732070421953226\n"
     ]
    }
   ],
   "source": [
    "X_train, X_val, y_train, y_val = train_test_split(X, y, test_size=0.2, random_state=24)\n",
    "\n",
    "best_rfr = RandomForestRegressor(**study.best_params, n_jobs=-1, random_state=24)\n",
    "best_rfr.fit(X_train, y_train)\n",
    "y_pred = best_rfr.predict(X_val)\n",
    "\n",
    "rmse = root_mean_squared_error(y_val, y_pred)\n",
    "r2 = r2_score(y_val, y_pred)\n",
    "\n",
    "print('Best RFR')\n",
    "print(f'  RMSE: {rmse}')\n",
    "print(f'  R2: {r2}')"
   ]
  },
  {
   "cell_type": "code",
   "execution_count": 95,
   "id": "5b9950ea",
   "metadata": {},
   "outputs": [
    {
     "data": {
      "image/png": "[encoded data removed]",
      "text/plain": [
       "<Figure size 640x480 with 1 Axes>"
      ]
     },
     "metadata": {},
     "output_type": "display_data"
    }
   ],
   "source": [
    "sns.regplot(x=y_val, y=y_pred, scatter_kws={'s': 20, 'alpha': 0.3}, line_kws={'color': 'green', 'lw': 1, 'alpha': 0.8})\n",
    "plt.title(f\"Random Forest Regr. \")\n",
    "plt.show()"
   ]
  },
  {
   "cell_type": "code",
   "execution_count": 96,
   "id": "83e35894",
   "metadata": {},
   "outputs": [
    {
     "data": {
      "image/png": "[encoded data removed]",
      "text/plain": [
       "<Figure size 640x480 with 1 Axes>"
      ]
     },
     "metadata": {},
     "output_type": "display_data"
    }
   ],
   "source": [
    "from utils import plot_learning_curve\n",
    "\n",
    "X_train, X_val, y_train, y_val = train_test_split(X, y, test_size=0.2, random_state=1)\n",
    "\n",
    "val_rfr = RandomForestRegressor(**study.best_params, n_jobs=-1, random_state=2)\n",
    "\n",
    "plot_learning_curve(val_rfr, X_train, y_train, title=\"Learning Curve: Random Forest Regr.\")\n",
    "plt.show()"
   ]
  },
  {
   "cell_type": "code",
   "execution_count": 97,
   "id": "e40217ea",
   "metadata": {},
   "outputs": [],
   "source": [
    "metrics = {\n",
    "    'model': 'RFR',\n",
    "    'params': f'{study.best_params}',\n",
    "    'RMSE': round(rmse, 4),\n",
    "    'R2': round(r2, 4)\n",
    "}\n",
    "\n",
    "metrics = pd.DataFrame(metrics, index=[0])\n",
    "\n",
    "ridge_metrics = pd.read_csv(os.path.join(METRICS_PATH, '0100_metrics.csv'), index_col=0)\n",
    "\n",
    "metrics = pd.concat([ridge_metrics, metrics])\n",
    "\n",
    "metrics.to_csv(os.path.join(METRICS_PATH, '0200_metrics.csv'))"
   ]
  },
  {
   "cell_type": "code",
   "execution_count": 98,
   "id": "5d3d9aa9",
   "metadata": {},
   "outputs": [],
   "source": [
    "data.to_csv(os.path.join(RAW_PATH, '0200_data_ohe.csv'))"
   ]
  },
  {
   "cell_type": "code",
   "execution_count": null,
   "id": "38a0069e",
   "metadata": {},
   "outputs": [],
   "source": []
  }
 ],
 "metadata": {
  "kernelspec": {
   "display_name": ".venv",
   "language": "python",
   "name": "python3"
  },
  "language_info": {
   "codemirror_mode": {
    "name": "ipython",
    "version": 3
   },
   "file_extension": ".py",
   "mimetype": "text/x-python",
   "name": "python",
   "nbconvert_exporter": "python",
   "pygments_lexer": "ipython3",
   "version": "3.13.1"
  }
 },
 "nbformat": 4,
 "nbformat_minor": 5
}
